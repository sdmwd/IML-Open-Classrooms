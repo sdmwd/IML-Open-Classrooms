{
 "cells": [
  {
   "cell_type": "markdown",
   "id": "5a87472c",
   "metadata": {},
   "source": [
    "# <font color=\"#114b98\">Classez des images à l'aide d'algorithmes de Deep Learning</font>"
   ]
  },
  {
   "cell_type": "markdown",
   "id": "67c84322",
   "metadata": {},
   "source": [
    "## <font color=\"#114b98\">Notebook de présentation du code Python</font>"
   ]
  },
  {
   "cell_type": "markdown",
   "id": "266215bb",
   "metadata": {},
   "source": [
    "Vous êtes bénévole pour l'association de protection des animaux de votre quartier. C'est d'ailleurs ainsi que vous avez trouvé votre compagnon idéal, Snooky. Vous vous demandez donc ce que vous pouvez faire en retour pour aider l'association."
   ]
  },
  {
   "cell_type": "markdown",
   "id": "44a6bf8a",
   "metadata": {},
   "source": [
    "Vous apprenez, en discutant avec un bénévole, que leur base de données de pensionnaires commence à s'agrandir et qu'ils n'ont pas toujours le temps de référencer les images des animaux qu'ils ont accumulées depuis plusieurs années. **Ils aimeraient donc obtenir un algorithme capable de classer les images en fonction de la race du chien présent sur l'image**."
   ]
  },
  {
   "cell_type": "markdown",
   "id": "4f3a3113",
   "metadata": {},
   "source": [
    "Les bénévoles de l'association n'ont pas eu le temps de réunir les différentes images des pensionnaires dispersées sur leurs disques durs. Pas de problème, vous entraînerez votre algorithme en utilisant le **Stanford Dogs Dataset** : http://vision.stanford.edu/aditya86/ImageNetDogs/"
   ]
  },
  {
   "cell_type": "markdown",
   "id": "4f441c9c",
   "metadata": {},
   "source": [
    "**Objectifs** : Réaliser un algorithme de détection de la race du chien sur une photo"
   ]
  },
  {
   "cell_type": "markdown",
   "id": "c88ae6c6",
   "metadata": {},
   "source": [
    "**Livrable** : Un programme Python qui prend une image (array) en entrée et retourne la race la plus probable du chien présent sur l'image."
   ]
  },
  {
   "cell_type": "markdown",
   "id": "112d633d",
   "metadata": {},
   "source": [
    "### Point d'entrée de l'API : https://sdmwd-p6-iml-detecteur-de-race-de-chien.streamlit.app"
   ]
  },
  {
   "cell_type": "markdown",
   "id": "abbdb9aa",
   "metadata": {},
   "source": [
    "### **Lien vers le répertoire : https://github.com/sdmwd/streamlit-P6-IML-SD**"
   ]
  },
  {
   "cell_type": "markdown",
   "id": "0ec168af",
   "metadata": {},
   "source": [
    "### Copie du code du fichier principal"
   ]
  },
  {
   "cell_type": "code",
   "execution_count": null,
   "id": "2d22cb53",
   "metadata": {},
   "outputs": [],
   "source": [
    "import json\n",
    "import numpy as np\n",
    "from PIL import Image\n",
    "import streamlit as st\n",
    "import tensorflow as tf\n",
    "from tensorflow.keras.models import load_model\n",
    "\n",
    "# Charger le modèle InceptionV3 pré entraîné et ajusté finement\n",
    "model = load_model(\"model_120.h5\")\n",
    "\n",
    "# Définir le fichier contenant les classes des résultats\n",
    "file_name = \"dog_classes_name.json\"\n",
    "\n",
    "# Ouvrir le fichier json avec les classes des résultats\n",
    "with open(file_name, 'r') as file:\n",
    "    # Decode the JSON data in the file and load it into a dictionary\n",
    "    dog_classes = json.load(file)\n",
    "\n",
    "# Définir les dimensions de l'image\n",
    "img_size = (224, 224)\n",
    "\n",
    "# Définir une fonction pour prétraiter l'image d'entrée\n",
    "def preprocess_image(image):\n",
    "    # Convertir l'image PIL en tableau numpy\n",
    "    image = np.array(image)\n",
    "    # Convertir le tableau numpy en tenseur TensorFlow\n",
    "    image = tf.convert_to_tensor(image)\n",
    "    # Redimensionner l'image à la taille requise par le modèle\n",
    "    image = tf.image.resize(image, img_size)\n",
    "    # Normaliser les valeurs de pixels pour qu'elles soient dans la plage [0,1]\n",
    "    image = tf.cast(image, tf.float32) / 255.0\n",
    "    # Ajouter une dimension de lot (batch) au tableau\n",
    "    image = np.expand_dims(image, axis=0)\n",
    "    return image\n",
    "\n",
    "# Définir la fonction de prédiction\n",
    "def predict_dog_breed(image):\n",
    "    # Prétraiter l'image d'entrée\n",
    "    img_array = preprocess_image(image)\n",
    "    # Utiliser le modèle personnalisé pour faire une prédiction\n",
    "    predictions = model.predict(img_array)\n",
    "    # Décoder la prédiction et obtenir la classe prédite et la probabilité\n",
    "    class_index = np.argmax(predictions[0])\n",
    "    predicted_class = dog_classes[str(class_index)]\n",
    "    prediction_accuracy = round(predictions[0][class_index]*100, 1)\n",
    "    return predicted_class, prediction_accuracy\n",
    "\n",
    "# Configurer l'application Streamlit\n",
    "st.set_page_config(page_title=\"Prédicteur de race de chien\", page_icon=\":dog:\")\n",
    "st.title(\"Prédicteur de race de chien\")\n",
    "\n",
    "# Permettre à l'utilisateur de téléverser une image\n",
    "uploaded_file = st.file_uploader(\"Importez votre image\", type=\"jpg\")\n",
    "\n",
    "if uploaded_file is not None:\n",
    "    # Afficher l'image téléversée\n",
    "    image = Image.open(uploaded_file)\n",
    "    st.image(image, width=300)\n",
    "\n",
    "    # Prédire la race de chien et afficher le résultat\n",
    "    predicted_class, prediction_accuracy = predict_dog_breed(image)\n",
    "    st.markdown(\"<p style='font-size: 1.5rem;'>Race prédite : <strong>\" + predicted_class + \"<strong></p>\", unsafe_allow_html=True)\n",
    "    st.markdown(\"<p style='font-size: 1.5rem;'>Précision de la prédiction : <strong>\" + str(prediction_accuracy) + \"%</strong></p>\", unsafe_allow_html=True)"
   ]
  }
 ],
 "metadata": {
  "kernelspec": {
   "display_name": "tf_gpu",
   "language": "python",
   "name": "tf_gpu"
  },
  "language_info": {
   "codemirror_mode": {
    "name": "ipython",
    "version": 3
   },
   "file_extension": ".py",
   "mimetype": "text/x-python",
   "name": "python",
   "nbconvert_exporter": "python",
   "pygments_lexer": "ipython3",
   "version": "3.10.9"
  }
 },
 "nbformat": 4,
 "nbformat_minor": 5
}
