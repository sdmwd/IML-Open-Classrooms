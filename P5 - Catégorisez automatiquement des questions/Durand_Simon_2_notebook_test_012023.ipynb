{
 "cells": [
  {
   "cell_type": "markdown",
   "id": "40f0222a",
   "metadata": {},
   "source": [
    "# <font color=\"#114b98\">Catégorisez automatiquement des questions</font>"
   ]
  },
  {
   "cell_type": "markdown",
   "id": "5815ab77",
   "metadata": {},
   "source": [
    "## <font color=\"#114b98\">Notebook de test de différents modèles</font>"
   ]
  },
  {
   "cell_type": "markdown",
   "id": "06fb1151",
   "metadata": {},
   "source": [
    "**Stack Overflow** est un site célèbre de questions-réponses liées au développement informatique."
   ]
  },
  {
   "cell_type": "markdown",
   "id": "47d05297",
   "metadata": {},
   "source": [
    "L'objectif de ce projet est de développer un système de **suggestion de tags** pour ce site. Celui-ci prendra la forme d’un algorithme de machine learning qui assignera automatiquement plusieurs tags pertinents à une question."
   ]
  },
  {
   "cell_type": "markdown",
   "id": "cb25dcf2",
   "metadata": {},
   "source": [
    "**Livrable** : Un notebook de test de différents modèles"
   ]
  },
  {
   "cell_type": "markdown",
   "id": "b19c6190",
   "metadata": {},
   "source": [
    "**Objectifs** : Comparer les modèles et générer des tags pour chacun d'entre eux"
   ]
  },
  {
   "cell_type": "markdown",
   "id": "3378bec4",
   "metadata": {},
   "source": [
    "## <font color=\"#114b98\">Sommaire</font>\n",
    "[1. Chargement du jeu de données](#section_1)\n",
    "\n",
    "[2. Approche non supervisée](#section_2)\n",
    "\n",
    "[3. Approche supervisée](#section_3)\n",
    "\n",
    "[4. Approche supervisée avec Word Embedding : Word2Vec](#section_4)\n",
    "\n",
    "[5. Approche supervisée avec Word Embedding : BERT](#section_5)\n",
    "\n",
    "[6. Approche supervisée avec Sentence Embedding : USE](#section_6)\n",
    "\n",
    "[7. Choix du modèle pour le code final à déployer](#section_7)"
   ]
  },
  {
   "cell_type": "markdown",
   "id": "37fb45a8",
   "metadata": {},
   "source": [
    "## <font color=\"#114b98\" id=\"section_1\">1. Chargement du jeu de données</font>"
   ]
  },
  {
   "cell_type": "code",
   "execution_count": 1,
   "id": "cbf8947d",
   "metadata": {},
   "outputs": [],
   "source": [
    "import pandas as pd\n",
    "import numpy as np\n",
    "import matplotlib.pyplot as plt\n",
    "import seaborn as sns\n",
    "import os\n",
    "import time\n",
    "import ast\n",
    "import random\n",
    "from collections import Counter\n",
    "from sklearn.model_selection import train_test_split\n",
    "from sklearn.preprocessing import MultiLabelBinarizer\n",
    "import warnings\n",
    "warnings.filterwarnings('ignore')\n",
    "%matplotlib inline"
   ]
  },
  {
   "cell_type": "code",
   "execution_count": 2,
   "id": "d3fb8964",
   "metadata": {},
   "outputs": [],
   "source": [
    "# %load_ext pycodestyle_magic\n",
    "# %pycodestyle_on"
   ]
  },
  {
   "cell_type": "code",
   "execution_count": 3,
   "id": "5b0ed41f",
   "metadata": {},
   "outputs": [],
   "source": [
    "plt.rc('axes', titlesize=22)\n",
    "plt.rc('axes', labelsize=18)\n",
    "titleprops = {'fontsize':20}\n",
    "textprops = {'fontsize':15}\n",
    "plt.style.use('ggplot')"
   ]
  },
  {
   "cell_type": "code",
   "execution_count": 4,
   "id": "1b96f07d",
   "metadata": {},
   "outputs": [],
   "source": [
    "main_path = 'N:/5 - WORK/1 - Projets/Projet 5/'\n",
    "data = pd.read_csv(main_path+'saved_ressources/'+'data_cleaned_10000t.csv', encoding='utf8')"
   ]
  },
  {
   "cell_type": "code",
   "execution_count": 5,
   "id": "f2fe98ab",
   "metadata": {},
   "outputs": [],
   "source": [
    "data[\"Texts\"] = data[\"Texts\"].apply(lambda x: ast.literal_eval(x))"
   ]
  },
  {
   "cell_type": "code",
   "execution_count": 6,
   "id": "9c144b52",
   "metadata": {},
   "outputs": [],
   "source": [
    "data[\"Tags\"] = data[\"Tags\"].apply(lambda x: ast.literal_eval(x))"
   ]
  },
  {
   "cell_type": "code",
   "execution_count": 7,
   "id": "f0fd42dc",
   "metadata": {},
   "outputs": [
    {
     "data": {
      "text/html": [
       "<div>\n",
       "<style scoped>\n",
       "    .dataframe tbody tr th:only-of-type {\n",
       "        vertical-align: middle;\n",
       "    }\n",
       "\n",
       "    .dataframe tbody tr th {\n",
       "        vertical-align: top;\n",
       "    }\n",
       "\n",
       "    .dataframe thead th {\n",
       "        text-align: right;\n",
       "    }\n",
       "</style>\n",
       "<table border=\"1\" class=\"dataframe\">\n",
       "  <thead>\n",
       "    <tr style=\"text-align: right;\">\n",
       "      <th></th>\n",
       "      <th>Tags</th>\n",
       "      <th>Texts</th>\n",
       "      <th>Sentences</th>\n",
       "    </tr>\n",
       "  </thead>\n",
       "  <tbody>\n",
       "    <tr>\n",
       "      <th>0</th>\n",
       "      <td>[c#, functional-programming, delegates, lambda...</td>\n",
       "      <td>[scope, bug, compiler, voidfunction, delegate,...</td>\n",
       "      <td>scope variables delegate found the following r...</td>\n",
       "    </tr>\n",
       "    <tr>\n",
       "      <th>1</th>\n",
       "      <td>[mysql, database, arrays, postgresql, stored-p...</td>\n",
       "      <td>[pas, array, procedure, pas, array, procedure,...</td>\n",
       "      <td>how can pass array values stored procedure wan...</td>\n",
       "    </tr>\n",
       "    <tr>\n",
       "      <th>2</th>\n",
       "      <td>[ios, objective-c, iphone, cocoa-touch, uibutton]</td>\n",
       "      <td>[state, uibutton, buttonwithtype, figure, butt...</td>\n",
       "      <td>manually setting uibutton state uibutton using...</td>\n",
       "    </tr>\n",
       "    <tr>\n",
       "      <th>3</th>\n",
       "      <td>[database, nhibernate, exception-handling, con...</td>\n",
       "      <td>[check, application, table, column, constraint...</td>\n",
       "      <td>should check for constraints code should catch...</td>\n",
       "    </tr>\n",
       "    <tr>\n",
       "      <th>4</th>\n",
       "      <td>[haskell, f#, functional-programming, language...</td>\n",
       "      <td>[tuple, programming, ocaml, haskell, function,...</td>\n",
       "      <td>typed tuple arguments and curriable arguments ...</td>\n",
       "    </tr>\n",
       "  </tbody>\n",
       "</table>\n",
       "</div>"
      ],
      "text/plain": [
       "                                                Tags  \\\n",
       "0  [c#, functional-programming, delegates, lambda...   \n",
       "1  [mysql, database, arrays, postgresql, stored-p...   \n",
       "2  [ios, objective-c, iphone, cocoa-touch, uibutton]   \n",
       "3  [database, nhibernate, exception-handling, con...   \n",
       "4  [haskell, f#, functional-programming, language...   \n",
       "\n",
       "                                               Texts  \\\n",
       "0  [scope, bug, compiler, voidfunction, delegate,...   \n",
       "1  [pas, array, procedure, pas, array, procedure,...   \n",
       "2  [state, uibutton, buttonwithtype, figure, butt...   \n",
       "3  [check, application, table, column, constraint...   \n",
       "4  [tuple, programming, ocaml, haskell, function,...   \n",
       "\n",
       "                                           Sentences  \n",
       "0  scope variables delegate found the following r...  \n",
       "1  how can pass array values stored procedure wan...  \n",
       "2  manually setting uibutton state uibutton using...  \n",
       "3  should check for constraints code should catch...  \n",
       "4  typed tuple arguments and curriable arguments ...  "
      ]
     },
     "execution_count": 7,
     "metadata": {},
     "output_type": "execute_result"
    }
   ],
   "source": [
    "data.head()"
   ]
  },
  {
   "cell_type": "code",
   "execution_count": 8,
   "id": "5aa4d2ad",
   "metadata": {},
   "outputs": [
    {
     "name": "stdout",
     "output_type": "stream",
     "text": [
      "<class 'pandas.core.frame.DataFrame'>\n",
      "RangeIndex: 99961 entries, 0 to 99960\n",
      "Data columns (total 3 columns):\n",
      " #   Column     Non-Null Count  Dtype \n",
      "---  ------     --------------  ----- \n",
      " 0   Tags       99961 non-null  object\n",
      " 1   Texts      99961 non-null  object\n",
      " 2   Sentences  99961 non-null  object\n",
      "dtypes: object(3)\n",
      "memory usage: 2.3+ MB\n"
     ]
    }
   ],
   "source": [
    "data.info()"
   ]
  },
  {
   "cell_type": "markdown",
   "id": "c1c9ba78",
   "metadata": {},
   "source": [
    "Le jeu de données est très important pour les temps de calculs à ma disposition."
   ]
  },
  {
   "cell_type": "markdown",
   "id": "7fb3c854",
   "metadata": {},
   "source": [
    "Je décide aussi de prendre les observations pour lesquelles la similarité entre les colonnes Texts et Tags est importante."
   ]
  },
  {
   "cell_type": "markdown",
   "id": "0193c213",
   "metadata": {},
   "source": [
    "Cela va me permettre de pouvoir regarder la pertinence des tags que mes modèles vont proposer."
   ]
  },
  {
   "cell_type": "code",
   "execution_count": 9,
   "id": "d13966ca",
   "metadata": {},
   "outputs": [],
   "source": [
    "sample_size = 5000"
   ]
  },
  {
   "cell_type": "code",
   "execution_count": 10,
   "id": "9ddc14d5",
   "metadata": {},
   "outputs": [],
   "source": [
    "def jaccard_similarity(list1, list2):\n",
    "    set1 = set(list1)\n",
    "    set2 = set(list2)\n",
    "    intersection = set1.intersection(set2)\n",
    "    union = set1.union(set2)\n",
    "    jaccard_similarity = len(intersection) / len(union)\n",
    "    return jaccard_similarity"
   ]
  },
  {
   "cell_type": "code",
   "execution_count": 11,
   "id": "f974d7bd",
   "metadata": {},
   "outputs": [],
   "source": [
    "def get_highest_similarity_rows(data, col1, col2, n):\n",
    "    data[\"jaccard_similarity\"] = data.apply(lambda x: jaccard_similarity(x[col1], x[col2]), axis=1)\n",
    "    data = data.sort_values(by=\"jaccard_similarity\", ascending=False)\n",
    "    return data.head(n)"
   ]
  },
  {
   "cell_type": "code",
   "execution_count": 12,
   "id": "3954f0c7",
   "metadata": {},
   "outputs": [
    {
     "name": "stdout",
     "output_type": "stream",
     "text": [
      "(5000, 3)\n"
     ]
    },
    {
     "data": {
      "text/html": [
       "<div>\n",
       "<style scoped>\n",
       "    .dataframe tbody tr th:only-of-type {\n",
       "        vertical-align: middle;\n",
       "    }\n",
       "\n",
       "    .dataframe tbody tr th {\n",
       "        vertical-align: top;\n",
       "    }\n",
       "\n",
       "    .dataframe thead th {\n",
       "        text-align: right;\n",
       "    }\n",
       "</style>\n",
       "<table border=\"1\" class=\"dataframe\">\n",
       "  <thead>\n",
       "    <tr style=\"text-align: right;\">\n",
       "      <th></th>\n",
       "      <th>Tags</th>\n",
       "      <th>Texts</th>\n",
       "      <th>Sentences</th>\n",
       "    </tr>\n",
       "  </thead>\n",
       "  <tbody>\n",
       "    <tr>\n",
       "      <th>0</th>\n",
       "      <td>[javascript, jquery, string, date, object]</td>\n",
       "      <td>[jquery, javascript, convert, date, string, da...</td>\n",
       "      <td>jquery javascript convert date string date hav...</td>\n",
       "    </tr>\n",
       "    <tr>\n",
       "      <th>1</th>\n",
       "      <td>[vba, excel, function, size, byte]</td>\n",
       "      <td>[excel, function, size, byte, return, file, si...</td>\n",
       "      <td>vba excel function for returning file size byt...</td>\n",
       "    </tr>\n",
       "    <tr>\n",
       "      <th>2</th>\n",
       "      <td>[git, timezone, format, timestamp, timezone-of...</td>\n",
       "      <td>[git, timezone, timestamp, format, git, way, t...</td>\n",
       "      <td>git timezone and timestamp format from git can...</td>\n",
       "    </tr>\n",
       "    <tr>\n",
       "      <th>3</th>\n",
       "      <td>[python, request, python-3.x, response, wsgi]</td>\n",
       "      <td>[wsgi, request, response, request, response, c...</td>\n",
       "      <td>wsgi request and response wrappers for python ...</td>\n",
       "    </tr>\n",
       "    <tr>\n",
       "      <th>4</th>\n",
       "      <td>[linux, unix, process, path, environment]</td>\n",
       "      <td>[path, process, linux, environment, path, proc...</td>\n",
       "      <td>how get the path process unix linux windows en...</td>\n",
       "    </tr>\n",
       "  </tbody>\n",
       "</table>\n",
       "</div>"
      ],
      "text/plain": [
       "                                                Tags  \\\n",
       "0         [javascript, jquery, string, date, object]   \n",
       "1                 [vba, excel, function, size, byte]   \n",
       "2  [git, timezone, format, timestamp, timezone-of...   \n",
       "3      [python, request, python-3.x, response, wsgi]   \n",
       "4          [linux, unix, process, path, environment]   \n",
       "\n",
       "                                               Texts  \\\n",
       "0  [jquery, javascript, convert, date, string, da...   \n",
       "1  [excel, function, size, byte, return, file, si...   \n",
       "2  [git, timezone, timestamp, format, git, way, t...   \n",
       "3  [wsgi, request, response, request, response, c...   \n",
       "4  [path, process, linux, environment, path, proc...   \n",
       "\n",
       "                                           Sentences  \n",
       "0  jquery javascript convert date string date hav...  \n",
       "1  vba excel function for returning file size byt...  \n",
       "2  git timezone and timestamp format from git can...  \n",
       "3  wsgi request and response wrappers for python ...  \n",
       "4  how get the path process unix linux windows en...  "
      ]
     },
     "execution_count": 12,
     "metadata": {},
     "output_type": "execute_result"
    }
   ],
   "source": [
    "data_sample = get_highest_similarity_rows(data, \"Tags\", \"Texts\", sample_size)\n",
    "data_sample = data_sample[['Tags', 'Texts', 'Sentences', 'jaccard_similarity']]\n",
    "data_sample.drop(['jaccard_similarity'], axis=1, inplace=True)\n",
    "data_sample.reset_index(inplace=True, drop=True)\n",
    "print(data_sample.shape)\n",
    "data_sample.head()"
   ]
  },
  {
   "cell_type": "markdown",
   "id": "915892b1",
   "metadata": {},
   "source": [
    "Afin de mettre en place une méthode d’évaluation propre, je décide de séparer le jeu de données en deux parties : \n",
    " - la première me servira à l'entrainement des modèles\n",
    " - la seconde partie me permettra d'évaluer certains modèles sur des données qui leurs sont inconnues"
   ]
  },
  {
   "cell_type": "code",
   "execution_count": 13,
   "id": "9b1f899c",
   "metadata": {},
   "outputs": [],
   "source": [
    "texts_train, texts_eval, \\\n",
    "tags_train, tags_eval, \\\n",
    "sentences_train, sentences_eval = train_test_split(\n",
    "    data_sample[\"Texts\"],\n",
    "    data_sample[\"Tags\"],\n",
    "    data_sample[\"Sentences\"],\n",
    "    test_size=0.2,\n",
    "    random_state=42\n",
    ")"
   ]
  },
  {
   "cell_type": "code",
   "execution_count": 14,
   "id": "d311e8b2",
   "metadata": {},
   "outputs": [],
   "source": [
    "texts_list = texts_train.to_list()\n",
    "tags_list = tags_train.to_list()\n",
    "sentences = sentences_train.to_list()\n",
    "flat_texts = [\" \".join(text) for text in texts_list]\n",
    "flat_tags = [\" \".join(tag) for tag in tags_list]\n",
    "vocabulary_texts = list(set([word for item in texts_list for word in item]))\n",
    "vocabulary_tags = list(set([word for item in tags_list for word in item]))"
   ]
  },
  {
   "cell_type": "code",
   "execution_count": 15,
   "id": "8c8269d8",
   "metadata": {},
   "outputs": [],
   "source": [
    "texts_list_eval = texts_eval.to_list()\n",
    "tags_list_eval = tags_eval.to_list()\n",
    "sentences_eval = sentences_eval.to_list()\n",
    "flat_texts_eval = [\" \".join(text) for text in texts_list_eval]\n",
    "flat_tags_eval = [\" \".join(tag) for tag in tags_list_eval]\n",
    "vocabulary_texts_eval = list(set([word for item in texts_list_eval for word in item]))\n",
    "vocabulary_tags_eval = list(set([word for item in tags_list_eval for word in item]))"
   ]
  },
  {
   "cell_type": "code",
   "execution_count": 16,
   "id": "f9ec2686",
   "metadata": {},
   "outputs": [],
   "source": [
    "words = []\n",
    "for text in flat_tags:\n",
    "    words.extend(text.split())\n",
    "\n",
    "counter = Counter(words)\n",
    "top_500_tags = [word for word, count in counter.most_common(500)]"
   ]
  },
  {
   "cell_type": "code",
   "execution_count": 17,
   "id": "2975b0e4",
   "metadata": {},
   "outputs": [],
   "source": [
    "words = []\n",
    "for text in flat_tags_eval:\n",
    "    words.extend(text.split())\n",
    "\n",
    "counter = Counter(words)\n",
    "top_200_tags_eval = [word for word, count in counter.most_common(200)]"
   ]
  },
  {
   "cell_type": "code",
   "execution_count": 18,
   "id": "245dc60e",
   "metadata": {},
   "outputs": [],
   "source": [
    "mlb = MultiLabelBinarizer(classes=top_500_tags)\n",
    "tags_mlb = mlb.fit_transform(tags_list)"
   ]
  },
  {
   "cell_type": "markdown",
   "id": "8ef2b074",
   "metadata": {},
   "source": [
    "## <font color=\"#114b98\" id=\"section_2\">2. Approche non supervisée</font>"
   ]
  },
  {
   "cell_type": "markdown",
   "id": "8883c387",
   "metadata": {},
   "source": [
    "### Étude"
   ]
  },
  {
   "cell_type": "code",
   "execution_count": 19,
   "id": "000d5c77",
   "metadata": {},
   "outputs": [],
   "source": [
    "from sklearn.decomposition import LatentDirichletAllocation, NMF\n",
    "from sklearn.metrics import silhouette_score\n",
    "from sklearn.feature_extraction.text import CountVectorizer\n",
    "from sklearn.feature_extraction.text import TfidfVectorizer\n",
    "from sklearn.metrics import f1_score, jaccard_score\n",
    "from sklearn.preprocessing import MultiLabelBinarizer\n",
    "from gensim.corpora.dictionary import Dictionary\n",
    "from gensim.models.coherencemodel import CoherenceModel\n",
    "from gensim.models import Nmf\n",
    "from gensim.models.ldamodel import LdaModel\n",
    "from gensim.matutils import corpus2dense\n",
    "from tqdm import tqdm\n",
    "from sklearn.decomposition import PCA"
   ]
  },
  {
   "cell_type": "markdown",
   "id": "af8eb174",
   "metadata": {},
   "source": [
    "LDA (Latent Dirichlet Allocation) est une technique de topic modeling qui permet de découvrir les thèmes cachés (ou \"latents\") dans un ensemble de textes. Elle permet de regrouper des textes qui traitent des mêmes sujets."
   ]
  },
  {
   "cell_type": "markdown",
   "id": "8dea29ec",
   "metadata": {},
   "source": [
    "La classe LdaModel de gensim est basée sur l'algorithme d'allocation latente de Dirichlet (LDA), qui est un modèle probabiliste génératif utilisé pour découvrir les sujets cachés dans un corpus de textes. La classe LatentDirichletAllocation de scikit-learn est également basée sur l'algorithme LDA, mais elle peut avoir des différences en termes d'implémentation, comme l'algorithme d'optimisation utilisé ou les paramètres disponibles."
   ]
  },
  {
   "cell_type": "markdown",
   "id": "b0ea0e17",
   "metadata": {},
   "source": [
    "NMF (Non-negative Matrix Factorization) est une autre technique de topic modeling qui permet de décomposer une matrice document-terme en deux matrices de facteurs non-négatifs. Elle est souvent utilisée pour découvrir les thèmes cachés dans des textes."
   ]
  },
  {
   "cell_type": "markdown",
   "id": "d96332ae",
   "metadata": {},
   "source": [
    "La classe gensim Nmf est basée sur l'algorithme de factorisation de matrice non-négative, qui est différente de la classe NMF de scikit-learn, qui est basée sur la méthode de gradient projeté."
   ]
  },
  {
   "cell_type": "code",
   "execution_count": 20,
   "id": "35595bb6",
   "metadata": {},
   "outputs": [],
   "source": [
    "def determine_optimal_num_topics(data, vectorizer, n_topics_range, texts_list):\n",
    "    \"\"\"\n",
    "    Given data, a vectorizer, a range of number of topics to test,\n",
    "    and the list of texts, applies the models to the data and plots \n",
    "    the silhouette and coherence scores to help determine the optimal\n",
    "    number of topics.\n",
    "\n",
    "    \"\"\"\n",
    "\n",
    "    data = vectorizer.fit_transform(data)\n",
    "    dictionary = Dictionary(texts_list)\n",
    "    corpus = [dictionary.doc2bow(txt) for txt in texts_list]\n",
    "\n",
    "    lda_scores = []\n",
    "    nmf_scores = []\n",
    "    coherence_nmf = []\n",
    "    coherence_lda = []\n",
    "\n",
    "    for n_topics in tqdm(n_topics_range, ascii=' >='):\n",
    "\n",
    "        # Calculate the silhouette score for the LDA model\n",
    "        lda = LatentDirichletAllocation(n_components=n_topics, \n",
    "                                        max_iter=1000)\n",
    "        lda.fit(data)\n",
    "        topic_assignments = lda.transform(data)\n",
    "        labels = np.argmax(topic_assignments, axis=1)\n",
    "        lda_scores.append(silhouette_score(topic_assignments, labels, \n",
    "                                           metric='euclidean'))\n",
    "\n",
    "        # Calculate the silhouette score for the NMF model\n",
    "        nmf = NMF(n_components=n_topics, max_iter=1000)\n",
    "        nmf.fit(data)\n",
    "        topic_assignments = nmf.transform(data)\n",
    "        labels = np.argmax(topic_assignments, axis=1)\n",
    "        nmf_scores.append(silhouette_score(topic_assignments, labels, \n",
    "                                           metric='euclidean'))\n",
    "\n",
    "        # Calculate the coherence score for the LDA model\n",
    "        lda = LdaModel(corpus, num_topics=n_topics, id2word=dictionary)\n",
    "        cm_lda = CoherenceModel(model=lda, texts=texts_list, \n",
    "                                dictionary=dictionary, coherence='c_v')\n",
    "        coherence_lda.append(cm_lda.get_coherence())\n",
    "\n",
    "        # Calculate the coherence score for the NMF model\n",
    "        nmf = Nmf(corpus, num_topics=n_topics, id2word=dictionary)\n",
    "        cm_nmf = CoherenceModel(model=nmf, texts=texts_list, \n",
    "                                dictionary=dictionary, coherence='c_v')\n",
    "        coherence_nmf.append(cm_nmf.get_coherence())\n",
    "\n",
    "    scores = pd.DataFrame(columns=['topics_silhouette',\n",
    "                                   'score_silhouette',\n",
    "                                   'topics_coherence',\n",
    "                                   'score_coherence'],\n",
    "                          index=['LDA', 'NMF'])\n",
    "\n",
    "    scores['topics_silhouette'] = [n_topics_range[np.argmax(lda_scores)], \n",
    "                                   n_topics_range[np.argmax(nmf_scores)]]\n",
    "    scores['score_silhouette'] = [max(lda_scores), max(nmf_scores)]\n",
    "    scores['topics_coherence'] = [n_topics_range[np.argmax(coherence_lda)], \n",
    "                                  n_topics_range[np.argmax(coherence_nmf)]]\n",
    "    scores['score_coherence'] = [max(coherence_lda), max(coherence_nmf)]\n",
    "\n",
    "    fig, (ax1, ax2) = plt.subplots(1, 2, figsize=(12, 4))\n",
    "    plt.suptitle('Scores de Silhouette et de Coherence pour LDA et NMF avec {}'.format(str(vectorizer).split('(')[0]))\n",
    "    ax1.plot(n_topics_range, lda_scores, label='LDA')\n",
    "    ax1.plot(n_topics_range, nmf_scores, label='NMF')\n",
    "    ax1.set_xlabel('Number of Topics')\n",
    "    ax1.set_ylabel('Silhouette score')\n",
    "    ax1.legend()\n",
    "    ax2.plot(n_topics_range, coherence_lda, label='LDA')\n",
    "    ax2.plot(n_topics_range, coherence_nmf, label='NMF')\n",
    "    ax2.set_xlabel('Number of Topics')\n",
    "    ax2.set_ylabel('Coherence score')\n",
    "    ax2.legend()\n",
    "    plt.show()\n",
    "\n",
    "    return scores"
   ]
  },
  {
   "cell_type": "code",
   "execution_count": 21,
   "id": "b21431fd",
   "metadata": {},
   "outputs": [],
   "source": [
    "# Define the range of number of topics to test\n",
    "# n_topics_range = range(2, 22, 2)"
   ]
  },
  {
   "cell_type": "code",
   "execution_count": 22,
   "id": "29c88abf",
   "metadata": {},
   "outputs": [],
   "source": [
    "# Define the range of number of topics to test\n",
    "n_topics_range = range(2, 6, 2)"
   ]
  },
  {
   "cell_type": "markdown",
   "id": "3537d01f",
   "metadata": {},
   "source": [
    "CountVectorizer() est une implémentation de l'approche bag-of-words pour la vectorisation de textes. Il convertit un ensemble de documents en un tableau de compte de mots (ou un sac de mots), où chaque ligne représente un document et chaque colonne représente un mot. Le nombre dans chaque cellule est le nombre de fois où le mot correspondant est présent dans le document correspondant."
   ]
  },
  {
   "cell_type": "code",
   "execution_count": null,
   "id": "09910832",
   "metadata": {},
   "outputs": [],
   "source": [
    "models_CountVectorizer = determine_optimal_num_topics(flat_texts,\n",
    "                                                      CountVectorizer(),\n",
    "                                                      n_topics_range,\n",
    "                                                      texts_list)"
   ]
  },
  {
   "cell_type": "code",
   "execution_count": null,
   "id": "b402beef",
   "metadata": {},
   "outputs": [],
   "source": [
    "models_CountVectorizer"
   ]
  },
  {
   "cell_type": "markdown",
   "id": "5a118024",
   "metadata": {},
   "source": [
    "TF-IDF (term frequency-inverse document frequency) est une technique utilisée pour pondérer les termes dans les textes en fonction de leur fréquence d'apparition. Elle permet de donner plus de poids aux termes qui apparaissent fréquemment dans un document mais rarement dans l'ensemble des documents."
   ]
  },
  {
   "cell_type": "code",
   "execution_count": null,
   "id": "fce7ca9b",
   "metadata": {},
   "outputs": [],
   "source": [
    "models_TfidfVectorizer= determine_optimal_num_topics(flat_texts,\n",
    "                                                     TfidfVectorizer(vocabulary=vocabulary_texts),\n",
    "                                                     n_topics_range,\n",
    "                                                     texts_list)"
   ]
  },
  {
   "cell_type": "code",
   "execution_count": null,
   "id": "959aea11",
   "metadata": {},
   "outputs": [],
   "source": [
    "models_TfidfVectorizer"
   ]
  },
  {
   "cell_type": "markdown",
   "id": "0aa9623f",
   "metadata": {},
   "source": [
    "Le score de silhouette mesure la similarité d'un objet à son propre groupe par rapport aux autres groupes et généralement, plus il est proche de 1, meilleure est la classification. Le score de cohérence mesure à quel point les sujets sont \"interprétables par les humains\", généralement plus proche de 1, meilleur c'est."
   ]
  },
  {
   "cell_type": "markdown",
   "id": "e1adfb6d",
   "metadata": {},
   "source": [
    "Dans notre situation, lorsque le nombre de sujets augmente, ils sont davantage \"interprétables par les humains\"."
   ]
  },
  {
   "cell_type": "markdown",
   "id": "8b1a1e69",
   "metadata": {},
   "source": [
    "Nous devons maintenant essayer d'obtenir des tags en utilisant ces méthodes."
   ]
  },
  {
   "cell_type": "markdown",
   "id": "66c78d4a",
   "metadata": {},
   "source": [
    "Je choisis d'utiliser uniquement LDA pour la suite car c'est la méthode qui obtient les meilleurs scores de silhouette."
   ]
  },
  {
   "cell_type": "markdown",
   "id": "d1ee4d9b",
   "metadata": {},
   "source": [
    "Je choisis le nombre de topics au regard des résultats précédents."
   ]
  },
  {
   "cell_type": "code",
   "execution_count": 23,
   "id": "6202d06e",
   "metadata": {},
   "outputs": [],
   "source": [
    "n_topics = 30"
   ]
  },
  {
   "cell_type": "markdown",
   "id": "715fa5a5",
   "metadata": {},
   "source": [
    "Le paramètre min_df définit le nombre minimum de documents dans lesquels un mot doit être présent pour être inclus dans le vocabulaire."
   ]
  },
  {
   "cell_type": "code",
   "execution_count": 24,
   "id": "cdc9a1ad",
   "metadata": {},
   "outputs": [],
   "source": [
    "min_df = 25"
   ]
  },
  {
   "cell_type": "markdown",
   "id": "8f264637",
   "metadata": {},
   "source": [
    "Le paramètre max_df définit la fréquence maximale d'un mot en pourcentage de tous les documents. "
   ]
  },
  {
   "cell_type": "code",
   "execution_count": 25,
   "id": "4e8132fb",
   "metadata": {},
   "outputs": [],
   "source": [
    "max_df = 0.2"
   ]
  },
  {
   "cell_type": "code",
   "execution_count": 26,
   "id": "88064169",
   "metadata": {},
   "outputs": [],
   "source": [
    "vectorizer_CV = CountVectorizer(vocabulary=vocabulary_texts, min_df=min_df, max_df=max_df)"
   ]
  },
  {
   "cell_type": "code",
   "execution_count": 27,
   "id": "d3b9e5b8",
   "metadata": {},
   "outputs": [],
   "source": [
    "vectorizer_TFIDF = TfidfVectorizer(vocabulary=vocabulary_texts, min_df=min_df, max_df=max_df)"
   ]
  },
  {
   "cell_type": "code",
   "execution_count": null,
   "id": "4d2a16ed",
   "metadata": {},
   "outputs": [],
   "source": [
    "def get_tags_from_text(texts_list, flat_texts, n_topics, vocabulary_texts, min_df, max_df):\n",
    "    pred_gensim = list()\n",
    "    pred_sklearn = list()\n",
    "    pred_tfidf = list()\n",
    "    pred_count = list()\n",
    "\n",
    "    # Predict tags using LdaModel (gensim) without bow or TF-IDF\n",
    "    dictionary = Dictionary(texts_list)\n",
    "    corpus = [dictionary.doc2bow(txt) for txt in texts_list]\n",
    "    lda = LdaModel(corpus, num_topics=n_topics, id2word=dictionary, random_state=42)\n",
    "    for text in tqdm(texts_list, ascii=' >='):\n",
    "        bow = dictionary.doc2bow(text)\n",
    "        topics = lda.get_document_topics(bow, minimum_probability=0)\n",
    "        topic_id, prob = max(topics, key=lambda x: x[1])\n",
    "        topic_words = [w for w, p in lda.show_topic(topic_id, topn=5)]\n",
    "        pred_gensim.append(topic_words)\n",
    "\n",
    "    # Predict tags using LDA (sklearn) without bow or TF-IDF\n",
    "    corpus_dense = corpus2dense(corpus, num_terms=len(dictionary)).T\n",
    "    lda = LatentDirichletAllocation(n_components=n_topics, random_state=42)\n",
    "    lda.fit(corpus_dense)\n",
    "    for text in tqdm(texts_list, ascii=' >='):\n",
    "        bow = dictionary.doc2bow(text)\n",
    "        dense_bow = corpus2dense([bow], num_terms=len(dictionary)).T[0]\n",
    "        dense_bow = np.reshape(dense_bow, (1, -1))\n",
    "        topic_distribution = lda.transform(dense_bow)\n",
    "        topic_id = topic_distribution.argmax()\n",
    "        top_words_indices = np.argsort(-lda.components_[topic_id])[:5]\n",
    "        topic_words = [dictionary[i] for i in top_words_indices]\n",
    "        pred_sklearn.append(topic_words)\n",
    "\n",
    "    # Predict tags using LdaModel with TF-IDF\n",
    "    vectorizer = vectorizer_TFIDF\n",
    "    bow = vectorizer.fit_transform(flat_texts)\n",
    "    lda = LatentDirichletAllocation(n_components=n_topics, random_state=42)\n",
    "    topics = lda.fit_transform(bow)\n",
    "    for i in tqdm(range(len(texts_list)), ascii=' >='):\n",
    "        topic_id = topics.argmax(axis=1)[i]\n",
    "        dense_bow_matrix = bow.toarray()\n",
    "        top_words_indices = dense_bow_matrix[i].argsort()[-5:][::-1]\n",
    "        topic_words = [list(vectorizer.vocabulary_.keys())[list(vectorizer.vocabulary_.values()).index(i)] for i in top_words_indices]\n",
    "        pred_tfidf.append(topic_words)\n",
    "\n",
    "    # Predict tags using LdaModel with CountVectorizer\n",
    "    vectorizer = vectorizer_CV\n",
    "    bow = vectorizer.fit_transform(flat_texts)\n",
    "    lda = LatentDirichletAllocation(n_components=n_topics, random_state=42)\n",
    "    topics = lda.fit_transform(bow)\n",
    "    for i in tqdm(range(len(texts_list)), ascii=' >='):\n",
    "        topic_id = topics.argmax(axis=1)[i]\n",
    "        dense_bow_matrix = bow.toarray()\n",
    "        top_words_indices = dense_bow_matrix[i].argsort()[-5:][::-1]\n",
    "        topic_words = [list(vectorizer.vocabulary_.keys())[list(vectorizer.vocabulary_.values()).index(i)] for i in top_words_indices]\n",
    "        pred_count.append(topic_words)           \n",
    "\n",
    "    return pred_gensim, pred_sklearn, pred_tfidf, pred_count"
   ]
  },
  {
   "cell_type": "code",
   "execution_count": null,
   "id": "1a8f09ab",
   "metadata": {},
   "outputs": [],
   "source": [
    "pred_gensim, pred_sklearn, pred_tfidf, pred_count = get_tags_from_text(texts_list,\n",
    "                                                                       flat_texts,\n",
    "                                                                       n_topics,\n",
    "                                                                       vocabulary_texts,\n",
    "                                                                       min_df,\n",
    "                                                                       max_df)"
   ]
  },
  {
   "cell_type": "code",
   "execution_count": null,
   "id": "bc08e905",
   "metadata": {},
   "outputs": [],
   "source": [
    "tags_list[0:5]"
   ]
  },
  {
   "cell_type": "code",
   "execution_count": null,
   "id": "5285e240",
   "metadata": {},
   "outputs": [],
   "source": [
    "pred_gensim[0:5]"
   ]
  },
  {
   "cell_type": "code",
   "execution_count": null,
   "id": "6e80f6cc",
   "metadata": {},
   "outputs": [],
   "source": [
    "pred_sklearn[0:5]"
   ]
  },
  {
   "cell_type": "code",
   "execution_count": null,
   "id": "67dcf1d1",
   "metadata": {},
   "outputs": [],
   "source": [
    "pred_tfidf[0:5]"
   ]
  },
  {
   "cell_type": "code",
   "execution_count": null,
   "id": "194f0253",
   "metadata": {},
   "outputs": [],
   "source": [
    "pred_count[0:5]"
   ]
  },
  {
   "cell_type": "markdown",
   "id": "de06b692",
   "metadata": {},
   "source": [
    "Il semblerait que les modèles avec CountVectorizer et TfidfVectorizer prédisent des tags assez similaires à ceux donnés par les utilisateurs."
   ]
  },
  {
   "cell_type": "code",
   "execution_count": null,
   "id": "9480618a",
   "metadata": {},
   "outputs": [],
   "source": [
    "pred_tags_list = [pred_gensim, pred_sklearn, pred_tfidf, pred_count]\n",
    "pred_names = [\"gensim\", \"sklearn\", \"tfidf\", \"count\"]"
   ]
  },
  {
   "cell_type": "code",
   "execution_count": null,
   "id": "f05fa2f7",
   "metadata": {},
   "outputs": [],
   "source": [
    "pred_tags_bin_list = [mlb.transform(pred_tags) for pred_tags in pred_tags_list]"
   ]
  },
  {
   "cell_type": "code",
   "execution_count": null,
   "id": "61e9a8db",
   "metadata": {},
   "outputs": [],
   "source": [
    "def evaluate_predictions(true_tags, pred_tags_bin_list, pred_names):\n",
    "    f1_scores = []\n",
    "    jaccard_scores = []\n",
    "    scoring_methods = [\"F1 Score\", \"Jaccard Score\"]\n",
    "    for pred_tags in pred_tags_bin_list:\n",
    "        f1_scores.append(f1_score(true_tags, pred_tags, average='samples'))\n",
    "        jaccard_scores.append(jaccard_score(true_tags, pred_tags, average='samples'))\n",
    "\n",
    "    metrics = {\"Jaccard\": jaccard_scores, \"F1\": f1_scores}\n",
    "    metrics_df = pd.DataFrame(metrics, index=pred_names)\n",
    "\n",
    "    fig, axes = plt.subplots(1, 2, figsize=(15, 5))\n",
    "    axes = axes.ravel()\n",
    "    for i, metric in enumerate(metrics.keys()):\n",
    "        sns.barplot(data=metrics_df, x=metrics_df.index, y=metric, ax=axes[i])\n",
    "        axes[i].set_ylabel('Score')\n",
    "        axes[i].set_title(scoring_methods[i])\n",
    "    plt.show()\n",
    "    return metrics_df"
   ]
  },
  {
   "cell_type": "markdown",
   "id": "5e3d0839",
   "metadata": {},
   "source": [
    " - F1 Score: mesure de l'exactitude d'un modèle, il est un moyen harmonique de précision et de rappel. Il varie de 0 à 1, où un score proche de 1 indique une meilleure performance et un score proche de 0 indique une performance moins bonne. \n",
    " - Jaccard Score: mesure de la similarité entre les deux ensembles de prédictions et de vraies étiquettes. Il varie de 0 à 1, où un score proche de 1 indique une très grande similitude et un score proche de 0 indique une grande dissimilarité."
   ]
  },
  {
   "cell_type": "code",
   "execution_count": null,
   "id": "fc45da93",
   "metadata": {},
   "outputs": [],
   "source": [
    "evaluate_predictions(tags_mlb, pred_tags_bin_list, pred_names)"
   ]
  },
  {
   "cell_type": "markdown",
   "id": "279b5e1b",
   "metadata": {},
   "source": [
    "Nous observons de meilleurs scores avec un vectorizer."
   ]
  },
  {
   "cell_type": "markdown",
   "id": "904348fb",
   "metadata": {},
   "source": [
    "### Résultats de l'étude"
   ]
  },
  {
   "cell_type": "code",
   "execution_count": 28,
   "id": "a9906ff6",
   "metadata": {},
   "outputs": [],
   "source": [
    "def jaccard_index(list1, list2):\n",
    "    s1 = set(list1)\n",
    "    s2 = set(list2)\n",
    "    return len(s1 & s2) / len(s1 | s2)"
   ]
  },
  {
   "cell_type": "code",
   "execution_count": 29,
   "id": "6a0ddc15",
   "metadata": {},
   "outputs": [],
   "source": [
    "def calculate_scores(true_tags, pred_tags):\n",
    "    scores = [jaccard_index(t, p) for t, p in zip(true_tags, pred_tags)]\n",
    "    mean_score = sum(scores) / len(scores)\n",
    "    return mean_score"
   ]
  },
  {
   "cell_type": "code",
   "execution_count": 30,
   "id": "9b83095b",
   "metadata": {},
   "outputs": [],
   "source": [
    "def plot_similar_tags(true_tags, pred_tags, method):\n",
    "    mean_score = calculate_scores(true_tags, pred_tags)\n",
    "    similar_counts = []\n",
    "    \n",
    "    for pred_tags, true_tags in zip(pred_tags, true_tags):\n",
    "        similar_words = set(pred_tags) & set(true_tags)\n",
    "        similar_counts.append(len(similar_words))\n",
    "\n",
    "    counter = Counter(similar_counts)\n",
    "    counter = dict(sorted(counter.items()))\n",
    "\n",
    "    # Add missing keys to counter with value 0\n",
    "    keys = set(range(0, 6))\n",
    "    missing_keys = keys - set(counter.keys())\n",
    "    for key in missing_keys:\n",
    "        counter[key] = 0\n",
    "    sorted_counter = dict(sorted(counter.items()))\n",
    "        \n",
    "    fig, axs = plt.subplots(1, 2, figsize=(10, 5))\n",
    "    fig.suptitle(f\"Similarité des tags avec la méthode {method}\", fontsize=14, fontweight='bold', y=1.05)\n",
    "    axs[0].bar(sorted_counter.keys(), sorted_counter.values())\n",
    "    axs[0].set_xticks(range(0,6,1))\n",
    "    axs[0].set_xticklabels(sorted_counter.keys(), rotation=0)\n",
    "    axs[0].set_xlabel('Nombre de tags similaires', fontsize=11)\n",
    "    axs[0].set_ylabel(\"Nombre d'observations\", fontsize=11)\n",
    "    axs[0].set_title(\"Nombre d'observations avec un\\n nombre de tags similaires\", fontsize=12)   \n",
    "    axs[1].pie(sorted_counter.values(), labels=sorted_counter.keys(), autopct='%1.1f%%', pctdistance=0.8)\n",
    "    axs[1].legend(title='Tags\\nSimilaires', bbox_to_anchor=(1, 0.9), prop={'size': 8}, title_fontsize=10)\n",
    "    axs[1].set_title(\"Pourcentage d'observations avec \\n un nombre de tags similaires\", fontsize=12)\n",
    "    \n",
    "    textstr = ''.join((\n",
    "        r'Jaccard_index = %.2f' % (mean_score, )))\n",
    "    props = dict(boxstyle='round', facecolor='white', alpha=0.5)\n",
    "    axs[1].text(0.8, 0, textstr, transform=axs[1].transAxes, fontsize=12,\n",
    "                verticalalignment='top', bbox=props)\n",
    "    plt.show()"
   ]
  },
  {
   "cell_type": "code",
   "execution_count": null,
   "id": "099abbc6",
   "metadata": {},
   "outputs": [],
   "source": [
    "plot_similar_tags(tags_list, pred_gensim, 'LDA Gensim')"
   ]
  },
  {
   "cell_type": "code",
   "execution_count": null,
   "id": "c3384fc8",
   "metadata": {},
   "outputs": [],
   "source": [
    "plot_similar_tags(tags_list, pred_sklearn, 'LDA Sklearn')"
   ]
  },
  {
   "cell_type": "code",
   "execution_count": null,
   "id": "1e61a997",
   "metadata": {},
   "outputs": [],
   "source": [
    "plot_similar_tags(tags_list, pred_tfidf, 'LDA + TFIDF')"
   ]
  },
  {
   "cell_type": "code",
   "execution_count": null,
   "id": "5b7e4b9f",
   "metadata": {},
   "outputs": [],
   "source": [
    "plot_similar_tags(tags_list, pred_count, 'LDA + Count')"
   ]
  },
  {
   "cell_type": "markdown",
   "id": "aee1a595",
   "metadata": {},
   "source": [
    "Les vectorizers apportent une réelle plus value avec davantage de tags prédis similaires aux tags originaux."
   ]
  },
  {
   "cell_type": "markdown",
   "id": "5350311f",
   "metadata": {},
   "source": [
    "### LDA + TF-IDF +  PCA"
   ]
  },
  {
   "cell_type": "code",
   "execution_count": null,
   "id": "aee25c40",
   "metadata": {},
   "outputs": [],
   "source": [
    "# Predict tags using LdaModel with TF-IDF\n",
    "vectorizer = vectorizer_TFIDF\n",
    "bow = vectorizer.fit_transform(flat_texts)\n",
    "\n",
    "# Apply PCA to the TF-IDF matrix\n",
    "pca = PCA()\n",
    "pca_bow = pca.fit_transform(bow.toarray())\n",
    "\n",
    "# Calculate the explained variance\n",
    "explained_variance = pca.explained_variance_ratio_"
   ]
  },
  {
   "cell_type": "code",
   "execution_count": null,
   "id": "be23bf34",
   "metadata": {},
   "outputs": [],
   "source": [
    "fig, axs = plt.subplots(1, 2, figsize=(16, 5))\n",
    "\n",
    "# Plot the explained variance\n",
    "axs[0].plot(np.cumsum(explained_variance))\n",
    "axs[0].set_xlabel(\"Number of Components\")\n",
    "axs[0].set_ylabel(\"Explained Variance (%)\")\n",
    "axs[0].axhline(y=0.90, linewidth=2, color='black')\n",
    "axs[0].text(2, 0.91, 'Seuil des 90% de variance', fontsize=14)\n",
    "\n",
    "# Scatter Plot of PCA Results\n",
    "axs[1].scatter(pca_bow[:, 0], pca_bow[:, 1])\n",
    "axs[1].set_xlabel(\"First Principal Component\")\n",
    "axs[1].set_ylabel(\"Second Principal Component\")\n",
    "axs[1].set_title(\"Scatter Plot of PCA Results\")\n",
    "\n",
    "plt.tight_layout()\n",
    "plt.show()"
   ]
  },
  {
   "cell_type": "code",
   "execution_count": null,
   "id": "f6e9288d",
   "metadata": {},
   "outputs": [],
   "source": [
    "def ensure_positive_pca(X):\n",
    "    pca = PCA(n_components=0.90)\n",
    "    X_transformed = pca.fit_transform(X)\n",
    "#     if (X_transformed < 0).sum() > 0:\n",
    "#         X_transformed -= X_transformed.min()\n",
    "    return X_transformed"
   ]
  },
  {
   "cell_type": "code",
   "execution_count": null,
   "id": "88695d7e",
   "metadata": {},
   "outputs": [],
   "source": [
    "pca_bow = ensure_positive_pca(bow.toarray())"
   ]
  },
  {
   "cell_type": "code",
   "execution_count": null,
   "id": "eef05847",
   "metadata": {},
   "outputs": [],
   "source": [
    "# Predict tags using LdaModel with CountVectorizer\n",
    "pred_tfidf_pca = list()\n",
    "lda = LatentDirichletAllocation(n_components=n_topics, random_state=42)\n",
    "topics = lda.fit_transform(pca_bow)\n",
    "for i in tqdm(range(len(texts_list)), ascii=' >='):\n",
    "    topic_id = topics.argmax(axis=1)[i]\n",
    "    top_words_indices = pca_bow[i].argsort()[-5:][::-1]\n",
    "    topic_words = [list(vectorizer.vocabulary_.keys())[list(vectorizer.vocabulary_.values()).index(i)] for i in top_words_indices]\n",
    "    pred_tfidf_pca.append(topic_words)  "
   ]
  },
  {
   "cell_type": "code",
   "execution_count": null,
   "id": "081082e1",
   "metadata": {},
   "outputs": [],
   "source": [
    "pred_tfidf_pca[0:5]"
   ]
  },
  {
   "cell_type": "code",
   "execution_count": null,
   "id": "e0cb00fa",
   "metadata": {},
   "outputs": [],
   "source": [
    "tags_list[0:5]"
   ]
  },
  {
   "cell_type": "code",
   "execution_count": null,
   "id": "1e174a94",
   "metadata": {},
   "outputs": [],
   "source": [
    "plot_similar_tags(tags_list, pred_tfidf_pca, 'LDA + TFIDF + PCA')"
   ]
  },
  {
   "cell_type": "markdown",
   "id": "b5c0fb40",
   "metadata": {},
   "source": [
    "PCA est une méthode non supervisée qui cherche à identifier les composantes principales ou les caractéristiques qui expliquent la variance la plus importante dans les données. Bien qu'il puisse être utilisé pour la réduction de la dimensionnalité et la visualisation, il ne garantit pas que les caractéristiques transformées soient liées à la cible. Dans votre cas, les caractéristiques transformées PCA semblent avoir perdu le sens sémantique des mots d'origine. Cela peut être dû à diverses raisons, telles que le choix de n_components ou la petite taille de l'ensemble de données."
   ]
  },
  {
   "cell_type": "code",
   "execution_count": null,
   "id": "07fc901a",
   "metadata": {},
   "outputs": [],
   "source": [
    "# Predict tags using NMF with CountVectorizer\n",
    "pred_tfidf_pca_nmf = []\n",
    "nmf = NMF(n_components=n_topics, random_state=42)\n",
    "topics = nmf.fit_transform(pca_bow)\n",
    "for i in range(len(texts_list)):\n",
    "    topic_id = topics.argmax(axis=1)[i]\n",
    "    top_words_indices = pca_bow[i].argsort()[-5:][::-1]\n",
    "    topic_words = [list(vectorizer.vocabulary_.keys())[list(vectorizer.vocabulary_.values()).index(i)] for i in top_words_indices]\n",
    "    pred_tfidf_pca_nmf.append(topic_words)"
   ]
  },
  {
   "cell_type": "code",
   "execution_count": null,
   "id": "682b3221",
   "metadata": {},
   "outputs": [],
   "source": []
  },
  {
   "cell_type": "code",
   "execution_count": null,
   "id": "e35de1f9",
   "metadata": {},
   "outputs": [],
   "source": []
  },
  {
   "cell_type": "markdown",
   "id": "5daac687",
   "metadata": {},
   "source": [
    "### LDA + CountVectorizer +  PCA "
   ]
  },
  {
   "cell_type": "code",
   "execution_count": null,
   "id": "587eaddf",
   "metadata": {},
   "outputs": [],
   "source": [
    "# Predict tags using LdaModel with CountVectorizer\n",
    "vectorizer = vectorizer_CV\n",
    "bow = vectorizer_CV.fit_transform(flat_texts)\n",
    "\n",
    "# Apply PCA to the count matrix\n",
    "pca = PCA()\n",
    "pca_bow = pca.fit_transform(bow.toarray())\n",
    "\n",
    "# Calculate the explained variance\n",
    "explained_variance = pca.explained_variance_ratio_"
   ]
  },
  {
   "cell_type": "code",
   "execution_count": null,
   "id": "35a36d3d",
   "metadata": {},
   "outputs": [],
   "source": [
    "fig, axs = plt.subplots(1, 2, figsize=(16, 5))\n",
    "\n",
    "# Plot the explained variance\n",
    "axs[0].plot(np.cumsum(explained_variance))\n",
    "axs[0].set_xlabel(\"Number of Components\")\n",
    "axs[0].set_ylabel(\"Explained Variance (%)\")\n",
    "axs[0].axhline(y=0.90, linewidth=2, color='black')\n",
    "axs[0].text(2, 0.91, 'Seuil des 90% de variance', fontsize=14)\n",
    "\n",
    "# Scatter Plot of PCA Results\n",
    "axs[1].scatter(pca_bow[:, 0], pca_bow[:, 1])\n",
    "axs[1].set_xlabel(\"First Principal Component\")\n",
    "axs[1].set_ylabel(\"Second Principal Component\")\n",
    "axs[1].set_title(\"Scatter Plot of PCA Results\")\n",
    "\n",
    "plt.tight_layout()\n",
    "plt.show()"
   ]
  },
  {
   "cell_type": "code",
   "execution_count": null,
   "id": "c34bf5c4",
   "metadata": {},
   "outputs": [],
   "source": [
    "pca_bow = ensure_positive_pca(bow.toarray())"
   ]
  },
  {
   "cell_type": "code",
   "execution_count": null,
   "id": "17cd1ee8",
   "metadata": {},
   "outputs": [],
   "source": [
    "# Predict tags using LdaModel with CountVectorizer\n",
    "pred_count_pca = list()\n",
    "lda = LatentDirichletAllocation(n_components=n_topics, random_state=42)\n",
    "topics = lda.fit_transform(pca_bow)\n",
    "for i in tqdm(range(len(texts_list)), ascii=' >='):\n",
    "    topic_id = topics.argmax(axis=1)[i]\n",
    "    top_words_indices = pca_bow[i].argsort()[-5:][::-1]\n",
    "    topic_words = [list(vectorizer.vocabulary_.keys())[list(vectorizer.vocabulary_.values()).index(i)] for i in top_words_indices]\n",
    "    pred_count_pca.append(topic_words)           "
   ]
  },
  {
   "cell_type": "code",
   "execution_count": null,
   "id": "599d37d1",
   "metadata": {},
   "outputs": [],
   "source": [
    "plot_similar_tags(tags_list, pred_count_pca, 'LDA + Count + PCA')"
   ]
  },
  {
   "cell_type": "markdown",
   "id": "7b65b6e3",
   "metadata": {},
   "source": [
    "## <font color=\"#114b98\" id=\"section_3\">3. Approche supervisée</font>"
   ]
  },
  {
   "cell_type": "markdown",
   "id": "b65ea923",
   "metadata": {},
   "source": [
    "### Étude"
   ]
  },
  {
   "cell_type": "code",
   "execution_count": null,
   "id": "edfec925",
   "metadata": {},
   "outputs": [],
   "source": [
    "from sklearn.linear_model import LogisticRegression\n",
    "from sklearn.multiclass import OneVsRestClassifier\n",
    "from sklearn.linear_model import SGDClassifier\n",
    "from sklearn.ensemble import RandomForestClassifier\n",
    "from sklearn.neighbors import KNeighborsClassifier\n",
    "from sklearn.naive_bayes import MultinomialNB\n",
    "from sklearn.multioutput import MultiOutputClassifier\n",
    "from sklearn.model_selection import GridSearchCV"
   ]
  },
  {
   "cell_type": "code",
   "execution_count": null,
   "id": "024e0732",
   "metadata": {},
   "outputs": [],
   "source": [
    "classifiers = [LogisticRegression(random_state=42, max_iter=300, tol=1e-5),\n",
    "               SGDClassifier(random_state=42, max_iter=300, tol=1e-5),\n",
    "               RandomForestClassifier(random_state=42),\n",
    "               KNeighborsClassifier(),\n",
    "               MultinomialNB()]"
   ]
  },
  {
   "cell_type": "code",
   "execution_count": null,
   "id": "9e42468f",
   "metadata": {},
   "outputs": [],
   "source": [
    "def calculate_supervised_scores(flat_texts, tags_mlb, vectorizer, classifiers):\n",
    "\n",
    "    # Create an empty dataframe to store the results\n",
    "    results_df = pd.DataFrame(columns=['Classifier',\n",
    "                                       'F1 Score',\n",
    "                                       'Jaccard Score',\n",
    "                                       'Time (s)'])\n",
    "\n",
    "    # Split the data into training and test sets\n",
    "    X_train, X_test, y_train, y_test = train_test_split(flat_texts, tags_mlb, test_size=0.2, random_state=42)\n",
    "\n",
    "    # Vectorize X_train and X_test\n",
    "    X_train = vectorizer.fit_transform(X_train)\n",
    "    X_test = vectorizer.transform(X_test)\n",
    "\n",
    "    # Fit an independent model for each class using the OneVsRestClassifier wrapper.\n",
    "    for classifier in tqdm(classifiers, ascii=' >='):\n",
    "        start_time = time.time()\n",
    "        ovrc = OneVsRestClassifier(classifier)\n",
    "        ovrc.fit(X_train, y_train)\n",
    "        y_pred_ovrc = ovrc.predict(X_test)\n",
    "        end_time = time.time()\n",
    "\n",
    "        f1 = round(f1_score(y_test, y_pred_ovrc, average='samples'), 4)\n",
    "        jaccard = round(jaccard_score(y_test, y_pred_ovrc, average='samples'), 4)\n",
    "        time_taken = round(end_time - start_time, 4)\n",
    "\n",
    "        results_df = results_df.append({'Classifier': str(classifier).split('(')[0], \n",
    "                                        'F1 Score': f1,\n",
    "                                        'Jaccard Score': jaccard,\n",
    "                                        'Time (s)': time_taken},\n",
    "                                        ignore_index=True)\n",
    "\n",
    "    return results_df"
   ]
  },
  {
   "cell_type": "code",
   "execution_count": null,
   "id": "8da67f42",
   "metadata": {},
   "outputs": [],
   "source": [
    "results_CountVectorizer = calculate_supervised_scores(flat_texts,\n",
    "                                                      tags_mlb,\n",
    "                                                      vectorizer_CV,\n",
    "                                                      classifiers)"
   ]
  },
  {
   "cell_type": "code",
   "execution_count": null,
   "id": "fa632ca2",
   "metadata": {},
   "outputs": [],
   "source": [
    "results_CountVectorizer"
   ]
  },
  {
   "cell_type": "code",
   "execution_count": null,
   "id": "6bf9dac1",
   "metadata": {},
   "outputs": [],
   "source": [
    "def plot_results(results_df):\n",
    "    \n",
    "    # Create a figure with 5 subplots\n",
    "    fig, axs = plt.subplots(1, 3, figsize=(20, 10))\n",
    "    # Set a color palette\n",
    "    my_palette = sns.color_palette(\"husl\", 5)\n",
    "\n",
    "    # Set the x-axis to be a range of numerical values\n",
    "    x = range(len(results_df))\n",
    "    scoring_methods = ['F1 Score', 'Jaccard Score', 'Time (s)']\n",
    "\n",
    "    # Create a subplot for each scoring method\n",
    "    for i, scoring_method in enumerate(scoring_methods):\n",
    "        sns.barplot(x='Classifier', \n",
    "                    y=scoring_method, \n",
    "                    data=results_df, \n",
    "                    ax=axs[i], \n",
    "                    palette=my_palette, \n",
    "                    label=scoring_method)\n",
    "\n",
    "    # Add classifier names to x-axis\n",
    "    for i in range(3):\n",
    "        axs[i].set_title(scoring_methods[i])\n",
    "        axs[i].set_xticks(x)\n",
    "        axs[i].set_xlabel('')\n",
    "        axs[i].set_ylabel('Score')\n",
    "        axs[i].set_xticklabels(results_df['Classifier'], rotation=90)\n",
    "\n",
    "    plt.show()"
   ]
  },
  {
   "cell_type": "code",
   "execution_count": null,
   "id": "6df082fd",
   "metadata": {},
   "outputs": [],
   "source": [
    "plot_results(results_CountVectorizer)"
   ]
  },
  {
   "cell_type": "code",
   "execution_count": null,
   "id": "183b758b",
   "metadata": {},
   "outputs": [],
   "source": [
    "results_TfidfVectorizer = calculate_supervised_scores(flat_texts,\n",
    "                                                      tags_mlb,\n",
    "                                                      vectorizer_TFIDF,\n",
    "                                                      classifiers)"
   ]
  },
  {
   "cell_type": "code",
   "execution_count": null,
   "id": "e7b9ea3b",
   "metadata": {},
   "outputs": [],
   "source": [
    "results_TfidfVectorizer"
   ]
  },
  {
   "cell_type": "code",
   "execution_count": null,
   "id": "1bf8db14",
   "metadata": {},
   "outputs": [],
   "source": [
    "plot_results(results_TfidfVectorizer)"
   ]
  },
  {
   "cell_type": "markdown",
   "id": "3de6aede",
   "metadata": {},
   "source": [
    "Le SGDClassifier obtient les meilleurs scores, peu importe le vectorizer utilisé."
   ]
  },
  {
   "cell_type": "markdown",
   "id": "f07480ac",
   "metadata": {},
   "source": [
    "Le modèle avec RandomForestClassifier nécessite un temps d'entraînement très long."
   ]
  },
  {
   "cell_type": "markdown",
   "id": "c3c78d1d",
   "metadata": {},
   "source": [
    "Le classificateur LogisticRegression semble assez performant avec CountVectorizer."
   ]
  },
  {
   "cell_type": "markdown",
   "id": "f206e313",
   "metadata": {},
   "source": [
    "### LogisticRegression + GridSearchCV"
   ]
  },
  {
   "cell_type": "code",
   "execution_count": null,
   "id": "56b10da1",
   "metadata": {},
   "outputs": [],
   "source": [
    "results_LR = pd.DataFrame(columns=['F1 Score', 'Jaccard Score'])\n",
    "results_LR = results_LR.append(results_CountVectorizer.iloc[0, 1:]).reset_index(drop=True)\n",
    "results_LR = results_LR.append(results_TfidfVectorizer.iloc[0, 1:]).reset_index(drop=True)\n",
    "results_LR['Classifier'] = ['CountVectorizer', 'TfidfVectorizer']\n",
    "results_LR"
   ]
  },
  {
   "cell_type": "code",
   "execution_count": null,
   "id": "c1ffcd92",
   "metadata": {},
   "outputs": [],
   "source": [
    "plot_results(results_LR)"
   ]
  },
  {
   "cell_type": "markdown",
   "id": "2849f05e",
   "metadata": {},
   "source": [
    "CountVectorizer permet d'avoir des performances largement supérieures à TF-IDF."
   ]
  },
  {
   "cell_type": "code",
   "execution_count": null,
   "id": "bb1f91fa",
   "metadata": {},
   "outputs": [],
   "source": [
    "classifier_LR = LogisticRegression(random_state=42, max_iter=300, tol=1e-5)"
   ]
  },
  {
   "cell_type": "code",
   "execution_count": null,
   "id": "3bfb794e",
   "metadata": {},
   "outputs": [],
   "source": [
    "parameters_LR = {'estimator__C': [0.01, 0.1, 0.01],\n",
    "                 'estimator__penalty': ['l1', 'l2'],\n",
    "                 'estimator__solver': ['lbfgs', 'liblinear']}"
   ]
  },
  {
   "cell_type": "code",
   "execution_count": null,
   "id": "ea9a8661",
   "metadata": {},
   "outputs": [],
   "source": [
    "def calculate_supervised_scores(flat_texts, tags_mlb, vectorizer, classifier, parameters):\n",
    "    results_df = pd.DataFrame(columns=['Classifier', 'F1 Score', 'Jaccard Score', 'Time (s)'])\n",
    "    X_train, X_test, y_train, y_test = train_test_split(flat_texts, tags_mlb, test_size=0.2, random_state=42)\n",
    "    X_train = vectorizer.fit_transform(X_train)\n",
    "    X_test = vectorizer.transform(X_test)\n",
    "    \n",
    "    ovrc = OneVsRestClassifier(classifier)\n",
    "    clf = GridSearchCV(ovrc, parameters, cv=5, verbose=2)\n",
    "    \n",
    "    start_time = time.time()\n",
    "    clf.fit(X_train, y_train)\n",
    "    y_pred = clf.predict(X_test)\n",
    "    end_time = time.time()\n",
    "    \n",
    "    best_params = clf.best_params_ if hasattr(clf, 'best_params_') else None\n",
    "    \n",
    "    f1 = round(f1_score(y_test, y_pred, average='samples'), 4)\n",
    "    jaccard = round(jaccard_score(y_test, y_pred, average='samples'), 4)\n",
    "    time_taken = round(end_time - start_time, 4)\n",
    "    \n",
    "    results_df = results_df.append({'Classifier': str(classifier).split('(')[0], \n",
    "                                    'F1 Score': f1,\n",
    "                                    'Jaccard Score': jaccard,\n",
    "                                    'Time (s)': time_taken},\n",
    "                                    ignore_index=True)\n",
    "    return results_df, best_params"
   ]
  },
  {
   "cell_type": "code",
   "execution_count": null,
   "id": "9ab5c7fb",
   "metadata": {},
   "outputs": [],
   "source": [
    "results_LR, best_params_LR = calculate_supervised_scores(flat_texts,\n",
    "                                                         tags_mlb,\n",
    "                                                         vectorizer_CV,\n",
    "                                                         classifier_LR,\n",
    "                                                         parameters_LR)"
   ]
  },
  {
   "cell_type": "code",
   "execution_count": null,
   "id": "c216e798",
   "metadata": {},
   "outputs": [],
   "source": [
    "results_LR"
   ]
  },
  {
   "cell_type": "markdown",
   "id": "68fdf0cf",
   "metadata": {},
   "source": [
    "Ce modèle est légèrement amélioré mais il reste toujours très inférieur au modèle non hyperparamétré avec SGDClassifier."
   ]
  },
  {
   "cell_type": "markdown",
   "id": "98271251",
   "metadata": {},
   "source": [
    "### SGDClassifier + GridSearchCV"
   ]
  },
  {
   "cell_type": "code",
   "execution_count": null,
   "id": "e4cdc2a4",
   "metadata": {},
   "outputs": [],
   "source": [
    "results_SGD = pd.DataFrame(columns=['F1 Score', 'Jaccard Score'])\n",
    "results_SGD = results_SGD.append(results_CountVectorizer.iloc[1, 1:]).reset_index(drop=True)\n",
    "results_SGD = results_SGD.append(results_TfidfVectorizer.iloc[1, 1:]).reset_index(drop=True)\n",
    "results_SGD['Classifier'] = ['CountVectorizer', 'TfidfVectorizer']\n",
    "results_SGD"
   ]
  },
  {
   "cell_type": "code",
   "execution_count": null,
   "id": "1525fe72",
   "metadata": {},
   "outputs": [],
   "source": [
    "plot_results(results_SGD)"
   ]
  },
  {
   "cell_type": "markdown",
   "id": "8f267676",
   "metadata": {},
   "source": [
    "CountVectorizer permet d'avoir des performances légèrement supérieures à TF-IDF."
   ]
  },
  {
   "cell_type": "code",
   "execution_count": null,
   "id": "b44b1794",
   "metadata": {},
   "outputs": [],
   "source": [
    "classifier_SGD = SGDClassifier(random_state=42)"
   ]
  },
  {
   "cell_type": "code",
   "execution_count": null,
   "id": "f525253b",
   "metadata": {},
   "outputs": [],
   "source": [
    "parameters_SGD = {'estimator__alpha': [0.0001, 0.001, 0.01, 0.1, 1, 10],\n",
    "                  'estimator__loss': ['hinge', 'log', 'modified_huber'],\n",
    "                  'estimator__penalty': ['l1', 'l2', 'elasticnet']}"
   ]
  },
  {
   "cell_type": "code",
   "execution_count": null,
   "id": "53649557",
   "metadata": {},
   "outputs": [],
   "source": [
    "results_SGD, best_params_SGD = calculate_supervised_scores(flat_texts,\n",
    "                                                           tags_mlb,\n",
    "                                                           vectorizer_CV,\n",
    "                                                           classifier_SGD,\n",
    "                                                           parameters_SGD)\n"
   ]
  },
  {
   "cell_type": "code",
   "execution_count": null,
   "id": "0f64794e",
   "metadata": {},
   "outputs": [],
   "source": [
    "results_SGD"
   ]
  },
  {
   "cell_type": "code",
   "execution_count": null,
   "id": "65911bb7",
   "metadata": {},
   "outputs": [],
   "source": [
    "best_params_SGD"
   ]
  },
  {
   "cell_type": "code",
   "execution_count": null,
   "id": "0410acd1",
   "metadata": {},
   "outputs": [],
   "source": [
    "results_CountVectorizer[results_CountVectorizer['Classifier']=='SGDClassifier']"
   ]
  },
  {
   "cell_type": "code",
   "execution_count": null,
   "id": "dc86e0c6",
   "metadata": {},
   "outputs": [],
   "source": [
    "results_CV = pd.concat([results_CountVectorizer[results_CountVectorizer['Classifier']=='SGDClassifier'],\n",
    "                        results_SGD])\n",
    "results_CV.iloc[1,0] = 'SGDClassifier_CV'\n",
    "results_CV"
   ]
  },
  {
   "cell_type": "code",
   "execution_count": null,
   "id": "f10f033c",
   "metadata": {},
   "outputs": [],
   "source": [
    "# Call the plot_results function\n",
    "plot_results(results_CV)"
   ]
  },
  {
   "cell_type": "markdown",
   "id": "a0493063",
   "metadata": {},
   "source": [
    "Le modèle a bien pu être amélioré par Cross-Validation."
   ]
  },
  {
   "cell_type": "markdown",
   "id": "03bdeb01",
   "metadata": {},
   "source": [
    "### Résultats de l'étude"
   ]
  },
  {
   "cell_type": "code",
   "execution_count": null,
   "id": "a14ff0af",
   "metadata": {},
   "outputs": [],
   "source": [
    "params = {key.replace('estimator__', ''): value for key, value in best_params_SGD.items()}"
   ]
  },
  {
   "cell_type": "code",
   "execution_count": null,
   "id": "fa2d9258",
   "metadata": {},
   "outputs": [],
   "source": [
    "classifier = SGDClassifier(random_state=42, **params)"
   ]
  },
  {
   "cell_type": "code",
   "execution_count": null,
   "id": "9409554d",
   "metadata": {},
   "outputs": [],
   "source": [
    "ovrc = OneVsRestClassifier(classifier)"
   ]
  },
  {
   "cell_type": "code",
   "execution_count": null,
   "id": "8690f5f8",
   "metadata": {},
   "outputs": [],
   "source": [
    "X_train, X_test, y_train, y_test = train_test_split(flat_texts, tags_mlb, test_size=0.2, random_state=42)\n",
    "X_train = vectorizer.fit_transform(X_train)\n",
    "ovrc.fit(X_train, y_train)"
   ]
  },
  {
   "cell_type": "code",
   "execution_count": null,
   "id": "30e2744d",
   "metadata": {},
   "outputs": [],
   "source": [
    "def get_top_5_tags(text, vectorizer, mlb, classifier):\n",
    "    X = vectorizer.transform([text])\n",
    "    scores = classifier.decision_function(X)\n",
    "    top_5 = scores.argsort(axis=1)[:, :5][::-1]\n",
    "    top_5_tags = [mlb.classes_[i] for i in top_5.flatten()]\n",
    "    return top_5_tags"
   ]
  },
  {
   "cell_type": "code",
   "execution_count": null,
   "id": "15058e36",
   "metadata": {},
   "outputs": [],
   "source": [
    "tags_SGDC = []\n",
    "for text in tqdm(flat_texts_eval):\n",
    "    top_5_tags = get_top_5_tags(text, vectorizer_CV, mlb, ovrc)\n",
    "    tags_SGDC.append(top_5_tags)"
   ]
  },
  {
   "cell_type": "code",
   "execution_count": null,
   "id": "4221e8db",
   "metadata": {},
   "outputs": [],
   "source": [
    "tags_SGDC[0:5]"
   ]
  },
  {
   "cell_type": "code",
   "execution_count": null,
   "id": "2d33a6a9",
   "metadata": {},
   "outputs": [],
   "source": [
    "tags_list_eval[0:5]"
   ]
  },
  {
   "cell_type": "code",
   "execution_count": null,
   "id": "ca2a1a2c",
   "metadata": {},
   "outputs": [],
   "source": [
    "plot_similar_tags(tags_list_eval, tags_SGDC, 'Count + SGDClassifier')"
   ]
  },
  {
   "cell_type": "markdown",
   "id": "e8bbff03",
   "metadata": {},
   "source": [
    "## <font color=\"#114b98\" id=\"section_4\">4. Approche supervisée avec Word Embedding : Word2Vec</font>"
   ]
  },
  {
   "cell_type": "markdown",
   "id": "abea48f5",
   "metadata": {},
   "source": [
    "### Dataset d'essais"
   ]
  },
  {
   "cell_type": "code",
   "execution_count": null,
   "id": "07c5cea3",
   "metadata": {},
   "outputs": [],
   "source": []
  },
  {
   "cell_type": "markdown",
   "id": "ad78ec93",
   "metadata": {},
   "source": [
    "### Word2Vec+ Classifier"
   ]
  },
  {
   "cell_type": "markdown",
   "id": "02bee59c",
   "metadata": {},
   "source": [
    "### Résultats"
   ]
  },
  {
   "cell_type": "code",
   "execution_count": null,
   "id": "3f9f2247",
   "metadata": {},
   "outputs": [],
   "source": []
  },
  {
   "cell_type": "code",
   "execution_count": null,
   "id": "03a91f9a",
   "metadata": {},
   "outputs": [],
   "source": []
  },
  {
   "cell_type": "code",
   "execution_count": null,
   "id": "74734179",
   "metadata": {},
   "outputs": [],
   "source": []
  },
  {
   "cell_type": "markdown",
   "id": "30ccdd5b",
   "metadata": {},
   "source": [
    "## <font color=\"#114b98\" id=\"section_5\">5. Approche supervisée avec Word Embedding : BERT</font>"
   ]
  },
  {
   "cell_type": "markdown",
   "id": "96b99384",
   "metadata": {},
   "source": [
    "### Étude"
   ]
  },
  {
   "cell_type": "markdown",
   "id": "bddef9c4",
   "metadata": {},
   "source": [
    "## <font color=\"#114b98\" id=\"section_6\">6. Approche supervisée avec Sentence Embedding : USE</font>"
   ]
  },
  {
   "cell_type": "markdown",
   "id": "0ecd835c",
   "metadata": {},
   "source": [
    "### Étude"
   ]
  },
  {
   "cell_type": "code",
   "execution_count": 31,
   "id": "907d627a",
   "metadata": {},
   "outputs": [],
   "source": [
    "from rake_nltk import Rake\n",
    "from sklearn.metrics.pairwise import cosine_similarity\n",
    "import tensorflow_hub as hub"
   ]
  },
  {
   "cell_type": "code",
   "execution_count": 32,
   "id": "00f7eb90",
   "metadata": {},
   "outputs": [],
   "source": [
    "import gensim\n",
    "import torch\n",
    "import numpy as np\n",
    "from sklearn.model_selection import train_test_split\n",
    "from keras.models import Sequential\n",
    "from keras.layers import Dense, BatchNormalization, Dropout\n",
    "import multiprocessing\n",
    "import transformers\n",
    "from transformers import BertModel, BertTokenizer\n",
    "import tensorflow\n",
    "from keras.utils.vis_utils import plot_model\n",
    "from keras.layers import Reshape, Flatten, Input\n",
    "import tensorflow as tf"
   ]
  },
  {
   "cell_type": "code",
   "execution_count": 33,
   "id": "d642279d",
   "metadata": {},
   "outputs": [],
   "source": [
    "def extract_keywords(input_text):\n",
    "    # Load the USE model\n",
    "    model = hub.load(\"https://tfhub.dev/google/universal-sentence-encoder/4\")\n",
    "    all_keywords = []\n",
    "    # Encode all the sentences in the input text\n",
    "    embeddings = model(input_text)\n",
    "    # Compute the cosine similarity between all the sentences\n",
    "    similarity_matrix = cosine_similarity(embeddings)\n",
    "    # Iterate over the list of sentences\n",
    "    for i in range(len(input_text)):\n",
    "        # Find the most similar sentences\n",
    "        most_similar = np.argsort(-similarity_matrix[i])[1:6]\n",
    "        # Combine the most similar sentences with the current sentence\n",
    "        text = ' '.join([input_text[j] for j in most_similar])\n",
    "        # Extract the keywords from the combined text using RAKE\n",
    "        keyword_extractor = Rake()\n",
    "        keyword_extractor.extract_keywords_from_text(text)\n",
    "        word_degrees = keyword_extractor.get_word_degrees()\n",
    "        sorted_word_degrees = sorted(word_degrees.items(), key=lambda x: x[1], reverse=True)\n",
    "        keywords = [word for word, degree in sorted_word_degrees[:5]]\n",
    "        all_keywords.append(keywords)\n",
    "    return all_keywords"
   ]
  },
  {
   "cell_type": "code",
   "execution_count": 34,
   "id": "dcd1b540",
   "metadata": {},
   "outputs": [],
   "source": [
    "keywords = extract_keywords(sentences)"
   ]
  },
  {
   "cell_type": "code",
   "execution_count": 35,
   "id": "055932cf",
   "metadata": {},
   "outputs": [
    {
     "data": {
      "text/plain": [
       "[['android', 'emulator', 'device', 'try', 'wifi'],\n",
       " ['using', 'send', 'email', 'outlook', 'calendar'],\n",
       " ['html', 'python', 'convert', 'image', 'exe'],\n",
       " ['docker', 'keycloak', 'exec', 'install', 'container'],\n",
       " ['error', 'xcode', 'target', 'project', 'lldb']]"
      ]
     },
     "execution_count": 35,
     "metadata": {},
     "output_type": "execute_result"
    }
   ],
   "source": [
    "keywords[0:5]"
   ]
  },
  {
   "cell_type": "code",
   "execution_count": 36,
   "id": "0b4d9203",
   "metadata": {},
   "outputs": [
    {
     "data": {
      "text/plain": [
       "[['android', 'shell', 'configuration', 'adb', 'avd'],\n",
       " ['javascript', 'node.js', 'email', 'calendar', 'outlook'],\n",
       " ['javascript', 'html', 'css', 'visual-studio-2010', 'exe'],\n",
       " ['bash', 'docker', 'shell', 'dockerfile', 'alpine-linux'],\n",
       " ['xcode', 'build', 'compilation', 'include', 'target']]"
      ]
     },
     "execution_count": 36,
     "metadata": {},
     "output_type": "execute_result"
    }
   ],
   "source": [
    "tags_list[0:5]"
   ]
  },
  {
   "cell_type": "markdown",
   "id": "b0ca7557",
   "metadata": {},
   "source": [
    "### Résultats"
   ]
  },
  {
   "cell_type": "code",
   "execution_count": 37,
   "id": "beef28b9",
   "metadata": {},
   "outputs": [
    {
     "data": {
      "image/png": "[encoded data removed]",
      "text/plain": [
       "<Figure size 1000x500 with 2 Axes>"
      ]
     },
     "metadata": {},
     "output_type": "display_data"
    }
   ],
   "source": [
    "plot_similar_tags(tags_list, keywords, 'USE + Cosine Similarity')"
   ]
  },
  {
   "cell_type": "markdown",
   "id": "faa650af",
   "metadata": {},
   "source": [
    "# 2ème approche USE + NN"
   ]
  },
  {
   "cell_type": "code",
   "execution_count": 38,
   "id": "bcf2dab6",
   "metadata": {},
   "outputs": [],
   "source": [
    "module_url = \"https://tfhub.dev/google/universal-sentence-encoder-large/4\""
   ]
  },
  {
   "cell_type": "code",
   "execution_count": 39,
   "id": "751e5ac0",
   "metadata": {},
   "outputs": [
    {
     "name": "stdout",
     "output_type": "stream",
     "text": [
      "WARNING:tensorflow:Please fix your imports. Module tensorflow.python.training.tracking.data_structures has been moved to tensorflow.python.trackable.data_structures. The old module will be deleted in version 2.11.\n"
     ]
    },
    {
     "name": "stderr",
     "output_type": "stream",
     "text": [
      "WARNING:tensorflow:Please fix your imports. Module tensorflow.python.training.tracking.data_structures has been moved to tensorflow.python.trackable.data_structures. The old module will be deleted in version 2.11.\n"
     ]
    }
   ],
   "source": [
    "use_layer = hub.KerasLayer(module_url)"
   ]
  },
  {
   "cell_type": "code",
   "execution_count": 40,
   "id": "9ce077e7",
   "metadata": {},
   "outputs": [],
   "source": [
    "X_train, X_test, y_train, y_test = train_test_split(sentences, tags_mlb, test_size=0.2, random_state=42)"
   ]
  },
  {
   "cell_type": "code",
   "execution_count": 43,
   "id": "90469640",
   "metadata": {},
   "outputs": [],
   "source": [
    "def use_encode(texts, max_len=512):\n",
    "    embeddings = use_layer(texts)['outputs']\n",
    "    return embeddings.numpy()"
   ]
  },
  {
   "cell_type": "code",
   "execution_count": 44,
   "id": "aaf928de",
   "metadata": {},
   "outputs": [],
   "source": [
    "use_train = use_encode(X_train, max_len=100)"
   ]
  },
  {
   "cell_type": "code",
   "execution_count": 47,
   "id": "2f94d3de",
   "metadata": {},
   "outputs": [],
   "source": [
    "use_test = use_encode(X_test, max_len=100)"
   ]
  },
  {
   "cell_type": "code",
   "execution_count": 48,
   "id": "0097e13a",
   "metadata": {},
   "outputs": [],
   "source": [
    "# Define the neural network\n",
    "bert_nn_model = Sequential([\n",
    "    Dense(512, activation='relu', input_shape=(512,)),\n",
    "    BatchNormalization(),\n",
    "    Dropout(0.5),\n",
    "    Dense(256, activation='relu'),\n",
    "    BatchNormalization(),\n",
    "    Dropout(0.5),\n",
    "    Dense(128, activation='relu'),\n",
    "    BatchNormalization(),\n",
    "    Dropout(0.5),\n",
    "    Dense(len(mlb.classes_), activation='sigmoid')\n",
    "])"
   ]
  },
  {
   "cell_type": "code",
   "execution_count": 49,
   "id": "fa4c267b",
   "metadata": {},
   "outputs": [],
   "source": [
    "# Compile the model\n",
    "bert_nn_model.compile(optimizer='adam', loss='binary_crossentropy', metrics=['accuracy'])"
   ]
  },
  {
   "cell_type": "code",
   "execution_count": 50,
   "id": "b335f6cc",
   "metadata": {},
   "outputs": [
    {
     "name": "stdout",
     "output_type": "stream",
     "text": [
      "Epoch 1/200\n",
      "100/100 [==============================] - 1s 5ms/step - loss: 0.6989 - accuracy: 0.0106 - val_loss: 0.4733 - val_accuracy: 0.0000e+00\n",
      "Epoch 2/200\n",
      "100/100 [==============================] - 0s 4ms/step - loss: 0.3472 - accuracy: 0.1384 - val_loss: 0.1098 - val_accuracy: 0.3487\n",
      "Epoch 3/200\n",
      "100/100 [==============================] - 0s 4ms/step - loss: 0.1037 - accuracy: 0.3375 - val_loss: 0.0487 - val_accuracy: 0.3750\n",
      "Epoch 4/200\n",
      "100/100 [==============================] - 0s 4ms/step - loss: 0.0552 - accuracy: 0.3784 - val_loss: 0.0405 - val_accuracy: 0.3738\n",
      "Epoch 5/200\n",
      "100/100 [==============================] - 0s 4ms/step - loss: 0.0447 - accuracy: 0.4094 - val_loss: 0.0366 - val_accuracy: 0.4462\n",
      "Epoch 6/200\n",
      "100/100 [==============================] - 0s 4ms/step - loss: 0.0400 - accuracy: 0.4459 - val_loss: 0.0342 - val_accuracy: 0.4925\n",
      "Epoch 7/200\n",
      "100/100 [==============================] - 0s 4ms/step - loss: 0.0381 - accuracy: 0.4594 - val_loss: 0.0326 - val_accuracy: 0.5337\n",
      "Epoch 8/200\n",
      "100/100 [==============================] - 0s 4ms/step - loss: 0.0365 - accuracy: 0.4756 - val_loss: 0.0316 - val_accuracy: 0.5587\n",
      "Epoch 9/200\n",
      "100/100 [==============================] - 0s 3ms/step - loss: 0.0355 - accuracy: 0.4878 - val_loss: 0.0308 - val_accuracy: 0.5700\n",
      "Epoch 10/200\n",
      "100/100 [==============================] - 0s 4ms/step - loss: 0.0347 - accuracy: 0.4966 - val_loss: 0.0302 - val_accuracy: 0.5875\n",
      "Epoch 11/200\n",
      "100/100 [==============================] - 0s 4ms/step - loss: 0.0338 - accuracy: 0.5088 - val_loss: 0.0296 - val_accuracy: 0.5975\n",
      "Epoch 12/200\n",
      "100/100 [==============================] - 0s 4ms/step - loss: 0.0331 - accuracy: 0.5141 - val_loss: 0.0290 - val_accuracy: 0.6112\n",
      "Epoch 13/200\n",
      "100/100 [==============================] - 0s 4ms/step - loss: 0.0324 - accuracy: 0.5244 - val_loss: 0.0285 - val_accuracy: 0.6087\n",
      "Epoch 14/200\n",
      "100/100 [==============================] - 0s 4ms/step - loss: 0.0319 - accuracy: 0.5334 - val_loss: 0.0281 - val_accuracy: 0.6150\n",
      "Epoch 15/200\n",
      "100/100 [==============================] - 0s 4ms/step - loss: 0.0315 - accuracy: 0.5316 - val_loss: 0.0276 - val_accuracy: 0.6300\n",
      "Epoch 16/200\n",
      "100/100 [==============================] - 0s 4ms/step - loss: 0.0308 - accuracy: 0.5356 - val_loss: 0.0270 - val_accuracy: 0.6237\n",
      "Epoch 17/200\n",
      "100/100 [==============================] - 0s 4ms/step - loss: 0.0304 - accuracy: 0.5453 - val_loss: 0.0267 - val_accuracy: 0.6225\n",
      "Epoch 18/200\n",
      "100/100 [==============================] - 0s 4ms/step - loss: 0.0300 - accuracy: 0.5534 - val_loss: 0.0261 - val_accuracy: 0.6263\n",
      "Epoch 19/200\n",
      "100/100 [==============================] - 0s 4ms/step - loss: 0.0294 - accuracy: 0.5584 - val_loss: 0.0258 - val_accuracy: 0.6237\n",
      "Epoch 20/200\n",
      "100/100 [==============================] - 0s 4ms/step - loss: 0.0293 - accuracy: 0.5509 - val_loss: 0.0254 - val_accuracy: 0.6263\n",
      "Epoch 21/200\n",
      "100/100 [==============================] - 0s 4ms/step - loss: 0.0287 - accuracy: 0.5669 - val_loss: 0.0252 - val_accuracy: 0.6288\n",
      "Epoch 22/200\n",
      "100/100 [==============================] - 0s 4ms/step - loss: 0.0283 - accuracy: 0.5569 - val_loss: 0.0248 - val_accuracy: 0.6325\n",
      "Epoch 23/200\n",
      "100/100 [==============================] - 0s 4ms/step - loss: 0.0280 - accuracy: 0.5600 - val_loss: 0.0245 - val_accuracy: 0.6325\n",
      "Epoch 24/200\n",
      "100/100 [==============================] - 0s 4ms/step - loss: 0.0278 - accuracy: 0.5575 - val_loss: 0.0243 - val_accuracy: 0.6275\n",
      "Epoch 25/200\n",
      "100/100 [==============================] - 0s 4ms/step - loss: 0.0274 - accuracy: 0.5619 - val_loss: 0.0239 - val_accuracy: 0.6325\n",
      "Epoch 26/200\n",
      "100/100 [==============================] - 0s 4ms/step - loss: 0.0270 - accuracy: 0.5703 - val_loss: 0.0236 - val_accuracy: 0.6300\n",
      "Epoch 27/200\n",
      "100/100 [==============================] - 0s 4ms/step - loss: 0.0267 - accuracy: 0.5759 - val_loss: 0.0234 - val_accuracy: 0.6275\n",
      "Epoch 28/200\n",
      "100/100 [==============================] - 0s 4ms/step - loss: 0.0263 - accuracy: 0.5728 - val_loss: 0.0233 - val_accuracy: 0.6338\n",
      "Epoch 29/200\n",
      "100/100 [==============================] - 0s 4ms/step - loss: 0.0262 - accuracy: 0.5653 - val_loss: 0.0230 - val_accuracy: 0.6200\n",
      "Epoch 30/200\n",
      "100/100 [==============================] - 0s 4ms/step - loss: 0.0259 - accuracy: 0.5675 - val_loss: 0.0228 - val_accuracy: 0.6237\n",
      "Epoch 31/200\n",
      "100/100 [==============================] - 0s 4ms/step - loss: 0.0256 - accuracy: 0.5622 - val_loss: 0.0226 - val_accuracy: 0.6237\n",
      "Epoch 32/200\n",
      "100/100 [==============================] - 0s 4ms/step - loss: 0.0253 - accuracy: 0.5641 - val_loss: 0.0224 - val_accuracy: 0.6175\n",
      "Epoch 33/200\n",
      "100/100 [==============================] - 0s 4ms/step - loss: 0.0251 - accuracy: 0.5806 - val_loss: 0.0221 - val_accuracy: 0.6275\n",
      "Epoch 34/200\n",
      "100/100 [==============================] - 0s 4ms/step - loss: 0.0249 - accuracy: 0.5697 - val_loss: 0.0220 - val_accuracy: 0.6162\n",
      "Epoch 35/200\n",
      "100/100 [==============================] - 0s 4ms/step - loss: 0.0249 - accuracy: 0.5675 - val_loss: 0.0218 - val_accuracy: 0.6225\n",
      "Epoch 36/200\n",
      "100/100 [==============================] - 0s 4ms/step - loss: 0.0245 - accuracy: 0.5581 - val_loss: 0.0216 - val_accuracy: 0.6263\n",
      "Epoch 37/200\n",
      "100/100 [==============================] - 0s 4ms/step - loss: 0.0243 - accuracy: 0.5719 - val_loss: 0.0215 - val_accuracy: 0.6225\n",
      "Epoch 38/200\n",
      "100/100 [==============================] - 0s 4ms/step - loss: 0.0241 - accuracy: 0.5678 - val_loss: 0.0213 - val_accuracy: 0.6162\n",
      "Epoch 39/200\n",
      "100/100 [==============================] - 0s 4ms/step - loss: 0.0239 - accuracy: 0.5550 - val_loss: 0.0213 - val_accuracy: 0.6175\n",
      "Epoch 40/200\n",
      "100/100 [==============================] - 0s 4ms/step - loss: 0.0237 - accuracy: 0.5650 - val_loss: 0.0211 - val_accuracy: 0.6212\n",
      "Epoch 41/200\n",
      "100/100 [==============================] - 0s 4ms/step - loss: 0.0237 - accuracy: 0.5584 - val_loss: 0.0210 - val_accuracy: 0.6087\n",
      "Epoch 42/200\n",
      "100/100 [==============================] - 0s 4ms/step - loss: 0.0234 - accuracy: 0.5672 - val_loss: 0.0208 - val_accuracy: 0.6025\n",
      "Epoch 43/200\n",
      "100/100 [==============================] - 0s 4ms/step - loss: 0.0232 - accuracy: 0.5672 - val_loss: 0.0207 - val_accuracy: 0.6125\n",
      "Epoch 44/200\n",
      "100/100 [==============================] - 0s 4ms/step - loss: 0.0229 - accuracy: 0.5581 - val_loss: 0.0206 - val_accuracy: 0.6175\n",
      "Epoch 45/200\n",
      "100/100 [==============================] - 0s 4ms/step - loss: 0.0228 - accuracy: 0.5628 - val_loss: 0.0205 - val_accuracy: 0.5987\n",
      "Epoch 46/200\n",
      "100/100 [==============================] - 0s 4ms/step - loss: 0.0226 - accuracy: 0.5688 - val_loss: 0.0203 - val_accuracy: 0.6125\n",
      "Epoch 47/200\n",
      "100/100 [==============================] - 0s 4ms/step - loss: 0.0225 - accuracy: 0.5594 - val_loss: 0.0202 - val_accuracy: 0.5913\n",
      "Epoch 48/200\n",
      "100/100 [==============================] - 0s 4ms/step - loss: 0.0224 - accuracy: 0.5566 - val_loss: 0.0202 - val_accuracy: 0.6000\n",
      "Epoch 49/200\n",
      "100/100 [==============================] - 0s 4ms/step - loss: 0.0222 - accuracy: 0.5647 - val_loss: 0.0201 - val_accuracy: 0.5850\n",
      "Epoch 50/200\n",
      "100/100 [==============================] - 0s 4ms/step - loss: 0.0222 - accuracy: 0.5631 - val_loss: 0.0201 - val_accuracy: 0.5987\n",
      "Epoch 51/200\n",
      "100/100 [==============================] - 0s 4ms/step - loss: 0.0218 - accuracy: 0.5638 - val_loss: 0.0200 - val_accuracy: 0.5850\n",
      "Epoch 52/200\n",
      "100/100 [==============================] - 0s 4ms/step - loss: 0.0216 - accuracy: 0.5572 - val_loss: 0.0199 - val_accuracy: 0.5875\n",
      "Epoch 53/200\n",
      "100/100 [==============================] - 0s 4ms/step - loss: 0.0217 - accuracy: 0.5553 - val_loss: 0.0199 - val_accuracy: 0.5863\n",
      "Epoch 54/200\n",
      "100/100 [==============================] - 0s 4ms/step - loss: 0.0216 - accuracy: 0.5525 - val_loss: 0.0198 - val_accuracy: 0.5900\n",
      "Epoch 55/200\n",
      "100/100 [==============================] - 0s 4ms/step - loss: 0.0215 - accuracy: 0.5550 - val_loss: 0.0196 - val_accuracy: 0.5987\n",
      "Epoch 56/200\n",
      "100/100 [==============================] - 0s 4ms/step - loss: 0.0212 - accuracy: 0.5519 - val_loss: 0.0196 - val_accuracy: 0.5838\n",
      "Epoch 57/200\n",
      "100/100 [==============================] - 0s 4ms/step - loss: 0.0212 - accuracy: 0.5516 - val_loss: 0.0195 - val_accuracy: 0.5962\n"
     ]
    },
    {
     "name": "stdout",
     "output_type": "stream",
     "text": [
      "Epoch 58/200\n",
      "100/100 [==============================] - 0s 4ms/step - loss: 0.0209 - accuracy: 0.5553 - val_loss: 0.0195 - val_accuracy: 0.6050\n",
      "Epoch 59/200\n",
      "100/100 [==============================] - 0s 4ms/step - loss: 0.0209 - accuracy: 0.5478 - val_loss: 0.0194 - val_accuracy: 0.5788\n",
      "Epoch 60/200\n",
      "100/100 [==============================] - 0s 4ms/step - loss: 0.0208 - accuracy: 0.5503 - val_loss: 0.0194 - val_accuracy: 0.5813\n",
      "Epoch 61/200\n",
      "100/100 [==============================] - 0s 4ms/step - loss: 0.0208 - accuracy: 0.5437 - val_loss: 0.0193 - val_accuracy: 0.5850\n",
      "Epoch 62/200\n",
      "100/100 [==============================] - 0s 4ms/step - loss: 0.0206 - accuracy: 0.5466 - val_loss: 0.0192 - val_accuracy: 0.5875\n",
      "Epoch 63/200\n",
      "100/100 [==============================] - 0s 4ms/step - loss: 0.0206 - accuracy: 0.5516 - val_loss: 0.0192 - val_accuracy: 0.5938\n",
      "Epoch 64/200\n",
      "100/100 [==============================] - 0s 4ms/step - loss: 0.0206 - accuracy: 0.5559 - val_loss: 0.0192 - val_accuracy: 0.5838\n",
      "Epoch 65/200\n",
      "100/100 [==============================] - 0s 4ms/step - loss: 0.0204 - accuracy: 0.5459 - val_loss: 0.0191 - val_accuracy: 0.5625\n",
      "Epoch 66/200\n",
      "100/100 [==============================] - 0s 4ms/step - loss: 0.0202 - accuracy: 0.5328 - val_loss: 0.0191 - val_accuracy: 0.5850\n",
      "Epoch 67/200\n",
      "100/100 [==============================] - 0s 4ms/step - loss: 0.0201 - accuracy: 0.5431 - val_loss: 0.0190 - val_accuracy: 0.5800\n",
      "Epoch 68/200\n",
      "100/100 [==============================] - 0s 4ms/step - loss: 0.0200 - accuracy: 0.5450 - val_loss: 0.0191 - val_accuracy: 0.5813\n",
      "Epoch 69/200\n",
      "100/100 [==============================] - 0s 4ms/step - loss: 0.0200 - accuracy: 0.5484 - val_loss: 0.0190 - val_accuracy: 0.5663\n",
      "Epoch 70/200\n",
      "100/100 [==============================] - 0s 4ms/step - loss: 0.0197 - accuracy: 0.5378 - val_loss: 0.0190 - val_accuracy: 0.5650\n",
      "Epoch 71/200\n",
      "100/100 [==============================] - 0s 4ms/step - loss: 0.0197 - accuracy: 0.5422 - val_loss: 0.0188 - val_accuracy: 0.5700\n",
      "Epoch 72/200\n",
      "100/100 [==============================] - 0s 4ms/step - loss: 0.0196 - accuracy: 0.5434 - val_loss: 0.0188 - val_accuracy: 0.5675\n",
      "Epoch 73/200\n",
      "100/100 [==============================] - 0s 4ms/step - loss: 0.0197 - accuracy: 0.5387 - val_loss: 0.0189 - val_accuracy: 0.5750\n",
      "Epoch 74/200\n",
      "100/100 [==============================] - 0s 4ms/step - loss: 0.0194 - accuracy: 0.5362 - val_loss: 0.0189 - val_accuracy: 0.5900\n",
      "Epoch 75/200\n",
      "100/100 [==============================] - 0s 4ms/step - loss: 0.0194 - accuracy: 0.5444 - val_loss: 0.0189 - val_accuracy: 0.5950\n",
      "Epoch 76/200\n",
      "100/100 [==============================] - 0s 4ms/step - loss: 0.0192 - accuracy: 0.5419 - val_loss: 0.0188 - val_accuracy: 0.5675\n",
      "Epoch 77/200\n",
      "100/100 [==============================] - 0s 4ms/step - loss: 0.0193 - accuracy: 0.5512 - val_loss: 0.0188 - val_accuracy: 0.5700\n",
      "Epoch 78/200\n",
      "100/100 [==============================] - 0s 4ms/step - loss: 0.0190 - accuracy: 0.5331 - val_loss: 0.0188 - val_accuracy: 0.5813\n",
      "Epoch 79/200\n",
      "100/100 [==============================] - 0s 4ms/step - loss: 0.0193 - accuracy: 0.5222 - val_loss: 0.0188 - val_accuracy: 0.5900\n",
      "Epoch 80/200\n",
      "100/100 [==============================] - 0s 4ms/step - loss: 0.0189 - accuracy: 0.5372 - val_loss: 0.0186 - val_accuracy: 0.5775\n",
      "Epoch 81/200\n",
      "100/100 [==============================] - 0s 4ms/step - loss: 0.0190 - accuracy: 0.5347 - val_loss: 0.0187 - val_accuracy: 0.5925\n",
      "Epoch 82/200\n",
      "100/100 [==============================] - 0s 4ms/step - loss: 0.0188 - accuracy: 0.5384 - val_loss: 0.0188 - val_accuracy: 0.6087\n",
      "Epoch 83/200\n",
      "100/100 [==============================] - 0s 4ms/step - loss: 0.0187 - accuracy: 0.5450 - val_loss: 0.0186 - val_accuracy: 0.5750\n",
      "Epoch 84/200\n",
      "100/100 [==============================] - 0s 4ms/step - loss: 0.0187 - accuracy: 0.5450 - val_loss: 0.0186 - val_accuracy: 0.5800\n",
      "Epoch 85/200\n",
      "100/100 [==============================] - 0s 4ms/step - loss: 0.0188 - accuracy: 0.5275 - val_loss: 0.0186 - val_accuracy: 0.5750\n",
      "Epoch 86/200\n",
      "100/100 [==============================] - 0s 4ms/step - loss: 0.0187 - accuracy: 0.5459 - val_loss: 0.0187 - val_accuracy: 0.5763\n",
      "Epoch 87/200\n",
      "100/100 [==============================] - 0s 4ms/step - loss: 0.0186 - accuracy: 0.5453 - val_loss: 0.0187 - val_accuracy: 0.5813\n",
      "Epoch 88/200\n",
      "100/100 [==============================] - 0s 4ms/step - loss: 0.0187 - accuracy: 0.5250 - val_loss: 0.0187 - val_accuracy: 0.5763\n",
      "Epoch 89/200\n",
      "100/100 [==============================] - 0s 4ms/step - loss: 0.0186 - accuracy: 0.5181 - val_loss: 0.0187 - val_accuracy: 0.5700\n",
      "Epoch 90/200\n",
      "100/100 [==============================] - 0s 4ms/step - loss: 0.0185 - accuracy: 0.5309 - val_loss: 0.0186 - val_accuracy: 0.5775\n",
      "Epoch 91/200\n",
      "100/100 [==============================] - 0s 4ms/step - loss: 0.0182 - accuracy: 0.5272 - val_loss: 0.0187 - val_accuracy: 0.5750\n",
      "Epoch 92/200\n",
      "100/100 [==============================] - 0s 4ms/step - loss: 0.0183 - accuracy: 0.5344 - val_loss: 0.0186 - val_accuracy: 0.5612\n",
      "Epoch 93/200\n",
      "100/100 [==============================] - 0s 4ms/step - loss: 0.0183 - accuracy: 0.5356 - val_loss: 0.0186 - val_accuracy: 0.5788\n",
      "Epoch 94/200\n",
      "100/100 [==============================] - 0s 4ms/step - loss: 0.0183 - accuracy: 0.5312 - val_loss: 0.0186 - val_accuracy: 0.5575\n",
      "Epoch 95/200\n",
      "100/100 [==============================] - 0s 4ms/step - loss: 0.0181 - accuracy: 0.5266 - val_loss: 0.0185 - val_accuracy: 0.5638\n",
      "Epoch 96/200\n",
      "100/100 [==============================] - 0s 4ms/step - loss: 0.0182 - accuracy: 0.5234 - val_loss: 0.0184 - val_accuracy: 0.5525\n",
      "Epoch 97/200\n",
      "100/100 [==============================] - 0s 4ms/step - loss: 0.0179 - accuracy: 0.5225 - val_loss: 0.0185 - val_accuracy: 0.5675\n",
      "Epoch 98/200\n",
      "100/100 [==============================] - 0s 4ms/step - loss: 0.0180 - accuracy: 0.5269 - val_loss: 0.0184 - val_accuracy: 0.5550\n",
      "Epoch 99/200\n",
      "100/100 [==============================] - 0s 4ms/step - loss: 0.0179 - accuracy: 0.5194 - val_loss: 0.0185 - val_accuracy: 0.5738\n",
      "Epoch 100/200\n",
      "100/100 [==============================] - 0s 4ms/step - loss: 0.0179 - accuracy: 0.5250 - val_loss: 0.0185 - val_accuracy: 0.5750\n",
      "Epoch 101/200\n",
      "100/100 [==============================] - 0s 4ms/step - loss: 0.0179 - accuracy: 0.5172 - val_loss: 0.0185 - val_accuracy: 0.5838\n",
      "Epoch 102/200\n",
      "100/100 [==============================] - 0s 4ms/step - loss: 0.0176 - accuracy: 0.5366 - val_loss: 0.0184 - val_accuracy: 0.5537\n",
      "Epoch 103/200\n",
      "100/100 [==============================] - 0s 4ms/step - loss: 0.0175 - accuracy: 0.5216 - val_loss: 0.0186 - val_accuracy: 0.5625\n",
      "Epoch 104/200\n",
      "100/100 [==============================] - 0s 4ms/step - loss: 0.0177 - accuracy: 0.5159 - val_loss: 0.0185 - val_accuracy: 0.5750\n",
      "Epoch 105/200\n",
      "100/100 [==============================] - 0s 4ms/step - loss: 0.0176 - accuracy: 0.5306 - val_loss: 0.0182 - val_accuracy: 0.5675\n",
      "Epoch 106/200\n",
      "100/100 [==============================] - 0s 4ms/step - loss: 0.0175 - accuracy: 0.5225 - val_loss: 0.0184 - val_accuracy: 0.5675\n",
      "Epoch 107/200\n",
      "100/100 [==============================] - 0s 4ms/step - loss: 0.0176 - accuracy: 0.5291 - val_loss: 0.0184 - val_accuracy: 0.5663\n",
      "Epoch 108/200\n",
      "100/100 [==============================] - 0s 3ms/step - loss: 0.0175 - accuracy: 0.5197 - val_loss: 0.0184 - val_accuracy: 0.5562\n",
      "Epoch 109/200\n",
      "100/100 [==============================] - 0s 4ms/step - loss: 0.0175 - accuracy: 0.5284 - val_loss: 0.0183 - val_accuracy: 0.5638\n",
      "Epoch 110/200\n",
      "100/100 [==============================] - 0s 4ms/step - loss: 0.0176 - accuracy: 0.5200 - val_loss: 0.0184 - val_accuracy: 0.5575\n",
      "Epoch 111/200\n",
      "100/100 [==============================] - 0s 4ms/step - loss: 0.0173 - accuracy: 0.5159 - val_loss: 0.0184 - val_accuracy: 0.5663\n",
      "Epoch 112/200\n",
      "100/100 [==============================] - 0s 4ms/step - loss: 0.0171 - accuracy: 0.5156 - val_loss: 0.0184 - val_accuracy: 0.5650\n",
      "Epoch 113/200\n",
      "100/100 [==============================] - 0s 4ms/step - loss: 0.0173 - accuracy: 0.5094 - val_loss: 0.0183 - val_accuracy: 0.5412\n",
      "Epoch 114/200\n",
      "100/100 [==============================] - 0s 4ms/step - loss: 0.0171 - accuracy: 0.5159 - val_loss: 0.0183 - val_accuracy: 0.5575\n"
     ]
    },
    {
     "name": "stdout",
     "output_type": "stream",
     "text": [
      "Epoch 115/200\n",
      "100/100 [==============================] - 0s 4ms/step - loss: 0.0170 - accuracy: 0.5078 - val_loss: 0.0185 - val_accuracy: 0.5362\n",
      "Epoch 116/200\n",
      "100/100 [==============================] - 0s 3ms/step - loss: 0.0171 - accuracy: 0.5172 - val_loss: 0.0185 - val_accuracy: 0.5500\n",
      "Epoch 117/200\n",
      "100/100 [==============================] - 0s 3ms/step - loss: 0.0170 - accuracy: 0.5150 - val_loss: 0.0184 - val_accuracy: 0.5688\n",
      "Epoch 118/200\n",
      "100/100 [==============================] - 0s 4ms/step - loss: 0.0169 - accuracy: 0.5144 - val_loss: 0.0185 - val_accuracy: 0.5738\n",
      "Epoch 119/200\n",
      "100/100 [==============================] - 0s 4ms/step - loss: 0.0169 - accuracy: 0.5219 - val_loss: 0.0184 - val_accuracy: 0.5600\n",
      "Epoch 120/200\n",
      "100/100 [==============================] - 0s 4ms/step - loss: 0.0170 - accuracy: 0.5209 - val_loss: 0.0183 - val_accuracy: 0.5350\n",
      "Epoch 121/200\n",
      "100/100 [==============================] - 0s 4ms/step - loss: 0.0168 - accuracy: 0.5253 - val_loss: 0.0183 - val_accuracy: 0.5312\n",
      "Epoch 122/200\n",
      "100/100 [==============================] - 0s 3ms/step - loss: 0.0167 - accuracy: 0.5019 - val_loss: 0.0183 - val_accuracy: 0.5537\n",
      "Epoch 123/200\n",
      "100/100 [==============================] - 0s 4ms/step - loss: 0.0167 - accuracy: 0.5113 - val_loss: 0.0183 - val_accuracy: 0.5500\n",
      "Epoch 124/200\n",
      "100/100 [==============================] - 0s 4ms/step - loss: 0.0169 - accuracy: 0.5150 - val_loss: 0.0185 - val_accuracy: 0.5675\n",
      "Epoch 125/200\n",
      "100/100 [==============================] - 0s 4ms/step - loss: 0.0167 - accuracy: 0.5322 - val_loss: 0.0186 - val_accuracy: 0.5688\n",
      "Epoch 126/200\n",
      "100/100 [==============================] - 0s 4ms/step - loss: 0.0167 - accuracy: 0.5078 - val_loss: 0.0187 - val_accuracy: 0.5612\n",
      "Epoch 127/200\n",
      "100/100 [==============================] - 0s 4ms/step - loss: 0.0167 - accuracy: 0.5081 - val_loss: 0.0185 - val_accuracy: 0.5638\n",
      "Epoch 128/200\n",
      "100/100 [==============================] - 0s 4ms/step - loss: 0.0168 - accuracy: 0.5184 - val_loss: 0.0184 - val_accuracy: 0.5663\n",
      "Epoch 129/200\n",
      "100/100 [==============================] - 0s 4ms/step - loss: 0.0165 - accuracy: 0.5100 - val_loss: 0.0183 - val_accuracy: 0.5400\n",
      "Epoch 130/200\n",
      "100/100 [==============================] - 0s 4ms/step - loss: 0.0164 - accuracy: 0.5134 - val_loss: 0.0183 - val_accuracy: 0.5612\n",
      "Epoch 131/200\n",
      "100/100 [==============================] - 0s 4ms/step - loss: 0.0165 - accuracy: 0.5122 - val_loss: 0.0185 - val_accuracy: 0.5462\n",
      "Epoch 132/200\n",
      "100/100 [==============================] - 0s 4ms/step - loss: 0.0165 - accuracy: 0.5028 - val_loss: 0.0185 - val_accuracy: 0.5387\n",
      "Epoch 133/200\n",
      "100/100 [==============================] - 0s 4ms/step - loss: 0.0165 - accuracy: 0.5228 - val_loss: 0.0185 - val_accuracy: 0.5487\n",
      "Epoch 134/200\n",
      "100/100 [==============================] - 0s 4ms/step - loss: 0.0162 - accuracy: 0.5203 - val_loss: 0.0184 - val_accuracy: 0.5487\n",
      "Epoch 135/200\n",
      "100/100 [==============================] - 0s 4ms/step - loss: 0.0165 - accuracy: 0.5203 - val_loss: 0.0184 - val_accuracy: 0.5337\n",
      "Epoch 136/200\n",
      "100/100 [==============================] - 0s 4ms/step - loss: 0.0164 - accuracy: 0.5069 - val_loss: 0.0184 - val_accuracy: 0.5500\n",
      "Epoch 137/200\n",
      "100/100 [==============================] - 0s 4ms/step - loss: 0.0163 - accuracy: 0.5094 - val_loss: 0.0184 - val_accuracy: 0.5387\n",
      "Epoch 138/200\n",
      "100/100 [==============================] - 0s 4ms/step - loss: 0.0161 - accuracy: 0.4934 - val_loss: 0.0184 - val_accuracy: 0.5462\n",
      "Epoch 139/200\n",
      "100/100 [==============================] - 0s 4ms/step - loss: 0.0161 - accuracy: 0.5184 - val_loss: 0.0183 - val_accuracy: 0.5387\n",
      "Epoch 140/200\n",
      "100/100 [==============================] - 0s 4ms/step - loss: 0.0162 - accuracy: 0.4950 - val_loss: 0.0185 - val_accuracy: 0.5550\n",
      "Epoch 141/200\n",
      "100/100 [==============================] - 0s 3ms/step - loss: 0.0161 - accuracy: 0.5103 - val_loss: 0.0184 - val_accuracy: 0.5300\n",
      "Epoch 142/200\n",
      "100/100 [==============================] - 0s 4ms/step - loss: 0.0162 - accuracy: 0.5028 - val_loss: 0.0185 - val_accuracy: 0.5512\n",
      "Epoch 143/200\n",
      "100/100 [==============================] - 0s 4ms/step - loss: 0.0162 - accuracy: 0.5109 - val_loss: 0.0184 - val_accuracy: 0.5437\n",
      "Epoch 144/200\n",
      "100/100 [==============================] - 0s 4ms/step - loss: 0.0160 - accuracy: 0.5038 - val_loss: 0.0185 - val_accuracy: 0.5550\n",
      "Epoch 145/200\n",
      "100/100 [==============================] - 0s 4ms/step - loss: 0.0160 - accuracy: 0.5134 - val_loss: 0.0184 - val_accuracy: 0.5450\n",
      "Epoch 146/200\n",
      "100/100 [==============================] - 0s 4ms/step - loss: 0.0159 - accuracy: 0.5088 - val_loss: 0.0184 - val_accuracy: 0.5337\n",
      "Epoch 147/200\n",
      "100/100 [==============================] - 0s 4ms/step - loss: 0.0158 - accuracy: 0.5106 - val_loss: 0.0184 - val_accuracy: 0.5425\n",
      "Epoch 148/200\n",
      "100/100 [==============================] - 0s 4ms/step - loss: 0.0159 - accuracy: 0.5047 - val_loss: 0.0185 - val_accuracy: 0.5500\n",
      "Epoch 149/200\n",
      "100/100 [==============================] - 0s 4ms/step - loss: 0.0160 - accuracy: 0.5016 - val_loss: 0.0184 - val_accuracy: 0.5362\n",
      "Epoch 150/200\n",
      "100/100 [==============================] - 0s 3ms/step - loss: 0.0158 - accuracy: 0.5200 - val_loss: 0.0183 - val_accuracy: 0.5487\n",
      "Epoch 151/200\n",
      "100/100 [==============================] - 0s 4ms/step - loss: 0.0159 - accuracy: 0.4984 - val_loss: 0.0184 - val_accuracy: 0.5337\n",
      "Epoch 152/200\n",
      "100/100 [==============================] - 0s 4ms/step - loss: 0.0157 - accuracy: 0.5041 - val_loss: 0.0184 - val_accuracy: 0.5587\n",
      "Epoch 153/200\n",
      "100/100 [==============================] - 0s 4ms/step - loss: 0.0158 - accuracy: 0.5013 - val_loss: 0.0184 - val_accuracy: 0.5362\n",
      "Epoch 154/200\n",
      "100/100 [==============================] - 0s 4ms/step - loss: 0.0158 - accuracy: 0.5219 - val_loss: 0.0185 - val_accuracy: 0.5387\n",
      "Epoch 155/200\n",
      "100/100 [==============================] - 0s 4ms/step - loss: 0.0158 - accuracy: 0.5147 - val_loss: 0.0184 - val_accuracy: 0.5375\n",
      "Epoch 156/200\n",
      "100/100 [==============================] - 0s 4ms/step - loss: 0.0154 - accuracy: 0.5075 - val_loss: 0.0183 - val_accuracy: 0.5512\n",
      "Epoch 157/200\n",
      "100/100 [==============================] - 0s 4ms/step - loss: 0.0157 - accuracy: 0.4931 - val_loss: 0.0185 - val_accuracy: 0.5362\n",
      "Epoch 158/200\n",
      "100/100 [==============================] - 0s 4ms/step - loss: 0.0159 - accuracy: 0.5150 - val_loss: 0.0186 - val_accuracy: 0.5312\n",
      "Epoch 159/200\n",
      "100/100 [==============================] - 0s 4ms/step - loss: 0.0156 - accuracy: 0.5053 - val_loss: 0.0185 - val_accuracy: 0.5250\n",
      "Epoch 160/200\n",
      "100/100 [==============================] - 0s 4ms/step - loss: 0.0156 - accuracy: 0.4941 - val_loss: 0.0183 - val_accuracy: 0.5200\n",
      "Epoch 161/200\n",
      "100/100 [==============================] - 0s 4ms/step - loss: 0.0154 - accuracy: 0.4825 - val_loss: 0.0184 - val_accuracy: 0.5400\n",
      "Epoch 162/200\n",
      "100/100 [==============================] - 0s 4ms/step - loss: 0.0155 - accuracy: 0.5094 - val_loss: 0.0185 - val_accuracy: 0.5350\n",
      "Epoch 163/200\n",
      "100/100 [==============================] - 0s 4ms/step - loss: 0.0156 - accuracy: 0.5047 - val_loss: 0.0183 - val_accuracy: 0.5400\n",
      "Epoch 164/200\n",
      "100/100 [==============================] - 0s 4ms/step - loss: 0.0153 - accuracy: 0.4941 - val_loss: 0.0184 - val_accuracy: 0.5337\n",
      "Epoch 165/200\n",
      "100/100 [==============================] - 0s 4ms/step - loss: 0.0155 - accuracy: 0.5134 - val_loss: 0.0186 - val_accuracy: 0.5325\n",
      "Epoch 166/200\n",
      "100/100 [==============================] - 0s 4ms/step - loss: 0.0154 - accuracy: 0.4853 - val_loss: 0.0184 - val_accuracy: 0.5163\n",
      "Epoch 167/200\n",
      "100/100 [==============================] - 0s 4ms/step - loss: 0.0155 - accuracy: 0.5006 - val_loss: 0.0184 - val_accuracy: 0.5350\n",
      "Epoch 168/200\n",
      "100/100 [==============================] - 0s 4ms/step - loss: 0.0153 - accuracy: 0.5081 - val_loss: 0.0184 - val_accuracy: 0.5238\n",
      "Epoch 169/200\n",
      "100/100 [==============================] - 0s 4ms/step - loss: 0.0154 - accuracy: 0.5100 - val_loss: 0.0184 - val_accuracy: 0.5213\n",
      "Epoch 170/200\n",
      "100/100 [==============================] - 0s 4ms/step - loss: 0.0154 - accuracy: 0.5059 - val_loss: 0.0185 - val_accuracy: 0.5138\n",
      "Epoch 171/200\n"
     ]
    },
    {
     "name": "stdout",
     "output_type": "stream",
     "text": [
      "100/100 [==============================] - 0s 4ms/step - loss: 0.0153 - accuracy: 0.5113 - val_loss: 0.0185 - val_accuracy: 0.5100\n",
      "Epoch 172/200\n",
      "100/100 [==============================] - 0s 4ms/step - loss: 0.0154 - accuracy: 0.4878 - val_loss: 0.0186 - val_accuracy: 0.5250\n",
      "Epoch 173/200\n",
      "100/100 [==============================] - 0s 4ms/step - loss: 0.0151 - accuracy: 0.5088 - val_loss: 0.0185 - val_accuracy: 0.5288\n",
      "Epoch 174/200\n",
      "100/100 [==============================] - 0s 4ms/step - loss: 0.0153 - accuracy: 0.4988 - val_loss: 0.0186 - val_accuracy: 0.5400\n",
      "Epoch 175/200\n",
      "100/100 [==============================] - 0s 4ms/step - loss: 0.0152 - accuracy: 0.5175 - val_loss: 0.0185 - val_accuracy: 0.5325\n",
      "Epoch 176/200\n",
      "100/100 [==============================] - 0s 4ms/step - loss: 0.0149 - accuracy: 0.5103 - val_loss: 0.0185 - val_accuracy: 0.5462\n",
      "Epoch 177/200\n",
      "100/100 [==============================] - 0s 4ms/step - loss: 0.0152 - accuracy: 0.4947 - val_loss: 0.0186 - val_accuracy: 0.5500\n",
      "Epoch 178/200\n",
      "100/100 [==============================] - 0s 4ms/step - loss: 0.0151 - accuracy: 0.5016 - val_loss: 0.0186 - val_accuracy: 0.5400\n",
      "Epoch 179/200\n",
      "100/100 [==============================] - 0s 4ms/step - loss: 0.0153 - accuracy: 0.4978 - val_loss: 0.0187 - val_accuracy: 0.5238\n",
      "Epoch 180/200\n",
      "100/100 [==============================] - 0s 4ms/step - loss: 0.0151 - accuracy: 0.4969 - val_loss: 0.0186 - val_accuracy: 0.5238\n",
      "Epoch 181/200\n",
      "100/100 [==============================] - 0s 4ms/step - loss: 0.0150 - accuracy: 0.5038 - val_loss: 0.0185 - val_accuracy: 0.5288\n",
      "Epoch 182/200\n",
      "100/100 [==============================] - 0s 4ms/step - loss: 0.0150 - accuracy: 0.4969 - val_loss: 0.0185 - val_accuracy: 0.5175\n",
      "Epoch 183/200\n",
      "100/100 [==============================] - 0s 4ms/step - loss: 0.0151 - accuracy: 0.5044 - val_loss: 0.0186 - val_accuracy: 0.5325\n",
      "Epoch 184/200\n",
      "100/100 [==============================] - 0s 4ms/step - loss: 0.0150 - accuracy: 0.4903 - val_loss: 0.0187 - val_accuracy: 0.5275\n",
      "Epoch 185/200\n",
      "100/100 [==============================] - 0s 4ms/step - loss: 0.0149 - accuracy: 0.5091 - val_loss: 0.0186 - val_accuracy: 0.5375\n",
      "Epoch 186/200\n",
      "100/100 [==============================] - 0s 4ms/step - loss: 0.0149 - accuracy: 0.5075 - val_loss: 0.0186 - val_accuracy: 0.5288\n",
      "Epoch 187/200\n",
      "100/100 [==============================] - 0s 4ms/step - loss: 0.0151 - accuracy: 0.4963 - val_loss: 0.0187 - val_accuracy: 0.5375\n",
      "Epoch 188/200\n",
      "100/100 [==============================] - 0s 4ms/step - loss: 0.0149 - accuracy: 0.5056 - val_loss: 0.0185 - val_accuracy: 0.5300\n",
      "Epoch 189/200\n",
      "100/100 [==============================] - 0s 4ms/step - loss: 0.0150 - accuracy: 0.4909 - val_loss: 0.0186 - val_accuracy: 0.5325\n",
      "Epoch 190/200\n",
      "100/100 [==============================] - 0s 4ms/step - loss: 0.0148 - accuracy: 0.5072 - val_loss: 0.0187 - val_accuracy: 0.5312\n",
      "Epoch 191/200\n",
      "100/100 [==============================] - 0s 4ms/step - loss: 0.0150 - accuracy: 0.5069 - val_loss: 0.0189 - val_accuracy: 0.5188\n",
      "Epoch 192/200\n",
      "100/100 [==============================] - 0s 4ms/step - loss: 0.0149 - accuracy: 0.4988 - val_loss: 0.0186 - val_accuracy: 0.5125\n",
      "Epoch 193/200\n",
      "100/100 [==============================] - 0s 4ms/step - loss: 0.0149 - accuracy: 0.4991 - val_loss: 0.0187 - val_accuracy: 0.5263\n",
      "Epoch 194/200\n",
      "100/100 [==============================] - 0s 3ms/step - loss: 0.0147 - accuracy: 0.5103 - val_loss: 0.0184 - val_accuracy: 0.5113\n",
      "Epoch 195/200\n",
      "100/100 [==============================] - 0s 4ms/step - loss: 0.0146 - accuracy: 0.5000 - val_loss: 0.0187 - val_accuracy: 0.5213\n",
      "Epoch 196/200\n",
      "100/100 [==============================] - 0s 4ms/step - loss: 0.0147 - accuracy: 0.4900 - val_loss: 0.0186 - val_accuracy: 0.5375\n",
      "Epoch 197/200\n",
      "100/100 [==============================] - 0s 3ms/step - loss: 0.0148 - accuracy: 0.5013 - val_loss: 0.0186 - val_accuracy: 0.5250\n",
      "Epoch 198/200\n",
      "100/100 [==============================] - 0s 4ms/step - loss: 0.0146 - accuracy: 0.4975 - val_loss: 0.0187 - val_accuracy: 0.5238\n",
      "Epoch 199/200\n",
      "100/100 [==============================] - 0s 3ms/step - loss: 0.0147 - accuracy: 0.4950 - val_loss: 0.0186 - val_accuracy: 0.5163\n",
      "Epoch 200/200\n",
      "100/100 [==============================] - 0s 3ms/step - loss: 0.0146 - accuracy: 0.4969 - val_loss: 0.0186 - val_accuracy: 0.5188\n"
     ]
    }
   ],
   "source": [
    "# Train the model and store the history object\n",
    "history = bert_nn_model.fit(use_train, y_train, verbose=1, \n",
    "                            epochs=200, batch_size=32, \n",
    "                            validation_data=(use_test, y_test))"
   ]
  },
  {
   "cell_type": "code",
   "execution_count": 51,
   "id": "77b0dbd3",
   "metadata": {},
   "outputs": [],
   "source": [
    "def plot_epochs(history):\n",
    "    fig, ax = plt.subplots(1, 2, figsize=(12, 5))\n",
    "    \n",
    "    ax[0].plot(history.history['accuracy'])\n",
    "    ax[0].plot(history.history['val_accuracy'])\n",
    "    ax[0].set_title('Model accuracy')\n",
    "    ax[0].set_ylabel('Accuracy')\n",
    "    ax[0].set_xlabel('Epoch')\n",
    "    ax[0].legend(['Train', 'Validation'], loc='lower right')\n",
    "    \n",
    "    ax[1].plot(history.history['loss'])\n",
    "    ax[1].plot(history.history['val_loss'])\n",
    "    ax[1].set_title('Model loss')\n",
    "    ax[1].set_ylabel('Loss')\n",
    "    ax[1].set_xlabel('Epoch')\n",
    "    ax[1].legend(['Train', 'Validation'], loc='upper right')\n",
    "    \n",
    "    plt.show()"
   ]
  },
  {
   "cell_type": "code",
   "execution_count": 52,
   "id": "86a61cb5",
   "metadata": {},
   "outputs": [
    {
     "data": {
      "image/png": "[encoded data removed]",
      "text/plain": [
       "<Figure size 1200x500 with 2 Axes>"
      ]
     },
     "metadata": {},
     "output_type": "display_data"
    }
   ],
   "source": [
    "plot_epochs(history)"
   ]
  },
  {
   "cell_type": "code",
   "execution_count": 53,
   "id": "9f52153e",
   "metadata": {},
   "outputs": [
    {
     "name": "stdout",
     "output_type": "stream",
     "text": [
      "25/25 [==============================] - 0s 1ms/step\n"
     ]
    }
   ],
   "source": [
    "# Use the trained model to predict the tags for each sentence\n",
    "pred_probs = bert_nn_model.predict(use_test)"
   ]
  },
  {
   "cell_type": "code",
   "execution_count": 54,
   "id": "d1599cbf",
   "metadata": {},
   "outputs": [],
   "source": [
    "# Find the top 5 tags for each sentence\n",
    "pred_tags = []\n",
    "for sentence_probs in pred_probs:\n",
    "    top_indexes = sentence_probs.argsort()[-5:][::-1]\n",
    "    pred_tags.append([mlb.classes_[i] for i in top_indexes])"
   ]
  },
  {
   "cell_type": "code",
   "execution_count": 55,
   "id": "3c197d9d",
   "metadata": {},
   "outputs": [
    {
     "data": {
      "text/plain": [
       "[['html', 'javascript', 'jquery', 'css', 'input'],\n",
       " ['haskell', 'scala', 'c#', 'list', 'java'],\n",
       " ['video', 'html', 'javascript', 'api', 'audio'],\n",
       " ['android', 'image', 'imageview', 'java', 'view'],\n",
       " ['python', 'c++', 'boost', 'c', 'gcc']]"
      ]
     },
     "execution_count": 55,
     "metadata": {},
     "output_type": "execute_result"
    }
   ],
   "source": [
    "pred_tags[0:5]"
   ]
  },
  {
   "cell_type": "code",
   "execution_count": 56,
   "id": "78ef493d",
   "metadata": {},
   "outputs": [
    {
     "data": {
      "text/plain": [
       "[('javascript', 'html', 'jquery', 'input'),\n",
       " ('interface', 'haskell'),\n",
       " ('javascript', 'html', 'api', 'video'),\n",
       " ('android', 'image', 'screen', 'imageview', 'bitmap'),\n",
       " ('python', 'c++', 'python-3.x', 'boost')]"
      ]
     },
     "execution_count": 56,
     "metadata": {},
     "output_type": "execute_result"
    }
   ],
   "source": [
    "true_tags_ = mlb.inverse_transform(y_test)\n",
    "true_tags_[0:5]"
   ]
  },
  {
   "cell_type": "code",
   "execution_count": null,
   "id": "1825ced4",
   "metadata": {},
   "outputs": [],
   "source": []
  },
  {
   "cell_type": "code",
   "execution_count": 57,
   "id": "96206009",
   "metadata": {},
   "outputs": [
    {
     "data": {
      "image/png": "[encoded data removed]",
      "text/plain": [
       "<Figure size 1000x500 with 2 Axes>"
      ]
     },
     "metadata": {},
     "output_type": "display_data"
    }
   ],
   "source": [
    "plot_similar_tags(true_tags_, pred_tags, 'USE + NN')"
   ]
  },
  {
   "cell_type": "markdown",
   "id": "411a190d",
   "metadata": {},
   "source": [
    "## <font color=\"#114b98\" id=\"section_7\">7. Choix du modèle pour le code final à déployer</font>"
   ]
  },
  {
   "cell_type": "markdown",
   "id": "2c244176",
   "metadata": {},
   "source": [
    "Nous allons maintenant comparer les différents modèles à l'aide de leurs résultats sur le dataset de tests."
   ]
  },
  {
   "cell_type": "code",
   "execution_count": null,
   "id": "01bf14c5",
   "metadata": {},
   "outputs": [],
   "source": []
  },
  {
   "cell_type": "code",
   "execution_count": null,
   "id": "f589e1a0",
   "metadata": {},
   "outputs": [],
   "source": []
  },
  {
   "cell_type": "code",
   "execution_count": null,
   "id": "8f2a91f5",
   "metadata": {},
   "outputs": [],
   "source": []
  },
  {
   "cell_type": "code",
   "execution_count": null,
   "id": "6f5b2567",
   "metadata": {},
   "outputs": [],
   "source": []
  },
  {
   "cell_type": "code",
   "execution_count": null,
   "id": "aa35568c",
   "metadata": {},
   "outputs": [],
   "source": []
  },
  {
   "cell_type": "code",
   "execution_count": null,
   "id": "f643ec06",
   "metadata": {},
   "outputs": [],
   "source": []
  },
  {
   "cell_type": "code",
   "execution_count": null,
   "id": "ca872b56",
   "metadata": {},
   "outputs": [],
   "source": []
  }
 ],
 "metadata": {
  "kernelspec": {
   "display_name": "Python 3 (ipykernel)",
   "language": "python",
   "name": "python3"
  },
  "language_info": {
   "codemirror_mode": {
    "name": "ipython",
    "version": 3
   },
   "file_extension": ".py",
   "mimetype": "text/x-python",
   "name": "python",
   "nbconvert_exporter": "python",
   "pygments_lexer": "ipython3",
   "version": "3.9.13"
  }
 },
 "nbformat": 4,
 "nbformat_minor": 5
}
