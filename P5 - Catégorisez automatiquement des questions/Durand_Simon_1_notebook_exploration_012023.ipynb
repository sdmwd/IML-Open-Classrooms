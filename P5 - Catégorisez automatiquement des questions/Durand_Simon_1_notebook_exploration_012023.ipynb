{
 "cells": [
  {
   "cell_type": "markdown",
   "id": "40f0222a",
   "metadata": {},
   "source": [
    "# <font color=\"#114b98\">Catégorisez automatiquement des questions</font>"
   ]
  },
  {
   "cell_type": "markdown",
   "id": "5815ab77",
   "metadata": {},
   "source": [
    "## <font color=\"#114b98\">Notebook d'analyse exploratoire</font>"
   ]
  },
  {
   "cell_type": "markdown",
   "id": "06fb1151",
   "metadata": {},
   "source": [
    "**Stack Overflow** est un site célèbre de questions-réponses liées au développement informatique."
   ]
  },
  {
   "cell_type": "markdown",
   "id": "47d05297",
   "metadata": {},
   "source": [
    "L'objectif de ce projet est de développer un système de **suggestion de tags** pour ce site. Celui-ci prendra la forme d’un algorithme de machine learning qui assignera automatiquement plusieurs tags pertinents à une question."
   ]
  },
  {
   "cell_type": "markdown",
   "id": "cb25dcf2",
   "metadata": {},
   "source": [
    "**Livrable** : Un notebook d’exploration comprenant une analyse univariée, une analyse multivariée, une réduction dimensionnelle et les différentes questions de recherche associées (non cleané, pour comprendre votre démarche)."
   ]
  },
  {
   "cell_type": "markdown",
   "id": "3378bec4",
   "metadata": {},
   "source": [
    "## <font color=\"#114b98\">Sommaire</font>\n",
    "[1. Chargement des jeux de données](#section_1)\n",
    "\n",
    "[2. Analyse univariée](#section_2)  \n",
    "\n",
    "[3. Analyse multivariée](#section_3)  \n",
    "\n",
    "[4. Nettoyage de la colonne 'Tags'](#section_4)  \n",
    "\n",
    "[5. Nettoyage de la colonne 'Text'](#section_5)  "
   ]
  },
  {
   "cell_type": "markdown",
   "id": "37fb45a8",
   "metadata": {},
   "source": [
    "## <font color=\"#114b98\" id=\"section_1\">1. Chargement des jeux de données</font>"
   ]
  },
  {
   "cell_type": "code",
   "execution_count": 1,
   "id": "cbf8947d",
   "metadata": {},
   "outputs": [],
   "source": [
    "import pandas as pd\n",
    "import numpy as np\n",
    "import matplotlib.pyplot as plt\n",
    "import seaborn as sns\n",
    "import datetime as dt\n",
    "import os\n",
    "import warnings\n",
    "warnings.filterwarnings('ignore', category=DeprecationWarning)\n",
    "%matplotlib inline"
   ]
  },
  {
   "cell_type": "code",
   "execution_count": 2,
   "id": "54536da8",
   "metadata": {},
   "outputs": [
    {
     "name": "stderr",
     "output_type": "stream",
     "text": [
      "[nltk_data] Downloading package omw-1.4 to\n",
      "[nltk_data]     C:\\Users\\simon\\AppData\\Roaming\\nltk_data...\n",
      "[nltk_data]   Package omw-1.4 is already up-to-date!\n",
      "[nltk_data] Downloading package stopwords to\n",
      "[nltk_data]     C:\\Users\\simon\\AppData\\Roaming\\nltk_data...\n",
      "[nltk_data]   Package stopwords is already up-to-date!\n",
      "[nltk_data] Downloading package punkt to\n",
      "[nltk_data]     C:\\Users\\simon\\AppData\\Roaming\\nltk_data...\n",
      "[nltk_data]   Package punkt is already up-to-date!\n",
      "[nltk_data] Downloading package averaged_perceptron_tagger to\n",
      "[nltk_data]     C:\\Users\\simon\\AppData\\Roaming\\nltk_data...\n",
      "[nltk_data]   Package averaged_perceptron_tagger is already up-to-\n",
      "[nltk_data]       date!\n"
     ]
    },
    {
     "data": {
      "text/plain": [
       "<spacy.lang.en.English at 0x1bf2c3df5b0>"
      ]
     },
     "execution_count": 2,
     "metadata": {},
     "output_type": "execute_result"
    }
   ],
   "source": [
    "import lxml\n",
    "import html5lib\n",
    "import re\n",
    "from bs4 import BeautifulSoup\n",
    "from collections import Counter\n",
    "from wordcloud import WordCloud\n",
    "from nltk.corpus import stopwords\n",
    "from nltk.tokenize import word_tokenize\n",
    "from typing import List\n",
    "import nltk\n",
    "nltk.download('omw-1.4')\n",
    "nltk.download('stopwords')\n",
    "nltk.download('punkt')\n",
    "from nltk import pos_tag\n",
    "nltk.download('averaged_perceptron_tagger')\n",
    "from nltk.stem import WordNetLemmatizer\n",
    "import gensim\n",
    "from gensim.parsing.preprocessing import STOPWORDS\n",
    "import spacy\n",
    "spacy.load('en_core_web_sm')"
   ]
  },
  {
   "cell_type": "code",
   "execution_count": 3,
   "id": "3e80c817",
   "metadata": {},
   "outputs": [],
   "source": [
    "# %load_ext pycodestyle_magic\n",
    "# %pycodestyle_on"
   ]
  },
  {
   "cell_type": "code",
   "execution_count": 4,
   "id": "5b0ed41f",
   "metadata": {},
   "outputs": [],
   "source": [
    "plt.rc('axes', titlesize=22)\n",
    "plt.rc('axes', labelsize=18)\n",
    "titleprops = {'fontsize':20}\n",
    "textprops = {'fontsize':15}\n",
    "plt.style.use('ggplot')"
   ]
  },
  {
   "cell_type": "markdown",
   "id": "6c025965",
   "metadata": {},
   "source": [
    "J'ai tout d'abord réalisé la requête SQL suivante sur \"StackExchange Data Explorer\" afin de récuperer les données.\n",
    "https://data.stackexchange.com/stackoverflow/query/"
   ]
  },
  {
   "attachments": {
    "requete.png": {
     "image/png": "[encoded data removed]"
    }
   },
   "cell_type": "markdown",
   "id": "66d2102a",
   "metadata": {},
   "source": [
    "![requete.png](attachment:requete.png)"
   ]
  },
  {
   "cell_type": "markdown",
   "id": "41f3fdf0",
   "metadata": {},
   "source": [
    "Je recevais 50000 réponses, ce qui est le maximum possible par requête sur ce site.\n",
    "\n",
    "J'ai donc décidé de réaliser plusieurs requêtes avec des intervalles de temps de deux ans."
   ]
  },
  {
   "cell_type": "code",
   "execution_count": 5,
   "id": "1b96f07d",
   "metadata": {},
   "outputs": [
    {
     "ename": "FileNotFoundError",
     "evalue": "[WinError 3] Le chemin d’accès spécifié est introuvable: 'N:/5 - WORK/1 - Projets/Projet 5/ressources/'",
     "output_type": "error",
     "traceback": [
      "\u001b[1;31m---------------------------------------------------------------------------\u001b[0m",
      "\u001b[1;31mFileNotFoundError\u001b[0m                         Traceback (most recent call last)",
      "\u001b[1;32m~\\AppData\\Local\\Temp\\ipykernel_11072\\2423793604.py\u001b[0m in \u001b[0;36m<module>\u001b[1;34m\u001b[0m\n\u001b[0;32m      1\u001b[0m \u001b[0mmain_path\u001b[0m \u001b[1;33m=\u001b[0m \u001b[1;34m'N:/5 - WORK/1 - Projets/Projet 5/'\u001b[0m\u001b[1;33m\u001b[0m\u001b[1;33m\u001b[0m\u001b[0m\n\u001b[1;32m----> 2\u001b[1;33m \u001b[0mfiles\u001b[0m \u001b[1;33m=\u001b[0m \u001b[0mos\u001b[0m\u001b[1;33m.\u001b[0m\u001b[0mlistdir\u001b[0m\u001b[1;33m(\u001b[0m\u001b[0mmain_path\u001b[0m\u001b[1;33m+\u001b[0m\u001b[1;34m'ressources/'\u001b[0m\u001b[1;33m)\u001b[0m\u001b[1;33m\u001b[0m\u001b[1;33m\u001b[0m\u001b[0m\n\u001b[0m\u001b[0;32m      3\u001b[0m \u001b[0mfiles\u001b[0m\u001b[1;33m\u001b[0m\u001b[1;33m\u001b[0m\u001b[0m\n",
      "\u001b[1;31mFileNotFoundError\u001b[0m: [WinError 3] Le chemin d’accès spécifié est introuvable: 'N:/5 - WORK/1 - Projets/Projet 5/ressources/'"
     ]
    }
   ],
   "source": [
    "main_path = 'N:/5 - WORK/1 - Projets/Projet 5/'\n",
    "files = os.listdir(main_path+'ressources/')\n",
    "files"
   ]
  },
  {
   "cell_type": "markdown",
   "id": "cfe34d57",
   "metadata": {},
   "source": [
    "Nous avons à notre disposition 7 jeux de données."
   ]
  },
  {
   "cell_type": "markdown",
   "id": "5c2519e0",
   "metadata": {},
   "source": [
    "Je crée un dictionnaire dans lequel je range les noms des jeux de données en clefs et leurs contenus dans les valeurs."
   ]
  },
  {
   "cell_type": "code",
   "execution_count": null,
   "id": "9a251077",
   "metadata": {},
   "outputs": [],
   "source": [
    "%%time\n",
    "datasets = {}\n",
    "for i, filename in enumerate(files):\n",
    "    datasets[i] = pd.read_csv(main_path+'ressources/'+filename, \n",
    "                              parse_dates=['CreationDate'],\n",
    "                              na_values = 'NaN')"
   ]
  },
  {
   "cell_type": "code",
   "execution_count": null,
   "id": "8f2d8495",
   "metadata": {},
   "outputs": [],
   "source": [
    "data = pd.DataFrame()"
   ]
  },
  {
   "cell_type": "code",
   "execution_count": null,
   "id": "33ebf243",
   "metadata": {},
   "outputs": [],
   "source": [
    "for n in range(len(datasets)):\n",
    "    data = pd.concat([data, datasets[n]])"
   ]
  },
  {
   "cell_type": "code",
   "execution_count": null,
   "id": "dd5074ef",
   "metadata": {},
   "outputs": [],
   "source": [
    "data.shape"
   ]
  },
  {
   "cell_type": "code",
   "execution_count": null,
   "id": "66b1aa42",
   "metadata": {},
   "outputs": [],
   "source": [
    "data.head()"
   ]
  },
  {
   "cell_type": "markdown",
   "id": "208c6edb",
   "metadata": {},
   "source": [
    "Je crée une nouvelle variable \"Text\" dans laquelle je joins les données des variables \"Titre\" et \"Body\"."
   ]
  },
  {
   "cell_type": "code",
   "execution_count": null,
   "id": "42189ea0",
   "metadata": {},
   "outputs": [],
   "source": [
    "data['Texts'] = data.apply(lambda x: x['Title'] + ' ' + x['Body'] if x['Title'] == x['Title'] else x['Body'], axis=1)"
   ]
  },
  {
   "cell_type": "code",
   "execution_count": null,
   "id": "6d35cab5",
   "metadata": {},
   "outputs": [],
   "source": [
    "pd.set_option('display.max_column', 10)"
   ]
  },
  {
   "cell_type": "code",
   "execution_count": null,
   "id": "05b0eb1e",
   "metadata": {},
   "outputs": [],
   "source": [
    "data.info()"
   ]
  },
  {
   "cell_type": "code",
   "execution_count": null,
   "id": "e2ef54ac",
   "metadata": {},
   "outputs": [],
   "source": [
    "data.duplicated().sum()"
   ]
  },
  {
   "cell_type": "code",
   "execution_count": null,
   "id": "2595a0ba",
   "metadata": {},
   "outputs": [],
   "source": [
    "data.isna().sum()"
   ]
  },
  {
   "cell_type": "code",
   "execution_count": null,
   "id": "4b7f1bb1",
   "metadata": {},
   "outputs": [],
   "source": [
    "data.reset_index(inplace=True, drop=True)"
   ]
  },
  {
   "cell_type": "markdown",
   "id": "8ef2b074",
   "metadata": {},
   "source": [
    "## <font color=\"#114b98\" id=\"section_2\">2. Analyse univariée</font>"
   ]
  },
  {
   "cell_type": "code",
   "execution_count": null,
   "id": "737c35e0",
   "metadata": {},
   "outputs": [],
   "source": [
    "questions_per_day = data['CreationDate'].dt.date.value_counts()"
   ]
  },
  {
   "cell_type": "code",
   "execution_count": null,
   "id": "81af1df0",
   "metadata": {},
   "outputs": [],
   "source": [
    "fig = plt.figure(figsize=(20, 12))\n",
    "sns.lineplot(data=questions_per_day,\n",
    "             x=questions_per_day.index,\n",
    "             y=questions_per_day.values)\n",
    "plt.xlabel(\"Date\")\n",
    "plt.ylabel(\"Nombre de questions\")\n",
    "plt.title(\"Nombre de questions par jour\")\n",
    "\n",
    "plt.show()"
   ]
  },
  {
   "cell_type": "markdown",
   "id": "ceb7f1fa",
   "metadata": {},
   "source": [
    "La tendance globale à la baisse est logique. Je me suis limité aux questions qui ont des réponses et un bon score. "
   ]
  },
  {
   "cell_type": "markdown",
   "id": "b8286716",
   "metadata": {},
   "source": [
    "Plus une question est ancienne, plus elle a eu le temps d'être lue, commentée, et de recevoir un score positif si elle le mérite."
   ]
  },
  {
   "cell_type": "code",
   "execution_count": null,
   "id": "6fe1af9f",
   "metadata": {},
   "outputs": [],
   "source": [
    "data[\"CreationDate_year\"] = data[\"CreationDate\"].map(lambda y: y.year)"
   ]
  },
  {
   "cell_type": "code",
   "execution_count": null,
   "id": "8960c127",
   "metadata": {},
   "outputs": [],
   "source": [
    "questions_per_year = data[\"CreationDate_year\"].value_counts()"
   ]
  },
  {
   "cell_type": "code",
   "execution_count": null,
   "id": "9b0edae0",
   "metadata": {},
   "outputs": [],
   "source": [
    "fig = plt.figure(figsize=(16, 8))\n",
    "sns.barplot(x=questions_per_year.index, y=questions_per_year.values)\n",
    "plt.title(\"Nombre de questions par année\")\n",
    "plt.xlabel(\"Année\")\n",
    "plt.xticks(rotation=90)\n",
    "plt.ylabel(\"Nombre de questions\")\n",
    "plt.show()"
   ]
  },
  {
   "cell_type": "code",
   "execution_count": null,
   "id": "1a29a3b0",
   "metadata": {},
   "outputs": [],
   "source": [
    "data[\"CreationDate_month\"] = data[\"CreationDate\"].map(lambda m: m.month)"
   ]
  },
  {
   "cell_type": "code",
   "execution_count": null,
   "id": "45bdc70c",
   "metadata": {},
   "outputs": [],
   "source": [
    "fig = plt.figure(figsize=(20, 4))\n",
    "plt.title('Boxplot des scores',\n",
    "          titleprops)\n",
    "sns.boxplot(data=data, x=\"Score\", showfliers=False)\n",
    "\n",
    "plt.show()"
   ]
  },
  {
   "cell_type": "code",
   "execution_count": null,
   "id": "babef52c",
   "metadata": {},
   "outputs": [],
   "source": [
    "fig = plt.figure(figsize=(20, 4))\n",
    "plt.title('Boxplot du nombre de vues',\n",
    "          titleprops)\n",
    "sns.boxplot(data=data, x=\"ViewCount\", showfliers=False)\n",
    "\n",
    "plt.show()"
   ]
  },
  {
   "cell_type": "code",
   "execution_count": null,
   "id": "74cb8d20",
   "metadata": {},
   "outputs": [],
   "source": [
    "fig = plt.figure(figsize=(20, 4))\n",
    "plt.title('Boxplot du nombre de réponses',\n",
    "          titleprops)\n",
    "sns.boxplot(data=data, x=\"AnswerCount\", showfliers=False)\n",
    "\n",
    "plt.show()"
   ]
  },
  {
   "cell_type": "code",
   "execution_count": null,
   "id": "fe37f216",
   "metadata": {},
   "outputs": [],
   "source": [
    "fig = plt.figure(figsize=(20, 4))\n",
    "plt.title('Boxplot du nombre de commentaires',\n",
    "          titleprops)\n",
    "sns.boxplot(data=data, x=\"CommentCount\", showfliers=False)\n",
    "\n",
    "plt.show()"
   ]
  },
  {
   "cell_type": "markdown",
   "id": "661eee3c",
   "metadata": {},
   "source": [
    "## <font color=\"#114b98\" id=\"section_3\">3. Analyse multivariée</font>"
   ]
  },
  {
   "cell_type": "code",
   "execution_count": null,
   "id": "ccea539c",
   "metadata": {},
   "outputs": [],
   "source": [
    "corr_matrix = data.corr()\n",
    "fig = plt.figure(1, figsize=(14, 14))\n",
    "sns.heatmap(corr_matrix, square=True, linewidths=0.1, annot=True)\n",
    "plt.xlim(0, corr_matrix.shape[1])\n",
    "plt.ylim(0, corr_matrix.shape[0])\n",
    "plt.show()"
   ]
  },
  {
   "cell_type": "markdown",
   "id": "df345e1e",
   "metadata": {},
   "source": [
    "La corrélation entre le nombre de vues et le score est normale."
   ]
  },
  {
   "cell_type": "markdown",
   "id": "5ffd962c",
   "metadata": {},
   "source": [
    "Une question bien notée a davantage de chance d'être pertinente et qu'un grand nombre de personne la consulte."
   ]
  },
  {
   "cell_type": "code",
   "execution_count": null,
   "id": "c31a1457",
   "metadata": {},
   "outputs": [],
   "source": [
    "data.columns"
   ]
  },
  {
   "cell_type": "code",
   "execution_count": null,
   "id": "d1ec305d",
   "metadata": {},
   "outputs": [],
   "source": [
    "data.drop(columns=['Id',\n",
    "                   'CreationDate',\n",
    "                   'Score',\n",
    "                   'ViewCount',\n",
    "                   'AnswerCount',\n",
    "                   'CommentCount',\n",
    "                   'CreationDate_year',\n",
    "                   'CreationDate_month',\n",
    "                   'Body',\n",
    "                   'Title'],\n",
    "          inplace=True)"
   ]
  },
  {
   "cell_type": "code",
   "execution_count": null,
   "id": "df21db5e",
   "metadata": {},
   "outputs": [],
   "source": [
    "print(f\"Observations dans le corpus : {data.shape[0]}\")"
   ]
  },
  {
   "cell_type": "code",
   "execution_count": null,
   "id": "8efbf981",
   "metadata": {},
   "outputs": [],
   "source": [
    "data.head()"
   ]
  },
  {
   "cell_type": "markdown",
   "id": "e8bbff03",
   "metadata": {},
   "source": [
    "## <font color=\"#114b98\" id=\"section_4\">4. Nettoyage de la colonne 'Tags'</font>"
   ]
  },
  {
   "cell_type": "code",
   "execution_count": null,
   "id": "b454bb00",
   "metadata": {},
   "outputs": [],
   "source": [
    "data['Tags'][0:5]"
   ]
  },
  {
   "cell_type": "markdown",
   "id": "f5e0b257",
   "metadata": {},
   "source": [
    "Les tags sont encadrés par des balises \"<\" et \">\"."
   ]
  },
  {
   "cell_type": "code",
   "execution_count": null,
   "id": "5a14d6e7",
   "metadata": {},
   "outputs": [],
   "source": [
    "data['Tags'][0][1:-1].split('><')"
   ]
  },
  {
   "cell_type": "code",
   "execution_count": null,
   "id": "7df8a006",
   "metadata": {},
   "outputs": [],
   "source": [
    "data['Tags'] = data['Tags'].apply(lambda row: row[1:-1].split('><'))"
   ]
  },
  {
   "cell_type": "code",
   "execution_count": null,
   "id": "2b3bb1d5",
   "metadata": {},
   "outputs": [],
   "source": [
    "tags = []\n",
    "for minilist in data['Tags']:\n",
    "    for item in minilist:\n",
    "        item = item.lower()\n",
    "        tags.append(item)"
   ]
  },
  {
   "cell_type": "code",
   "execution_count": null,
   "id": "ae863629",
   "metadata": {},
   "outputs": [],
   "source": [
    "counts = Counter(tags)"
   ]
  },
  {
   "cell_type": "code",
   "execution_count": null,
   "id": "15fc6e50",
   "metadata": {},
   "outputs": [],
   "source": [
    "temp_df = pd.DataFrame.from_dict(counts, orient='index', columns=['count'])\n",
    "plot_df = temp_df.sort_values('count', ascending=False).head(20)"
   ]
  },
  {
   "cell_type": "code",
   "execution_count": null,
   "id": "337e23c4",
   "metadata": {},
   "outputs": [],
   "source": [
    "fig = plt.figure(figsize=(16, 8))\n",
    "sns.barplot(x=plot_df.index, y=plot_df['count'])\n",
    "plt.title(\"Tags les plus utilisés\")\n",
    "plt.xticks(rotation=90)\n",
    "plt.ylabel(\"Nombre d'utilisations\")\n",
    "plt.show()"
   ]
  },
  {
   "cell_type": "code",
   "execution_count": null,
   "id": "ba1dc770",
   "metadata": {},
   "outputs": [],
   "source": [
    "wordcloud = WordCloud().generate_from_frequencies(counts)\n",
    "plt.figure(figsize=[12, 5])\n",
    "plt.imshow(wordcloud, interpolation='bilinear')\n",
    "plt.axis(\"off\")\n",
    "plt.show()"
   ]
  },
  {
   "cell_type": "code",
   "execution_count": null,
   "id": "a6c70a08",
   "metadata": {},
   "outputs": [],
   "source": [
    "data['Tags'].head()"
   ]
  },
  {
   "cell_type": "markdown",
   "id": "30ccdd5b",
   "metadata": {},
   "source": [
    "## <font color=\"#114b98\" id=\"section_5\">5. Nettoyage de la colonne 'Texts'</font>"
   ]
  },
  {
   "cell_type": "code",
   "execution_count": null,
   "id": "49fa72c6",
   "metadata": {},
   "outputs": [],
   "source": [
    "# Nettoyage des balises HTML\n",
    "def clean_html(text):\n",
    "    soup = BeautifulSoup(text, \"html5lib\")\n",
    "    for sent in soup(['style', 'script']):\n",
    "        sent.decompose()\n",
    "    return ' '.join(soup.stripped_strings)\n",
    "\n",
    "\n",
    "# Nettoyage du texte\n",
    "def clean_text(text):\n",
    "    pattern = re.compile(r'[^\\w]|[\\d_]')\n",
    "    res = re.sub(pattern, \" \", text)\n",
    "    res = \" \".join(word for word in res.split() if len(word) >= 3)\n",
    "    return res\n",
    "\n",
    "\n",
    "# Tokenisation et retrait des stopwords\n",
    "nltk_stopwords = set(stopwords.words('english'))\n",
    "gensim_stopwords = set(STOPWORDS)\n",
    "nlp = spacy.load(\"en_core_web_sm\")\n",
    "spacy_stopwords = set(nlp.Defaults.stop_words)\n",
    "stop_words = nltk_stopwords.union(gensim_stopwords, spacy_stopwords)\n",
    "\n",
    "\n",
    "def tokenize(text):\n",
    "    tokens = word_tokenize(text, language='english')\n",
    "    return [token for token in tokens if token not in stop_words]\n",
    "\n",
    "\n",
    "# POS Tagging\n",
    "def filtering_nouns(tokens):\n",
    "#     res = [token for token, tag in pos_tag(tokens) if tag == 'NN']\n",
    "    res = [token for token, tag in pos_tag(tokens) if in ['NN', 'NNP']] # IMPORTANT\n",
    "    return res\n",
    "\n",
    "\n",
    "# Lemmatisation\n",
    "def lemmatization(tokens):\n",
    "    lemmatizer = WordNetLemmatizer()\n",
    "    return [lemmatizer.lemmatize(token) for token in tokens]"
   ]
  },
  {
   "cell_type": "code",
   "execution_count": null,
   "id": "993e770c",
   "metadata": {},
   "outputs": [],
   "source": [
    "data['Texts'][0]"
   ]
  },
  {
   "cell_type": "markdown",
   "id": "3411c948",
   "metadata": {},
   "source": [
    "Je passe tout d'abord tous les textes en lettres minuscules."
   ]
  },
  {
   "cell_type": "code",
   "execution_count": null,
   "id": "f9eddcea",
   "metadata": {},
   "outputs": [],
   "source": [
    "data['Texts'] = data['Texts'].str.lower()"
   ]
  },
  {
   "cell_type": "code",
   "execution_count": null,
   "id": "05e9bb56",
   "metadata": {},
   "outputs": [],
   "source": [
    "data['Texts'][0]"
   ]
  },
  {
   "cell_type": "markdown",
   "id": "6e8f6d96",
   "metadata": {},
   "source": [
    "Le texte comporte des balises HTML que je souhaite effacer."
   ]
  },
  {
   "cell_type": "code",
   "execution_count": null,
   "id": "053fc9fc",
   "metadata": {},
   "outputs": [],
   "source": [
    "data['Texts'] = data['Texts'].apply(clean_html)"
   ]
  },
  {
   "cell_type": "code",
   "execution_count": null,
   "id": "afeb66cf",
   "metadata": {},
   "outputs": [],
   "source": [
    "data['Texts'][0]"
   ]
  },
  {
   "cell_type": "markdown",
   "id": "9a0a2c71",
   "metadata": {},
   "source": [
    "Je vais conserver uniquement les caractères alphabétiques et supprimer les mots de moins de trois lettres, même si cela va éliminer aussi des informations qui auraient été pertinentes (C, C#, C++, R, ...)."
   ]
  },
  {
   "cell_type": "code",
   "execution_count": null,
   "id": "8ee7faf6",
   "metadata": {},
   "outputs": [],
   "source": [
    "data['Texts'] = data['Texts'].apply(clean_text)"
   ]
  },
  {
   "cell_type": "code",
   "execution_count": null,
   "id": "be1b00a5",
   "metadata": {},
   "outputs": [],
   "source": [
    "data['Texts'][0]"
   ]
  },
  {
   "cell_type": "code",
   "execution_count": null,
   "id": "45a1f2f1",
   "metadata": {},
   "outputs": [],
   "source": [
    "data['Sentences'] = data['Texts']"
   ]
  },
  {
   "cell_type": "markdown",
   "id": "6ffd3cf1",
   "metadata": {},
   "source": [
    "Je vais maintenant tokeniser afin de transformer les textes en listes de termes distincts (tokens). "
   ]
  },
  {
   "cell_type": "markdown",
   "id": "88be79bc",
   "metadata": {},
   "source": [
    "J'élimine aussi les termes génériques anglais (stop words) afin de n'avoir que des mots pertinents."
   ]
  },
  {
   "cell_type": "code",
   "execution_count": null,
   "id": "eab107cd",
   "metadata": {},
   "outputs": [],
   "source": [
    "data['Texts'] = data['Texts'].apply(tokenize)"
   ]
  },
  {
   "cell_type": "code",
   "execution_count": null,
   "id": "6ee4c7c2",
   "metadata": {},
   "outputs": [],
   "source": [
    "data['Texts'][0][0:5]"
   ]
  },
  {
   "cell_type": "markdown",
   "id": "2916b156",
   "metadata": {},
   "source": [
    "Les mots qui m'interessent le plus sont des noms. Je peux utiliser un modèle de POS tagging basé sur les chaînes de Markov."
   ]
  },
  {
   "cell_type": "code",
   "execution_count": null,
   "id": "3472bdb3",
   "metadata": {},
   "outputs": [],
   "source": [
    "data['Texts'] = data['Texts'].apply(filtering_nouns)"
   ]
  },
  {
   "cell_type": "code",
   "execution_count": null,
   "id": "423b8d24",
   "metadata": {},
   "outputs": [],
   "source": [
    "data['Texts'][0][0:5]"
   ]
  },
  {
   "cell_type": "markdown",
   "id": "c73dfb4d",
   "metadata": {},
   "source": [
    "Je vais maintenant lemmatiser, c'est-à-dire identifier la racine sémantique (lemme) des termes et ne conserver que celle-ci afin de ne pas en avoir toutes les déclinaisons des mots."
   ]
  },
  {
   "cell_type": "code",
   "execution_count": null,
   "id": "0a13d9d7",
   "metadata": {},
   "outputs": [],
   "source": [
    "data['Texts'] = data['Texts'].apply(lemmatization)"
   ]
  },
  {
   "cell_type": "code",
   "execution_count": null,
   "id": "1fbbb937",
   "metadata": {},
   "outputs": [],
   "source": [
    "data['Texts'][0][0:5]"
   ]
  },
  {
   "cell_type": "code",
   "execution_count": null,
   "id": "db549689",
   "metadata": {},
   "outputs": [],
   "source": [
    "data.reset_index(inplace=True, drop=True)"
   ]
  },
  {
   "cell_type": "code",
   "execution_count": null,
   "id": "35ca1ee9",
   "metadata": {},
   "outputs": [],
   "source": [
    "data.head()"
   ]
  },
  {
   "cell_type": "code",
   "execution_count": null,
   "id": "2e1059df",
   "metadata": {},
   "outputs": [],
   "source": [
    "data.info()"
   ]
  },
  {
   "cell_type": "markdown",
   "id": "88dd004e",
   "metadata": {},
   "source": [
    "Afin de pourvoir comparer lors de mes tests les tags prédits par mes modèles et les tags proposés par les utilisateurs, je décide de filtrer ce jeu de données afin que les tags proposés soient uniquement dans les 5000 premiers tags en terme d'utilisation."
   ]
  },
  {
   "cell_type": "code",
   "execution_count": null,
   "id": "f26aa6e5",
   "metadata": {},
   "outputs": [],
   "source": [
    "tags = []\n",
    "for minilist in data['Tags']:\n",
    "    for item in minilist:\n",
    "        tags.append(item)"
   ]
  },
  {
   "cell_type": "code",
   "execution_count": null,
   "id": "fb8fbcec",
   "metadata": {},
   "outputs": [],
   "source": [
    "counts = Counter(tags)"
   ]
  },
  {
   "cell_type": "code",
   "execution_count": null,
   "id": "c5639a8c",
   "metadata": {},
   "outputs": [],
   "source": [
    "sorted_counts = sorted(counts.items(), key=lambda x: x[1], reverse=True)\n",
    "top_5000 = sorted_counts[:5000]\n",
    "top_5000_words = [word for word, count in top_5000]"
   ]
  },
  {
   "cell_type": "code",
   "execution_count": null,
   "id": "9262b711",
   "metadata": {},
   "outputs": [],
   "source": [
    "mask = data['Tags'].apply(lambda x: any(i not in top_5000_words for i in x))"
   ]
  },
  {
   "cell_type": "code",
   "execution_count": null,
   "id": "93c9a74c",
   "metadata": {},
   "outputs": [],
   "source": [
    "data = data[~mask]"
   ]
  },
  {
   "cell_type": "code",
   "execution_count": null,
   "id": "1524b81f",
   "metadata": {},
   "outputs": [],
   "source": [
    "data.info()"
   ]
  },
  {
   "cell_type": "markdown",
   "id": "1cbbb7d2",
   "metadata": {},
   "source": [
    "Je peux maintenant sauvegarder ce jeu de données nettoyé pour la suite du projet."
   ]
  },
  {
   "cell_type": "code",
   "execution_count": null,
   "id": "3944b44b",
   "metadata": {},
   "outputs": [],
   "source": [
    "data.to_csv(main_path+'saved_ressources/'+\"data_cleaned_5000t.csv\", index=False)"
   ]
  },
  {
   "cell_type": "code",
   "execution_count": null,
   "id": "956b54cb",
   "metadata": {},
   "outputs": [],
   "source": [
    "sorted_counts = sorted(counts.items(), key=lambda x: x[1], reverse=True)\n",
    "top_10000 = sorted_counts[:10000]\n",
    "top_10000_words = [word for word, count in top_10000]\n",
    "mask = data['Tags'].apply(lambda x: any(i not in top_10000_words for i in x))\n",
    "data = data[~mask]"
   ]
  },
  {
   "cell_type": "code",
   "execution_count": null,
   "id": "5246939e",
   "metadata": {},
   "outputs": [],
   "source": [
    "data.to_csv(main_path+'saved_ressources/'+\"data_cleaned_10000t.csv\", index=False)"
   ]
  },
  {
   "cell_type": "code",
   "execution_count": null,
   "id": "dbf10a69",
   "metadata": {},
   "outputs": [],
   "source": []
  },
  {
   "cell_type": "code",
   "execution_count": null,
   "id": "f1182687",
   "metadata": {},
   "outputs": [],
   "source": []
  },
  {
   "cell_type": "code",
   "execution_count": null,
   "id": "a0a4e3ee",
   "metadata": {},
   "outputs": [],
   "source": []
  }
 ],
 "metadata": {
  "kernelspec": {
   "display_name": "Python 3 (ipykernel)",
   "language": "python",
   "name": "python3"
  },
  "language_info": {
   "codemirror_mode": {
    "name": "ipython",
    "version": 3
   },
   "file_extension": ".py",
   "mimetype": "text/x-python",
   "name": "python",
   "nbconvert_exporter": "python",
   "pygments_lexer": "ipython3",
   "version": "3.9.13"
  }
 },
 "nbformat": 4,
 "nbformat_minor": 5
}
