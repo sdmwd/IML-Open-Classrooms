{
 "cells": [
  {
   "cell_type": "markdown",
   "id": "40f0222a",
   "metadata": {},
   "source": [
    "# <font color=\"#114b98\">Catégorisez automatiquement des questions</font>"
   ]
  },
  {
   "cell_type": "markdown",
   "id": "5815ab77",
   "metadata": {},
   "source": [
    "## <font color=\"#114b98\">Notebook de test de différents modèles</font>"
   ]
  },
  {
   "cell_type": "markdown",
   "id": "06fb1151",
   "metadata": {},
   "source": [
    "**Stack Overflow** est un site célèbre de questions-réponses liées au développement informatique."
   ]
  },
  {
   "cell_type": "markdown",
   "id": "47d05297",
   "metadata": {},
   "source": [
    "L'objectif de ce projet est de développer un système de **suggestion de tags** pour ce site. Celui-ci prendra la forme d’un algorithme de machine learning qui assignera automatiquement plusieurs tags pertinents à une question."
   ]
  },
  {
   "cell_type": "markdown",
   "id": "cb25dcf2",
   "metadata": {},
   "source": [
    "**Livrable** : Un notebook de test de différents modèles."
   ]
  },
  {
   "cell_type": "markdown",
   "id": "3378bec4",
   "metadata": {},
   "source": [
    "## <font color=\"#114b98\">Sommaire</font>\n",
    "[1. Chargement du jeu de données](#section_1)\n",
    "\n",
    "[2. Approche non supervisée](#section_2)\n",
    "\n",
    "[3. Approche supervisée](#section_3)\n",
    "\n",
    "[4. Approche supervisée avec Word Embedding : Word2Vec](#section_4)\n",
    "\n",
    "[5. Approche supervisée avec Word Embedding : BERT](#section_5)\n",
    "\n",
    "[6. Approche supervisée avec Sentence Embedding : USE](#section_6)"
   ]
  },
  {
   "cell_type": "markdown",
   "id": "37fb45a8",
   "metadata": {},
   "source": [
    "## <font color=\"#114b98\" id=\"section_1\">1. Chargement du jeu de données</font>"
   ]
  },
  {
   "cell_type": "code",
   "execution_count": 1,
   "id": "cbf8947d",
   "metadata": {},
   "outputs": [],
   "source": [
    "import pandas as pd\n",
    "import numpy as np\n",
    "import matplotlib.pyplot as plt\n",
    "import seaborn as sns\n",
    "import os\n",
    "import time\n",
    "import ast\n",
    "import random\n",
    "import warnings\n",
    "warnings.filterwarnings('ignore')\n",
    "%matplotlib inline"
   ]
  },
  {
   "cell_type": "code",
   "execution_count": 2,
   "id": "5b0ed41f",
   "metadata": {},
   "outputs": [],
   "source": [
    "plt.rc('axes', titlesize=22) \n",
    "plt.rc('axes', labelsize=18) \n",
    "titleprops = {'fontsize':20}\n",
    "textprops = {'fontsize':15}\n",
    "plt.style.use('ggplot')"
   ]
  },
  {
   "cell_type": "code",
   "execution_count": 3,
   "id": "1b96f07d",
   "metadata": {},
   "outputs": [
    {
     "data": {
      "text/plain": [
       "['data_cleaned.csv']"
      ]
     },
     "execution_count": 3,
     "metadata": {},
     "output_type": "execute_result"
    }
   ],
   "source": [
    "main_path = 'N:/5 - WORK/1 - Projets/Projet 5/'\n",
    "files = os.listdir(main_path+'saved_ressources/')\n",
    "files"
   ]
  },
  {
   "cell_type": "code",
   "execution_count": 4,
   "id": "9a251077",
   "metadata": {},
   "outputs": [],
   "source": [
    "data = pd.read_csv(main_path+'saved_ressources/'+'data_cleaned.csv', encoding='utf8')"
   ]
  },
  {
   "cell_type": "code",
   "execution_count": 5,
   "id": "876bc155",
   "metadata": {},
   "outputs": [],
   "source": [
    "data = data.applymap(lambda x: ast.literal_eval(x))"
   ]
  },
  {
   "cell_type": "code",
   "execution_count": 6,
   "id": "f0fd42dc",
   "metadata": {},
   "outputs": [
    {
     "data": {
      "text/html": [
       "<div>\n",
       "<style scoped>\n",
       "    .dataframe tbody tr th:only-of-type {\n",
       "        vertical-align: middle;\n",
       "    }\n",
       "\n",
       "    .dataframe tbody tr th {\n",
       "        vertical-align: top;\n",
       "    }\n",
       "\n",
       "    .dataframe thead th {\n",
       "        text-align: right;\n",
       "    }\n",
       "</style>\n",
       "<table border=\"1\" class=\"dataframe\">\n",
       "  <thead>\n",
       "    <tr style=\"text-align: right;\">\n",
       "      <th></th>\n",
       "      <th>Tags</th>\n",
       "      <th>Texts</th>\n",
       "    </tr>\n",
       "  </thead>\n",
       "  <tbody>\n",
       "    <tr>\n",
       "      <th>0</th>\n",
       "      <td>[macos, emacs, scheme, interpreter, sicp]</td>\n",
       "      <td>[scheme, interpreter, interpreter, python, int...</td>\n",
       "    </tr>\n",
       "    <tr>\n",
       "      <th>1</th>\n",
       "      <td>[c#, functional-programming, delegates, lambda...</td>\n",
       "      <td>[scope, bug, compiler, voidfunction, delegate,...</td>\n",
       "    </tr>\n",
       "    <tr>\n",
       "      <th>2</th>\n",
       "      <td>[mysql, database, arrays, postgresql, stored-p...</td>\n",
       "      <td>[pass, array, procedure, pass, array, procedur...</td>\n",
       "    </tr>\n",
       "    <tr>\n",
       "      <th>3</th>\n",
       "      <td>[ios, objective-c, iphone, cocoa-touch, uibutton]</td>\n",
       "      <td>[state, buttonwithtype, figure, button, state,...</td>\n",
       "    </tr>\n",
       "    <tr>\n",
       "      <th>4</th>\n",
       "      <td>[database, nhibernate, exception-handling, con...</td>\n",
       "      <td>[check, application, column, constraint, colum...</td>\n",
       "    </tr>\n",
       "  </tbody>\n",
       "</table>\n",
       "</div>"
      ],
      "text/plain": [
       "                                                Tags  \\\n",
       "0          [macos, emacs, scheme, interpreter, sicp]   \n",
       "1  [c#, functional-programming, delegates, lambda...   \n",
       "2  [mysql, database, arrays, postgresql, stored-p...   \n",
       "3  [ios, objective-c, iphone, cocoa-touch, uibutton]   \n",
       "4  [database, nhibernate, exception-handling, con...   \n",
       "\n",
       "                                               Texts  \n",
       "0  [scheme, interpreter, interpreter, python, int...  \n",
       "1  [scope, bug, compiler, voidfunction, delegate,...  \n",
       "2  [pass, array, procedure, pass, array, procedur...  \n",
       "3  [state, buttonwithtype, figure, button, state,...  \n",
       "4  [check, application, column, constraint, colum...  "
      ]
     },
     "execution_count": 6,
     "metadata": {},
     "output_type": "execute_result"
    }
   ],
   "source": [
    "data.head()"
   ]
  },
  {
   "cell_type": "code",
   "execution_count": 7,
   "id": "5aa4d2ad",
   "metadata": {},
   "outputs": [
    {
     "name": "stdout",
     "output_type": "stream",
     "text": [
      "<class 'pandas.core.frame.DataFrame'>\n",
      "RangeIndex: 159599 entries, 0 to 159598\n",
      "Data columns (total 2 columns):\n",
      " #   Column  Non-Null Count   Dtype \n",
      "---  ------  --------------   ----- \n",
      " 0   Tags    159599 non-null  object\n",
      " 1   Texts   159599 non-null  object\n",
      "dtypes: object(2)\n",
      "memory usage: 2.4+ MB\n"
     ]
    }
   ],
   "source": [
    "data.info()"
   ]
  },
  {
   "cell_type": "markdown",
   "id": "fa5d34fa",
   "metadata": {},
   "source": [
    "Le jeu de données est trop important pour les temps de calculs à ma disposition."
   ]
  },
  {
   "cell_type": "markdown",
   "id": "307ffd4f",
   "metadata": {},
   "source": [
    "J'ai deux possibilités : \n",
    "- prendre un sample de 5000 observations aléatoirement\n",
    "- prendre les 5000 observations pour lesquelles la similarité entre les deux colonnes est importante"
   ]
  },
  {
   "cell_type": "code",
   "execution_count": 8,
   "id": "4a7568d9",
   "metadata": {},
   "outputs": [],
   "source": [
    "# data_sample = data.sample(2000)\n",
    "# data_sample.reset_index(inplace=True, drop=True)\n",
    "# print(data_sample.shape)\n",
    "# data_sample.head()"
   ]
  },
  {
   "cell_type": "code",
   "execution_count": 9,
   "id": "9d247c02",
   "metadata": {},
   "outputs": [],
   "source": [
    "from typing import List"
   ]
  },
  {
   "cell_type": "code",
   "execution_count": 10,
   "id": "4d1a05dc",
   "metadata": {},
   "outputs": [
    {
     "name": "stdout",
     "output_type": "stream",
     "text": [
      "(500, 2)\n"
     ]
    },
    {
     "data": {
      "text/html": [
       "<div>\n",
       "<style scoped>\n",
       "    .dataframe tbody tr th:only-of-type {\n",
       "        vertical-align: middle;\n",
       "    }\n",
       "\n",
       "    .dataframe tbody tr th {\n",
       "        vertical-align: top;\n",
       "    }\n",
       "\n",
       "    .dataframe thead th {\n",
       "        text-align: right;\n",
       "    }\n",
       "</style>\n",
       "<table border=\"1\" class=\"dataframe\">\n",
       "  <thead>\n",
       "    <tr style=\"text-align: right;\">\n",
       "      <th></th>\n",
       "      <th>Tags</th>\n",
       "      <th>Texts</th>\n",
       "    </tr>\n",
       "  </thead>\n",
       "  <tbody>\n",
       "    <tr>\n",
       "      <th>0</th>\n",
       "      <td>[javascript, jquery, string, date, object]</td>\n",
       "      <td>[jquery, javascript, convert, date, string, da...</td>\n",
       "    </tr>\n",
       "    <tr>\n",
       "      <th>1</th>\n",
       "      <td>[listview, javafx, tableview, scrollbar, hide]</td>\n",
       "      <td>[hide, scrollbar, listview, javafx, hide, scro...</td>\n",
       "    </tr>\n",
       "    <tr>\n",
       "      <th>2</th>\n",
       "      <td>[jpa, merge, entitymanager, persist, java-pers...</td>\n",
       "      <td>[jpa, entitymanager, merge, entitymanager, mer...</td>\n",
       "    </tr>\n",
       "    <tr>\n",
       "      <th>3</th>\n",
       "      <td>[python, django, image, gallery, portfolio]</td>\n",
       "      <td>[create, image, gallery, create, portfolio, dj...</td>\n",
       "    </tr>\n",
       "    <tr>\n",
       "      <th>4</th>\n",
       "      <td>[python, authentication, proxy, https, ntlm]</td>\n",
       "      <td>[python, https, proxy, ntlm, authentication, s...</td>\n",
       "    </tr>\n",
       "  </tbody>\n",
       "</table>\n",
       "</div>"
      ],
      "text/plain": [
       "                                                Tags  \\\n",
       "0         [javascript, jquery, string, date, object]   \n",
       "1     [listview, javafx, tableview, scrollbar, hide]   \n",
       "2  [jpa, merge, entitymanager, persist, java-pers...   \n",
       "3        [python, django, image, gallery, portfolio]   \n",
       "4       [python, authentication, proxy, https, ntlm]   \n",
       "\n",
       "                                               Texts  \n",
       "0  [jquery, javascript, convert, date, string, da...  \n",
       "1  [hide, scrollbar, listview, javafx, hide, scro...  \n",
       "2  [jpa, entitymanager, merge, entitymanager, mer...  \n",
       "3  [create, image, gallery, create, portfolio, dj...  \n",
       "4  [python, https, proxy, ntlm, authentication, s...  "
      ]
     },
     "execution_count": 10,
     "metadata": {},
     "output_type": "execute_result"
    }
   ],
   "source": [
    "def jaccard_similarity(list1: List[str], list2: List[str]) -> float:\n",
    "    set1 = set(list1)\n",
    "    set2 = set(list2)\n",
    "    intersection = set1.intersection(set2)\n",
    "    union = set1.union(set2)\n",
    "    jaccard_similarity = len(intersection) / len(union)\n",
    "    return jaccard_similarity\n",
    "\n",
    "def get_highest_similarity_rows(data: pd.DataFrame, col1: str, col2: str, n: int):\n",
    "    data[\"jaccard_similarity\"] = data.apply(lambda x: jaccard_similarity(x[col1], x[col2]), axis=1)\n",
    "    data = data.sort_values(by=\"jaccard_similarity\", ascending=False)\n",
    "    return data.head(n)\n",
    "\n",
    "\n",
    "data_sample = get_highest_similarity_rows(data, \"Tags\", \"Texts\", 500)\n",
    "data_sample.drop(['jaccard_similarity'], axis=1, inplace=True)\n",
    "data_sample.reset_index(inplace=True, drop=True)\n",
    "print(data_sample.shape)\n",
    "data_sample.head()"
   ]
  },
  {
   "cell_type": "code",
   "execution_count": 11,
   "id": "b138a466",
   "metadata": {},
   "outputs": [],
   "source": [
    "texts_list = data_sample[\"Texts\"].to_list()\n",
    "tags_list = data_sample[\"Tags\"].to_list()"
   ]
  },
  {
   "cell_type": "code",
   "execution_count": 12,
   "id": "721078cd",
   "metadata": {},
   "outputs": [],
   "source": [
    "flat_texts = [\" \".join(text) for text in texts_list]\n",
    "flat_tags = [\" \".join(tag) for tag in tags_list]"
   ]
  },
  {
   "cell_type": "code",
   "execution_count": 13,
   "id": "60b05e38",
   "metadata": {},
   "outputs": [],
   "source": [
    "vocabulary_texts = list(set([word for item in texts_list for word in item]))\n",
    "vocabulary_tags = list(set([word for item in tags_list for word in item]))"
   ]
  },
  {
   "cell_type": "markdown",
   "id": "8ef2b074",
   "metadata": {},
   "source": [
    "## <font color=\"#114b98\" id=\"section_2\">2. Approche non supervisée</font>"
   ]
  },
  {
   "cell_type": "code",
   "execution_count": 14,
   "id": "000d5c77",
   "metadata": {},
   "outputs": [],
   "source": [
    "from sklearn.decomposition import LatentDirichletAllocation, NMF\n",
    "from sklearn.metrics import silhouette_score\n",
    "import matplotlib.pyplot as plt\n",
    "from sklearn.feature_extraction.text import CountVectorizer\n",
    "from sklearn.feature_extraction.text import TfidfVectorizer\n",
    "from sklearn.metrics import f1_score, accuracy_score, jaccard_score, precision_score\n",
    "from sklearn.preprocessing import MultiLabelBinarizer\n",
    "from gensim.corpora.dictionary import Dictionary\n",
    "from gensim.models.coherencemodel import CoherenceModel\n",
    "from gensim.models import Nmf\n",
    "from gensim.models.ldamodel import LdaModel\n",
    "from gensim.matutils import corpus2dense\n",
    "from sklearn.model_selection import train_test_split"
   ]
  },
  {
   "cell_type": "markdown",
   "id": "af8eb174",
   "metadata": {},
   "source": [
    "LDA (Latent Dirichlet Allocation) est une technique de topic modeling qui permet de découvrir les thèmes cachés (ou \"latents\") dans un ensemble de textes. Elle permet de regrouper des textes qui traitent des mêmes sujets."
   ]
  },
  {
   "cell_type": "markdown",
   "id": "8dea29ec",
   "metadata": {},
   "source": [
    "La classe LdaModel de gensim est basée sur l'algorithme d'allocation latente de Dirichlet (LDA), qui est un modèle probabiliste génératif utilisé pour découvrir les sujets cachés dans un corpus de textes. La classe LatentDirichletAllocation de scikit-learn est également basée sur l'algorithme LDA, mais elle peut avoir des différences en termes d'implémentation, comme l'algorithme d'optimisation utilisé ou les paramètres disponibles."
   ]
  },
  {
   "cell_type": "markdown",
   "id": "b0ea0e17",
   "metadata": {},
   "source": [
    "NMF (Non-negative Matrix Factorization) est une autre technique de topic modeling qui permet de décomposer une matrice document-terme en deux matrices de facteurs non-négatifs. Elle est souvent utilisée pour découvrir les thèmes cachés dans des textes."
   ]
  },
  {
   "cell_type": "markdown",
   "id": "d96332ae",
   "metadata": {},
   "source": [
    "La classe gensim Nmf est basée sur l'algorithme de factorisation de matrice non-négative, qui est différente de la classe NMF de scikit-learn, qui est basée sur la méthode de gradient projeté."
   ]
  },
  {
   "cell_type": "code",
   "execution_count": 15,
   "id": "35595bb6",
   "metadata": {},
   "outputs": [],
   "source": [
    "def determine_optimal_num_topics(data, vectorizer, n_topics_range, texts_list):\n",
    "    \"\"\"\n",
    "    Given data, a vectorizer, a range of number of topics to test, and the list of texts,\n",
    "    applies the models to the data and plots the silhouette and coherence scores to help \n",
    "    determine the optimal number of topics.\n",
    "    \n",
    "    \"\"\"\n",
    "\n",
    "    # Vectorize the data\n",
    "    data = vectorizer.fit_transform(data)\n",
    "    dictionary = Dictionary(texts_list)\n",
    "    corpus = [dictionary.doc2bow(txt) for txt in texts_list]\n",
    "\n",
    "    # Initialize lists to store scores for LDA and NMF\n",
    "    lda_scores = []\n",
    "    nmf_scores = []\n",
    "    coherence_nmf = []\n",
    "    coherence_lda = []\n",
    "\n",
    "    # Loop through the range of number of topics\n",
    "    for n_topics in n_topics_range:\n",
    "        \n",
    "        # Calculate the silhouette score for the LDA model\n",
    "        lda = LatentDirichletAllocation(n_components=n_topics, max_iter=300)\n",
    "        lda.fit(data)\n",
    "        topic_assignments = lda.transform(data)\n",
    "        labels = np.argmax(topic_assignments, axis=1)\n",
    "        lda_scores.append(silhouette_score(topic_assignments, labels, metric='euclidean'))\n",
    "        \n",
    "        # Calculate the silhouette score for the NMF model\n",
    "        nmf = NMF(n_components=n_topics, max_iter=300)\n",
    "        nmf.fit(data)\n",
    "        topic_assignments = nmf.transform(data)\n",
    "        labels = np.argmax(topic_assignments, axis=1)\n",
    "        nmf_scores.append(silhouette_score(topic_assignments, labels, metric='euclidean'))\n",
    "        \n",
    "        # Calculate the coherence score for the LDA model\n",
    "        lda = LdaModel(corpus, num_topics=n_topics, id2word=dictionary)\n",
    "        cm_lda = CoherenceModel(model=lda, texts=texts_list, dictionary=dictionary, coherence='c_v')\n",
    "        coherence_lda.append(cm_lda.get_coherence())\n",
    "            \n",
    "        # Calculate the coherence score for the NMF model\n",
    "        nmf = Nmf(corpus, num_topics=n_topics, id2word=dictionary)\n",
    "        cm_nmf = CoherenceModel(model=nmf, texts=texts_list, dictionary=dictionary, coherence='c_v')\n",
    "        coherence_nmf.append(cm_nmf.get_coherence())\n",
    "     \n",
    "    scores = pd.DataFrame(columns=['topics_silhouette',\n",
    "                                   'score_silhouette',\n",
    "                                   'topics_coherence',\n",
    "                                   'score_coherence'], \n",
    "                          index=['LDA', 'NMF'])\n",
    "\n",
    "    scores['topics_silhouette'] = [n_topics_range[np.argmax(lda_scores)], n_topics_range[np.argmax(nmf_scores)]]\n",
    "    scores['score_silhouette'] = [max(lda_scores), max(nmf_scores)]\n",
    "    scores['topics_coherence'] = [n_topics_range[np.argmax(coherence_lda)], n_topics_range[np.argmax(coherence_nmf)]]\n",
    "    scores['score_coherence'] = [max(coherence_lda), max(coherence_nmf)]\n",
    "    \n",
    "    fig, (ax1, ax2) = plt.subplots(1, 2, figsize=(12, 4))\n",
    "    \n",
    "    plt.suptitle('Silhouette and Coherence Scores for LDA and NMF with {}'.format(str(vectorizer).split('(')[0]))\n",
    "    \n",
    "    ax1.plot(n_topics_range, lda_scores, label='LDA')\n",
    "    ax1.plot(n_topics_range, nmf_scores, label='NMF')\n",
    "    ax1.set_xlabel('Number of Topics')\n",
    "    ax1.set_ylabel('Silhouette score')\n",
    "    ax1.legend()\n",
    "\n",
    "    ax2.plot(n_topics_range, coherence_lda, label='LDA')\n",
    "    ax2.plot(n_topics_range, coherence_nmf, label='NMF')\n",
    "    ax2.set_xlabel('Number of Topics')\n",
    "    ax2.set_ylabel('Coherence score')\n",
    "    ax2.legend()\n",
    "\n",
    "    plt.show()\n",
    "    \n",
    "    return scores"
   ]
  },
  {
   "cell_type": "code",
   "execution_count": 16,
   "id": "b21431fd",
   "metadata": {},
   "outputs": [],
   "source": [
    "# Define the range of number of topics to test\n",
    "n_topics_range = range(2, 20, 3)"
   ]
  },
  {
   "cell_type": "markdown",
   "id": "3537d01f",
   "metadata": {},
   "source": [
    "CountVectorizer() est une implémentation de l'approche bag-of-words pour la vectorisation de textes. Il convertit un ensemble de documents en un tableau de compte de mots (ou un sac de mots), où chaque ligne représente un document et chaque colonne représente un mot. Le nombre dans chaque cellule est le nombre de fois où le mot correspondant est présent dans le document correspondant."
   ]
  },
  {
   "cell_type": "code",
   "execution_count": 17,
   "id": "898dfba5",
   "metadata": {},
   "outputs": [],
   "source": [
    "# Initialize the vectorizer\n",
    "vectorizer = CountVectorizer()"
   ]
  },
  {
   "cell_type": "code",
   "execution_count": null,
   "id": "09910832",
   "metadata": {},
   "outputs": [],
   "source": [
    "nmf_and_lda_models_with_CountVectorizer = determine_optimal_num_topics(flat_texts, vectorizer, n_topics_range, texts_list)"
   ]
  },
  {
   "cell_type": "code",
   "execution_count": null,
   "id": "b8734e47",
   "metadata": {},
   "outputs": [],
   "source": [
    "nmf_and_lda_models_with_CountVectorizer"
   ]
  },
  {
   "cell_type": "markdown",
   "id": "5a118024",
   "metadata": {},
   "source": [
    "TF-IDF (term frequency-inverse document frequency) est une technique utilisée pour pondérer les termes dans les textes en fonction de leur fréquence d'apparition. Elle permet de donner plus de poids aux termes qui apparaissent fréquemment dans un document mais rarement dans l'ensemble des documents."
   ]
  },
  {
   "cell_type": "code",
   "execution_count": null,
   "id": "1bd433b6",
   "metadata": {},
   "outputs": [],
   "source": [
    "# Initialize the vectorizer\n",
    "vectorizer = TfidfVectorizer(vocabulary=vocabulary_texts)"
   ]
  },
  {
   "cell_type": "code",
   "execution_count": null,
   "id": "fce7ca9b",
   "metadata": {},
   "outputs": [],
   "source": [
    "nmf_and_lda_models_with_TfidfVectorizer= determine_optimal_num_topics(flat_texts, vectorizer, n_topics_range, texts_list)"
   ]
  },
  {
   "cell_type": "code",
   "execution_count": null,
   "id": "959aea11",
   "metadata": {},
   "outputs": [],
   "source": [
    "nmf_and_lda_models_with_TfidfVectorizer"
   ]
  },
  {
   "cell_type": "markdown",
   "id": "0aa9623f",
   "metadata": {},
   "source": [
    "Le score de silhouette mesure la similarité d'un objet à son propre groupe par rapport aux autres groupes et généralement, plus il est proche de 1, meilleure est la classification. Le score de cohérence mesure à quel point les sujets sont \"interprétables par les humains\", généralement plus proche de 1, meilleur c'est."
   ]
  },
  {
   "cell_type": "markdown",
   "id": "e1adfb6d",
   "metadata": {},
   "source": [
    "Dans notre situation, lorsque le nombre de sujets augmente, ils davantage \"interprétables par les humains\"."
   ]
  },
  {
   "cell_type": "markdown",
   "id": "8b1a1e69",
   "metadata": {},
   "source": [
    "Nous devons maintenant essayer d'obtenir des tags en utilisant ces méthodes."
   ]
  },
  {
   "cell_type": "markdown",
   "id": "66c78d4a",
   "metadata": {},
   "source": [
    "Je choisis d'utiliser uniquement LDA pour la suite car c'est la méthode qui obtient les meilleurs scores de silhouette."
   ]
  },
  {
   "cell_type": "markdown",
   "id": "715fa5a5",
   "metadata": {},
   "source": [
    "Le paramètre min_df définit le nombre minimum de documents dans lesquels un mot doit être présent pour être inclus dans le vocabulaire."
   ]
  },
  {
   "cell_type": "code",
   "execution_count": 18,
   "id": "cdc9a1ad",
   "metadata": {},
   "outputs": [],
   "source": [
    "min_df=50"
   ]
  },
  {
   "cell_type": "markdown",
   "id": "8f264637",
   "metadata": {},
   "source": [
    "Le paramètre max_df définit la fréquence maximale d'un mot en pourcentage de tous les documents. "
   ]
  },
  {
   "cell_type": "code",
   "execution_count": 19,
   "id": "4e8132fb",
   "metadata": {},
   "outputs": [],
   "source": [
    "max_df=0.5"
   ]
  },
  {
   "cell_type": "markdown",
   "id": "d646e4df",
   "metadata": {},
   "source": [
    "Je choisis le nombre de topics au regard des résultats précédents."
   ]
  },
  {
   "cell_type": "code",
   "execution_count": 20,
   "id": "62dd4403",
   "metadata": {},
   "outputs": [],
   "source": [
    "n_topics = 11"
   ]
  },
  {
   "cell_type": "code",
   "execution_count": null,
   "id": "4d2a16ed",
   "metadata": {},
   "outputs": [],
   "source": [
    "def get_tags_from_text(texts_list, flat_texts, n_topics, vocabulary_texts, min_df, max_df):\n",
    "    pred_tags_gensim = list()\n",
    "    pred_tags_sklearn = list()\n",
    "    pred_tags_tfidf = list()\n",
    "    pred_tags_count = list()\n",
    "    \n",
    "    # Predict tags using LdaModel (gensim) without bow or TF-IDF \n",
    "    dictionary = Dictionary(texts_list)\n",
    "    corpus = [dictionary.doc2bow(txt) for txt in texts_list]\n",
    "    lda = LdaModel(corpus, num_topics=n_topics, id2word=dictionary, random_state=42)\n",
    "    for text in texts_list:\n",
    "        bow = dictionary.doc2bow(text)\n",
    "        topics = lda.get_document_topics(bow, minimum_probability=0)\n",
    "        topic_id, prob = max(topics, key=lambda x: x[1])\n",
    "        topic_words = [w for w, p in lda.show_topic(topic_id, topn=5)]\n",
    "        pred_tags_gensim.append(topic_words)\n",
    "\n",
    "    # Predict tags using LDA (sklearn) without bow or TF-IDF    \n",
    "    corpus_dense = corpus2dense(corpus, num_terms=len(dictionary)).T\n",
    "    lda = LatentDirichletAllocation(n_components=n_topics, random_state=42)\n",
    "    lda.fit(corpus_dense)\n",
    "    for text in texts_list:\n",
    "        bow = dictionary.doc2bow(text)\n",
    "        dense_bow = corpus2dense([bow], num_terms=len(dictionary)).T[0]\n",
    "        dense_bow = np.reshape(dense_bow, (1, -1))\n",
    "        topic_distribution = lda.transform(dense_bow)\n",
    "        topic_id = topic_distribution.argmax()\n",
    "        top_words_indices = np.argsort(-lda.components_[topic_id])[:5]\n",
    "        topic_words = [dictionary[i] for i in top_words_indices]\n",
    "        pred_tags_sklearn.append(topic_words)     \n",
    "               \n",
    "    # Predict tags using LdaModel with TF-IDF \n",
    "    vectorizer = TfidfVectorizer(vocabulary=vocabulary_texts, min_df=min_df, max_df=max_df)\n",
    "    bow = vectorizer.fit_transform(flat_texts)\n",
    "    lda = LatentDirichletAllocation(n_components=n_topics, random_state=42)\n",
    "    topics = lda.fit_transform(bow)\n",
    "    for i in range(len(texts_list)):\n",
    "        topic_id = topics.argmax(axis=1)[i]\n",
    "        dense_bow_matrix = bow.toarray()\n",
    "        top_words_indices = dense_bow_matrix[i].argsort()[-5:][::-1]\n",
    "        topic_words = [list(vectorizer.vocabulary_.keys())[list(vectorizer.vocabulary_.values()).index(i)] for i in top_words_indices]\n",
    "        pred_tags_tfidf.append(topic_words)\n",
    "        \n",
    "    # Predict tags using LdaModel with CountVectorizer \n",
    "    vectorizer = CountVectorizer(vocabulary=vocabulary_texts, min_df=min_df, max_df=max_df)\n",
    "    bow = vectorizer.fit_transform(flat_texts)\n",
    "    lda = LatentDirichletAllocation(n_components=n_topics, random_state=42)\n",
    "    topics = lda.fit_transform(bow)\n",
    "    for i in range(len(texts_list)):\n",
    "        topic_id = topics.argmax(axis=1)[i]\n",
    "        dense_bow_matrix = bow.toarray()\n",
    "        top_words_indices = dense_bow_matrix[i].argsort()[-5:][::-1]\n",
    "        topic_words = [list(vectorizer.vocabulary_.keys())[list(vectorizer.vocabulary_.values()).index(i)] for i in top_words_indices]\n",
    "        pred_tags_count.append(topic_words)           \n",
    "        \n",
    "    return pred_tags_gensim, pred_tags_sklearn, pred_tags_tfidf, pred_tags_count"
   ]
  },
  {
   "cell_type": "code",
   "execution_count": null,
   "id": "1a8f09ab",
   "metadata": {},
   "outputs": [],
   "source": [
    "pred_tags_gensim, pred_tags_sklearn, pred_tags_tfidf, pred_tags_count = get_tags_from_text(texts_list,\n",
    "                                                                                           flat_texts,\n",
    "                                                                                           n_topics,\n",
    "                                                                                           vocabulary_texts,\n",
    "                                                                                           min_df,\n",
    "                                                                                           max_df)"
   ]
  },
  {
   "cell_type": "code",
   "execution_count": null,
   "id": "bc08e905",
   "metadata": {},
   "outputs": [],
   "source": [
    "tags_list[0:5]"
   ]
  },
  {
   "cell_type": "code",
   "execution_count": null,
   "id": "5285e240",
   "metadata": {},
   "outputs": [],
   "source": [
    "pred_tags_gensim[0:5]"
   ]
  },
  {
   "cell_type": "code",
   "execution_count": null,
   "id": "6e80f6cc",
   "metadata": {},
   "outputs": [],
   "source": [
    "pred_tags_sklearn[0:5]"
   ]
  },
  {
   "cell_type": "code",
   "execution_count": null,
   "id": "67dcf1d1",
   "metadata": {},
   "outputs": [],
   "source": [
    "pred_tags_tfidf[0:5]"
   ]
  },
  {
   "cell_type": "code",
   "execution_count": null,
   "id": "194f0253",
   "metadata": {},
   "outputs": [],
   "source": [
    "pred_tags_count[0:5]"
   ]
  },
  {
   "cell_type": "markdown",
   "id": "de06b692",
   "metadata": {},
   "source": [
    "Il semble que CountVectorizer et TfidfVectorizer prédisent des tags assez similaires."
   ]
  },
  {
   "cell_type": "code",
   "execution_count": null,
   "id": "a16f2c74",
   "metadata": {},
   "outputs": [],
   "source": [
    "true_tags = tags_list\n",
    "pred_tags_list = [pred_tags_gensim, pred_tags_sklearn, pred_tags_tfidf, pred_tags_count]\n",
    "pred_names = [\"gensim\", \"sklearn\", \"tfidf\", \"count\"]"
   ]
  },
  {
   "cell_type": "code",
   "execution_count": null,
   "id": "a91d2171",
   "metadata": {},
   "outputs": [],
   "source": [
    "mlb = MultiLabelBinarizer()\n",
    "true_tags_bin = mlb.fit_transform(true_tags)\n",
    "pred_tags_bin_list = [mlb.transform(pred_tags) for pred_tags in pred_tags_list]"
   ]
  },
  {
   "cell_type": "code",
   "execution_count": null,
   "id": "83fa7191",
   "metadata": {},
   "outputs": [],
   "source": [
    "def evaluate_predictions(true_tags, pred_tags_list, pred_names):\n",
    "    f1_scores = []\n",
    "    jaccard_scores = []\n",
    "    accuracy_scores = []\n",
    "    precision_scores = []\n",
    "    for pred_tags in pred_tags_bin_list:\n",
    "        f1_scores.append(f1_score(true_tags, pred_tags, average='micro'))\n",
    "        jaccard_scores.append(jaccard_score(true_tags, pred_tags, average='micro'))\n",
    "        accuracy_scores.append(accuracy_score(true_tags, pred_tags))\n",
    "        precision_scores.append(precision_score(true_tags, pred_tags, average='samples'))\n",
    "        \n",
    "    metrics = {\"F1\": f1_scores, \"Jaccard\": jaccard_scores, \"Accuracy\": accuracy_scores, \"Precision\": precision_scores}\n",
    "    metrics_df = pd.DataFrame(metrics, index=pred_names)\n",
    "    \n",
    "    fig, axes = plt.subplots(1, 4, figsize=(15,5))\n",
    "    for i, metric in enumerate(metrics.keys()):\n",
    "        sns.barplot(data=metrics_df, x=metrics_df.index, y=metric, ax=axes[i])\n",
    "        axes[i].set(ylabel=metric)\n",
    "    plt.show()\n",
    "    return metrics_df"
   ]
  },
  {
   "cell_type": "code",
   "execution_count": null,
   "id": "7c30c05e",
   "metadata": {},
   "outputs": [],
   "source": [
    "evaluate_predictions(true_tags_bin, pred_tags_bin_list, pred_names)"
   ]
  },
  {
   "cell_type": "markdown",
   "id": "7b65b6e3",
   "metadata": {},
   "source": [
    "## <font color=\"#114b98\" id=\"section_3\">3. Approche supervisée</font>"
   ]
  },
  {
   "cell_type": "code",
   "execution_count": 155,
   "id": "edfec925",
   "metadata": {},
   "outputs": [],
   "source": [
    "from sklearn.preprocessing import MultiLabelBinarizer\n",
    "from sklearn.linear_model import LogisticRegression\n",
    "from sklearn.multiclass import OneVsRestClassifier\n",
    "from sklearn.metrics import accuracy_score, confusion_matrix, precision_score\n",
    "from sklearn.metrics import recall_score, jaccard_score\n",
    "from sklearn.linear_model import SGDClassifier\n",
    "from sklearn.ensemble import RandomForestClassifier\n",
    "from sklearn.neighbors import KNeighborsClassifier\n",
    "from sklearn.naive_bayes import MultinomialNB"
   ]
  },
  {
   "cell_type": "code",
   "execution_count": 156,
   "id": "c18dac02",
   "metadata": {},
   "outputs": [],
   "source": [
    "mlb = MultiLabelBinarizer(classes=vocabulary_tags)"
   ]
  },
  {
   "cell_type": "code",
   "execution_count": 157,
   "id": "5e581924",
   "metadata": {},
   "outputs": [],
   "source": [
    "tags_mlb = mlb.fit_transform(flat_tags)"
   ]
  },
  {
   "cell_type": "code",
   "execution_count": 158,
   "id": "024e0732",
   "metadata": {},
   "outputs": [],
   "source": [
    "classifiers = [LogisticRegression(random_state=42, max_iter=300, tol=1e-5),\n",
    "               SGDClassifier(random_state=42, max_iter=300, tol=1e-5),\n",
    "               RandomForestClassifier(random_state=42),\n",
    "               KNeighborsClassifier(),\n",
    "               MultinomialNB()]"
   ]
  },
  {
   "cell_type": "markdown",
   "id": "2a7ebb7d",
   "metadata": {},
   "source": [
    " - Accuracy: mesure de combien de prédictions faites par le modèle sont correctes\n",
    " - Precision: mesure combien des prédictions positives faites par le modèle sont effectivement correctes. Un score de précision élevé signifie que le modèle fait peu de prédictions positives fausses.\n",
    " - Recall: mesure combien des exemples positifs réels sont correctement prédits par le modèle. Un score de rappel élevé signifie que le modèle est capable de trouver la plupart des exemples positifs.\n",
    " - F1 Score: mesure de l'exactitude d'un modèle, il est un moyen harmonique de précision et de rappel. Il varie de 0 à 1, où un score proche de 1 indique une meilleure performance et un score proche de 0 indique une performance moins bonne. \n",
    " - Jaccard Score: mesure de la similarité entre les deux ensembles de prédictions et de vraies étiquettes. Il varie de 0 à 1, où un score proche de 1 indique une très grande similitude et un score proche de 0 indique une grande dissimilarité."
   ]
  },
  {
   "cell_type": "code",
   "execution_count": 159,
   "id": "9e42468f",
   "metadata": {},
   "outputs": [],
   "source": [
    "def calculate_supervised_scores(flat_texts, tags_mlb, vectorizer, classifiers):\n",
    "    \n",
    "    # Create an empty dataframe to store the results\n",
    "    results_df = pd.DataFrame(columns=['Classifier', 'Accuracy', 'Precision', 'Recall',\n",
    "                                       'F1 Score', 'Jaccard Score', 'Time (s)'])\n",
    "\n",
    "    # Split the data into training and test sets\n",
    "    X_train, X_test, y_train, y_test = train_test_split(flat_texts, tags_mlb, test_size=0.2, random_state=42)\n",
    "    \n",
    "    # Vectorize X_train and X_test\n",
    "    X_train = vectorizer.fit_transform(X_train)\n",
    "    X_test = vectorizer.transform(X_test)\n",
    "    \n",
    "    # Fit an independent model for each class using the OneVsRestClassifier wrapper.\n",
    "    for classifier in classifiers:\n",
    "        start_time = time.time()\n",
    "        ovrc = OneVsRestClassifier(classifier)\n",
    "        ovrc.fit(X_train, y_train)\n",
    "        y_pred_ovrc = ovrc.predict(X_test)\n",
    "        end_time = time.time()\n",
    "        \n",
    "        accuracy = round(accuracy_score(y_test, y_pred_ovrc), 4)\n",
    "        precision = round(precision_score(y_test, y_pred_ovrc, average='samples'), 4)\n",
    "        recall = round(recall_score(y_test, y_pred_ovrc, average='samples'), 4)\n",
    "        f1 = round(f1_score(y_test, y_pred_ovrc, average='samples'), 4)\n",
    "        jaccard = round(jaccard_score(y_test, y_pred_ovrc, average='samples'), 4)\n",
    "        time_taken = round(end_time - start_time, 4)\n",
    "        \n",
    "        results_df = results_df.append({'Classifier': str(classifier).split('(')[0], \n",
    "                                       'Accuracy': accuracy, \n",
    "                                       'Precision': precision, \n",
    "                                       'Recall': recall, \n",
    "                                       'F1 Score': f1, \n",
    "                                       'Jaccard Score': jaccard,\n",
    "                                       'Time (s)': time_taken}, \n",
    "                                       ignore_index=True)\n",
    "                                       \n",
    "        print('Results for classifier:', classifier)\n",
    "        print(\"Accuracy : \", accuracy)\n",
    "        print(\"Precision : \", precision)\n",
    "        print(\"Recall : \", recall)\n",
    "        print(\"F1 Score : \", f1)\n",
    "        print(\"Jaccard Score:\", jaccard)\n",
    "        print(\"Time (s):\", time_taken)\n",
    "        print('\\n')\n",
    "        \n",
    "    return results_df"
   ]
  },
  {
   "cell_type": "code",
   "execution_count": 160,
   "id": "0b5fbbc2",
   "metadata": {},
   "outputs": [],
   "source": [
    "# Initialize the vectorizer\n",
    "vectorizer = CountVectorizer()"
   ]
  },
  {
   "cell_type": "code",
   "execution_count": 161,
   "id": "110b6b47",
   "metadata": {},
   "outputs": [
    {
     "name": "stdout",
     "output_type": "stream",
     "text": [
      "Results for classifier: LogisticRegression(max_iter=300, random_state=42, tol=1e-05)\n",
      "Accuracy :  0.63\n",
      "Precision :  0.825\n",
      "Recall :  0.885\n",
      "F1 Score :  0.83\n",
      "Jaccard Score: 0.78\n",
      "Time (s): 0.1611\n",
      "\n",
      "\n",
      "Results for classifier: SGDClassifier(max_iter=300, random_state=42, tol=1e-05)\n",
      "Accuracy :  0.53\n",
      "Precision :  0.8\n",
      "Recall :  0.81\n",
      "F1 Score :  0.7733\n",
      "Jaccard Score: 0.71\n",
      "Time (s): 0.1461\n",
      "\n",
      "\n",
      "Results for classifier: RandomForestClassifier(random_state=42)\n",
      "Accuracy :  0.66\n",
      "Precision :  0.82\n",
      "Recall :  0.95\n",
      "F1 Score :  0.86\n",
      "Jaccard Score: 0.81\n",
      "Time (s): 0.4965\n",
      "\n",
      "\n",
      "Results for classifier: KNeighborsClassifier()\n",
      "Accuracy :  0.66\n",
      "Precision :  0.825\n",
      "Recall :  0.945\n",
      "F1 Score :  0.86\n",
      "Jaccard Score: 0.81\n",
      "Time (s): 0.1501\n",
      "\n",
      "\n",
      "Results for classifier: MultinomialNB()\n",
      "Accuracy :  0.59\n",
      "Precision :  0.82\n",
      "Recall :  0.835\n",
      "F1 Score :  0.8\n",
      "Jaccard Score: 0.745\n",
      "Time (s): 0.1571\n",
      "\n",
      "\n"
     ]
    }
   ],
   "source": [
    "results_df_CountVectorizer = calculate_supervised_scores(flat_texts, tags_mlb, vectorizer, classifiers)"
   ]
  },
  {
   "cell_type": "code",
   "execution_count": 162,
   "id": "fa632ca2",
   "metadata": {},
   "outputs": [
    {
     "data": {
      "text/html": [
       "<div>\n",
       "<style scoped>\n",
       "    .dataframe tbody tr th:only-of-type {\n",
       "        vertical-align: middle;\n",
       "    }\n",
       "\n",
       "    .dataframe tbody tr th {\n",
       "        vertical-align: top;\n",
       "    }\n",
       "\n",
       "    .dataframe thead th {\n",
       "        text-align: right;\n",
       "    }\n",
       "</style>\n",
       "<table border=\"1\" class=\"dataframe\">\n",
       "  <thead>\n",
       "    <tr style=\"text-align: right;\">\n",
       "      <th></th>\n",
       "      <th>Classifier</th>\n",
       "      <th>Accuracy</th>\n",
       "      <th>Precision</th>\n",
       "      <th>Recall</th>\n",
       "      <th>F1 Score</th>\n",
       "      <th>Jaccard Score</th>\n",
       "      <th>Time (s)</th>\n",
       "    </tr>\n",
       "  </thead>\n",
       "  <tbody>\n",
       "    <tr>\n",
       "      <th>0</th>\n",
       "      <td>LogisticRegression</td>\n",
       "      <td>0.63</td>\n",
       "      <td>0.825</td>\n",
       "      <td>0.885</td>\n",
       "      <td>0.8300</td>\n",
       "      <td>0.780</td>\n",
       "      <td>0.1611</td>\n",
       "    </tr>\n",
       "    <tr>\n",
       "      <th>1</th>\n",
       "      <td>SGDClassifier</td>\n",
       "      <td>0.53</td>\n",
       "      <td>0.800</td>\n",
       "      <td>0.810</td>\n",
       "      <td>0.7733</td>\n",
       "      <td>0.710</td>\n",
       "      <td>0.1461</td>\n",
       "    </tr>\n",
       "    <tr>\n",
       "      <th>2</th>\n",
       "      <td>RandomForestClassifier</td>\n",
       "      <td>0.66</td>\n",
       "      <td>0.820</td>\n",
       "      <td>0.950</td>\n",
       "      <td>0.8600</td>\n",
       "      <td>0.810</td>\n",
       "      <td>0.4965</td>\n",
       "    </tr>\n",
       "    <tr>\n",
       "      <th>3</th>\n",
       "      <td>KNeighborsClassifier</td>\n",
       "      <td>0.66</td>\n",
       "      <td>0.825</td>\n",
       "      <td>0.945</td>\n",
       "      <td>0.8600</td>\n",
       "      <td>0.810</td>\n",
       "      <td>0.1501</td>\n",
       "    </tr>\n",
       "    <tr>\n",
       "      <th>4</th>\n",
       "      <td>MultinomialNB</td>\n",
       "      <td>0.59</td>\n",
       "      <td>0.820</td>\n",
       "      <td>0.835</td>\n",
       "      <td>0.8000</td>\n",
       "      <td>0.745</td>\n",
       "      <td>0.1571</td>\n",
       "    </tr>\n",
       "  </tbody>\n",
       "</table>\n",
       "</div>"
      ],
      "text/plain": [
       "               Classifier  Accuracy  Precision  Recall  F1 Score  \\\n",
       "0      LogisticRegression      0.63      0.825   0.885    0.8300   \n",
       "1           SGDClassifier      0.53      0.800   0.810    0.7733   \n",
       "2  RandomForestClassifier      0.66      0.820   0.950    0.8600   \n",
       "3    KNeighborsClassifier      0.66      0.825   0.945    0.8600   \n",
       "4           MultinomialNB      0.59      0.820   0.835    0.8000   \n",
       "\n",
       "   Jaccard Score  Time (s)  \n",
       "0          0.780    0.1611  \n",
       "1          0.710    0.1461  \n",
       "2          0.810    0.4965  \n",
       "3          0.810    0.1501  \n",
       "4          0.745    0.1571  "
      ]
     },
     "execution_count": 162,
     "metadata": {},
     "output_type": "execute_result"
    }
   ],
   "source": [
    "results_df_CountVectorizer"
   ]
  },
  {
   "cell_type": "markdown",
   "id": "4ec7ddd9",
   "metadata": {},
   "source": [
    "Selon ces résultats, il semble que le RandomForestClassifier a les meilleures performances globales, avec la plus grande précision, rappel et score F1. Le classificateur de régression logistique se comporte également bien, avec une précision légèrement inférieure."
   ]
  },
  {
   "cell_type": "markdown",
   "id": "7324f513",
   "metadata": {},
   "source": [
    "Cependant, le RandomForestClassifier est aussi le seul à nécessiter un temps d'entraînement aussi long."
   ]
  },
  {
   "cell_type": "code",
   "execution_count": 153,
   "id": "6bf9dac1",
   "metadata": {},
   "outputs": [],
   "source": [
    "def plot_results(results_df):\n",
    "    \n",
    "    # Create a figure with 5 subplots\n",
    "    fig, axs = plt.subplots(2, 3, figsize=(20,10))\n",
    "    # Set a color palette\n",
    "    my_palette = sns.color_palette(\"husl\", 5)\n",
    "    \n",
    "    # Set the x-axis to be a range of numerical values\n",
    "    x = range(len(results_df))\n",
    "    scoring_methods = ['Accuracy','Precision','Recall','F1 Score','Jaccard Score', 'Time (s)']\n",
    "    \n",
    "    # Create a bar plot for each subplot\n",
    "    sns.barplot(x='Classifier', y='Accuracy', data=results_df, ax=axs[0,0], palette=my_palette, label='Accuracy')\n",
    "    sns.barplot(x='Classifier', y='Precision', data=results_df, ax=axs[0,1], palette=my_palette, label='Precision')\n",
    "    sns.barplot(x='Classifier', y='Recall', data=results_df, ax=axs[0,2], palette=my_palette, label='Recall')\n",
    "    sns.barplot(x='Classifier', y='F1 Score', data=results_df, ax=axs[1,0], palette=my_palette, label='F1 Score')\n",
    "    sns.barplot(x='Classifier', y='Jaccard Score', data=results_df, ax=axs[1,1], palette=my_palette, label='Jaccard Score')\n",
    "    sns.barplot(x='Classifier', y='Time (s)', data=results_df, ax=axs[1,2], palette=my_palette, label='Time (s)')\n",
    "    \n",
    "    # Add classifier names to x-axis\n",
    "    for i in range(2):\n",
    "        for j in range(3):\n",
    "            axs[i,j].set_title(scoring_methods[i*3+j])\n",
    "            axs[i,j].set_xticks(x)\n",
    "            axs[i,j].set_xlabel('')\n",
    "            \n",
    "            if j == 0:\n",
    "                axs[i,j].set_ylabel('Score')\n",
    "            else:\n",
    "                axs[i,j].set_ylabel('')\n",
    "            \n",
    "            if i == 1:\n",
    "                axs[i,j].set_xticklabels(results_df['Classifier'], rotation=90)\n",
    "            else:\n",
    "                axs[i,j].set_xticklabels('')\n",
    "            \n",
    "    plt.show()"
   ]
  },
  {
   "cell_type": "code",
   "execution_count": 163,
   "id": "bebb1797",
   "metadata": {},
   "outputs": [
    {
     "data": {
      "image/png": "[encoded data removed]",
      "text/plain": [
       "<Figure size 2000x1000 with 6 Axes>"
      ]
     },
     "metadata": {},
     "output_type": "display_data"
    }
   ],
   "source": [
    "# Call the plot_results function\n",
    "plot_results(results_df_CountVectorizer)"
   ]
  },
  {
   "cell_type": "code",
   "execution_count": null,
   "id": "4730005c",
   "metadata": {},
   "outputs": [],
   "source": [
    "# Initialize the vectorizer\n",
    "vectorizer = TfidfVectorizer(vocabulary=vocabulary_texts)"
   ]
  },
  {
   "cell_type": "code",
   "execution_count": null,
   "id": "183b758b",
   "metadata": {},
   "outputs": [],
   "source": [
    "results_df_TfidfVectorizer = calculate_supervised_scores(flat_texts, tags_mlb, vectorizer, classifiers)"
   ]
  },
  {
   "cell_type": "code",
   "execution_count": null,
   "id": "e7b9ea3b",
   "metadata": {},
   "outputs": [],
   "source": [
    "results_df_TfidfVectorizer"
   ]
  },
  {
   "cell_type": "code",
   "execution_count": null,
   "id": "1bf8db14",
   "metadata": {},
   "outputs": [],
   "source": [
    "# Call the plot_results function\n",
    "plot_results(results_df_TfidfVectorizer)"
   ]
  },
  {
   "cell_type": "markdown",
   "id": "3de6aede",
   "metadata": {},
   "source": [
    "Le RandomForestClassifier obtient les meilleurs scores, peu importe le vectorizer utilisé."
   ]
  },
  {
   "cell_type": "code",
   "execution_count": null,
   "id": "e4cdc2a4",
   "metadata": {},
   "outputs": [],
   "source": [
    "results_RFC = pd.DataFrame(columns=['Accuracy', 'Precision', 'Recall', 'F1 Score', 'Jaccard Score'])\n",
    "results_RFC = results_RFC.append(results_df_CountVectorizer.iloc[2,1:]).reset_index(drop=True)\n",
    "results_RFC = results_RFC.append(results_df_TfidfVectorizer.iloc[2,1:]).reset_index(drop=True)\n",
    "results_RFC['Classifier'] = ['CountVectorizer', 'TfidfVectorizer']\n",
    "results_RFC"
   ]
  },
  {
   "cell_type": "code",
   "execution_count": null,
   "id": "1525fe72",
   "metadata": {},
   "outputs": [],
   "source": [
    "# Call the plot_results function\n",
    "plot_results(results_RFC)"
   ]
  },
  {
   "cell_type": "markdown",
   "id": "8f267676",
   "metadata": {},
   "source": [
    "CountVectorizer permet d'avoir des performances similaires avec un temps d'entraînement plus court que TfidfVectorizer."
   ]
  },
  {
   "cell_type": "markdown",
   "id": "e8bbff03",
   "metadata": {},
   "source": [
    "## <font color=\"#114b98\" id=\"section_4\">4. Approche supervisée avec Word Embedding : Word2Vec</font>"
   ]
  },
  {
   "cell_type": "code",
   "execution_count": 167,
   "id": "cdc479b2",
   "metadata": {},
   "outputs": [],
   "source": [
    "from gensim.models import Word2Vec\n",
    "from sklearn.linear_model import LogisticRegression\n",
    "from sklearn.multiclass import OneVsRestClassifier\n",
    "from sklearn.preprocessing import LabelBinarizer\n",
    "from sklearn.metrics import multilabel_confusion_matrix"
   ]
  },
  {
   "cell_type": "code",
   "execution_count": 168,
   "id": "9fdb311e",
   "metadata": {},
   "outputs": [],
   "source": [
    "# Split the data into train and test sets\n",
    "X_train, X_test, y_train, y_test = train_test_split(texts_list, tags_mlb, test_size=0.2, random_state=42)"
   ]
  },
  {
   "cell_type": "code",
   "execution_count": 169,
   "id": "cb0b0888",
   "metadata": {},
   "outputs": [],
   "source": [
    "# Train the Word2Vec model on your text data\n",
    "w2v_model = Word2Vec(X_train, vector_size=1000, window=5, min_count=5, workers=4)"
   ]
  },
  {
   "cell_type": "code",
   "execution_count": 170,
   "id": "6252ba87",
   "metadata": {},
   "outputs": [],
   "source": [
    "# Create a vocabulary of only the words in the text data that are in the word2vec model\n",
    "vocab = set(w2v_model.wv.key_to_index.keys())"
   ]
  },
  {
   "cell_type": "code",
   "execution_count": 171,
   "id": "bf5b3572",
   "metadata": {},
   "outputs": [],
   "source": [
    "# Filter the text data to only include words in the vocabulary\n",
    "X_train = [[word for word in sublist if word in vocab] for sublist in X_train]\n",
    "X_test = [[word for word in sublist if word in vocab] for sublist in X_test]"
   ]
  },
  {
   "cell_type": "code",
   "execution_count": 172,
   "id": "fb2097c5",
   "metadata": {},
   "outputs": [],
   "source": [
    "# Remove any observations that have no words in the vocabulary\n",
    "train_removed_indexes = []\n",
    "test_removed_indexes = []\n",
    "for i, sublist in enumerate(X_train):\n",
    "    if not any(word in vocab for word in sublist):\n",
    "        train_removed_indexes.append(i)\n",
    "for i, sublist in enumerate(X_test):\n",
    "    if not any(word in vocab for word in sublist):\n",
    "        test_removed_indexes.append(i)"
   ]
  },
  {
   "cell_type": "code",
   "execution_count": 173,
   "id": "fde4e912",
   "metadata": {},
   "outputs": [],
   "source": [
    "X_train = [x for i, x in enumerate(X_train) if i not in train_removed_indexes]\n",
    "X_test = [x for i, x in enumerate(X_test) if i not in test_removed_indexes]\n",
    "y_train = [x for i, x in enumerate(y_train) if i not in train_removed_indexes]\n",
    "y_test = [x for i, x in enumerate(y_test) if i not in test_removed_indexes]"
   ]
  },
  {
   "cell_type": "code",
   "execution_count": 174,
   "id": "28f1f344",
   "metadata": {},
   "outputs": [],
   "source": [
    "# Create embeddings for train and test data\n",
    "X_train_embedded = [np.mean([w2v_model.wv[word] for word in sentence], axis=0) for sentence in X_train]\n",
    "X_test_embedded = [np.mean([w2v_model.wv[word] for word in sentence], axis=0) for sentence in X_test]"
   ]
  },
  {
   "cell_type": "code",
   "execution_count": 175,
   "id": "b18fa4c5",
   "metadata": {},
   "outputs": [],
   "source": [
    "clf = OneVsRestClassifier(LogisticRegression(random_state=42))"
   ]
  },
  {
   "cell_type": "code",
   "execution_count": 176,
   "id": "8d36fc8a",
   "metadata": {},
   "outputs": [
    {
     "data": {
      "text/html": [
       "<style>#sk-container-id-3 {color: black;background-color: white;}#sk-container-id-3 pre{padding: 0;}#sk-container-id-3 div.sk-toggleable {background-color: white;}#sk-container-id-3 label.sk-toggleable__label {cursor: pointer;display: block;width: 100%;margin-bottom: 0;padding: 0.3em;box-sizing: border-box;text-align: center;}#sk-container-id-3 label.sk-toggleable__label-arrow:before {content: \"▸\";float: left;margin-right: 0.25em;color: #696969;}#sk-container-id-3 label.sk-toggleable__label-arrow:hover:before {color: black;}#sk-container-id-3 div.sk-estimator:hover label.sk-toggleable__label-arrow:before {color: black;}#sk-container-id-3 div.sk-toggleable__content {max-height: 0;max-width: 0;overflow: hidden;text-align: left;background-color: #f0f8ff;}#sk-container-id-3 div.sk-toggleable__content pre {margin: 0.2em;color: black;border-radius: 0.25em;background-color: #f0f8ff;}#sk-container-id-3 input.sk-toggleable__control:checked~div.sk-toggleable__content {max-height: 200px;max-width: 100%;overflow: auto;}#sk-container-id-3 input.sk-toggleable__control:checked~label.sk-toggleable__label-arrow:before {content: \"▾\";}#sk-container-id-3 div.sk-estimator input.sk-toggleable__control:checked~label.sk-toggleable__label {background-color: #d4ebff;}#sk-container-id-3 div.sk-label input.sk-toggleable__control:checked~label.sk-toggleable__label {background-color: #d4ebff;}#sk-container-id-3 input.sk-hidden--visually {border: 0;clip: rect(1px 1px 1px 1px);clip: rect(1px, 1px, 1px, 1px);height: 1px;margin: -1px;overflow: hidden;padding: 0;position: absolute;width: 1px;}#sk-container-id-3 div.sk-estimator {font-family: monospace;background-color: #f0f8ff;border: 1px dotted black;border-radius: 0.25em;box-sizing: border-box;margin-bottom: 0.5em;}#sk-container-id-3 div.sk-estimator:hover {background-color: #d4ebff;}#sk-container-id-3 div.sk-parallel-item::after {content: \"\";width: 100%;border-bottom: 1px solid gray;flex-grow: 1;}#sk-container-id-3 div.sk-label:hover label.sk-toggleable__label {background-color: #d4ebff;}#sk-container-id-3 div.sk-serial::before {content: \"\";position: absolute;border-left: 1px solid gray;box-sizing: border-box;top: 0;bottom: 0;left: 50%;z-index: 0;}#sk-container-id-3 div.sk-serial {display: flex;flex-direction: column;align-items: center;background-color: white;padding-right: 0.2em;padding-left: 0.2em;position: relative;}#sk-container-id-3 div.sk-item {position: relative;z-index: 1;}#sk-container-id-3 div.sk-parallel {display: flex;align-items: stretch;justify-content: center;background-color: white;position: relative;}#sk-container-id-3 div.sk-item::before, #sk-container-id-3 div.sk-parallel-item::before {content: \"\";position: absolute;border-left: 1px solid gray;box-sizing: border-box;top: 0;bottom: 0;left: 50%;z-index: -1;}#sk-container-id-3 div.sk-parallel-item {display: flex;flex-direction: column;z-index: 1;position: relative;background-color: white;}#sk-container-id-3 div.sk-parallel-item:first-child::after {align-self: flex-end;width: 50%;}#sk-container-id-3 div.sk-parallel-item:last-child::after {align-self: flex-start;width: 50%;}#sk-container-id-3 div.sk-parallel-item:only-child::after {width: 0;}#sk-container-id-3 div.sk-dashed-wrapped {border: 1px dashed gray;margin: 0 0.4em 0.5em 0.4em;box-sizing: border-box;padding-bottom: 0.4em;background-color: white;}#sk-container-id-3 div.sk-label label {font-family: monospace;font-weight: bold;display: inline-block;line-height: 1.2em;}#sk-container-id-3 div.sk-label-container {text-align: center;}#sk-container-id-3 div.sk-container {/* jupyter's `normalize.less` sets `[hidden] { display: none; }` but bootstrap.min.css set `[hidden] { display: none !important; }` so we also need the `!important` here to be able to override the default hidden behavior on the sphinx rendered scikit-learn.org. See: https://github.com/scikit-learn/scikit-learn/issues/21755 */display: inline-block !important;position: relative;}#sk-container-id-3 div.sk-text-repr-fallback {display: none;}</style><div id=\"sk-container-id-3\" class=\"sk-top-container\"><div class=\"sk-text-repr-fallback\"><pre>OneVsRestClassifier(estimator=LogisticRegression(random_state=42))</pre><b>In a Jupyter environment, please rerun this cell to show the HTML representation or trust the notebook. <br />On GitHub, the HTML representation is unable to render, please try loading this page with nbviewer.org.</b></div><div class=\"sk-container\" hidden><div class=\"sk-item sk-dashed-wrapped\"><div class=\"sk-label-container\"><div class=\"sk-label sk-toggleable\"><input class=\"sk-toggleable__control sk-hidden--visually\" id=\"sk-estimator-id-7\" type=\"checkbox\" ><label for=\"sk-estimator-id-7\" class=\"sk-toggleable__label sk-toggleable__label-arrow\">OneVsRestClassifier</label><div class=\"sk-toggleable__content\"><pre>OneVsRestClassifier(estimator=LogisticRegression(random_state=42))</pre></div></div></div><div class=\"sk-parallel\"><div class=\"sk-parallel-item\"><div class=\"sk-item\"><div class=\"sk-label-container\"><div class=\"sk-label sk-toggleable\"><input class=\"sk-toggleable__control sk-hidden--visually\" id=\"sk-estimator-id-8\" type=\"checkbox\" ><label for=\"sk-estimator-id-8\" class=\"sk-toggleable__label sk-toggleable__label-arrow\">estimator: LogisticRegression</label><div class=\"sk-toggleable__content\"><pre>LogisticRegression(random_state=42)</pre></div></div></div><div class=\"sk-serial\"><div class=\"sk-item\"><div class=\"sk-estimator sk-toggleable\"><input class=\"sk-toggleable__control sk-hidden--visually\" id=\"sk-estimator-id-9\" type=\"checkbox\" ><label for=\"sk-estimator-id-9\" class=\"sk-toggleable__label sk-toggleable__label-arrow\">LogisticRegression</label><div class=\"sk-toggleable__content\"><pre>LogisticRegression(random_state=42)</pre></div></div></div></div></div></div></div></div></div></div>"
      ],
      "text/plain": [
       "OneVsRestClassifier(estimator=LogisticRegression(random_state=42))"
      ]
     },
     "execution_count": 176,
     "metadata": {},
     "output_type": "execute_result"
    }
   ],
   "source": [
    "# Fit the classifier on the train data\n",
    "clf.fit(X_train_embedded, y_train)"
   ]
  },
  {
   "cell_type": "code",
   "execution_count": 177,
   "id": "b4e0058b",
   "metadata": {},
   "outputs": [],
   "source": [
    "# Make predictions on the test data\n",
    "y_pred = clf.predict(X_test_embedded)"
   ]
  },
  {
   "cell_type": "code",
   "execution_count": 178,
   "id": "06fcb39b",
   "metadata": {},
   "outputs": [
    {
     "name": "stdout",
     "output_type": "stream",
     "text": [
      "Accuracy: 0.67\n",
      "Precision: 0.82\n",
      "Recall: 1.00\n",
      "F1-Score: 0.90\n",
      "Jaccard Score: 0.82\n"
     ]
    }
   ],
   "source": [
    "# Calculate scores\n",
    "accuracy = accuracy_score(y_test, y_pred)\n",
    "precision = precision_score(y_test, y_pred, average='micro')\n",
    "recall = recall_score(y_test, y_pred, average='micro')\n",
    "f1 = f1_score(y_test, y_pred, average='micro')\n",
    "jaccard = jaccard_score(y_test, y_pred, average='samples')\n",
    "\n",
    "# Print the results\n",
    "print(\"Accuracy: {:.2f}\".format(accuracy))\n",
    "print(\"Precision: {:.2f}\".format(precision))\n",
    "print(\"Recall: {:.2f}\".format(recall))\n",
    "print(\"F1-Score: {:.2f}\".format(f1))\n",
    "print(\"Jaccard Score: {:.2f}\".format(jaccard))"
   ]
  },
  {
   "cell_type": "code",
   "execution_count": 179,
   "id": "42e9db3f",
   "metadata": {},
   "outputs": [],
   "source": [
    "CM = multilabel_confusion_matrix(y_test, y_pred)"
   ]
  },
  {
   "cell_type": "code",
   "execution_count": 180,
   "id": "ea19565e",
   "metadata": {},
   "outputs": [],
   "source": [
    "average_cm = np.mean(CM, axis=0)"
   ]
  },
  {
   "cell_type": "code",
   "execution_count": 181,
   "id": "55bbf72d",
   "metadata": {},
   "outputs": [
    {
     "data": {
      "text/plain": [
       "<AxesSubplot: >"
      ]
     },
     "execution_count": 181,
     "metadata": {},
     "output_type": "execute_result"
    },
    {
     "data": {
      "image/png": "[encoded data removed]",
      "text/plain": [
       "<Figure size 640x480 with 2 Axes>"
      ]
     },
     "metadata": {},
     "output_type": "display_data"
    }
   ],
   "source": [
    "sns.heatmap(average_cm, annot=True, cmap='Blues', fmt='.2g')"
   ]
  },
  {
   "cell_type": "code",
   "execution_count": 182,
   "id": "3f444170",
   "metadata": {},
   "outputs": [],
   "source": [
    "classifiers = [LogisticRegression(random_state=42, max_iter=300, tol=1e-5),\n",
    "               SGDClassifier(random_state=42, max_iter=300, tol=1e-5),\n",
    "               RandomForestClassifier(random_state=42),\n",
    "               KNeighborsClassifier()]"
   ]
  },
  {
   "cell_type": "code",
   "execution_count": 183,
   "id": "1721cc8e",
   "metadata": {},
   "outputs": [],
   "source": [
    "def calculate_supervised_word2vec(X_train, X_test, y_train, y_test, classifiers):\n",
    "    \n",
    "    # Create an empty dataframe to store the results\n",
    "    results_df = pd.DataFrame(columns=['Classifier', 'Accuracy', 'Precision', 'Recall',\n",
    "                                       'F1 Score', 'Jaccard Score', 'Time (s)'])\n",
    "    \n",
    "    # Fit an independent model for each class using the OneVsRestClassifier wrapper.\n",
    "    for clf in classifiers:\n",
    "        start_time = time.time()\n",
    "        ovrc = OneVsRestClassifier(clf)\n",
    "        ovrc.fit(X_train, y_train)\n",
    "        y_pred_ovrc = ovrc.predict(X_test)\n",
    "        end_time = time.time()\n",
    "        \n",
    "        accuracy = round(accuracy_score(y_test, y_pred_ovrc), 4)\n",
    "        precision = round(precision_score(y_test, y_pred_ovrc, average='samples'), 4)\n",
    "        recall = round(recall_score(y_test, y_pred_ovrc, average='samples'), 4)\n",
    "        f1 = round(f1_score(y_test, y_pred_ovrc, average='samples'), 4)\n",
    "        jaccard = round(jaccard_score(y_test, y_pred_ovrc, average='samples'), 4)\n",
    "        time_taken = round(end_time - start_time, 4)\n",
    "        \n",
    "        results_df = results_df.append({'Classifier': str(clf).split('(')[0], \n",
    "                                       'Accuracy': accuracy, \n",
    "                                       'Precision': precision, \n",
    "                                       'Recall': recall, \n",
    "                                       'F1 Score': f1, \n",
    "                                       'Jaccard Score': jaccard,\n",
    "                                       'Time (s)': time_taken}, \n",
    "                                       ignore_index=True)\n",
    "        \n",
    "    return results_df"
   ]
  },
  {
   "cell_type": "code",
   "execution_count": 184,
   "id": "20732a68",
   "metadata": {},
   "outputs": [],
   "source": [
    "results_df_word2vec = calculate_supervised_word2vec(X_train_embedded, X_test_embedded, y_train, y_test, classifiers)"
   ]
  },
  {
   "cell_type": "code",
   "execution_count": 185,
   "id": "55271bcd",
   "metadata": {},
   "outputs": [
    {
     "data": {
      "image/png": "[encoded data removed]",
      "text/plain": [
       "<Figure size 2000x1000 with 6 Axes>"
      ]
     },
     "metadata": {},
     "output_type": "display_data"
    }
   ],
   "source": [
    "# Call the plot_results function\n",
    "plot_results(results_df_word2vec)"
   ]
  },
  {
   "cell_type": "markdown",
   "id": "30ccdd5b",
   "metadata": {},
   "source": [
    "## <font color=\"#114b98\" id=\"section_5\">5. Approche supervisée avec Word Embedding : BERT</font>"
   ]
  },
  {
   "cell_type": "code",
   "execution_count": null,
   "id": "cc13e8a5",
   "metadata": {},
   "outputs": [],
   "source": [
    "# !pip install transformers"
   ]
  },
  {
   "cell_type": "code",
   "execution_count": null,
   "id": "14a27ff1",
   "metadata": {},
   "outputs": [],
   "source": [
    "# !pip install --user TensorFlow"
   ]
  },
  {
   "cell_type": "code",
   "execution_count": null,
   "id": "e9cc135e",
   "metadata": {},
   "outputs": [],
   "source": [
    "# !pip install torch"
   ]
  },
  {
   "cell_type": "code",
   "execution_count": null,
   "id": "26daaa3d",
   "metadata": {},
   "outputs": [],
   "source": [
    "# conda install pytorch torchvision torchaudio cpuonly -c pytorch"
   ]
  },
  {
   "cell_type": "code",
   "execution_count": null,
   "id": "b352f928",
   "metadata": {},
   "outputs": [],
   "source": [
    "from transformers import BertForSequenceClassification, AdamW, BertTokenizer\n",
    "import torch\n",
    "import torchvision"
   ]
  },
  {
   "cell_type": "code",
   "execution_count": null,
   "id": "1d511854",
   "metadata": {},
   "outputs": [],
   "source": [
    "# Load the BERT model and tokenizer\n",
    "model = BertForSequenceClassification.from_pretrained(\"bert-base-uncased\")\n",
    "tokenizer = BertTokenizer.from_pretrained(\"bert-base-uncased\")"
   ]
  },
  {
   "cell_type": "code",
   "execution_count": null,
   "id": "4e3db60e",
   "metadata": {},
   "outputs": [],
   "source": [
    "# Encode the text data as input for the BERT model\n",
    "input_ids = []\n",
    "attention_masks = []\n",
    "for text in flat_texts:\n",
    "    encoded_text = tokenizer.encode_plus(text, add_special_tokens=True, max_length=512, pad_to_max_length=True)\n",
    "    input_ids.append(encoded_text[\"input_ids\"])\n",
    "    attention_masks.append(encoded_text[\"attention_mask\"])"
   ]
  },
  {
   "cell_type": "code",
   "execution_count": null,
   "id": "65d3ce90",
   "metadata": {},
   "outputs": [],
   "source": [
    "# Convert the lists to PyTorch tensors\n",
    "input_ids = torch.tensor(input_ids)\n",
    "attention_masks = torch.tensor(attention_masks)\n",
    "labels = torch.tensor(flat_tags)"
   ]
  },
  {
   "cell_type": "code",
   "execution_count": null,
   "id": "0ece70d4",
   "metadata": {},
   "outputs": [],
   "source": [
    "# Split the data into training and test sets\n",
    "X_train, X_test, y_train, y_test = train_test_split(input_ids, labels, test_size=0.2)"
   ]
  },
  {
   "cell_type": "code",
   "execution_count": null,
   "id": "0cbdf78b",
   "metadata": {},
   "outputs": [],
   "source": [
    "# Create a DataLoader for the training set\n",
    "train_dataloader = torch.utils.data.DataLoader(\n",
    "    TensorDataset(X_train, y_train),\n",
    "    batch_size=32,\n",
    "    shuffle=True\n",
    ")"
   ]
  },
  {
   "cell_type": "code",
   "execution_count": null,
   "id": "816adf5b",
   "metadata": {},
   "outputs": [],
   "source": [
    "# Create an optimizer and scheduler for fine-tuning the BERT model\n",
    "optimizer = AdamW(model.parameters(), lr=2e-5)\n",
    "scheduler = get_linear_schedule_with_warmup(optimizer, num_warmup_steps=0, num_training_steps=len(train_dataloader) * 5)"
   ]
  },
  {
   "cell_type": "code",
   "execution_count": null,
   "id": "a88fd4e4",
   "metadata": {},
   "outputs": [],
   "source": [
    "# Fine-tune the BERT model on the training data\n",
    "for epoch in range(5):\n",
    "    model.train()\n",
    "    for step, batch in enumerate(train_dataloader):\n",
    "        input_ids, labels = batch\n",
    "        optimizer.zero_grad()\n",
    "        outputs = model(input_ids, attention_mask=attention_masks)\n",
    "        loss = criterion(outputs[0], labels)\n",
    "        loss.backward()\n",
    "        optimizer.step()\n",
    "        scheduler.step()"
   ]
  },
  {
   "cell_type": "code",
   "execution_count": null,
   "id": "815ec0cf",
   "metadata": {},
   "outputs": [],
   "source": [
    "# Make predictions on the test data\n",
    "model.eval()\n",
    "with torch.no_grad():\n",
    "    test_logits = model(X_test, attention_mask=attention_masks)"
   ]
  },
  {
   "cell_type": "code",
   "execution_count": null,
   "id": "db6ee2a1",
   "metadata": {},
   "outputs": [],
   "source": [
    "# Convert the logits to predictions\n",
    "test_preds = torch.argmax(test_logits, axis=1)"
   ]
  },
  {
   "cell_type": "code",
   "execution_count": null,
   "id": "76b0d2a8",
   "metadata": {},
   "outputs": [],
   "source": [
    "# Evaluate the model's accuracy on the test data\n",
    "print(accuracy_score(y_test, test_preds))"
   ]
  },
  {
   "cell_type": "code",
   "execution_count": null,
   "id": "8468cac4",
   "metadata": {},
   "outputs": [],
   "source": []
  },
  {
   "cell_type": "markdown",
   "id": "bddef9c4",
   "metadata": {},
   "source": [
    "## <font color=\"#114b98\" id=\"section_6\">6. Approche supervisée avec Sentence Embedding : USE</font>"
   ]
  },
  {
   "cell_type": "code",
   "execution_count": null,
   "id": "609096ea",
   "metadata": {},
   "outputs": [],
   "source": [
    "!pip install tensorflow"
   ]
  },
  {
   "cell_type": "code",
   "execution_count": null,
   "id": "56ae27b7",
   "metadata": {},
   "outputs": [],
   "source": [
    "!pip install tensorflow_hub"
   ]
  },
  {
   "cell_type": "code",
   "execution_count": null,
   "id": "28dff51d",
   "metadata": {},
   "outputs": [],
   "source": [
    "import tensorflow_hub as hub\n",
    "import tensorflow as tf"
   ]
  },
  {
   "cell_type": "code",
   "execution_count": null,
   "id": "3bfc9382",
   "metadata": {},
   "outputs": [],
   "source": [
    "# Load the USE model\n",
    "use_model = hub.load(\"https://tfhub.dev/google/universal-sentence-encoder/4\")"
   ]
  },
  {
   "cell_type": "code",
   "execution_count": null,
   "id": "693c54c9",
   "metadata": {},
   "outputs": [],
   "source": [
    "# Encode the text data as input for the USE model\n",
    "X = use_model(flat_texts).numpy()"
   ]
  },
  {
   "cell_type": "code",
   "execution_count": null,
   "id": "5b9c1511",
   "metadata": {},
   "outputs": [],
   "source": [
    "# Split the data into training and test sets\n",
    "X_train, X_test, y_train, y_test = train_test_split(X, flat_tags, test_size=0.2)"
   ]
  },
  {
   "cell_type": "code",
   "execution_count": null,
   "id": "087229b5",
   "metadata": {},
   "outputs": [],
   "source": [
    "y_train = np.array(y_train)\n",
    "y_test = np.array(y_test)"
   ]
  },
  {
   "cell_type": "code",
   "execution_count": null,
   "id": "522f11dd",
   "metadata": {},
   "outputs": [],
   "source": [
    "# Train a classifier on the encoded text data\n",
    "model = tf.keras.Sequential([\n",
    "    tf.keras.layers.Dense(512, activation='relu'),\n",
    "    tf.keras.layers.Dense(512, activation='relu'),\n",
    "    tf.keras.layers.Dense(len(np.unique(flat_tags)), activation='softmax')\n",
    "])"
   ]
  },
  {
   "cell_type": "code",
   "execution_count": null,
   "id": "5ac18a24",
   "metadata": {},
   "outputs": [],
   "source": [
    "model.compile(optimizer='adam', loss='sparse_categorical_crossentropy', metrics=['accuracy'])"
   ]
  },
  {
   "cell_type": "code",
   "execution_count": null,
   "id": "47764990",
   "metadata": {},
   "outputs": [],
   "source": [
    "history = model.fit(X_train, y_train, epochs=5, validation_data=(X_test, y_test))"
   ]
  },
  {
   "cell_type": "code",
   "execution_count": null,
   "id": "d9537692",
   "metadata": {},
   "outputs": [],
   "source": [
    "# Make predictions on the test data\n",
    "y_pred = model.predict(X_test)\n",
    "y_pred = np.argmax(y_pred, axis=1)"
   ]
  },
  {
   "cell_type": "code",
   "execution_count": null,
   "id": "e9014119",
   "metadata": {},
   "outputs": [],
   "source": [
    "# Evaluate the model's accuracy on the test data\n",
    "print(accuracy_score(y_test, y_pred))"
   ]
  },
  {
   "cell_type": "code",
   "execution_count": null,
   "id": "055932cf",
   "metadata": {},
   "outputs": [],
   "source": []
  }
 ],
 "metadata": {
  "kernelspec": {
   "display_name": "Python 3 (ipykernel)",
   "language": "python",
   "name": "python3"
  },
  "language_info": {
   "codemirror_mode": {
    "name": "ipython",
    "version": 3
   },
   "file_extension": ".py",
   "mimetype": "text/x-python",
   "name": "python",
   "nbconvert_exporter": "python",
   "pygments_lexer": "ipython3",
   "version": "3.9.16"
  }
 },
 "nbformat": 4,
 "nbformat_minor": 5
}
