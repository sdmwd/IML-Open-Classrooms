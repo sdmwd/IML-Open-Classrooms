{
 "cells": [
  {
   "cell_type": "markdown",
   "id": "40f0222a",
   "metadata": {},
   "source": [
    "# <font color=\"#114b98\">Catégorisez automatiquement des questions</font>"
   ]
  },
  {
   "cell_type": "markdown",
   "id": "5815ab77",
   "metadata": {},
   "source": [
    "## <font color=\"#114b98\">Notebook de test de différents modèles</font>"
   ]
  },
  {
   "cell_type": "markdown",
   "id": "06fb1151",
   "metadata": {},
   "source": [
    "**Stack Overflow** est un site célèbre de questions-réponses liées au développement informatique."
   ]
  },
  {
   "cell_type": "markdown",
   "id": "47d05297",
   "metadata": {},
   "source": [
    "L'objectif de ce projet est de développer un système de **suggestion de tags** pour ce site. Celui-ci prendra la forme d’un algorithme de machine learning qui assignera automatiquement plusieurs tags pertinents à une question."
   ]
  },
  {
   "cell_type": "markdown",
   "id": "cb25dcf2",
   "metadata": {},
   "source": [
    "**Livrable** : Un notebook de test de différents modèles"
   ]
  },
  {
   "cell_type": "markdown",
   "id": "b19c6190",
   "metadata": {},
   "source": [
    "**Objectifs** : Comparer les modèles et générer des tags pour chacun d'entre eux"
   ]
  },
  {
   "cell_type": "markdown",
   "id": "3378bec4",
   "metadata": {},
   "source": [
    "## <font color=\"#114b98\">Sommaire</font>\n",
    "[1. Chargement du jeu de données](#section_1)\n",
    "\n",
    "[2. Approche non supervisée](#section_2)\n",
    "\n",
    "[3. Approche supervisée](#section_3)\n",
    "\n",
    "[4. Approche supervisée avec Word Embedding : Word2Vec](#section_4)\n",
    "\n",
    "[5. Approche supervisée avec Word Embedding : BERT](#section_5)\n",
    "\n",
    "[6. Approche supervisée avec Sentence Embedding : USE](#section_6)"
   ]
  },
  {
   "cell_type": "markdown",
   "id": "37fb45a8",
   "metadata": {},
   "source": [
    "## <font color=\"#114b98\" id=\"section_1\">1. Chargement du jeu de données</font>"
   ]
  },
  {
   "cell_type": "code",
   "execution_count": 1,
   "id": "cbf8947d",
   "metadata": {},
   "outputs": [],
   "source": [
    "import pandas as pd\n",
    "import numpy as np\n",
    "import matplotlib.pyplot as plt\n",
    "import seaborn as sns\n",
    "import os\n",
    "import time\n",
    "import ast\n",
    "import random\n",
    "import warnings\n",
    "warnings.filterwarnings('ignore')\n",
    "%matplotlib inline"
   ]
  },
  {
   "cell_type": "code",
   "execution_count": 2,
   "id": "376698da",
   "metadata": {},
   "outputs": [],
   "source": [
    "import warnings\n",
    "warnings.filterwarnings(\"ignore\")"
   ]
  },
  {
   "cell_type": "code",
   "execution_count": 3,
   "id": "5b0ed41f",
   "metadata": {},
   "outputs": [],
   "source": [
    "plt.rc('axes', titlesize=22) \n",
    "plt.rc('axes', labelsize=18) \n",
    "titleprops = {'fontsize':20}\n",
    "textprops = {'fontsize':15}\n",
    "plt.style.use('ggplot')"
   ]
  },
  {
   "cell_type": "code",
   "execution_count": 4,
   "id": "1b96f07d",
   "metadata": {},
   "outputs": [
    {
     "data": {
      "text/plain": [
       "['data_cleaned.csv', 'data_cleaned_wo_tokenizer.csv', 'model.h5']"
      ]
     },
     "execution_count": 4,
     "metadata": {},
     "output_type": "execute_result"
    }
   ],
   "source": [
    "main_path = 'N:/5 - WORK/1 - Projets/Projet 5/'\n",
    "files = os.listdir(main_path+'saved_ressources/')\n",
    "files"
   ]
  },
  {
   "cell_type": "code",
   "execution_count": 5,
   "id": "9a251077",
   "metadata": {},
   "outputs": [],
   "source": [
    "data = pd.read_csv(main_path+'saved_ressources/'+'data_cleaned.csv', encoding='utf8')"
   ]
  },
  {
   "cell_type": "code",
   "execution_count": 6,
   "id": "876bc155",
   "metadata": {},
   "outputs": [],
   "source": [
    "data = data.applymap(lambda x: ast.literal_eval(x))"
   ]
  },
  {
   "cell_type": "code",
   "execution_count": 7,
   "id": "f0fd42dc",
   "metadata": {},
   "outputs": [
    {
     "data": {
      "text/html": [
       "<div>\n",
       "<style scoped>\n",
       "    .dataframe tbody tr th:only-of-type {\n",
       "        vertical-align: middle;\n",
       "    }\n",
       "\n",
       "    .dataframe tbody tr th {\n",
       "        vertical-align: top;\n",
       "    }\n",
       "\n",
       "    .dataframe thead th {\n",
       "        text-align: right;\n",
       "    }\n",
       "</style>\n",
       "<table border=\"1\" class=\"dataframe\">\n",
       "  <thead>\n",
       "    <tr style=\"text-align: right;\">\n",
       "      <th></th>\n",
       "      <th>Tags</th>\n",
       "      <th>Texts</th>\n",
       "    </tr>\n",
       "  </thead>\n",
       "  <tbody>\n",
       "    <tr>\n",
       "      <th>0</th>\n",
       "      <td>[macos, emacs, scheme, interpreter, sicp]</td>\n",
       "      <td>[scheme, interpreter, interpreter, python, int...</td>\n",
       "    </tr>\n",
       "    <tr>\n",
       "      <th>1</th>\n",
       "      <td>[c#, functional-programming, delegates, lambda...</td>\n",
       "      <td>[scope, bug, compiler, voidfunction, delegate,...</td>\n",
       "    </tr>\n",
       "    <tr>\n",
       "      <th>2</th>\n",
       "      <td>[mysql, database, arrays, postgresql, stored-p...</td>\n",
       "      <td>[pass, array, procedure, pass, array, procedur...</td>\n",
       "    </tr>\n",
       "    <tr>\n",
       "      <th>3</th>\n",
       "      <td>[ios, objective-c, iphone, cocoa-touch, uibutton]</td>\n",
       "      <td>[state, buttonwithtype, figure, button, state,...</td>\n",
       "    </tr>\n",
       "    <tr>\n",
       "      <th>4</th>\n",
       "      <td>[database, nhibernate, exception-handling, con...</td>\n",
       "      <td>[check, application, column, constraint, colum...</td>\n",
       "    </tr>\n",
       "  </tbody>\n",
       "</table>\n",
       "</div>"
      ],
      "text/plain": [
       "                                                Tags  \\\n",
       "0          [macos, emacs, scheme, interpreter, sicp]   \n",
       "1  [c#, functional-programming, delegates, lambda...   \n",
       "2  [mysql, database, arrays, postgresql, stored-p...   \n",
       "3  [ios, objective-c, iphone, cocoa-touch, uibutton]   \n",
       "4  [database, nhibernate, exception-handling, con...   \n",
       "\n",
       "                                               Texts  \n",
       "0  [scheme, interpreter, interpreter, python, int...  \n",
       "1  [scope, bug, compiler, voidfunction, delegate,...  \n",
       "2  [pass, array, procedure, pass, array, procedur...  \n",
       "3  [state, buttonwithtype, figure, button, state,...  \n",
       "4  [check, application, column, constraint, colum...  "
      ]
     },
     "execution_count": 7,
     "metadata": {},
     "output_type": "execute_result"
    }
   ],
   "source": [
    "data.head()"
   ]
  },
  {
   "cell_type": "code",
   "execution_count": 8,
   "id": "5aa4d2ad",
   "metadata": {},
   "outputs": [
    {
     "name": "stdout",
     "output_type": "stream",
     "text": [
      "<class 'pandas.core.frame.DataFrame'>\n",
      "RangeIndex: 159599 entries, 0 to 159598\n",
      "Data columns (total 2 columns):\n",
      " #   Column  Non-Null Count   Dtype \n",
      "---  ------  --------------   ----- \n",
      " 0   Tags    159599 non-null  object\n",
      " 1   Texts   159599 non-null  object\n",
      "dtypes: object(2)\n",
      "memory usage: 2.4+ MB\n"
     ]
    }
   ],
   "source": [
    "data.info()"
   ]
  },
  {
   "cell_type": "markdown",
   "id": "fa5d34fa",
   "metadata": {},
   "source": [
    "Le jeu de données est trop important pour les temps de calculs à ma disposition."
   ]
  },
  {
   "cell_type": "markdown",
   "id": "307ffd4f",
   "metadata": {},
   "source": [
    "J'ai deux possibilités : \n",
    "- prendre un sample de 5000 observations aléatoirement\n",
    "- prendre les 5000 observations pour lesquelles la similarité entre les deux colonnes est importante"
   ]
  },
  {
   "cell_type": "code",
   "execution_count": 9,
   "id": "4a7568d9",
   "metadata": {},
   "outputs": [],
   "source": [
    "# data_sample = data.sample(2000)\n",
    "# data_sample.reset_index(inplace=True, drop=True)\n",
    "# print(data_sample.shape)\n",
    "# data_sample.head()"
   ]
  },
  {
   "cell_type": "code",
   "execution_count": 10,
   "id": "9d247c02",
   "metadata": {},
   "outputs": [],
   "source": [
    "from typing import List"
   ]
  },
  {
   "cell_type": "code",
   "execution_count": 11,
   "id": "4d1a05dc",
   "metadata": {},
   "outputs": [
    {
     "name": "stdout",
     "output_type": "stream",
     "text": [
      "(2000, 2)\n"
     ]
    },
    {
     "data": {
      "text/html": [
       "<div>\n",
       "<style scoped>\n",
       "    .dataframe tbody tr th:only-of-type {\n",
       "        vertical-align: middle;\n",
       "    }\n",
       "\n",
       "    .dataframe tbody tr th {\n",
       "        vertical-align: top;\n",
       "    }\n",
       "\n",
       "    .dataframe thead th {\n",
       "        text-align: right;\n",
       "    }\n",
       "</style>\n",
       "<table border=\"1\" class=\"dataframe\">\n",
       "  <thead>\n",
       "    <tr style=\"text-align: right;\">\n",
       "      <th></th>\n",
       "      <th>Tags</th>\n",
       "      <th>Texts</th>\n",
       "    </tr>\n",
       "  </thead>\n",
       "  <tbody>\n",
       "    <tr>\n",
       "      <th>0</th>\n",
       "      <td>[javascript, jquery, string, date, object]</td>\n",
       "      <td>[jquery, javascript, convert, date, string, da...</td>\n",
       "    </tr>\n",
       "    <tr>\n",
       "      <th>1</th>\n",
       "      <td>[listview, javafx, tableview, scrollbar, hide]</td>\n",
       "      <td>[hide, scrollbar, listview, javafx, hide, scro...</td>\n",
       "    </tr>\n",
       "    <tr>\n",
       "      <th>2</th>\n",
       "      <td>[jpa, merge, entitymanager, persist, java-pers...</td>\n",
       "      <td>[jpa, entitymanager, merge, entitymanager, mer...</td>\n",
       "    </tr>\n",
       "    <tr>\n",
       "      <th>3</th>\n",
       "      <td>[python, django, image, gallery, portfolio]</td>\n",
       "      <td>[create, image, gallery, create, portfolio, dj...</td>\n",
       "    </tr>\n",
       "    <tr>\n",
       "      <th>4</th>\n",
       "      <td>[python, authentication, proxy, https, ntlm]</td>\n",
       "      <td>[python, https, proxy, ntlm, authentication, s...</td>\n",
       "    </tr>\n",
       "  </tbody>\n",
       "</table>\n",
       "</div>"
      ],
      "text/plain": [
       "                                                Tags  \\\n",
       "0         [javascript, jquery, string, date, object]   \n",
       "1     [listview, javafx, tableview, scrollbar, hide]   \n",
       "2  [jpa, merge, entitymanager, persist, java-pers...   \n",
       "3        [python, django, image, gallery, portfolio]   \n",
       "4       [python, authentication, proxy, https, ntlm]   \n",
       "\n",
       "                                               Texts  \n",
       "0  [jquery, javascript, convert, date, string, da...  \n",
       "1  [hide, scrollbar, listview, javafx, hide, scro...  \n",
       "2  [jpa, entitymanager, merge, entitymanager, mer...  \n",
       "3  [create, image, gallery, create, portfolio, dj...  \n",
       "4  [python, https, proxy, ntlm, authentication, s...  "
      ]
     },
     "execution_count": 11,
     "metadata": {},
     "output_type": "execute_result"
    }
   ],
   "source": [
    "def jaccard_similarity(list1: List[str], list2: List[str]) -> float:\n",
    "    set1 = set(list1)\n",
    "    set2 = set(list2)\n",
    "    intersection = set1.intersection(set2)\n",
    "    union = set1.union(set2)\n",
    "    jaccard_similarity = len(intersection) / len(union)\n",
    "    return jaccard_similarity\n",
    "\n",
    "def get_highest_similarity_rows(data: pd.DataFrame, col1, col2, n):\n",
    "    data[\"jaccard_similarity\"] = data.apply(lambda x: jaccard_similarity(x[col1], x[col2]), axis=1)\n",
    "    data = data.sort_values(by=\"jaccard_similarity\", ascending=False)\n",
    "    return data.head(n)\n",
    "\n",
    "\n",
    "data_sample = get_highest_similarity_rows(data, \"Tags\", \"Texts\", 2000)\n",
    "data_sample.drop(['jaccard_similarity'], axis=1, inplace=True)\n",
    "data_sample.reset_index(inplace=True, drop=True)\n",
    "print(data_sample.shape)\n",
    "data_sample.head()"
   ]
  },
  {
   "cell_type": "code",
   "execution_count": 12,
   "id": "b138a466",
   "metadata": {},
   "outputs": [],
   "source": [
    "texts_list = data_sample[\"Texts\"].to_list()\n",
    "tags_list = data_sample[\"Tags\"].to_list()"
   ]
  },
  {
   "cell_type": "code",
   "execution_count": 13,
   "id": "721078cd",
   "metadata": {},
   "outputs": [],
   "source": [
    "flat_texts = [\" \".join(text) for text in texts_list]\n",
    "flat_tags = [\" \".join(tag) for tag in tags_list]"
   ]
  },
  {
   "cell_type": "code",
   "execution_count": 14,
   "id": "60b05e38",
   "metadata": {},
   "outputs": [],
   "source": [
    "vocabulary_texts = list(set([word for item in texts_list for word in item]))\n",
    "vocabulary_tags = list(set([word for item in tags_list for word in item]))"
   ]
  },
  {
   "cell_type": "markdown",
   "id": "8ef2b074",
   "metadata": {},
   "source": [
    "## <font color=\"#114b98\" id=\"section_2\">2. Approche non supervisée</font>"
   ]
  },
  {
   "cell_type": "code",
   "execution_count": 15,
   "id": "000d5c77",
   "metadata": {},
   "outputs": [],
   "source": [
    "from sklearn.decomposition import LatentDirichletAllocation, NMF\n",
    "from sklearn.metrics import silhouette_score\n",
    "import matplotlib.pyplot as plt\n",
    "from sklearn.feature_extraction.text import CountVectorizer\n",
    "from sklearn.feature_extraction.text import TfidfVectorizer\n",
    "from sklearn.metrics import f1_score, accuracy_score, jaccard_score, precision_score\n",
    "from sklearn.preprocessing import MultiLabelBinarizer\n",
    "from gensim.corpora.dictionary import Dictionary\n",
    "from gensim.models.coherencemodel import CoherenceModel\n",
    "from gensim.models import Nmf\n",
    "from gensim.models.ldamodel import LdaModel\n",
    "from gensim.matutils import corpus2dense\n",
    "from sklearn.model_selection import train_test_split"
   ]
  },
  {
   "cell_type": "markdown",
   "id": "af8eb174",
   "metadata": {},
   "source": [
    "LDA (Latent Dirichlet Allocation) est une technique de topic modeling qui permet de découvrir les thèmes cachés (ou \"latents\") dans un ensemble de textes. Elle permet de regrouper des textes qui traitent des mêmes sujets."
   ]
  },
  {
   "cell_type": "markdown",
   "id": "8dea29ec",
   "metadata": {},
   "source": [
    "La classe LdaModel de gensim est basée sur l'algorithme d'allocation latente de Dirichlet (LDA), qui est un modèle probabiliste génératif utilisé pour découvrir les sujets cachés dans un corpus de textes. La classe LatentDirichletAllocation de scikit-learn est également basée sur l'algorithme LDA, mais elle peut avoir des différences en termes d'implémentation, comme l'algorithme d'optimisation utilisé ou les paramètres disponibles."
   ]
  },
  {
   "cell_type": "markdown",
   "id": "b0ea0e17",
   "metadata": {},
   "source": [
    "NMF (Non-negative Matrix Factorization) est une autre technique de topic modeling qui permet de décomposer une matrice document-terme en deux matrices de facteurs non-négatifs. Elle est souvent utilisée pour découvrir les thèmes cachés dans des textes."
   ]
  },
  {
   "cell_type": "markdown",
   "id": "d96332ae",
   "metadata": {},
   "source": [
    "La classe gensim Nmf est basée sur l'algorithme de factorisation de matrice non-négative, qui est différente de la classe NMF de scikit-learn, qui est basée sur la méthode de gradient projeté."
   ]
  },
  {
   "cell_type": "code",
   "execution_count": 16,
   "id": "35595bb6",
   "metadata": {},
   "outputs": [],
   "source": [
    "def determine_optimal_num_topics(data, vectorizer, n_topics_range, texts_list):\n",
    "    \"\"\"\n",
    "    Given data, a vectorizer, a range of number of topics to test, and the list of texts,\n",
    "    applies the models to the data and plots the silhouette and coherence scores to help \n",
    "    determine the optimal number of topics.\n",
    "    \n",
    "    \"\"\"\n",
    "\n",
    "    # Vectorize the data\n",
    "    data = vectorizer.fit_transform(data)\n",
    "    dictionary = Dictionary(texts_list)\n",
    "    corpus = [dictionary.doc2bow(txt) for txt in texts_list]\n",
    "\n",
    "    # Initialize lists to store scores for LDA and NMF\n",
    "    lda_scores = []\n",
    "    nmf_scores = []\n",
    "    coherence_nmf = []\n",
    "    coherence_lda = []\n",
    "\n",
    "    # Loop through the range of number of topics\n",
    "    for n_topics in n_topics_range:\n",
    "        \n",
    "        # Calculate the silhouette score for the LDA model\n",
    "        lda = LatentDirichletAllocation(n_components=n_topics, max_iter=1000)\n",
    "        lda.fit(data)\n",
    "        topic_assignments = lda.transform(data)\n",
    "        labels = np.argmax(topic_assignments, axis=1)\n",
    "        lda_scores.append(silhouette_score(topic_assignments, labels, metric='euclidean'))\n",
    "        \n",
    "        # Calculate the silhouette score for the NMF model\n",
    "        nmf = NMF(n_components=n_topics, max_iter=1000)\n",
    "        nmf.fit(data)\n",
    "        topic_assignments = nmf.transform(data)\n",
    "        labels = np.argmax(topic_assignments, axis=1)\n",
    "        nmf_scores.append(silhouette_score(topic_assignments, labels, metric='euclidean'))\n",
    "        \n",
    "        # Calculate the coherence score for the LDA model\n",
    "        lda = LdaModel(corpus, num_topics=n_topics, id2word=dictionary)\n",
    "        cm_lda = CoherenceModel(model=lda, texts=texts_list, dictionary=dictionary, coherence='c_v')\n",
    "        coherence_lda.append(cm_lda.get_coherence())\n",
    "            \n",
    "        # Calculate the coherence score for the NMF model\n",
    "        nmf = Nmf(corpus, num_topics=n_topics, id2word=dictionary)\n",
    "        cm_nmf = CoherenceModel(model=nmf, texts=texts_list, dictionary=dictionary, coherence='c_v')\n",
    "        coherence_nmf.append(cm_nmf.get_coherence())\n",
    "     \n",
    "    scores = pd.DataFrame(columns=['topics_silhouette',\n",
    "                                   'score_silhouette',\n",
    "                                   'topics_coherence',\n",
    "                                   'score_coherence'], \n",
    "                          index=['LDA', 'NMF'])\n",
    "\n",
    "    scores['topics_silhouette'] = [n_topics_range[np.argmax(lda_scores)], n_topics_range[np.argmax(nmf_scores)]]\n",
    "    scores['score_silhouette'] = [max(lda_scores), max(nmf_scores)]\n",
    "    scores['topics_coherence'] = [n_topics_range[np.argmax(coherence_lda)], n_topics_range[np.argmax(coherence_nmf)]]\n",
    "    scores['score_coherence'] = [max(coherence_lda), max(coherence_nmf)]\n",
    "    \n",
    "    fig, (ax1, ax2) = plt.subplots(1, 2, figsize=(12, 4))\n",
    "    \n",
    "    plt.suptitle('Scores de Silhouette et de Coherence pour LDA et NMF avec {}'.format(str(vectorizer).split('(')[0]))\n",
    "    \n",
    "    ax1.plot(n_topics_range, lda_scores, label='LDA')\n",
    "    ax1.plot(n_topics_range, nmf_scores, label='NMF')\n",
    "    ax1.set_xlabel('Number of Topics')\n",
    "    ax1.set_ylabel('Silhouette score')\n",
    "    ax1.legend()\n",
    "\n",
    "    ax2.plot(n_topics_range, coherence_lda, label='LDA')\n",
    "    ax2.plot(n_topics_range, coherence_nmf, label='NMF')\n",
    "    ax2.set_xlabel('Number of Topics')\n",
    "    ax2.set_ylabel('Coherence score')\n",
    "    ax2.legend()\n",
    "\n",
    "    plt.show()\n",
    "    \n",
    "    return scores"
   ]
  },
  {
   "cell_type": "code",
   "execution_count": 17,
   "id": "b21431fd",
   "metadata": {},
   "outputs": [],
   "source": [
    "# Define the range of number of topics to test\n",
    "n_topics_range = range(2, 24, 3)"
   ]
  },
  {
   "cell_type": "markdown",
   "id": "3537d01f",
   "metadata": {},
   "source": [
    "CountVectorizer() est une implémentation de l'approche bag-of-words pour la vectorisation de textes. Il convertit un ensemble de documents en un tableau de compte de mots (ou un sac de mots), où chaque ligne représente un document et chaque colonne représente un mot. Le nombre dans chaque cellule est le nombre de fois où le mot correspondant est présent dans le document correspondant."
   ]
  },
  {
   "cell_type": "code",
   "execution_count": 18,
   "id": "898dfba5",
   "metadata": {},
   "outputs": [],
   "source": [
    "# Initialize the vectorizer\n",
    "vectorizer = CountVectorizer()"
   ]
  },
  {
   "cell_type": "code",
   "execution_count": 19,
   "id": "09910832",
   "metadata": {},
   "outputs": [
    {
     "data": {
      "image/png": "[encoded data removed]",
      "text/plain": [
       "<Figure size 1200x400 with 2 Axes>"
      ]
     },
     "metadata": {},
     "output_type": "display_data"
    }
   ],
   "source": [
    "nmf_and_lda_models_with_CountVectorizer = determine_optimal_num_topics(flat_texts,\n",
    "                                                                       vectorizer,\n",
    "                                                                       n_topics_range,\n",
    "                                                                       texts_list)"
   ]
  },
  {
   "cell_type": "code",
   "execution_count": 20,
   "id": "b8734e47",
   "metadata": {},
   "outputs": [
    {
     "data": {
      "text/html": [
       "<div>\n",
       "<style scoped>\n",
       "    .dataframe tbody tr th:only-of-type {\n",
       "        vertical-align: middle;\n",
       "    }\n",
       "\n",
       "    .dataframe tbody tr th {\n",
       "        vertical-align: top;\n",
       "    }\n",
       "\n",
       "    .dataframe thead th {\n",
       "        text-align: right;\n",
       "    }\n",
       "</style>\n",
       "<table border=\"1\" class=\"dataframe\">\n",
       "  <thead>\n",
       "    <tr style=\"text-align: right;\">\n",
       "      <th></th>\n",
       "      <th>topics_silhouette</th>\n",
       "      <th>score_silhouette</th>\n",
       "      <th>topics_coherence</th>\n",
       "      <th>score_coherence</th>\n",
       "    </tr>\n",
       "  </thead>\n",
       "  <tbody>\n",
       "    <tr>\n",
       "      <th>LDA</th>\n",
       "      <td>2</td>\n",
       "      <td>0.812916</td>\n",
       "      <td>23</td>\n",
       "      <td>0.368562</td>\n",
       "    </tr>\n",
       "    <tr>\n",
       "      <th>NMF</th>\n",
       "      <td>2</td>\n",
       "      <td>0.511830</td>\n",
       "      <td>23</td>\n",
       "      <td>0.461351</td>\n",
       "    </tr>\n",
       "  </tbody>\n",
       "</table>\n",
       "</div>"
      ],
      "text/plain": [
       "     topics_silhouette  score_silhouette  topics_coherence  score_coherence\n",
       "LDA                  2          0.812916                23         0.368562\n",
       "NMF                  2          0.511830                23         0.461351"
      ]
     },
     "execution_count": 20,
     "metadata": {},
     "output_type": "execute_result"
    }
   ],
   "source": [
    "nmf_and_lda_models_with_CountVectorizer"
   ]
  },
  {
   "cell_type": "markdown",
   "id": "5a118024",
   "metadata": {},
   "source": [
    "TF-IDF (term frequency-inverse document frequency) est une technique utilisée pour pondérer les termes dans les textes en fonction de leur fréquence d'apparition. Elle permet de donner plus de poids aux termes qui apparaissent fréquemment dans un document mais rarement dans l'ensemble des documents."
   ]
  },
  {
   "cell_type": "code",
   "execution_count": 21,
   "id": "1bd433b6",
   "metadata": {},
   "outputs": [],
   "source": [
    "# Initialize the vectorizer\n",
    "vectorizer = TfidfVectorizer(vocabulary=vocabulary_texts)"
   ]
  },
  {
   "cell_type": "code",
   "execution_count": 22,
   "id": "fce7ca9b",
   "metadata": {},
   "outputs": [
    {
     "data": {
      "image/png": "[encoded data removed]",
      "text/plain": [
       "<Figure size 1200x400 with 2 Axes>"
      ]
     },
     "metadata": {},
     "output_type": "display_data"
    }
   ],
   "source": [
    "nmf_and_lda_models_with_TfidfVectorizer= determine_optimal_num_topics(flat_texts,\n",
    "                                                                      vectorizer,\n",
    "                                                                      n_topics_range,\n",
    "                                                                      texts_list)"
   ]
  },
  {
   "cell_type": "code",
   "execution_count": 23,
   "id": "959aea11",
   "metadata": {},
   "outputs": [
    {
     "data": {
      "text/html": [
       "<div>\n",
       "<style scoped>\n",
       "    .dataframe tbody tr th:only-of-type {\n",
       "        vertical-align: middle;\n",
       "    }\n",
       "\n",
       "    .dataframe tbody tr th {\n",
       "        vertical-align: top;\n",
       "    }\n",
       "\n",
       "    .dataframe thead th {\n",
       "        text-align: right;\n",
       "    }\n",
       "</style>\n",
       "<table border=\"1\" class=\"dataframe\">\n",
       "  <thead>\n",
       "    <tr style=\"text-align: right;\">\n",
       "      <th></th>\n",
       "      <th>topics_silhouette</th>\n",
       "      <th>score_silhouette</th>\n",
       "      <th>topics_coherence</th>\n",
       "      <th>score_coherence</th>\n",
       "    </tr>\n",
       "  </thead>\n",
       "  <tbody>\n",
       "    <tr>\n",
       "      <th>LDA</th>\n",
       "      <td>2</td>\n",
       "      <td>0.806473</td>\n",
       "      <td>23</td>\n",
       "      <td>0.382433</td>\n",
       "    </tr>\n",
       "    <tr>\n",
       "      <th>NMF</th>\n",
       "      <td>2</td>\n",
       "      <td>0.425428</td>\n",
       "      <td>23</td>\n",
       "      <td>0.477688</td>\n",
       "    </tr>\n",
       "  </tbody>\n",
       "</table>\n",
       "</div>"
      ],
      "text/plain": [
       "     topics_silhouette  score_silhouette  topics_coherence  score_coherence\n",
       "LDA                  2          0.806473                23         0.382433\n",
       "NMF                  2          0.425428                23         0.477688"
      ]
     },
     "execution_count": 23,
     "metadata": {},
     "output_type": "execute_result"
    }
   ],
   "source": [
    "nmf_and_lda_models_with_TfidfVectorizer"
   ]
  },
  {
   "cell_type": "markdown",
   "id": "0aa9623f",
   "metadata": {},
   "source": [
    "Le score de silhouette mesure la similarité d'un objet à son propre groupe par rapport aux autres groupes et généralement, plus il est proche de 1, meilleure est la classification. Le score de cohérence mesure à quel point les sujets sont \"interprétables par les humains\", généralement plus proche de 1, meilleur c'est."
   ]
  },
  {
   "cell_type": "markdown",
   "id": "e1adfb6d",
   "metadata": {},
   "source": [
    "Dans notre situation, lorsque le nombre de sujets augmente, ils davantage \"interprétables par les humains\"."
   ]
  },
  {
   "cell_type": "markdown",
   "id": "8b1a1e69",
   "metadata": {},
   "source": [
    "Nous devons maintenant essayer d'obtenir des tags en utilisant ces méthodes."
   ]
  },
  {
   "cell_type": "markdown",
   "id": "66c78d4a",
   "metadata": {},
   "source": [
    "Je choisis d'utiliser uniquement LDA pour la suite car c'est la méthode qui obtient les meilleurs scores de silhouette."
   ]
  },
  {
   "cell_type": "markdown",
   "id": "715fa5a5",
   "metadata": {},
   "source": [
    "Le paramètre min_df définit le nombre minimum de documents dans lesquels un mot doit être présent pour être inclus dans le vocabulaire."
   ]
  },
  {
   "cell_type": "code",
   "execution_count": 24,
   "id": "cdc9a1ad",
   "metadata": {},
   "outputs": [],
   "source": [
    "min_df=50"
   ]
  },
  {
   "cell_type": "markdown",
   "id": "8f264637",
   "metadata": {},
   "source": [
    "Le paramètre max_df définit la fréquence maximale d'un mot en pourcentage de tous les documents. "
   ]
  },
  {
   "cell_type": "code",
   "execution_count": 25,
   "id": "4e8132fb",
   "metadata": {},
   "outputs": [],
   "source": [
    "max_df=0.5"
   ]
  },
  {
   "cell_type": "markdown",
   "id": "d646e4df",
   "metadata": {},
   "source": [
    "Je choisis le nombre de topics au regard des résultats précédents."
   ]
  },
  {
   "cell_type": "code",
   "execution_count": 26,
   "id": "62dd4403",
   "metadata": {},
   "outputs": [],
   "source": [
    "n_topics = 11"
   ]
  },
  {
   "cell_type": "code",
   "execution_count": 27,
   "id": "4d2a16ed",
   "metadata": {},
   "outputs": [],
   "source": [
    "def get_tags_from_text(texts_list, flat_texts, n_topics, vocabulary_texts, min_df, max_df):\n",
    "    pred_tags_gensim = list()\n",
    "    pred_tags_sklearn = list()\n",
    "    pred_tags_tfidf = list()\n",
    "    pred_tags_count = list()\n",
    "    \n",
    "    # Predict tags using LdaModel (gensim) without bow or TF-IDF \n",
    "    dictionary = Dictionary(texts_list)\n",
    "    corpus = [dictionary.doc2bow(txt) for txt in texts_list]\n",
    "    lda = LdaModel(corpus, num_topics=n_topics, id2word=dictionary, random_state=42)\n",
    "    for text in texts_list:\n",
    "        bow = dictionary.doc2bow(text)\n",
    "        topics = lda.get_document_topics(bow, minimum_probability=0)\n",
    "        topic_id, prob = max(topics, key=lambda x: x[1])\n",
    "        topic_words = [w for w, p in lda.show_topic(topic_id, topn=5)]\n",
    "        pred_tags_gensim.append(topic_words)\n",
    "\n",
    "    # Predict tags using LDA (sklearn) without bow or TF-IDF    \n",
    "    corpus_dense = corpus2dense(corpus, num_terms=len(dictionary)).T\n",
    "    lda = LatentDirichletAllocation(n_components=n_topics, random_state=42)\n",
    "    lda.fit(corpus_dense)\n",
    "    for text in texts_list:\n",
    "        bow = dictionary.doc2bow(text)\n",
    "        dense_bow = corpus2dense([bow], num_terms=len(dictionary)).T[0]\n",
    "        dense_bow = np.reshape(dense_bow, (1, -1))\n",
    "        topic_distribution = lda.transform(dense_bow)\n",
    "        topic_id = topic_distribution.argmax()\n",
    "        top_words_indices = np.argsort(-lda.components_[topic_id])[:5]\n",
    "        topic_words = [dictionary[i] for i in top_words_indices]\n",
    "        pred_tags_sklearn.append(topic_words)     \n",
    "               \n",
    "    # Predict tags using LdaModel with TF-IDF \n",
    "    vectorizer = TfidfVectorizer(vocabulary=vocabulary_texts, min_df=min_df, max_df=max_df)\n",
    "    bow = vectorizer.fit_transform(flat_texts)\n",
    "    lda = LatentDirichletAllocation(n_components=n_topics, random_state=42)\n",
    "    topics = lda.fit_transform(bow)\n",
    "    for i in range(len(texts_list)):\n",
    "        topic_id = topics.argmax(axis=1)[i]\n",
    "        dense_bow_matrix = bow.toarray()\n",
    "        top_words_indices = dense_bow_matrix[i].argsort()[-5:][::-1]\n",
    "        topic_words = [list(vectorizer.vocabulary_.keys())[list(vectorizer.vocabulary_.values()).index(i)] for i in top_words_indices]\n",
    "        pred_tags_tfidf.append(topic_words)\n",
    "        \n",
    "    # Predict tags using LdaModel with CountVectorizer \n",
    "    vectorizer = CountVectorizer(vocabulary=vocabulary_texts, min_df=min_df, max_df=max_df)\n",
    "    bow = vectorizer.fit_transform(flat_texts)\n",
    "    lda = LatentDirichletAllocation(n_components=n_topics, random_state=42)\n",
    "    topics = lda.fit_transform(bow)\n",
    "    for i in range(len(texts_list)):\n",
    "        topic_id = topics.argmax(axis=1)[i]\n",
    "        dense_bow_matrix = bow.toarray()\n",
    "        top_words_indices = dense_bow_matrix[i].argsort()[-5:][::-1]\n",
    "        topic_words = [list(vectorizer.vocabulary_.keys())[list(vectorizer.vocabulary_.values()).index(i)] for i in top_words_indices]\n",
    "        pred_tags_count.append(topic_words)           \n",
    "        \n",
    "    return pred_tags_gensim, pred_tags_sklearn, pred_tags_tfidf, pred_tags_count"
   ]
  },
  {
   "cell_type": "code",
   "execution_count": 28,
   "id": "1a8f09ab",
   "metadata": {},
   "outputs": [],
   "source": [
    "pred_tags_gensim, pred_tags_sklearn, pred_tags_tfidf, pred_tags_count = get_tags_from_text(texts_list,\n",
    "                                                                                           flat_texts,\n",
    "                                                                                           n_topics,\n",
    "                                                                                           vocabulary_texts,\n",
    "                                                                                           min_df,\n",
    "                                                                                           max_df)"
   ]
  },
  {
   "cell_type": "code",
   "execution_count": 29,
   "id": "bc08e905",
   "metadata": {},
   "outputs": [
    {
     "data": {
      "text/plain": [
       "[['javascript', 'jquery', 'string', 'date', 'object'],\n",
       " ['listview', 'javafx', 'tableview', 'scrollbar', 'hide'],\n",
       " ['jpa', 'merge', 'entitymanager', 'persist', 'java-persistence-api'],\n",
       " ['python', 'django', 'image', 'gallery', 'portfolio'],\n",
       " ['python', 'authentication', 'proxy', 'https', 'ntlm']]"
      ]
     },
     "execution_count": 29,
     "metadata": {},
     "output_type": "execute_result"
    }
   ],
   "source": [
    "tags_list[0:5]"
   ]
  },
  {
   "cell_type": "code",
   "execution_count": 30,
   "id": "5285e240",
   "metadata": {},
   "outputs": [
    {
     "data": {
      "text/plain": [
       "[['date', 'java', 'function', 'class', 'javascript'],\n",
       " ['file', 'python', 'java', 'size', 'image'],\n",
       " ['file', 'python', 'java', 'size', 'image'],\n",
       " ['python', 'list', 'way', 'function', 'use'],\n",
       " ['python', 'list', 'way', 'function', 'use']]"
      ]
     },
     "execution_count": 30,
     "metadata": {},
     "output_type": "execute_result"
    }
   ],
   "source": [
    "pred_tags_gensim[0:5]"
   ]
  },
  {
   "cell_type": "code",
   "execution_count": 31,
   "id": "6e80f6cc",
   "metadata": {},
   "outputs": [
    {
     "data": {
      "text/plain": [
       "[['date', 'time', 'java', 'datetime', 'number'],\n",
       " ['html', 'jquery', 'css', 'javascript', 'page'],\n",
       " ['file', 'python', 'size', 'line', 'java'],\n",
       " ['python', 'list', 'way', 'selenium', 'module'],\n",
       " ['python', 'list', 'way', 'selenium', 'module']]"
      ]
     },
     "execution_count": 31,
     "metadata": {},
     "output_type": "execute_result"
    }
   ],
   "source": [
    "pred_tags_sklearn[0:5]"
   ]
  },
  {
   "cell_type": "code",
   "execution_count": 32,
   "id": "67dcf1d1",
   "metadata": {},
   "outputs": [
    {
     "data": {
      "text/plain": [
       "[['date', 'string', 'convert', 'object', 'jquery'],\n",
       " ['scrollbar', 'hide', 'listview', 'javafx', 'blade'],\n",
       " ['entitymanager', 'merge', 'persist', 'jpa', 'blade'],\n",
       " ['django', 'create', 'portfolio', 'gallery', 'model'],\n",
       " ['authentication', 'https', 'ntlm', 'proxy', 'laurent']]"
      ]
     },
     "execution_count": 32,
     "metadata": {},
     "output_type": "execute_result"
    }
   ],
   "source": [
    "pred_tags_tfidf[0:5]"
   ]
  },
  {
   "cell_type": "code",
   "execution_count": 33,
   "id": "194f0253",
   "metadata": {},
   "outputs": [
    {
     "data": {
      "text/plain": [
       "[['date', 'convert', 'string', 'object', 'jquery'],\n",
       " ['hide', 'listview', 'scrollbar', 'javafx', 'blade'],\n",
       " ['merge', 'entitymanager', 'jpa', 'persist', 'blade'],\n",
       " ['create', 'django', 'gallery', 'model', 'image'],\n",
       " ['authentication', 'https', 'ntlm', 'proxy', 'laurent']]"
      ]
     },
     "execution_count": 33,
     "metadata": {},
     "output_type": "execute_result"
    }
   ],
   "source": [
    "pred_tags_count[0:5]"
   ]
  },
  {
   "cell_type": "markdown",
   "id": "de06b692",
   "metadata": {},
   "source": [
    "Il semble que CountVectorizer et TfidfVectorizer prédisent des tags assez similaires."
   ]
  },
  {
   "cell_type": "code",
   "execution_count": 34,
   "id": "9480618a",
   "metadata": {},
   "outputs": [],
   "source": [
    "true_tags = tags_list\n",
    "pred_tags_list = [pred_tags_gensim, pred_tags_sklearn, pred_tags_tfidf, pred_tags_count]\n",
    "pred_names = [\"gensim\", \"sklearn\", \"tfidf\", \"count\"]"
   ]
  },
  {
   "cell_type": "code",
   "execution_count": 35,
   "id": "f05fa2f7",
   "metadata": {},
   "outputs": [],
   "source": [
    "mlb = MultiLabelBinarizer()\n",
    "true_tags_bin = mlb.fit_transform(true_tags)\n",
    "pred_tags_bin_list = [mlb.transform(pred_tags) for pred_tags in pred_tags_list]"
   ]
  },
  {
   "cell_type": "code",
   "execution_count": 36,
   "id": "61e9a8db",
   "metadata": {},
   "outputs": [],
   "source": [
    "def evaluate_predictions(true_tags, pred_tags_bin_list, pred_names):\n",
    "    f1_scores = []\n",
    "    jaccard_scores = []\n",
    "    accuracy_scores = []\n",
    "    precision_scores = []\n",
    "    for pred_tags in pred_tags_bin_list:\n",
    "        f1_scores.append(f1_score(true_tags, pred_tags, average='samples'))\n",
    "        jaccard_scores.append(jaccard_score(true_tags, pred_tags, average='samples'))\n",
    "        accuracy_scores.append(accuracy_score(true_tags, pred_tags))\n",
    "        precision_scores.append(precision_score(true_tags, pred_tags, average='samples'))\n",
    "        \n",
    "    metrics = {\"F1\": f1_scores, \"Jaccard\": jaccard_scores, \"Accuracy\": accuracy_scores, \"Precision\": precision_scores}\n",
    "    metrics_df = pd.DataFrame(metrics, index=pred_names)\n",
    "    \n",
    "    fig, axes = plt.subplots(2, 2, figsize=(15,10))\n",
    "    axes = axes.ravel()\n",
    "    for i, metric in enumerate(metrics.keys()):\n",
    "        sns.barplot(data=metrics_df, x=metrics_df.index, y=metric, ax=axes[i])\n",
    "        axes[i].set(ylabel=metric)\n",
    "    plt.show()\n",
    "    return metrics_df"
   ]
  },
  {
   "cell_type": "code",
   "execution_count": 37,
   "id": "fc45da93",
   "metadata": {},
   "outputs": [
    {
     "data": {
      "image/png": "[encoded data removed]",
      "text/plain": [
       "<Figure size 1500x1000 with 4 Axes>"
      ]
     },
     "metadata": {},
     "output_type": "display_data"
    },
    {
     "data": {
      "text/html": [
       "<div>\n",
       "<style scoped>\n",
       "    .dataframe tbody tr th:only-of-type {\n",
       "        vertical-align: middle;\n",
       "    }\n",
       "\n",
       "    .dataframe tbody tr th {\n",
       "        vertical-align: top;\n",
       "    }\n",
       "\n",
       "    .dataframe thead th {\n",
       "        text-align: right;\n",
       "    }\n",
       "</style>\n",
       "<table border=\"1\" class=\"dataframe\">\n",
       "  <thead>\n",
       "    <tr style=\"text-align: right;\">\n",
       "      <th></th>\n",
       "      <th>F1</th>\n",
       "      <th>Jaccard</th>\n",
       "      <th>Accuracy</th>\n",
       "      <th>Precision</th>\n",
       "    </tr>\n",
       "  </thead>\n",
       "  <tbody>\n",
       "    <tr>\n",
       "      <th>gensim</th>\n",
       "      <td>0.104519</td>\n",
       "      <td>0.061074</td>\n",
       "      <td>0.0000</td>\n",
       "      <td>0.116367</td>\n",
       "    </tr>\n",
       "    <tr>\n",
       "      <th>sklearn</th>\n",
       "      <td>0.133106</td>\n",
       "      <td>0.081764</td>\n",
       "      <td>0.0000</td>\n",
       "      <td>0.149050</td>\n",
       "    </tr>\n",
       "    <tr>\n",
       "      <th>tfidf</th>\n",
       "      <td>0.577736</td>\n",
       "      <td>0.423153</td>\n",
       "      <td>0.0005</td>\n",
       "      <td>0.747117</td>\n",
       "    </tr>\n",
       "    <tr>\n",
       "      <th>count</th>\n",
       "      <td>0.572658</td>\n",
       "      <td>0.417788</td>\n",
       "      <td>0.0015</td>\n",
       "      <td>0.730200</td>\n",
       "    </tr>\n",
       "  </tbody>\n",
       "</table>\n",
       "</div>"
      ],
      "text/plain": [
       "               F1   Jaccard  Accuracy  Precision\n",
       "gensim   0.104519  0.061074    0.0000   0.116367\n",
       "sklearn  0.133106  0.081764    0.0000   0.149050\n",
       "tfidf    0.577736  0.423153    0.0005   0.747117\n",
       "count    0.572658  0.417788    0.0015   0.730200"
      ]
     },
     "execution_count": 37,
     "metadata": {},
     "output_type": "execute_result"
    }
   ],
   "source": [
    "evaluate_predictions(true_tags_bin, pred_tags_bin_list, pred_names)"
   ]
  },
  {
   "cell_type": "code",
   "execution_count": 38,
   "id": "d504bd12",
   "metadata": {},
   "outputs": [],
   "source": [
    "def evaluate_predictions_one_to_one(true_tags, pred_tags_list, pred_names):\n",
    "    f1_scores = []\n",
    "    jaccard_scores = []\n",
    "    accuracy_scores = []\n",
    "    precision_scores = []\n",
    "    for pred_tags in pred_tags_list:\n",
    "        f1_scores.append(f1_score(true_tags, pred_tags, average='samples'))\n",
    "        jaccard_scores.append(jaccard_score(true_tags, pred_tags, average='samples'))\n",
    "        accuracy_scores.append(sum([len(set(true_tags[i]).intersection(pred_tags[i]))/len(true_tags[i]) for i in range(len(true_tags))])/len(true_tags))\n",
    "        precision_scores.append(precision_score(true_tags, pred_tags, average='samples'))\n",
    "        \n",
    "    metrics = {\"F1\": f1_scores, \"Jaccard\": jaccard_scores, \"Accuracy\": accuracy_scores, \"Precision\": precision_scores}\n",
    "    metrics_df = pd.DataFrame(metrics, index=pred_names)\n",
    "    \n",
    "    fig, axes = plt.subplots(2, 2, figsize=(15,10))\n",
    "    axes = axes.ravel()\n",
    "    for i, metric in enumerate(metrics.keys()):\n",
    "        sns.barplot(data=metrics_df, x=metrics_df.index, y=metric, ax=axes[i])\n",
    "        axes[i].set(ylabel=metric)\n",
    "    plt.show()\n",
    "    return metrics_df"
   ]
  },
  {
   "cell_type": "code",
   "execution_count": 39,
   "id": "cdee21e9",
   "metadata": {},
   "outputs": [
    {
     "data": {
      "image/png": "[encoded data removed]",
      "text/plain": [
       "<Figure size 1500x1000 with 4 Axes>"
      ]
     },
     "metadata": {},
     "output_type": "display_data"
    },
    {
     "data": {
      "text/html": [
       "<div>\n",
       "<style scoped>\n",
       "    .dataframe tbody tr th:only-of-type {\n",
       "        vertical-align: middle;\n",
       "    }\n",
       "\n",
       "    .dataframe tbody tr th {\n",
       "        vertical-align: top;\n",
       "    }\n",
       "\n",
       "    .dataframe thead th {\n",
       "        text-align: right;\n",
       "    }\n",
       "</style>\n",
       "<table border=\"1\" class=\"dataframe\">\n",
       "  <thead>\n",
       "    <tr style=\"text-align: right;\">\n",
       "      <th></th>\n",
       "      <th>F1</th>\n",
       "      <th>Jaccard</th>\n",
       "      <th>Accuracy</th>\n",
       "      <th>Precision</th>\n",
       "    </tr>\n",
       "  </thead>\n",
       "  <tbody>\n",
       "    <tr>\n",
       "      <th>gensim</th>\n",
       "      <td>0.104519</td>\n",
       "      <td>0.061074</td>\n",
       "      <td>0.000728</td>\n",
       "      <td>0.116367</td>\n",
       "    </tr>\n",
       "    <tr>\n",
       "      <th>sklearn</th>\n",
       "      <td>0.133106</td>\n",
       "      <td>0.081764</td>\n",
       "      <td>0.000728</td>\n",
       "      <td>0.149050</td>\n",
       "    </tr>\n",
       "    <tr>\n",
       "      <th>tfidf</th>\n",
       "      <td>0.577736</td>\n",
       "      <td>0.423153</td>\n",
       "      <td>0.000728</td>\n",
       "      <td>0.747117</td>\n",
       "    </tr>\n",
       "    <tr>\n",
       "      <th>count</th>\n",
       "      <td>0.572658</td>\n",
       "      <td>0.417788</td>\n",
       "      <td>0.000728</td>\n",
       "      <td>0.730200</td>\n",
       "    </tr>\n",
       "  </tbody>\n",
       "</table>\n",
       "</div>"
      ],
      "text/plain": [
       "               F1   Jaccard  Accuracy  Precision\n",
       "gensim   0.104519  0.061074  0.000728   0.116367\n",
       "sklearn  0.133106  0.081764  0.000728   0.149050\n",
       "tfidf    0.577736  0.423153  0.000728   0.747117\n",
       "count    0.572658  0.417788  0.000728   0.730200"
      ]
     },
     "execution_count": 39,
     "metadata": {},
     "output_type": "execute_result"
    }
   ],
   "source": [
    "evaluate_predictions_one_to_one(true_tags_bin, pred_tags_bin_list, pred_names)"
   ]
  },
  {
   "cell_type": "code",
   "execution_count": 40,
   "id": "0747e1c8",
   "metadata": {},
   "outputs": [
    {
     "ename": "SyntaxError",
     "evalue": "invalid syntax (617012100.py, line 1)",
     "output_type": "error",
     "traceback": [
      "\u001b[1;36m  Cell \u001b[1;32mIn[40], line 1\u001b[1;36m\u001b[0m\n\u001b[1;33m    AJOUT PCA !\u001b[0m\n\u001b[1;37m          ^\u001b[0m\n\u001b[1;31mSyntaxError\u001b[0m\u001b[1;31m:\u001b[0m invalid syntax\n"
     ]
    }
   ],
   "source": [
    "AJOUT PCA !"
   ]
  },
  {
   "cell_type": "code",
   "execution_count": null,
   "id": "587eaddf",
   "metadata": {},
   "outputs": [],
   "source": []
  },
  {
   "cell_type": "markdown",
   "id": "7b65b6e3",
   "metadata": {},
   "source": [
    "## <font color=\"#114b98\" id=\"section_3\">3. Approche supervisée</font>"
   ]
  },
  {
   "cell_type": "code",
   "execution_count": null,
   "id": "edfec925",
   "metadata": {},
   "outputs": [],
   "source": [
    "from sklearn.preprocessing import MultiLabelBinarizer\n",
    "from sklearn.linear_model import LogisticRegression\n",
    "from sklearn.multiclass import OneVsRestClassifier\n",
    "from sklearn.metrics import confusion_matrix\n",
    "from sklearn.metrics import recall_score\n",
    "from sklearn.linear_model import SGDClassifier\n",
    "from sklearn.ensemble import RandomForestClassifier\n",
    "from sklearn.neighbors import KNeighborsClassifier\n",
    "from sklearn.naive_bayes import MultinomialNB"
   ]
  },
  {
   "cell_type": "code",
   "execution_count": null,
   "id": "c18dac02",
   "metadata": {},
   "outputs": [],
   "source": [
    "mlb = MultiLabelBinarizer(classes=vocabulary_tags)"
   ]
  },
  {
   "cell_type": "code",
   "execution_count": null,
   "id": "5e581924",
   "metadata": {},
   "outputs": [],
   "source": [
    "tags_mlb = mlb.fit_transform(flat_tags)"
   ]
  },
  {
   "cell_type": "code",
   "execution_count": null,
   "id": "024e0732",
   "metadata": {},
   "outputs": [],
   "source": [
    "classifiers = [LogisticRegression(random_state=42, max_iter=300, tol=1e-5),\n",
    "               SGDClassifier(random_state=42, max_iter=300, tol=1e-5),\n",
    "               RandomForestClassifier(random_state=42),\n",
    "               KNeighborsClassifier(),\n",
    "               MultinomialNB()]"
   ]
  },
  {
   "cell_type": "markdown",
   "id": "2a7ebb7d",
   "metadata": {},
   "source": [
    " - Accuracy: mesure de combien de prédictions faites par le modèle sont correctes\n",
    " - Precision: mesure combien des prédictions positives faites par le modèle sont effectivement correctes. Un score de précision élevé signifie que le modèle fait peu de prédictions positives fausses.\n",
    " - Recall: mesure combien des exemples positifs réels sont correctement prédits par le modèle. Un score de rappel élevé signifie que le modèle est capable de trouver la plupart des exemples positifs.\n",
    " - F1 Score: mesure de l'exactitude d'un modèle, il est un moyen harmonique de précision et de rappel. Il varie de 0 à 1, où un score proche de 1 indique une meilleure performance et un score proche de 0 indique une performance moins bonne. \n",
    " - Jaccard Score: mesure de la similarité entre les deux ensembles de prédictions et de vraies étiquettes. Il varie de 0 à 1, où un score proche de 1 indique une très grande similitude et un score proche de 0 indique une grande dissimilarité."
   ]
  },
  {
   "cell_type": "code",
   "execution_count": null,
   "id": "9e42468f",
   "metadata": {},
   "outputs": [],
   "source": [
    "def calculate_supervised_scores(flat_texts, tags_mlb, vectorizer, classifiers):\n",
    "    \n",
    "    # Create an empty dataframe to store the results\n",
    "    results_df = pd.DataFrame(columns=['Classifier', 'Accuracy', 'Precision', 'Recall',\n",
    "                                       'F1 Score', 'Jaccard Score', 'Time (s)'])\n",
    "\n",
    "    # Split the data into training and test sets\n",
    "    X_train, X_test, y_train, y_test = train_test_split(flat_texts, tags_mlb, test_size=0.2, random_state=42)\n",
    "    \n",
    "    # Vectorize X_train and X_test\n",
    "    X_train = vectorizer.fit_transform(X_train)\n",
    "    X_test = vectorizer.transform(X_test)\n",
    "    \n",
    "    # Fit an independent model for each class using the OneVsRestClassifier wrapper.\n",
    "    for classifier in classifiers:\n",
    "        start_time = time.time()\n",
    "        ovrc = OneVsRestClassifier(classifier)\n",
    "        ovrc.fit(X_train, y_train)\n",
    "        y_pred_ovrc = ovrc.predict(X_test)\n",
    "        end_time = time.time()\n",
    "        \n",
    "        accuracy = round(accuracy_score(y_test, y_pred_ovrc), 4)\n",
    "        precision = round(precision_score(y_test, y_pred_ovrc, average='samples'), 4)\n",
    "        recall = round(recall_score(y_test, y_pred_ovrc, average='samples'), 4)\n",
    "        f1 = round(f1_score(y_test, y_pred_ovrc, average='samples'), 4)\n",
    "        jaccard = round(jaccard_score(y_test, y_pred_ovrc, average='samples'), 4)\n",
    "        time_taken = round(end_time - start_time, 4)\n",
    "        \n",
    "        results_df = results_df.append({'Classifier': str(classifier).split('(')[0], \n",
    "                                       'Accuracy': accuracy, \n",
    "                                       'Precision': precision, \n",
    "                                       'Recall': recall, \n",
    "                                       'F1 Score': f1, \n",
    "                                       'Jaccard Score': jaccard,\n",
    "                                       'Time (s)': time_taken}, \n",
    "                                       ignore_index=True)\n",
    "                                       \n",
    "        print('Results for classifier:', classifier)\n",
    "        print(\"Accuracy : \", accuracy)\n",
    "        print(\"Precision : \", precision)\n",
    "        print(\"Recall : \", recall)\n",
    "        print(\"F1 Score : \", f1)\n",
    "        print(\"Jaccard Score:\", jaccard)\n",
    "        print(\"Time (s):\", time_taken)\n",
    "        print('\\n')\n",
    "        \n",
    "    return results_df"
   ]
  },
  {
   "cell_type": "code",
   "execution_count": null,
   "id": "0b5fbbc2",
   "metadata": {},
   "outputs": [],
   "source": [
    "# Initialize the vectorizer\n",
    "vectorizer = CountVectorizer()"
   ]
  },
  {
   "cell_type": "code",
   "execution_count": null,
   "id": "110b6b47",
   "metadata": {},
   "outputs": [],
   "source": [
    "results_df_CountVectorizer = calculate_supervised_scores(flat_texts,\n",
    "                                                         tags_mlb,\n",
    "                                                         vectorizer,\n",
    "                                                         classifiers)"
   ]
  },
  {
   "cell_type": "code",
   "execution_count": null,
   "id": "fa632ca2",
   "metadata": {},
   "outputs": [],
   "source": [
    "results_df_CountVectorizer"
   ]
  },
  {
   "cell_type": "markdown",
   "id": "4ec7ddd9",
   "metadata": {},
   "source": [
    "Selon ces résultats, il semble que le RandomForestClassifier a les meilleures performances globales, avec la plus grande précision, rappel et score F1. Le classificateur de régression logistique se comporte également bien, avec une précision légèrement inférieure."
   ]
  },
  {
   "cell_type": "markdown",
   "id": "7324f513",
   "metadata": {},
   "source": [
    "Cependant, le RandomForestClassifier est aussi le seul à nécessiter un temps d'entraînement aussi long."
   ]
  },
  {
   "cell_type": "code",
   "execution_count": null,
   "id": "6bf9dac1",
   "metadata": {},
   "outputs": [],
   "source": [
    "def plot_results(results_df):\n",
    "    \n",
    "    # Create a figure with 5 subplots\n",
    "    fig, axs = plt.subplots(2, 3, figsize=(20,10))\n",
    "    # Set a color palette\n",
    "    my_palette = sns.color_palette(\"husl\", 5)\n",
    "    \n",
    "    # Set the x-axis to be a range of numerical values\n",
    "    x = range(len(results_df))\n",
    "    scoring_methods = ['Accuracy','Precision','Recall','F1 Score','Jaccard Score', 'Time (s)']\n",
    "    \n",
    "    # Create a subplot for each scoring method\n",
    "    for i, scoring_method in enumerate(scoring_methods):\n",
    "        sns.barplot(x='Classifier', \n",
    "                    y=scoring_method, \n",
    "                    data=results_df, \n",
    "                    ax=axs[i // 3, i % 3], \n",
    "                    palette=my_palette, \n",
    "                    label=scoring_method)\n",
    "    \n",
    "    # Add classifier names to x-axis\n",
    "    for i in range(2):\n",
    "        for j in range(3):\n",
    "            axs[i,j].set_title(scoring_methods[i*3+j])\n",
    "            axs[i,j].set_xticks(x)\n",
    "            axs[i,j].set_xlabel('')\n",
    "            \n",
    "            if j == 0:\n",
    "                axs[i,j].set_ylabel('Score')\n",
    "            else:\n",
    "                axs[i,j].set_ylabel('')\n",
    "            \n",
    "            if i == 1:\n",
    "                axs[i,j].set_xticklabels(results_df['Classifier'], rotation=90)\n",
    "            else:\n",
    "                axs[i,j].set_xticklabels('')\n",
    "            \n",
    "    plt.show()"
   ]
  },
  {
   "cell_type": "code",
   "execution_count": null,
   "id": "bebb1797",
   "metadata": {},
   "outputs": [],
   "source": [
    "# Call the plot_results function\n",
    "plot_results(results_df_CountVectorizer)"
   ]
  },
  {
   "cell_type": "code",
   "execution_count": null,
   "id": "4730005c",
   "metadata": {},
   "outputs": [],
   "source": [
    "# Initialize the vectorizer\n",
    "vectorizer = TfidfVectorizer(vocabulary=vocabulary_texts)"
   ]
  },
  {
   "cell_type": "code",
   "execution_count": null,
   "id": "183b758b",
   "metadata": {},
   "outputs": [],
   "source": [
    "results_df_TfidfVectorizer = calculate_supervised_scores(flat_texts,\n",
    "                                                         tags_mlb,\n",
    "                                                         vectorizer,\n",
    "                                                         classifiers)"
   ]
  },
  {
   "cell_type": "code",
   "execution_count": null,
   "id": "e7b9ea3b",
   "metadata": {},
   "outputs": [],
   "source": [
    "results_df_TfidfVectorizer"
   ]
  },
  {
   "cell_type": "code",
   "execution_count": null,
   "id": "1bf8db14",
   "metadata": {},
   "outputs": [],
   "source": [
    "# Call the plot_results function\n",
    "plot_results(results_df_TfidfVectorizer)"
   ]
  },
  {
   "cell_type": "markdown",
   "id": "3de6aede",
   "metadata": {},
   "source": [
    "Le RandomForestClassifier obtient les meilleurs scores, peu importe le vectorizer utilisé."
   ]
  },
  {
   "cell_type": "code",
   "execution_count": null,
   "id": "e4cdc2a4",
   "metadata": {},
   "outputs": [],
   "source": [
    "results_RFC = pd.DataFrame(columns=['Accuracy', 'Precision', 'Recall', 'F1 Score', 'Jaccard Score'])\n",
    "results_RFC = results_RFC.append(results_df_CountVectorizer.iloc[2,1:]).reset_index(drop=True)\n",
    "results_RFC = results_RFC.append(results_df_TfidfVectorizer.iloc[2,1:]).reset_index(drop=True)\n",
    "results_RFC['Classifier'] = ['CountVectorizer', 'TfidfVectorizer']\n",
    "results_RFC"
   ]
  },
  {
   "cell_type": "code",
   "execution_count": null,
   "id": "1525fe72",
   "metadata": {},
   "outputs": [],
   "source": [
    "# Call the plot_results function\n",
    "plot_results(results_RFC)"
   ]
  },
  {
   "cell_type": "markdown",
   "id": "8f267676",
   "metadata": {},
   "source": [
    "CountVectorizer permet d'avoir des performances similaires avec un temps d'entraînement plus court que TfidfVectorizer."
   ]
  },
  {
   "cell_type": "markdown",
   "id": "e8bbff03",
   "metadata": {},
   "source": [
    "## <font color=\"#114b98\" id=\"section_4\">4. Approche supervisée avec Word Embedding : Word2Vec</font>"
   ]
  },
  {
   "cell_type": "code",
   "execution_count": null,
   "id": "cdc479b2",
   "metadata": {},
   "outputs": [],
   "source": [
    "from gensim.models import Word2Vec\n",
    "from sklearn.linear_model import LogisticRegression\n",
    "from sklearn.multiclass import OneVsRestClassifier\n",
    "from sklearn.preprocessing import LabelBinarizer\n",
    "from sklearn.metrics import multilabel_confusion_matrix"
   ]
  },
  {
   "cell_type": "code",
   "execution_count": null,
   "id": "9fdb311e",
   "metadata": {},
   "outputs": [],
   "source": [
    "# Split the data into train and test sets\n",
    "X_train, X_test, y_train, y_test = train_test_split(texts_list,\n",
    "                                                    tags_mlb,\n",
    "                                                    test_size=0.2,\n",
    "                                                    random_state=42)"
   ]
  },
  {
   "cell_type": "code",
   "execution_count": null,
   "id": "cb0b0888",
   "metadata": {},
   "outputs": [],
   "source": [
    "# Train the Word2Vec model on your text data\n",
    "w2v_model = Word2Vec(X_train, vector_size=1000, window=5, min_count=5, workers=4)"
   ]
  },
  {
   "cell_type": "code",
   "execution_count": null,
   "id": "6252ba87",
   "metadata": {},
   "outputs": [],
   "source": [
    "# Create a vocabulary of only the words in the text data that are in the word2vec model\n",
    "vocab = set(w2v_model.wv.key_to_index.keys())"
   ]
  },
  {
   "cell_type": "code",
   "execution_count": null,
   "id": "bf5b3572",
   "metadata": {},
   "outputs": [],
   "source": [
    "# Filter the text data to only include words in the vocabulary\n",
    "X_train = [[word for word in sublist if word in vocab] for sublist in X_train]\n",
    "X_test = [[word for word in sublist if word in vocab] for sublist in X_test]"
   ]
  },
  {
   "cell_type": "code",
   "execution_count": null,
   "id": "fb2097c5",
   "metadata": {},
   "outputs": [],
   "source": [
    "# Remove any observations that have no words in the vocabulary\n",
    "train_removed_indexes = []\n",
    "test_removed_indexes = []\n",
    "for i, sublist in enumerate(X_train):\n",
    "    if not any(word in vocab for word in sublist):\n",
    "        train_removed_indexes.append(i)\n",
    "for i, sublist in enumerate(X_test):\n",
    "    if not any(word in vocab for word in sublist):\n",
    "        test_removed_indexes.append(i)"
   ]
  },
  {
   "cell_type": "code",
   "execution_count": null,
   "id": "fde4e912",
   "metadata": {},
   "outputs": [],
   "source": [
    "X_train = [x for i, x in enumerate(X_train) if i not in train_removed_indexes]\n",
    "X_test = [x for i, x in enumerate(X_test) if i not in test_removed_indexes]\n",
    "y_train = [x for i, x in enumerate(y_train) if i not in train_removed_indexes]\n",
    "y_test = [x for i, x in enumerate(y_test) if i not in test_removed_indexes]"
   ]
  },
  {
   "cell_type": "code",
   "execution_count": null,
   "id": "28f1f344",
   "metadata": {},
   "outputs": [],
   "source": [
    "# Create embeddings for train and test data\n",
    "X_train_embedded = [np.mean([w2v_model.wv[word] for word in sentence], axis=0) for sentence in X_train]\n",
    "X_test_embedded = [np.mean([w2v_model.wv[word] for word in sentence], axis=0) for sentence in X_test]"
   ]
  },
  {
   "cell_type": "code",
   "execution_count": null,
   "id": "433200ac",
   "metadata": {},
   "outputs": [],
   "source": [
    "clf = OneVsRestClassifier(LogisticRegression(random_state=42))"
   ]
  },
  {
   "cell_type": "code",
   "execution_count": null,
   "id": "fca4a306",
   "metadata": {},
   "outputs": [],
   "source": [
    "# Fit the classifier on the train data\n",
    "clf.fit(X_train_embedded, y_train)"
   ]
  },
  {
   "cell_type": "code",
   "execution_count": null,
   "id": "b543c1cd",
   "metadata": {},
   "outputs": [],
   "source": [
    "# Make predictions on the test data\n",
    "y_pred = clf.predict(X_test_embedded)"
   ]
  },
  {
   "cell_type": "code",
   "execution_count": null,
   "id": "23460475",
   "metadata": {},
   "outputs": [],
   "source": [
    "# Calculate scores\n",
    "accuracy = accuracy_score(y_test, y_pred)\n",
    "precision = precision_score(y_test, y_pred, average='micro')\n",
    "recall = recall_score(y_test, y_pred, average='micro')\n",
    "f1 = f1_score(y_test, y_pred, average='micro')\n",
    "jaccard = jaccard_score(y_test, y_pred, average='samples')\n",
    "\n",
    "# Print the results\n",
    "print(\"Accuracy: {:.2f}\".format(accuracy))\n",
    "print(\"Precision: {:.2f}\".format(precision))\n",
    "print(\"Recall: {:.2f}\".format(recall))\n",
    "print(\"F1-Score: {:.2f}\".format(f1))\n",
    "print(\"Jaccard Score: {:.2f}\".format(jaccard))"
   ]
  },
  {
   "cell_type": "code",
   "execution_count": null,
   "id": "d1c2883e",
   "metadata": {},
   "outputs": [],
   "source": [
    "# CM = multilabel_confusion_matrix(y_test, y_pred)"
   ]
  },
  {
   "cell_type": "code",
   "execution_count": null,
   "id": "456aed6a",
   "metadata": {},
   "outputs": [],
   "source": [
    "# average_cm = np.mean(CM, axis=0)"
   ]
  },
  {
   "cell_type": "code",
   "execution_count": null,
   "id": "70ef5fb8",
   "metadata": {},
   "outputs": [],
   "source": [
    "# sns.heatmap(average_cm, annot=True, cmap='Blues', fmt='.2g')\n",
    "# plt.show()"
   ]
  },
  {
   "cell_type": "code",
   "execution_count": null,
   "id": "086d306d",
   "metadata": {},
   "outputs": [],
   "source": [
    "classifiers = [LogisticRegression(random_state=42, max_iter=300, tol=1e-5),\n",
    "               SGDClassifier(random_state=42, max_iter=300, tol=1e-5),\n",
    "               RandomForestClassifier(random_state=42),\n",
    "               KNeighborsClassifier()]"
   ]
  },
  {
   "cell_type": "code",
   "execution_count": null,
   "id": "6f849d2e",
   "metadata": {},
   "outputs": [],
   "source": [
    "def calculate_supervised_word2vec(X_train, X_test, y_train, y_test, classifiers):\n",
    "    \n",
    "    # Create an empty dataframe to store the results\n",
    "    results_df = pd.DataFrame(columns=['Classifier', 'Accuracy', 'Precision', 'Recall',\n",
    "                                       'F1 Score', 'Jaccard Score', 'Time (s)'])\n",
    "    \n",
    "    # Fit an independent model for each class using the OneVsRestClassifier wrapper.\n",
    "    for clf in classifiers:\n",
    "        start_time = time.time()\n",
    "        ovrc = OneVsRestClassifier(clf)\n",
    "        ovrc.fit(X_train, y_train)\n",
    "        y_pred_ovrc = ovrc.predict(X_test)\n",
    "        end_time = time.time()\n",
    "        \n",
    "        accuracy = round(accuracy_score(y_test, y_pred_ovrc), 4)\n",
    "        precision = round(precision_score(y_test, y_pred_ovrc, average='samples'), 4)\n",
    "        recall = round(recall_score(y_test, y_pred_ovrc, average='samples'), 4)\n",
    "        f1 = round(f1_score(y_test, y_pred_ovrc, average='samples'), 4)\n",
    "        jaccard = round(jaccard_score(y_test, y_pred_ovrc, average='samples'), 4)\n",
    "        time_taken = round(end_time - start_time, 4)\n",
    "        \n",
    "        results_df = results_df.append({'Classifier': str(clf).split('(')[0], \n",
    "                                       'Accuracy': accuracy, \n",
    "                                       'Precision': precision, \n",
    "                                       'Recall': recall, \n",
    "                                       'F1 Score': f1, \n",
    "                                       'Jaccard Score': jaccard,\n",
    "                                       'Time (s)': time_taken}, \n",
    "                                       ignore_index=True)\n",
    "        \n",
    "    return results_df"
   ]
  },
  {
   "cell_type": "code",
   "execution_count": null,
   "id": "256504e5",
   "metadata": {},
   "outputs": [],
   "source": [
    "results_df_word2vec = calculate_supervised_word2vec(X_train_embedded,\n",
    "                                                    X_test_embedded,\n",
    "                                                    y_train,\n",
    "                                                    y_test,\n",
    "                                                    classifiers)"
   ]
  },
  {
   "cell_type": "code",
   "execution_count": null,
   "id": "dc654154",
   "metadata": {},
   "outputs": [],
   "source": [
    "# Call the plot_results function\n",
    "plot_results(results_df_word2vec)"
   ]
  },
  {
   "cell_type": "markdown",
   "id": "30ccdd5b",
   "metadata": {},
   "source": [
    "## <font color=\"#114b98\" id=\"section_5\">5. Approche supervisée avec Word Embedding : BERT</font>"
   ]
  },
  {
   "cell_type": "code",
   "execution_count": null,
   "id": "59d8f856",
   "metadata": {},
   "outputs": [],
   "source": [
    "import torch\n",
    "import tensorflow_hub as hub\n",
    "import tensorflow as tf\n",
    "import transformers\n",
    "import tokenization\n",
    "from transformers import BertTokenizer, AutoModel, BertTokenizerFast\n",
    "from torch.nn import CrossEntropyLoss\n",
    "from torch.utils.data import TensorDataset, DataLoader, RandomSampler, SequentialSampler\n",
    "from transformers import BertForSequenceClassification, AdamW, BertConfig\n",
    "from torch import nn\n",
    "from sklearn.utils.class_weight import compute_class_weight\n",
    "from tensorflow.keras.layers import Dense, Input\n",
    "from tensorflow.keras.optimizers import Adam\n",
    "from tensorflow.keras.models import Model\n",
    "from tensorflow.keras.callbacks import ModelCheckpoint\n",
    "from keras.utils.vis_utils import plot_model"
   ]
  },
  {
   "cell_type": "code",
   "execution_count": null,
   "id": "3b4d40ca",
   "metadata": {},
   "outputs": [],
   "source": [
    "from collections import Counter\n",
    "\n",
    "vocabulary_tags = set([word for word, count in Counter([word for item in tags_list for word in item]).most_common() if count >= 20])"
   ]
  },
  {
   "cell_type": "code",
   "execution_count": null,
   "id": "027fa741",
   "metadata": {},
   "outputs": [],
   "source": [
    "# pip install  torch===1.7.1+cu110 torchvision===0.8.2+cu110 torchaudio===0.7.2 --user -f https://download.pytorch.org/whl/torch_stable.html"
   ]
  },
  {
   "cell_type": "code",
   "execution_count": null,
   "id": "54798c8b",
   "metadata": {},
   "outputs": [],
   "source": [
    "texts = data_sample['Texts'].copy()\n",
    "tags = data_sample['Tags'].copy()"
   ]
  },
  {
   "cell_type": "code",
   "execution_count": null,
   "id": "7999b839",
   "metadata": {},
   "outputs": [],
   "source": [
    "for i in range(len(texts)):\n",
    "    texts[i] = \" \".join(texts[i])\n",
    "    tags[i] = \" \".join(tags[i])"
   ]
  },
  {
   "cell_type": "code",
   "execution_count": null,
   "id": "56ffe91d",
   "metadata": {},
   "outputs": [],
   "source": [
    "# mlb = MultiLabelBinarizer()\n",
    "# tags_bin = mlb.fit_transform(tags)"
   ]
  },
  {
   "cell_type": "code",
   "execution_count": null,
   "id": "23821031",
   "metadata": {},
   "outputs": [],
   "source": [
    "mlb = MultiLabelBinarizer()\n",
    "tags_bin = mlb.fit_transform(tags_list)"
   ]
  },
  {
   "cell_type": "code",
   "execution_count": null,
   "id": "d23dcae6",
   "metadata": {},
   "outputs": [],
   "source": [
    "train_text, test_text, train_labels, test_labels = train_test_split(texts, \n",
    "                                                                    tags_bin, \n",
    "                                                                    test_size=0.2, \n",
    "                                                                    random_state=42)"
   ]
  },
  {
   "cell_type": "code",
   "execution_count": null,
   "id": "8b096e0c",
   "metadata": {},
   "outputs": [],
   "source": [
    "module_url = \"https://tfhub.dev/tensorflow/bert_en_uncased_L-12_H-768_A-12/1\"\n",
    "bert_layer = hub.KerasLayer(module_url, trainable=True)"
   ]
  },
  {
   "cell_type": "code",
   "execution_count": null,
   "id": "1d71f67f",
   "metadata": {},
   "outputs": [],
   "source": [
    "def bert_encode(texts, tokenizer, max_len=512):\n",
    "    all_tokens = []\n",
    "    all_masks = []\n",
    "    all_segments = []\n",
    "    \n",
    "    for text in texts:\n",
    "        text = tokenizer.tokenize(text)\n",
    "            \n",
    "        text = text[:max_len-2]\n",
    "        input_sequence = [\"[CLS]\"] + text + [\"[SEP]\"]\n",
    "        pad_len = max_len - len(input_sequence)\n",
    "        \n",
    "        tokens = tokenizer.convert_tokens_to_ids(input_sequence)\n",
    "        tokens += [0] * pad_len\n",
    "        pad_masks = [1] * len(input_sequence) + [0] * pad_len\n",
    "        segment_ids = [0] * max_len\n",
    "        \n",
    "        all_tokens.append(tokens)\n",
    "        all_masks.append(pad_masks)\n",
    "        all_segments.append(segment_ids)\n",
    "    \n",
    "    return np.array(all_tokens), np.array(all_masks), np.array(all_segments)"
   ]
  },
  {
   "cell_type": "code",
   "execution_count": null,
   "id": "d3da1faf",
   "metadata": {},
   "outputs": [],
   "source": [
    "vocab_file = bert_layer.resolved_object.vocab_file.asset_path.numpy()\n",
    "do_lower_case = bert_layer.resolved_object.do_lower_case.numpy()\n",
    "tokenizer = BertTokenizer(vocab_file, do_lower_case)"
   ]
  },
  {
   "cell_type": "code",
   "execution_count": null,
   "id": "9404e8bc",
   "metadata": {},
   "outputs": [],
   "source": [
    "tokens_train = bert_encode(train_text.values, tokenizer, max_len=100)\n",
    "tokens_test = bert_encode(test_text.values, tokenizer, max_len=100)"
   ]
  },
  {
   "cell_type": "code",
   "execution_count": null,
   "id": "f174f9b3",
   "metadata": {},
   "outputs": [],
   "source": [
    "def build_model(bert_layer, max_len=512):\n",
    "    input_word_ids = Input(shape=(max_len,), dtype=tf.int32, name=\"input_word_ids\")\n",
    "    input_mask = Input(shape=(max_len,), dtype=tf.int32, name=\"input_mask\")\n",
    "    segment_ids = Input(shape=(max_len,), dtype=tf.int32, name=\"segment_ids\")\n",
    "\n",
    "    _, sequence_output = bert_layer([input_word_ids, input_mask, segment_ids])\n",
    "    clf_output = sequence_output[:, 0, :]\n",
    "    out = Dense(1, activation='sigmoid')(clf_output)\n",
    "    out = Dense(len(vocabulary_tags), activation='sigmoid')(clf_output)\n",
    "    \n",
    "    model = Model(inputs=[input_word_ids, input_mask, segment_ids], outputs=out)\n",
    "    model.compile(Adam(lr=2e-6), loss='binary_crossentropy', metrics=['binary_accuracy'])\n",
    "    \n",
    "    return model"
   ]
  },
  {
   "cell_type": "code",
   "execution_count": null,
   "id": "06e45cb9",
   "metadata": {},
   "outputs": [],
   "source": [
    "model = build_model(bert_layer, max_len=100)"
   ]
  },
  {
   "cell_type": "code",
   "execution_count": null,
   "id": "94235bce",
   "metadata": {},
   "outputs": [],
   "source": [
    "os.environ[\"CUDA_VISIBLE_DEVICES\"] = \"0\""
   ]
  },
  {
   "cell_type": "code",
   "execution_count": null,
   "id": "0a866b3d",
   "metadata": {},
   "outputs": [],
   "source": [
    "plot_model(model, to_file='model_plot.png', show_shapes=True, show_layer_names=True)"
   ]
  },
  {
   "cell_type": "code",
   "execution_count": null,
   "id": "19ea0ac8",
   "metadata": {},
   "outputs": [],
   "source": [
    "# use one-hot encoded labels for training\n",
    "train_history = model.fit(\n",
    "    tokens_train, train_labels,\n",
    "    validation_split=0.2,\n",
    "    epochs=5,\n",
    "    batch_size=32,\n",
    ")"
   ]
  },
  {
   "cell_type": "code",
   "execution_count": null,
   "id": "077f54cf",
   "metadata": {},
   "outputs": [],
   "source": [
    "model.evaluate(tokens_test, test_labels)"
   ]
  },
  {
   "cell_type": "code",
   "execution_count": null,
   "id": "52551854",
   "metadata": {},
   "outputs": [],
   "source": [
    "example = model.predict(bert_encode([\"I don't know how to to set the best number of layers and nodes in a NeuralNetwork,\\\n",
    "                                     but I think the best is to check in StackOverflow if someone already asked the same \\\n",
    "                                     question. Or I can start with 3 layers and correct afterwards if I don't get good results.\"], \n",
    "                                    tokenizer, \n",
    "                                    max_len=100))"
   ]
  },
  {
   "cell_type": "code",
   "execution_count": null,
   "id": "db023dfe",
   "metadata": {},
   "outputs": [],
   "source": [
    "indices = np.argsort(example)[0][-5:]\n",
    "example[0, indices] = 1\n",
    "example[np.where(example != 1)] = 0\n",
    "decoded = mlb.inverse_transform(example)\n",
    "decoded"
   ]
  },
  {
   "cell_type": "code",
   "execution_count": null,
   "id": "b860c8fe",
   "metadata": {},
   "outputs": [],
   "source": [
    "flat_texts[20]"
   ]
  },
  {
   "cell_type": "code",
   "execution_count": null,
   "id": "e634d78c",
   "metadata": {},
   "outputs": [],
   "source": [
    "example = model.predict(bert_encode(flat_texts[20], \n",
    "                                    tokenizer, \n",
    "                                    max_len=100))"
   ]
  },
  {
   "cell_type": "code",
   "execution_count": null,
   "id": "b302f8ae",
   "metadata": {},
   "outputs": [],
   "source": [
    "indices = np.argsort(example)[0][-5:]\n",
    "example[0, indices] = 1\n",
    "example[np.where(example != 1)] = 0\n",
    "decoded = mlb.inverse_transform(example)\n",
    "decoded[0]"
   ]
  },
  {
   "cell_type": "code",
   "execution_count": null,
   "id": "7a0a89c1",
   "metadata": {},
   "outputs": [],
   "source": [
    "text_stack_example = [\"I am constructing a discrete choice experiment in Qualtrics. The only explanation I found for this was for Stata which I do not have (https://journals.sagepub.com/doi/10.1177/0894439319885317#fig2-0894439319885317). So I use R instead but have difficulties translating the Stata code into R code. Could anyone help me with this?Definition of parameters for HTML tables *Reference for HTML colors: https://www.w3schools.com/colors/colors_picker.asp local rulecolor #1524D9 // (= bright blue) color of the table's rules local cellcolor #BEDCFC // (= light blue) background color of the table's cells local firstheadcolstyle style='width:180px; border-bottom: 1px solid rulecolor';' local headcolstyle bgcolor='cellcolor''' style='width:270px; text-align: center; border-left: 4px solid rulecolor'; border-top: 4px solid rulecolor'; border-right: 4px solid rulecolor'; border-bottom: 1px solid rulecolor';'' local headrowstyle height= style text-align: left; border-bottom: 1px solid rulecolor' local rowstyle bgcolor=cellcolor'' style=text-align: center; border-left: 4px solid rulecolor'; border-right: 4px solid rulecolor'; border-bottom: 1px solid rulecolor'; local lastrowstyle bgcolor=cellcolor style=text-align: center; border-left: 4px solid rulecolor'; border-right: 4px solid rulecolor'; border-bottom: 4px solid `rulecolor';Initialize txt document texdoc init DCE_{lg}.txt, replace tex [[AdvancedFormat]]\"]"
   ]
  },
  {
   "cell_type": "code",
   "execution_count": null,
   "id": "b26ac8cc",
   "metadata": {},
   "outputs": [],
   "source": [
    "example = model.predict(bert_encode(text_stack_example, \n",
    "                                    tokenizer, \n",
    "                                    max_len=100))"
   ]
  },
  {
   "cell_type": "code",
   "execution_count": null,
   "id": "8717dbd2",
   "metadata": {},
   "outputs": [],
   "source": [
    "indices = np.argsort(example)[0][-5:]\n",
    "example[0, indices] = 1\n",
    "example[np.where(example != 1)] = 0\n",
    "decoded = mlb.inverse_transform(example)\n",
    "decoded[0]"
   ]
  },
  {
   "cell_type": "code",
   "execution_count": null,
   "id": "6ee89594",
   "metadata": {},
   "outputs": [],
   "source": [
    "model.save(main_path+'saved_ressources/model.h5')"
   ]
  },
  {
   "cell_type": "code",
   "execution_count": null,
   "id": "8ba4d894",
   "metadata": {},
   "outputs": [],
   "source": [
    "# code to load it into another program without having to re-train it\n",
    "# from tensorflow import keras\n",
    "# model = keras.models.load_model('/content/model.h5')"
   ]
  },
  {
   "cell_type": "code",
   "execution_count": null,
   "id": "98482fe7",
   "metadata": {},
   "outputs": [],
   "source": []
  },
  {
   "cell_type": "markdown",
   "id": "bddef9c4",
   "metadata": {},
   "source": [
    "## <font color=\"#114b98\" id=\"section_6\">6. Approche supervisée avec Sentence Embedding : USE</font>"
   ]
  },
  {
   "cell_type": "code",
   "execution_count": null,
   "id": "907d627a",
   "metadata": {},
   "outputs": [],
   "source": [
    "from rake_nltk import Rake\n",
    "from scipy.spatial.distance import cosine\n",
    "from sentence_transformers import SentenceTransformer\n",
    "from sklearn.metrics.pairwise import cosine_similarity"
   ]
  },
  {
   "cell_type": "code",
   "execution_count": null,
   "id": "a64b86de",
   "metadata": {},
   "outputs": [],
   "source": [
    "def extract_keywords(input_text):\n",
    "    # Load the USE model\n",
    "    model = hub.load(\"https://tfhub.dev/google/universal-sentence-encoder/4\")\n",
    "    all_keywords = []\n",
    "    # Encode all the sentences in the input text\n",
    "    embeddings = model(input_text)\n",
    "    # Compute the cosine similarity between all the sentences\n",
    "    similarity_matrix = cosine_similarity(embeddings)\n",
    "    # Iterate over the list of sentences\n",
    "    for i in range(len(input_text)):\n",
    "        # Find the most similar sentences\n",
    "        most_similar = np.argsort(-similarity_matrix[i])[1:6]\n",
    "        # Combine the most similar sentences with the current sentence\n",
    "        text = ' '.join([input_text[j] for j in most_similar])\n",
    "        # Extract the keywords from the combined text using RAKE\n",
    "        keyword_extractor = Rake()\n",
    "        keyword_extractor.extract_keywords_from_text(text)\n",
    "        keywords = keyword_extractor.get_ranked_phrases()[:5]\n",
    "        all_keywords.append(keywords)\n",
    "    return all_keywords"
   ]
  },
  {
   "cell_type": "code",
   "execution_count": null,
   "id": "e4ac9acb",
   "metadata": {},
   "outputs": [],
   "source": [
    "data_use = pd.read_csv(main_path+'saved_ressources/'+'data_cleaned_wo_tokenizer.csv', encoding='utf8')"
   ]
  },
  {
   "cell_type": "code",
   "execution_count": null,
   "id": "064d0aca",
   "metadata": {},
   "outputs": [],
   "source": [
    "data_use['Texts'][0:1].to_list()"
   ]
  },
  {
   "cell_type": "code",
   "execution_count": null,
   "id": "d56ac23c",
   "metadata": {},
   "outputs": [],
   "source": [
    "list_use = data_use['Texts'][0:2].to_list()"
   ]
  },
  {
   "cell_type": "code",
   "execution_count": null,
   "id": "5bec062d",
   "metadata": {},
   "outputs": [],
   "source": [
    "# Example usage\n",
    "sentences = [\"BERT is a powerful language model trained by Google.\",\n",
    "             \"text classification with BERT\",\n",
    "             \"BERT for Question Answering\"]"
   ]
  },
  {
   "cell_type": "code",
   "execution_count": null,
   "id": "88f62b4a",
   "metadata": {},
   "outputs": [],
   "source": [
    "# sentences = list_use"
   ]
  },
  {
   "cell_type": "code",
   "execution_count": null,
   "id": "d110a11a",
   "metadata": {},
   "outputs": [],
   "source": [
    "keywords = extract_keywords(sentences)\n",
    "print(keywords[0])"
   ]
  },
  {
   "cell_type": "code",
   "execution_count": null,
   "id": "06668a73",
   "metadata": {},
   "outputs": [],
   "source": [
    "split_keywords = [word for keyword in keywords[0] for word in keyword.split()]\n",
    "keywords_set = set(split_keywords)\n",
    "print(keywords_set)"
   ]
  },
  {
   "cell_type": "code",
   "execution_count": null,
   "id": "055932cf",
   "metadata": {},
   "outputs": [],
   "source": []
  }
 ],
 "metadata": {
  "kernelspec": {
   "display_name": "Python 3 (ipykernel)",
   "language": "python",
   "name": "python3"
  },
  "language_info": {
   "codemirror_mode": {
    "name": "ipython",
    "version": 3
   },
   "file_extension": ".py",
   "mimetype": "text/x-python",
   "name": "python",
   "nbconvert_exporter": "python",
   "pygments_lexer": "ipython3",
   "version": "3.9.16"
  }
 },
 "nbformat": 4,
 "nbformat_minor": 5
}
