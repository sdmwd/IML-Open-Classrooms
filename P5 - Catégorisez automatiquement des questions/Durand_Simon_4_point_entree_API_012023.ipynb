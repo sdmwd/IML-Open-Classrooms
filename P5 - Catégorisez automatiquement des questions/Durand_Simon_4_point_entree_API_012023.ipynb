{
 "cells": [
  {
   "cell_type": "markdown",
   "id": "0195a14a",
   "metadata": {},
   "source": [
    "# <font color=\"#114b98\">Catégorisez automatiquement des questions</font>"
   ]
  },
  {
   "cell_type": "markdown",
   "id": "4c8617ca",
   "metadata": {},
   "source": [
    "## <font color=\"#114b98\">Code final à déployer</font>"
   ]
  },
  {
   "cell_type": "markdown",
   "id": "9f193f1a",
   "metadata": {},
   "source": [
    "**Stack Overflow** est un site célèbre de questions-réponses liées au développement informatique."
   ]
  },
  {
   "cell_type": "markdown",
   "id": "0a6e5a19",
   "metadata": {},
   "source": [
    "L'objectif de ce projet est de développer un système de suggestion de tags pour ce site. Celui-ci prendra la forme d’un algorithme de machine learning qui assignera automatiquement plusieurs tags pertinents à une question."
   ]
  },
  {
   "cell_type": "markdown",
   "id": "af36b38f",
   "metadata": {},
   "source": [
    "**Livrable** : Le point d’entrée d’une API disponible pour le test."
   ]
  },
  {
   "cell_type": "markdown",
   "id": "e30c5848",
   "metadata": {},
   "source": [
    "### Point d'entrée de l'API :"
   ]
  },
  {
   "cell_type": "code",
   "execution_count": null,
   "id": "0764fc86",
   "metadata": {},
   "outputs": [],
   "source": []
  }
 ],
 "metadata": {
  "kernelspec": {
   "display_name": "Python 3 (ipykernel)",
   "language": "python",
   "name": "python3"
  },
  "language_info": {
   "codemirror_mode": {
    "name": "ipython",
    "version": 3
   },
   "file_extension": ".py",
   "mimetype": "text/x-python",
   "name": "python",
   "nbconvert_exporter": "python",
   "pygments_lexer": "ipython3",
   "version": "3.9.16"
  }
 },
 "nbformat": 4,
 "nbformat_minor": 5
}
