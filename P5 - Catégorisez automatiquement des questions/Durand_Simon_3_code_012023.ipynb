{
 "cells": [
  {
   "cell_type": "markdown",
   "id": "086e1c45",
   "metadata": {},
   "source": [
    "# <font color=\"#114b98\">Catégorisez automatiquement des questions</font>"
   ]
  },
  {
   "cell_type": "markdown",
   "id": "645a5335",
   "metadata": {},
   "source": [
    "## <font color=\"#114b98\">Code final à déployer</font>"
   ]
  },
  {
   "cell_type": "markdown",
   "id": "fa35d506",
   "metadata": {},
   "source": [
    "**Stack Overflow** est un site célèbre de questions-réponses liées au développement informatique."
   ]
  },
  {
   "cell_type": "markdown",
   "id": "e61f53d9",
   "metadata": {},
   "source": [
    "L'objectif de ce projet est de développer un système de suggestion de tags pour ce site. Celui-ci prendra la forme d’un algorithme de machine learning qui assignera automatiquement plusieurs tags pertinents à une question."
   ]
  },
  {
   "cell_type": "markdown",
   "id": "021875eb",
   "metadata": {},
   "source": [
    "**Livrable** : Le code final à déployer présenté dans un répertoire et développé progressivement à l’aide d’un logiciel de gestion de versions."
   ]
  },
  {
   "cell_type": "markdown",
   "id": "a8e70c7e",
   "metadata": {},
   "source": [
    "### Code final :"
   ]
  },
  {
   "cell_type": "code",
   "execution_count": null,
   "id": "f0099f29",
   "metadata": {},
   "outputs": [],
   "source": []
  }
 ],
 "metadata": {
  "kernelspec": {
   "display_name": "Python 3 (ipykernel)",
   "language": "python",
   "name": "python3"
  },
  "language_info": {
   "codemirror_mode": {
    "name": "ipython",
    "version": 3
   },
   "file_extension": ".py",
   "mimetype": "text/x-python",
   "name": "python",
   "nbconvert_exporter": "python",
   "pygments_lexer": "ipython3",
   "version": "3.9.16"
  }
 },
 "nbformat": 4,
 "nbformat_minor": 5
}
