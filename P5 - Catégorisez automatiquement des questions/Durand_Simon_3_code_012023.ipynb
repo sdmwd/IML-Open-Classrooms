{
 "cells": [
  {
   "cell_type": "markdown",
   "id": "fb67db71",
   "metadata": {},
   "source": [
    "# <font color=\"#114b98\">Catégorisez automatiquement des questions</font>"
   ]
  },
  {
   "cell_type": "markdown",
   "id": "f9dc46ee",
   "metadata": {},
   "source": [
    "## <font color=\"#114b98\">Code final à déployer</font>"
   ]
  },
  {
   "cell_type": "markdown",
   "id": "9c36c046",
   "metadata": {},
   "source": [
    "**Stack Overflow** est un site célèbre de questions-réponses liées au développement informatique."
   ]
  },
  {
   "cell_type": "markdown",
   "id": "dc3112af",
   "metadata": {},
   "source": [
    "L'objectif de ce projet est de développer un système de suggestion de tags pour ce site. Celui-ci prendra la forme d’un algorithme de machine learning qui assignera automatiquement plusieurs tags pertinents à une question."
   ]
  },
  {
   "cell_type": "markdown",
   "id": "705dd222",
   "metadata": {},
   "source": [
    "**Livrable** : Le code final à déployer présenté dans un répertoire et développé progressivement à l’aide d’un logiciel de gestion de versions."
   ]
  },
  {
   "cell_type": "markdown",
   "id": "460ba22a",
   "metadata": {},
   "source": [
    "**Lien vers le répertoire : https://github.com/sdmwd/streamlit-P5-IML-SD**"
   ]
  },
  {
   "cell_type": "markdown",
   "id": "85df99b7",
   "metadata": {},
   "source": [
    "### Copie du code du fichier principal"
   ]
  },
  {
   "cell_type": "code",
   "execution_count": null,
   "id": "575bc6c2",
   "metadata": {},
   "outputs": [],
   "source": [
    "# Importation des bibliothèques nécessaires\n",
    "import re\n",
    "import dill\n",
    "import nltk\n",
    "import joblib\n",
    "import html5lib\n",
    "import numpy as np\n",
    "import streamlit as st\n",
    "from nltk import pos_tag\n",
    "from bs4 import BeautifulSoup\n",
    "from nltk.tokenize import word_tokenize\n",
    "from nltk.stem import WordNetLemmatizer\n",
    "\n",
    "\n",
    "# Téléchargement des ressources nécessaires de NLTK\n",
    "nltk.download('omw-1.4')\n",
    "nltk.download('punkt')\n",
    "nltk.download('wordnet')\n",
    "nltk.download('averaged_perceptron_tagger')\n",
    "\n",
    "\n",
    "# Définition du chemin d'accès aux ressources\n",
    "path = 'ressources/'\n",
    "\n",
    "\n",
    "# Chargement des fichiers\n",
    "vectorizer_CV = joblib.load(path + 'countvectorizer.joblib')\n",
    "vectorizer_TFIDF = joblib.load(path + 'tfidfvectorizer.joblib')\n",
    "mlb = joblib.load(path + 'multilabelbinarizer.joblib')\n",
    "\n",
    "with open(path + 'stop_words.pkl', 'rb') as f:\n",
    "    stop_words = dill.load(f)\n",
    "\n",
    "with open(path + 'top_500_tags.pkl', 'rb') as f:\n",
    "    top_500_tags = dill.load(f)\n",
    "\n",
    "with open(path + 'pipelines.pkl', 'rb') as file:\n",
    "    pipelines = dill.load(file)\n",
    "\n",
    "with open(path + 'lda.pkl', 'rb') as file:\n",
    "    lda = dill.load(file)\n",
    "\n",
    "\n",
    "# Définir un dictionnaire de fonctions de modèles et de leurs paramètres associés\n",
    "model_functions_supervised = {\n",
    "    \"LogisticRegression (best model)\": {\"function\": pipelines[\"LogisticRegression\"].predict},\n",
    "    \"SGDClassifier\": {\"function\": pipelines[\"SGDClassifier\"].predict}\n",
    "}\n",
    "\n",
    "model_functions_unsupervised = {\n",
    "    \"CountVectorizer\": {\"function\": pipelines[\"CountVectorizer\"].transform},\n",
    "    \"TFIDFVectorizer\": {\"function\": pipelines[\"TFIDFVectorizer\"].transform},\n",
    "    \"LDA + CountVectorizer\": {\"function\": pipelines[\"LDA\"].transform}\n",
    "}\n",
    "\n",
    "# Définition de l'interface utilisateur\n",
    "st.markdown(\n",
    "    \"<h1 style='margin-top: 0; padding-top: 0;'>Générateur de tags</h1>\",\n",
    "    unsafe_allow_html=True)\n",
    "subtitle = '<p style=\"font-size: 30px;\">Projet 5 - OpenClassrooms Parcours IML</p>'\n",
    "st.markdown(subtitle, unsafe_allow_html=True)\n",
    "button_style = \"background-color: black; color: white; border-radius: 5px;\"\n",
    "\n",
    "\n",
    "# Sélection du modèle à utiliser\n",
    "st.sidebar.header(\"Choisir un modèle\")\n",
    "\n",
    "with st.sidebar.container():\n",
    "    choice = st.selectbox(\" \", [\" \", \"Approche supervisée\", \"Approche non supervisée\"])\n",
    "    model_choice = None\n",
    "\n",
    "    if choice == \"Approche supervisée\":\n",
    "        with st.sidebar.container():\n",
    "            model_choice = st.selectbox(\" \", model_functions_supervised.keys())\n",
    "\n",
    "    if choice == \"Approche non supervisée\":\n",
    "        with st.sidebar.container():\n",
    "            model_choice = st.selectbox(\" \", model_functions_unsupervised.keys())\n",
    "\n",
    "\n",
    "# Saisie du titre et du texte à utiliser\n",
    "title = st.text_input(\"Collez ici votre titre :\")\n",
    "post = st.text_area(\"Collez ici votre texte :\", height=250)\n",
    "\n",
    "\n",
    "# Si aucune approche ni aucun modèle ne sont sélectionnés, afficher un message d'erreur\n",
    "if model_choice is None:\n",
    "    st.error(\"Merci de sélectionner un modèle.\")\n",
    "\n",
    "else:\n",
    "\n",
    "    # Génération des tags si l'utilisateur a cliqué sur le bouton et a fourni des données\n",
    "    if st.button(\"Tags\") and title and post and (model_choice is not None or \"\"):\n",
    "\n",
    "        # Concaténer le titre et le message en une seule chaîne\n",
    "        user_input = title + \" \" + post\n",
    "\n",
    "        # Récupérer la fonction pour les modèles supervisés\n",
    "        if model_choice in model_functions_supervised:\n",
    "            model_function = model_functions_supervised[model_choice][\"function\"]\n",
    "            tag_transform = lambda output: list(mlb.inverse_transform(output)[0])\n",
    "\n",
    "        # Récupérer la fonctionpour les modèles non supervisés\n",
    "        elif model_choice in model_functions_unsupervised:\n",
    "            model_function = model_functions_unsupervised[model_choice][\"function\"]\n",
    "            tag_transform = lambda output: list(t[0] for t in output[0])\n",
    "\n",
    "        # Appliquer le modèle choisi à la chaîne d'entrée\n",
    "        output = model_function(user_input)\n",
    "\n",
    "        # Extraire les tags prédits de la sortie\n",
    "        tags = tag_transform(output)\n",
    "\n",
    "        # Impression des tags\n",
    "        buttons = \"  \".join([f'<button style=\"{button_style}\">{text}</button>' for text in tags])\n",
    "        st.markdown(buttons, unsafe_allow_html=True)\n",
    "\n"
   ]
  }
 ],
 "metadata": {
  "kernelspec": {
   "display_name": "Python 3 (ipykernel)",
   "language": "python",
   "name": "python3"
  },
  "language_info": {
   "codemirror_mode": {
    "name": "ipython",
    "version": 3
   },
   "file_extension": ".py",
   "mimetype": "text/x-python",
   "name": "python",
   "nbconvert_exporter": "python",
   "pygments_lexer": "ipython3",
   "version": "3.9.13"
  }
 },
 "nbformat": 4,
 "nbformat_minor": 5
}
