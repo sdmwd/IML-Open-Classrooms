{
 "cells": [
  {
   "cell_type": "markdown",
   "id": "40f0222a",
   "metadata": {},
   "source": [
    "# <font color=\"#114b98\">Catégorisez automatiquement des questions</font>"
   ]
  },
  {
   "cell_type": "markdown",
   "id": "5815ab77",
   "metadata": {},
   "source": [
    "## <font color=\"#114b98\">Notebook de test de différents modèles</font>"
   ]
  },
  {
   "cell_type": "markdown",
   "id": "06fb1151",
   "metadata": {},
   "source": [
    "**Stack Overflow** est un site célèbre de questions-réponses liées au développement informatique."
   ]
  },
  {
   "cell_type": "markdown",
   "id": "47d05297",
   "metadata": {},
   "source": [
    "L'objectif de ce projet est de développer un système de **suggestion de tags** pour ce site. Celui-ci prendra la forme d’un algorithme de machine learning qui assignera automatiquement plusieurs tags pertinents à une question."
   ]
  },
  {
   "cell_type": "markdown",
   "id": "cb25dcf2",
   "metadata": {},
   "source": [
    "**Livrable** : Un notebook de test de différents modèles."
   ]
  },
  {
   "cell_type": "markdown",
   "id": "3378bec4",
   "metadata": {},
   "source": [
    "## <font color=\"#114b98\">Sommaire</font>\n",
    "[1. Chargement du jeu de données](#section_1)\n",
    "\n",
    "[2. Approche non supervisée afin de proposer des mots clés](#section_2)\n",
    "\n",
    "[3. Approche supervisée avec TF-IDF](#section_3)\n",
    "\n",
    "[4. Approche supervisée avec bag-of-words](#section_4)\n",
    "\n",
    "[5. Approche supervisée avec Word Embedding : Word2Vec](#section_5)\n",
    "\n",
    "[6. Approche supervisée avec Word Embedding : BERT](#section_6)\n",
    "\n",
    "[7. Approche supervisée avec Sentence Embedding : USE](#section_7)"
   ]
  },
  {
   "cell_type": "markdown",
   "id": "37fb45a8",
   "metadata": {},
   "source": [
    "## <font color=\"#114b98\" id=\"section_1\">1. Chargement du jeu de données</font>"
   ]
  },
  {
   "cell_type": "code",
   "execution_count": 119,
   "id": "cbf8947d",
   "metadata": {},
   "outputs": [],
   "source": [
    "import pandas as pd\n",
    "import numpy as np\n",
    "import matplotlib.pyplot as plt\n",
    "import seaborn as sns\n",
    "import os\n",
    "import time\n",
    "import ast\n",
    "import random\n",
    "# import warnings\n",
    "# warnings.filterwarnings('ignore')\n",
    "%matplotlib inline"
   ]
  },
  {
   "cell_type": "code",
   "execution_count": 120,
   "id": "dcaf002c",
   "metadata": {},
   "outputs": [],
   "source": [
    "from sklearn.model_selection import train_test_split"
   ]
  },
  {
   "cell_type": "code",
   "execution_count": 121,
   "id": "5b0ed41f",
   "metadata": {},
   "outputs": [],
   "source": [
    "plt.rc('axes', titlesize=22) \n",
    "plt.rc('axes', labelsize=18) \n",
    "titleprops = {'fontsize':20}\n",
    "textprops = {'fontsize':15}\n",
    "plt.style.use('ggplot')"
   ]
  },
  {
   "cell_type": "code",
   "execution_count": 122,
   "id": "1b96f07d",
   "metadata": {},
   "outputs": [
    {
     "data": {
      "text/plain": [
       "['bows.mm',\n",
       " 'bows.mm.index',\n",
       " 'bows1.mm',\n",
       " 'bows1.mm.index',\n",
       " 'bows2.mm',\n",
       " 'bows2.mm.index',\n",
       " 'data_cleaned.csv']"
      ]
     },
     "execution_count": 122,
     "metadata": {},
     "output_type": "execute_result"
    }
   ],
   "source": [
    "main_path = 'N:/5 - WORK/1 - Projets/Projet 5/'\n",
    "files = os.listdir(main_path+'saved_ressources/')\n",
    "files"
   ]
  },
  {
   "cell_type": "code",
   "execution_count": 123,
   "id": "9a251077",
   "metadata": {},
   "outputs": [],
   "source": [
    "data = pd.read_csv(main_path+'saved_ressources/'+'data_cleaned.csv', encoding='utf8')"
   ]
  },
  {
   "cell_type": "code",
   "execution_count": 124,
   "id": "876bc155",
   "metadata": {},
   "outputs": [],
   "source": [
    "data = data.applymap(lambda x: ast.literal_eval(x))"
   ]
  },
  {
   "cell_type": "code",
   "execution_count": 125,
   "id": "f0fd42dc",
   "metadata": {},
   "outputs": [
    {
     "data": {
      "text/html": [
       "<div>\n",
       "<style scoped>\n",
       "    .dataframe tbody tr th:only-of-type {\n",
       "        vertical-align: middle;\n",
       "    }\n",
       "\n",
       "    .dataframe tbody tr th {\n",
       "        vertical-align: top;\n",
       "    }\n",
       "\n",
       "    .dataframe thead th {\n",
       "        text-align: right;\n",
       "    }\n",
       "</style>\n",
       "<table border=\"1\" class=\"dataframe\">\n",
       "  <thead>\n",
       "    <tr style=\"text-align: right;\">\n",
       "      <th></th>\n",
       "      <th>Tags</th>\n",
       "      <th>Texts</th>\n",
       "    </tr>\n",
       "  </thead>\n",
       "  <tbody>\n",
       "    <tr>\n",
       "      <th>0</th>\n",
       "      <td>[macos, emacs, scheme, interpreter, sicp]</td>\n",
       "      <td>[interpreter, emacs, interpreter, python, inte...</td>\n",
       "    </tr>\n",
       "    <tr>\n",
       "      <th>1</th>\n",
       "      <td>[c#, functional-programming, delegates, lambda...</td>\n",
       "      <td>[scope, bug, compiler, voidfunction, delegate,...</td>\n",
       "    </tr>\n",
       "    <tr>\n",
       "      <th>2</th>\n",
       "      <td>[mysql, database, arrays, postgresql, stored-p...</td>\n",
       "      <td>[pass, array, procedure, pass, array, procedur...</td>\n",
       "    </tr>\n",
       "    <tr>\n",
       "      <th>3</th>\n",
       "      <td>[ios, objective-c, iphone, cocoa-touch, uibutton]</td>\n",
       "      <td>[state, need, figure, button, state, documenta...</td>\n",
       "    </tr>\n",
       "    <tr>\n",
       "      <th>4</th>\n",
       "      <td>[database, nhibernate, exception-handling, con...</td>\n",
       "      <td>[check, application, column, name, constraint,...</td>\n",
       "    </tr>\n",
       "  </tbody>\n",
       "</table>\n",
       "</div>"
      ],
      "text/plain": [
       "                                                Tags  \\\n",
       "0          [macos, emacs, scheme, interpreter, sicp]   \n",
       "1  [c#, functional-programming, delegates, lambda...   \n",
       "2  [mysql, database, arrays, postgresql, stored-p...   \n",
       "3  [ios, objective-c, iphone, cocoa-touch, uibutton]   \n",
       "4  [database, nhibernate, exception-handling, con...   \n",
       "\n",
       "                                               Texts  \n",
       "0  [interpreter, emacs, interpreter, python, inte...  \n",
       "1  [scope, bug, compiler, voidfunction, delegate,...  \n",
       "2  [pass, array, procedure, pass, array, procedur...  \n",
       "3  [state, need, figure, button, state, documenta...  \n",
       "4  [check, application, column, name, constraint,...  "
      ]
     },
     "execution_count": 125,
     "metadata": {},
     "output_type": "execute_result"
    }
   ],
   "source": [
    "data.head()"
   ]
  },
  {
   "cell_type": "code",
   "execution_count": 126,
   "id": "5aa4d2ad",
   "metadata": {},
   "outputs": [
    {
     "name": "stdout",
     "output_type": "stream",
     "text": [
      "<class 'pandas.core.frame.DataFrame'>\n",
      "RangeIndex: 159599 entries, 0 to 159598\n",
      "Data columns (total 2 columns):\n",
      " #   Column  Non-Null Count   Dtype \n",
      "---  ------  --------------   ----- \n",
      " 0   Tags    159599 non-null  object\n",
      " 1   Texts   159599 non-null  object\n",
      "dtypes: object(2)\n",
      "memory usage: 2.4+ MB\n"
     ]
    }
   ],
   "source": [
    "data.info()"
   ]
  },
  {
   "cell_type": "markdown",
   "id": "fa5d34fa",
   "metadata": {},
   "source": [
    "Le jeu de données est trop important pour les temps de calculs à ma disposition."
   ]
  },
  {
   "cell_type": "markdown",
   "id": "307ffd4f",
   "metadata": {},
   "source": [
    "J'ai deux possibilités : \n",
    "- prendre un sample de 10000 observations aléatoirement\n",
    "- prendre les 10000 observations pour lesquelles la similarité entre les deux colonnes est importante"
   ]
  },
  {
   "cell_type": "code",
   "execution_count": 127,
   "id": "4a7568d9",
   "metadata": {},
   "outputs": [],
   "source": [
    "# data_sample = data.sample(10000)\n",
    "# data_sample.reset_index(inplace=True, drop=True)\n",
    "# print(data_sample.shape)\n",
    "# data_sample.head()"
   ]
  },
  {
   "cell_type": "code",
   "execution_count": 128,
   "id": "9d247c02",
   "metadata": {},
   "outputs": [],
   "source": [
    "from typing import List"
   ]
  },
  {
   "cell_type": "code",
   "execution_count": 129,
   "id": "4d1a05dc",
   "metadata": {},
   "outputs": [
    {
     "name": "stdout",
     "output_type": "stream",
     "text": [
      "(10000, 3)\n"
     ]
    },
    {
     "data": {
      "text/html": [
       "<div>\n",
       "<style scoped>\n",
       "    .dataframe tbody tr th:only-of-type {\n",
       "        vertical-align: middle;\n",
       "    }\n",
       "\n",
       "    .dataframe tbody tr th {\n",
       "        vertical-align: top;\n",
       "    }\n",
       "\n",
       "    .dataframe thead th {\n",
       "        text-align: right;\n",
       "    }\n",
       "</style>\n",
       "<table border=\"1\" class=\"dataframe\">\n",
       "  <thead>\n",
       "    <tr style=\"text-align: right;\">\n",
       "      <th></th>\n",
       "      <th>Tags</th>\n",
       "      <th>Texts</th>\n",
       "      <th>jaccard_similarity</th>\n",
       "    </tr>\n",
       "  </thead>\n",
       "  <tbody>\n",
       "    <tr>\n",
       "      <th>0</th>\n",
       "      <td>[javascript, jquery, string, date, object]</td>\n",
       "      <td>[jquery, javascript, convert, date, string, da...</td>\n",
       "      <td>0.833333</td>\n",
       "    </tr>\n",
       "    <tr>\n",
       "      <th>1</th>\n",
       "      <td>[canvas, point, bezier, curve, coordinate]</td>\n",
       "      <td>[coordinate, point, curve, canvas, point, canvas]</td>\n",
       "      <td>0.800000</td>\n",
       "    </tr>\n",
       "    <tr>\n",
       "      <th>2</th>\n",
       "      <td>[listview, javafx, tableview, scrollbar, hide]</td>\n",
       "      <td>[hide, scrollbar, listview, javafx, hide, scro...</td>\n",
       "      <td>0.800000</td>\n",
       "    </tr>\n",
       "    <tr>\n",
       "      <th>3</th>\n",
       "      <td>[apache, import, export, repository, jackrabbit]</td>\n",
       "      <td>[way, import, export, apache, jackrabbit, way,...</td>\n",
       "      <td>0.714286</td>\n",
       "    </tr>\n",
       "    <tr>\n",
       "      <th>4</th>\n",
       "      <td>[javascript, location, window, href, window-ob...</td>\n",
       "      <td>[window, location, href, window, javascript, d...</td>\n",
       "      <td>0.666667</td>\n",
       "    </tr>\n",
       "  </tbody>\n",
       "</table>\n",
       "</div>"
      ],
      "text/plain": [
       "                                                Tags  \\\n",
       "0         [javascript, jquery, string, date, object]   \n",
       "1         [canvas, point, bezier, curve, coordinate]   \n",
       "2     [listview, javafx, tableview, scrollbar, hide]   \n",
       "3   [apache, import, export, repository, jackrabbit]   \n",
       "4  [javascript, location, window, href, window-ob...   \n",
       "\n",
       "                                               Texts  jaccard_similarity  \n",
       "0  [jquery, javascript, convert, date, string, da...            0.833333  \n",
       "1  [coordinate, point, curve, canvas, point, canvas]            0.800000  \n",
       "2  [hide, scrollbar, listview, javafx, hide, scro...            0.800000  \n",
       "3  [way, import, export, apache, jackrabbit, way,...            0.714286  \n",
       "4  [window, location, href, window, javascript, d...            0.666667  "
      ]
     },
     "execution_count": 129,
     "metadata": {},
     "output_type": "execute_result"
    }
   ],
   "source": [
    "def jaccard_similarity(list1: List[str], list2: List[str]) -> float:\n",
    "    set1 = set(list1)\n",
    "    set2 = set(list2)\n",
    "    intersection = set1.intersection(set2)\n",
    "    union = set1.union(set2)\n",
    "    jaccard_similarity = len(intersection) / len(union)\n",
    "    return jaccard_similarity\n",
    "\n",
    "def get_highest_similarity_rows(data: pd.DataFrame, col1: str, col2: str, n: int):\n",
    "    data[\"jaccard_similarity\"] = data.apply(lambda x: jaccard_similarity(x[col1], x[col2]), axis=1)\n",
    "    data = data.sort_values(by=\"jaccard_similarity\", ascending=False)\n",
    "    return data.head(n)\n",
    "\n",
    "\n",
    "data_sample = get_highest_similarity_rows(data, \"Tags\", \"Texts\", 10000)\n",
    "data_sample.drop(['jaccard_similarity'], axis=1, inplace=True)\n",
    "data_sample.reset_index(inplace=True, drop=True)\n",
    "print(data_sample.shape)\n",
    "data_sample.head()"
   ]
  },
  {
   "cell_type": "code",
   "execution_count": 99,
   "id": "b138a466",
   "metadata": {},
   "outputs": [],
   "source": [
    "texts_list = data_sample[\"Texts\"].to_list()\n",
    "tags_list = data_sample[\"Tags\"].to_list()"
   ]
  },
  {
   "cell_type": "code",
   "execution_count": 100,
   "id": "721078cd",
   "metadata": {},
   "outputs": [],
   "source": [
    "flat_texts = [\" \".join(text) for text in texts_list]\n",
    "flat_tags = [\" \".join(tag) for tag in tags_list]"
   ]
  },
  {
   "cell_type": "code",
   "execution_count": 101,
   "id": "60b05e38",
   "metadata": {},
   "outputs": [],
   "source": [
    "vocabulary_texts = list(set([word for item in texts_list for word in item]))\n",
    "vocabulary_tags = list(set([word for item in tags_list for word in item]))"
   ]
  },
  {
   "cell_type": "code",
   "execution_count": 102,
   "id": "022e164c",
   "metadata": {},
   "outputs": [],
   "source": [
    "scores = pd.DataFrame()"
   ]
  },
  {
   "cell_type": "markdown",
   "id": "8ef2b074",
   "metadata": {},
   "source": [
    "## <font color=\"#114b98\" id=\"section_2\">2. Approche non supervisée afin de proposer des mots clés</font>"
   ]
  },
  {
   "cell_type": "code",
   "execution_count": 103,
   "id": "299e07b1",
   "metadata": {},
   "outputs": [],
   "source": [
    "# pip install --upgrade numpy==1.24.1\n",
    "# pip install gensim==4.3.0\n",
    "# pip install pyLDAvis\n",
    "from sklearn.feature_extraction.text import CountVectorizer\n",
    "from sklearn.metrics import accuracy_score, f1_score, jaccard_score, silhouette_score\n",
    "from sklearn.metrics import precision_score, recall_score\n",
    "from sklearn.decomposition import LatentDirichletAllocation, NMF\n",
    "from gensim import models, corpora, matutils\n",
    "from gensim.corpora import Dictionary\n",
    "from gensim.models import CoherenceModel\n",
    "from scipy.stats import entropy"
   ]
  },
  {
   "cell_type": "code",
   "execution_count": 104,
   "id": "f058837e",
   "metadata": {},
   "outputs": [],
   "source": [
    "# Create a list of possible number of topics to test\n",
    "num_topics = range(2, 20, 2)"
   ]
  },
  {
   "cell_type": "code",
   "execution_count": 105,
   "id": "f0d0dffd",
   "metadata": {},
   "outputs": [],
   "source": [
    "# Initialize lists to store the silhouette scores for LDA and NMF\n",
    "lda_scores = []\n",
    "nmf_scores = []"
   ]
  },
  {
   "cell_type": "code",
   "execution_count": 106,
   "id": "25799f32",
   "metadata": {},
   "outputs": [],
   "source": [
    "# Initialize the CountVectorizer\n",
    "vectorizer = CountVectorizer()"
   ]
  },
  {
   "cell_type": "code",
   "execution_count": 107,
   "id": "81ac5261",
   "metadata": {},
   "outputs": [],
   "source": [
    "# Fit the vectorizer to your texts\n",
    "texts = vectorizer.fit_transform(flat_texts)\n",
    "tags = np.array(flat_tags)"
   ]
  },
  {
   "cell_type": "code",
   "execution_count": 108,
   "id": "25722264",
   "metadata": {},
   "outputs": [],
   "source": [
    "# tags = vectorizer.fit_transform(flat_tags)"
   ]
  },
  {
   "cell_type": "code",
   "execution_count": 109,
   "id": "9a270f4a",
   "metadata": {},
   "outputs": [],
   "source": [
    "# Test LDA with different number of topics\n",
    "for n in num_topics:\n",
    "    lda = LatentDirichletAllocation(n_components=n, max_iter=300)\n",
    "    lda.fit(texts)\n",
    "    topic_assignments = lda.transform(texts)\n",
    "    labels = np.argmax(topic_assignments, axis=1)\n",
    "    lda_scores.append(silhouette_score(topic_assignments, labels, metric='euclidean'))"
   ]
  },
  {
   "cell_type": "code",
   "execution_count": 110,
   "id": "2f62d064",
   "metadata": {},
   "outputs": [],
   "source": [
    "# Test NMF with different number of topics\n",
    "for n in num_topics:\n",
    "    nmf = NMF(n_components=n, max_iter=300)\n",
    "    nmf.fit(texts)\n",
    "    topic_assignments = nmf.transform(texts)\n",
    "    labels = np.argmax(topic_assignments, axis=1)\n",
    "    nmf_scores.append(silhouette_score(topic_assignments, labels, metric='euclidean'))"
   ]
  },
  {
   "cell_type": "code",
   "execution_count": null,
   "id": "58c30907",
   "metadata": {},
   "outputs": [],
   "source": [
    "# GB ou RF "
   ]
  },
  {
   "cell_type": "code",
   "execution_count": 111,
   "id": "ac5c1518",
   "metadata": {},
   "outputs": [
    {
     "data": {
      "image/png": "[encoded data removed]",
      "text/plain": [
       "<Figure size 640x480 with 1 Axes>"
      ]
     },
     "metadata": {},
     "output_type": "display_data"
    }
   ],
   "source": [
    "# Plot the accuracy scores for different number of topics\n",
    "plt.plot(num_topics, lda_scores, label='LDA')\n",
    "plt.plot(num_topics, nmf_scores, label='NMF')\n",
    "plt.xlabel('Number of Topics')\n",
    "plt.ylabel('Silhouette score')\n",
    "plt.legend()\n",
    "plt.show()"
   ]
  },
  {
   "cell_type": "code",
   "execution_count": 112,
   "id": "94153ec9",
   "metadata": {},
   "outputs": [],
   "source": [
    "# Get the number of topics with the highest silhouette score\n",
    "best_n_topics_nmf = num_topics[np.argmax(nmf_scores)]\n",
    "best_n_topics_lda = num_topics[np.argmax(lda_scores)]"
   ]
  },
  {
   "cell_type": "code",
   "execution_count": 113,
   "id": "176d2cf0",
   "metadata": {},
   "outputs": [],
   "source": [
    "# Use the best number of topics to fit models\n",
    "nmf = NMF(n_components=best_n_topics_nmf, max_iter=300)\n",
    "lda = LatentDirichletAllocation(n_components=best_n_topics_lda, max_iter=300)"
   ]
  },
  {
   "cell_type": "code",
   "execution_count": 114,
   "id": "c6a27f81",
   "metadata": {},
   "outputs": [],
   "source": [
    "# Get the true labels\n",
    "true_tags = [np.argmax(tags[i]) for i in range(tags.shape[0])]"
   ]
  },
  {
   "cell_type": "code",
   "execution_count": 116,
   "id": "3504ca08",
   "metadata": {},
   "outputs": [],
   "source": [
    "def evaluate_model(model, vectorized_data, true_tags):\n",
    "    \"\"\"\n",
    "    Given a model, texts, and true tags, \n",
    "    calculates the accuracy score and F1 score.\n",
    "    \"\"\"\n",
    "    start_time = time.time()\n",
    "    \n",
    "    # Fit the model to the data\n",
    "    model.fit(vectorized_data)\n",
    "\n",
    "    # Get the predicted labels for the data\n",
    "    pred_tags = model.transform(vectorized_data).argmax(axis=1)\n",
    "\n",
    "    # Calculate the accuracy score\n",
    "    acc_score = accuracy_score(true_tags, pred_tags)\n",
    "    print(f'Accuracy score: {acc_score:.3f}')\n",
    "\n",
    "    # Calculate the F1 Score\n",
    "    f1_sc = f1_score(true_tags, pred_tags, average='weighted')\n",
    "    print(f'F1 Score: {f1_sc:.3f}')\n",
    "\n",
    "    # Calculate the precision\n",
    "    precision = precision_score(true_tags, pred_tags, average='weighted')\n",
    "    print(f'Precision: {precision:.3f}')\n",
    "\n",
    "    # Calculate the recall\n",
    "    recall = recall_score(true_tags, pred_tags, average='weighted', zero_division=0)   \n",
    "    print(f'Recall: {recall:.3f}')\n",
    "\n",
    "    end_time = time.time()\n",
    "    print(\"Time taken: \", end_time - start_time)\n",
    "\n",
    "    # Return the results as a Pandas series\n",
    "    return pd.Series({\"accuracy_score\": acc_score, \"f1_score\": f1_sc, 'precision': precision, 'recall': recall})"
   ]
  },
  {
   "cell_type": "code",
   "execution_count": 117,
   "id": "e15add83",
   "metadata": {},
   "outputs": [
    {
     "name": "stdout",
     "output_type": "stream",
     "text": [
      "Accuracy score: 0.001\n",
      "F1 Score: 0.000\n",
      "Precision: 0.000\n",
      "Recall: 0.001\n",
      "Time taken:  218.7689712047577\n"
     ]
    },
    {
     "name": "stderr",
     "output_type": "stream",
     "text": [
      "C:\\Users\\Simon\\anaconda3\\lib\\site-packages\\sklearn\\metrics\\_classification.py:1334: UndefinedMetricWarning: Precision is ill-defined and being set to 0.0 in labels with no predicted samples. Use `zero_division` parameter to control this behavior.\n",
      "  _warn_prf(average, modifier, msg_start, len(result))\n"
     ]
    }
   ],
   "source": [
    "scores['LDA'] = evaluate_model(lda, texts, true_tags)"
   ]
  },
  {
   "cell_type": "code",
   "execution_count": 118,
   "id": "194c2522",
   "metadata": {},
   "outputs": [
    {
     "name": "stdout",
     "output_type": "stream",
     "text": [
      "Accuracy score: 0.001\n",
      "F1 Score: 0.000\n",
      "Precision: 0.000\n",
      "Recall: 0.001\n",
      "Time taken:  0.059046030044555664\n"
     ]
    },
    {
     "name": "stderr",
     "output_type": "stream",
     "text": [
      "C:\\Users\\Simon\\anaconda3\\lib\\site-packages\\sklearn\\metrics\\_classification.py:1334: UndefinedMetricWarning: Precision is ill-defined and being set to 0.0 in labels with no predicted samples. Use `zero_division` parameter to control this behavior.\n",
      "  _warn_prf(average, modifier, msg_start, len(result))\n"
     ]
    }
   ],
   "source": [
    "scores['NMF'] = evaluate_model(nmf, texts, true_tags)"
   ]
  },
  {
   "cell_type": "code",
   "execution_count": null,
   "id": "a016a07e",
   "metadata": {},
   "outputs": [],
   "source": []
  },
  {
   "cell_type": "code",
   "execution_count": 84,
   "id": "38585c6c",
   "metadata": {},
   "outputs": [
    {
     "name": "stdout",
     "output_type": "stream",
     "text": [
      "Accuracy score: 0.431\n",
      "F1 Score: 0.602\n",
      "Precision: 1.000\n",
      "Recall: 0.431\n",
      "Time taken:  15.947980642318726\n"
     ]
    }
   ],
   "source": [
    "scores['LDA'] = evaluate_model(lda, texts, true_tags)"
   ]
  },
  {
   "cell_type": "code",
   "execution_count": 85,
   "id": "5e2c0102",
   "metadata": {},
   "outputs": [
    {
     "name": "stdout",
     "output_type": "stream",
     "text": [
      "Accuracy score: 0.029\n",
      "F1 Score: 0.057\n",
      "Precision: 1.000\n",
      "Recall: 0.029\n",
      "Time taken:  0.0587923526763916\n"
     ]
    }
   ],
   "source": [
    "scores['NMF'] = evaluate_model(nmf, texts, true_tags)"
   ]
  },
  {
   "cell_type": "markdown",
   "id": "7b65b6e3",
   "metadata": {},
   "source": [
    "## <font color=\"#114b98\" id=\"section_3\">3. Approche supervisée avec TF-IDF</font>"
   ]
  },
  {
   "cell_type": "code",
   "execution_count": 31,
   "id": "9d3ed5cf",
   "metadata": {},
   "outputs": [],
   "source": [
    "from sklearn.feature_extraction.text import TfidfVectorizer"
   ]
  },
  {
   "cell_type": "code",
   "execution_count": 32,
   "id": "24255a18",
   "metadata": {},
   "outputs": [],
   "source": [
    "tfidf_vectorizer = TfidfVectorizer(vocabulary=vocabulary_tags)"
   ]
  },
  {
   "cell_type": "code",
   "execution_count": 33,
   "id": "3a2f94ba",
   "metadata": {},
   "outputs": [],
   "source": [
    "X = tfidf_vectorizer.fit_transform(flat_texts)"
   ]
  },
  {
   "cell_type": "code",
   "execution_count": 34,
   "id": "77fb3d26",
   "metadata": {},
   "outputs": [],
   "source": [
    "tfidf_data = pd.DataFrame(X.toarray(), columns=tfidf_vectorizer.get_feature_names_out())"
   ]
  },
  {
   "cell_type": "code",
   "execution_count": 35,
   "id": "a877f917",
   "metadata": {},
   "outputs": [
    {
     "name": "stdout",
     "output_type": "stream",
     "text": [
      "Affichage des 15 premiers textes vectorisés par TF-IDF\n"
     ]
    },
    {
     "data": {
      "text/html": [
       "<div>\n",
       "<style scoped>\n",
       "    .dataframe tbody tr th:only-of-type {\n",
       "        vertical-align: middle;\n",
       "    }\n",
       "\n",
       "    .dataframe tbody tr th {\n",
       "        vertical-align: top;\n",
       "    }\n",
       "\n",
       "    .dataframe thead th {\n",
       "        text-align: right;\n",
       "    }\n",
       "</style>\n",
       "<table border=\"1\" class=\"dataframe\">\n",
       "  <thead>\n",
       "    <tr style=\"text-align: right;\">\n",
       "      <th></th>\n",
       "      <th>code-formatting</th>\n",
       "      <th>vbox</th>\n",
       "      <th>named-pipes</th>\n",
       "      <th>attributeerror</th>\n",
       "      <th>cheerio</th>\n",
       "      <th>vinyl</th>\n",
       "      <th>git-fork</th>\n",
       "      <th>githooks</th>\n",
       "      <th>arabic-support</th>\n",
       "      <th>axapta</th>\n",
       "      <th>...</th>\n",
       "      <th>cdc</th>\n",
       "      <th>google-compute-engine</th>\n",
       "      <th>zend-framework</th>\n",
       "      <th>graceful-degradation</th>\n",
       "      <th>llvm</th>\n",
       "      <th>instantiation</th>\n",
       "      <th>marshalling</th>\n",
       "      <th>android-5.0-lollipop</th>\n",
       "      <th>geotiff</th>\n",
       "      <th>ping</th>\n",
       "    </tr>\n",
       "  </thead>\n",
       "  <tbody>\n",
       "    <tr>\n",
       "      <th>0</th>\n",
       "      <td>0.0</td>\n",
       "      <td>0.0</td>\n",
       "      <td>0.0</td>\n",
       "      <td>0.0</td>\n",
       "      <td>0.0</td>\n",
       "      <td>0.0</td>\n",
       "      <td>0.0</td>\n",
       "      <td>0.0</td>\n",
       "      <td>0.0</td>\n",
       "      <td>0.0</td>\n",
       "      <td>...</td>\n",
       "      <td>0.0</td>\n",
       "      <td>0.0</td>\n",
       "      <td>0.0</td>\n",
       "      <td>0.0</td>\n",
       "      <td>0.0</td>\n",
       "      <td>0.0</td>\n",
       "      <td>0.0</td>\n",
       "      <td>0.0</td>\n",
       "      <td>0.0</td>\n",
       "      <td>0.0</td>\n",
       "    </tr>\n",
       "    <tr>\n",
       "      <th>1</th>\n",
       "      <td>0.0</td>\n",
       "      <td>0.0</td>\n",
       "      <td>0.0</td>\n",
       "      <td>0.0</td>\n",
       "      <td>0.0</td>\n",
       "      <td>0.0</td>\n",
       "      <td>0.0</td>\n",
       "      <td>0.0</td>\n",
       "      <td>0.0</td>\n",
       "      <td>0.0</td>\n",
       "      <td>...</td>\n",
       "      <td>0.0</td>\n",
       "      <td>0.0</td>\n",
       "      <td>0.0</td>\n",
       "      <td>0.0</td>\n",
       "      <td>0.0</td>\n",
       "      <td>0.0</td>\n",
       "      <td>0.0</td>\n",
       "      <td>0.0</td>\n",
       "      <td>0.0</td>\n",
       "      <td>0.0</td>\n",
       "    </tr>\n",
       "    <tr>\n",
       "      <th>2</th>\n",
       "      <td>0.0</td>\n",
       "      <td>0.0</td>\n",
       "      <td>0.0</td>\n",
       "      <td>0.0</td>\n",
       "      <td>0.0</td>\n",
       "      <td>0.0</td>\n",
       "      <td>0.0</td>\n",
       "      <td>0.0</td>\n",
       "      <td>0.0</td>\n",
       "      <td>0.0</td>\n",
       "      <td>...</td>\n",
       "      <td>0.0</td>\n",
       "      <td>0.0</td>\n",
       "      <td>0.0</td>\n",
       "      <td>0.0</td>\n",
       "      <td>0.0</td>\n",
       "      <td>0.0</td>\n",
       "      <td>0.0</td>\n",
       "      <td>0.0</td>\n",
       "      <td>0.0</td>\n",
       "      <td>0.0</td>\n",
       "    </tr>\n",
       "    <tr>\n",
       "      <th>3</th>\n",
       "      <td>0.0</td>\n",
       "      <td>0.0</td>\n",
       "      <td>0.0</td>\n",
       "      <td>0.0</td>\n",
       "      <td>0.0</td>\n",
       "      <td>0.0</td>\n",
       "      <td>0.0</td>\n",
       "      <td>0.0</td>\n",
       "      <td>0.0</td>\n",
       "      <td>0.0</td>\n",
       "      <td>...</td>\n",
       "      <td>0.0</td>\n",
       "      <td>0.0</td>\n",
       "      <td>0.0</td>\n",
       "      <td>0.0</td>\n",
       "      <td>0.0</td>\n",
       "      <td>0.0</td>\n",
       "      <td>0.0</td>\n",
       "      <td>0.0</td>\n",
       "      <td>0.0</td>\n",
       "      <td>0.0</td>\n",
       "    </tr>\n",
       "    <tr>\n",
       "      <th>4</th>\n",
       "      <td>0.0</td>\n",
       "      <td>0.0</td>\n",
       "      <td>0.0</td>\n",
       "      <td>0.0</td>\n",
       "      <td>0.0</td>\n",
       "      <td>0.0</td>\n",
       "      <td>0.0</td>\n",
       "      <td>0.0</td>\n",
       "      <td>0.0</td>\n",
       "      <td>0.0</td>\n",
       "      <td>...</td>\n",
       "      <td>0.0</td>\n",
       "      <td>0.0</td>\n",
       "      <td>0.0</td>\n",
       "      <td>0.0</td>\n",
       "      <td>0.0</td>\n",
       "      <td>0.0</td>\n",
       "      <td>0.0</td>\n",
       "      <td>0.0</td>\n",
       "      <td>0.0</td>\n",
       "      <td>0.0</td>\n",
       "    </tr>\n",
       "    <tr>\n",
       "      <th>5</th>\n",
       "      <td>0.0</td>\n",
       "      <td>0.0</td>\n",
       "      <td>0.0</td>\n",
       "      <td>0.0</td>\n",
       "      <td>0.0</td>\n",
       "      <td>0.0</td>\n",
       "      <td>0.0</td>\n",
       "      <td>0.0</td>\n",
       "      <td>0.0</td>\n",
       "      <td>0.0</td>\n",
       "      <td>...</td>\n",
       "      <td>0.0</td>\n",
       "      <td>0.0</td>\n",
       "      <td>0.0</td>\n",
       "      <td>0.0</td>\n",
       "      <td>0.0</td>\n",
       "      <td>0.0</td>\n",
       "      <td>0.0</td>\n",
       "      <td>0.0</td>\n",
       "      <td>0.0</td>\n",
       "      <td>0.0</td>\n",
       "    </tr>\n",
       "    <tr>\n",
       "      <th>6</th>\n",
       "      <td>0.0</td>\n",
       "      <td>0.0</td>\n",
       "      <td>0.0</td>\n",
       "      <td>0.0</td>\n",
       "      <td>0.0</td>\n",
       "      <td>0.0</td>\n",
       "      <td>0.0</td>\n",
       "      <td>0.0</td>\n",
       "      <td>0.0</td>\n",
       "      <td>0.0</td>\n",
       "      <td>...</td>\n",
       "      <td>0.0</td>\n",
       "      <td>0.0</td>\n",
       "      <td>0.0</td>\n",
       "      <td>0.0</td>\n",
       "      <td>0.0</td>\n",
       "      <td>0.0</td>\n",
       "      <td>0.0</td>\n",
       "      <td>0.0</td>\n",
       "      <td>0.0</td>\n",
       "      <td>0.0</td>\n",
       "    </tr>\n",
       "    <tr>\n",
       "      <th>7</th>\n",
       "      <td>0.0</td>\n",
       "      <td>0.0</td>\n",
       "      <td>0.0</td>\n",
       "      <td>0.0</td>\n",
       "      <td>0.0</td>\n",
       "      <td>0.0</td>\n",
       "      <td>0.0</td>\n",
       "      <td>0.0</td>\n",
       "      <td>0.0</td>\n",
       "      <td>0.0</td>\n",
       "      <td>...</td>\n",
       "      <td>0.0</td>\n",
       "      <td>0.0</td>\n",
       "      <td>0.0</td>\n",
       "      <td>0.0</td>\n",
       "      <td>0.0</td>\n",
       "      <td>0.0</td>\n",
       "      <td>0.0</td>\n",
       "      <td>0.0</td>\n",
       "      <td>0.0</td>\n",
       "      <td>0.0</td>\n",
       "    </tr>\n",
       "    <tr>\n",
       "      <th>8</th>\n",
       "      <td>0.0</td>\n",
       "      <td>0.0</td>\n",
       "      <td>0.0</td>\n",
       "      <td>0.0</td>\n",
       "      <td>0.0</td>\n",
       "      <td>0.0</td>\n",
       "      <td>0.0</td>\n",
       "      <td>0.0</td>\n",
       "      <td>0.0</td>\n",
       "      <td>0.0</td>\n",
       "      <td>...</td>\n",
       "      <td>0.0</td>\n",
       "      <td>0.0</td>\n",
       "      <td>0.0</td>\n",
       "      <td>0.0</td>\n",
       "      <td>0.0</td>\n",
       "      <td>0.0</td>\n",
       "      <td>0.0</td>\n",
       "      <td>0.0</td>\n",
       "      <td>0.0</td>\n",
       "      <td>0.0</td>\n",
       "    </tr>\n",
       "    <tr>\n",
       "      <th>9</th>\n",
       "      <td>0.0</td>\n",
       "      <td>0.0</td>\n",
       "      <td>0.0</td>\n",
       "      <td>0.0</td>\n",
       "      <td>0.0</td>\n",
       "      <td>0.0</td>\n",
       "      <td>0.0</td>\n",
       "      <td>0.0</td>\n",
       "      <td>0.0</td>\n",
       "      <td>0.0</td>\n",
       "      <td>...</td>\n",
       "      <td>0.0</td>\n",
       "      <td>0.0</td>\n",
       "      <td>0.0</td>\n",
       "      <td>0.0</td>\n",
       "      <td>0.0</td>\n",
       "      <td>0.0</td>\n",
       "      <td>0.0</td>\n",
       "      <td>0.0</td>\n",
       "      <td>0.0</td>\n",
       "      <td>0.0</td>\n",
       "    </tr>\n",
       "    <tr>\n",
       "      <th>10</th>\n",
       "      <td>0.0</td>\n",
       "      <td>0.0</td>\n",
       "      <td>0.0</td>\n",
       "      <td>0.0</td>\n",
       "      <td>0.0</td>\n",
       "      <td>0.0</td>\n",
       "      <td>0.0</td>\n",
       "      <td>0.0</td>\n",
       "      <td>0.0</td>\n",
       "      <td>0.0</td>\n",
       "      <td>...</td>\n",
       "      <td>0.0</td>\n",
       "      <td>0.0</td>\n",
       "      <td>0.0</td>\n",
       "      <td>0.0</td>\n",
       "      <td>0.0</td>\n",
       "      <td>0.0</td>\n",
       "      <td>0.0</td>\n",
       "      <td>0.0</td>\n",
       "      <td>0.0</td>\n",
       "      <td>0.0</td>\n",
       "    </tr>\n",
       "    <tr>\n",
       "      <th>11</th>\n",
       "      <td>0.0</td>\n",
       "      <td>0.0</td>\n",
       "      <td>0.0</td>\n",
       "      <td>0.0</td>\n",
       "      <td>0.0</td>\n",
       "      <td>0.0</td>\n",
       "      <td>0.0</td>\n",
       "      <td>0.0</td>\n",
       "      <td>0.0</td>\n",
       "      <td>0.0</td>\n",
       "      <td>...</td>\n",
       "      <td>0.0</td>\n",
       "      <td>0.0</td>\n",
       "      <td>0.0</td>\n",
       "      <td>0.0</td>\n",
       "      <td>0.0</td>\n",
       "      <td>0.0</td>\n",
       "      <td>0.0</td>\n",
       "      <td>0.0</td>\n",
       "      <td>0.0</td>\n",
       "      <td>0.0</td>\n",
       "    </tr>\n",
       "    <tr>\n",
       "      <th>12</th>\n",
       "      <td>0.0</td>\n",
       "      <td>0.0</td>\n",
       "      <td>0.0</td>\n",
       "      <td>0.0</td>\n",
       "      <td>0.0</td>\n",
       "      <td>0.0</td>\n",
       "      <td>0.0</td>\n",
       "      <td>0.0</td>\n",
       "      <td>0.0</td>\n",
       "      <td>0.0</td>\n",
       "      <td>...</td>\n",
       "      <td>0.0</td>\n",
       "      <td>0.0</td>\n",
       "      <td>0.0</td>\n",
       "      <td>0.0</td>\n",
       "      <td>0.0</td>\n",
       "      <td>0.0</td>\n",
       "      <td>0.0</td>\n",
       "      <td>0.0</td>\n",
       "      <td>0.0</td>\n",
       "      <td>0.0</td>\n",
       "    </tr>\n",
       "    <tr>\n",
       "      <th>13</th>\n",
       "      <td>0.0</td>\n",
       "      <td>0.0</td>\n",
       "      <td>0.0</td>\n",
       "      <td>0.0</td>\n",
       "      <td>0.0</td>\n",
       "      <td>0.0</td>\n",
       "      <td>0.0</td>\n",
       "      <td>0.0</td>\n",
       "      <td>0.0</td>\n",
       "      <td>0.0</td>\n",
       "      <td>...</td>\n",
       "      <td>0.0</td>\n",
       "      <td>0.0</td>\n",
       "      <td>0.0</td>\n",
       "      <td>0.0</td>\n",
       "      <td>0.0</td>\n",
       "      <td>0.0</td>\n",
       "      <td>0.0</td>\n",
       "      <td>0.0</td>\n",
       "      <td>0.0</td>\n",
       "      <td>0.0</td>\n",
       "    </tr>\n",
       "    <tr>\n",
       "      <th>14</th>\n",
       "      <td>0.0</td>\n",
       "      <td>0.0</td>\n",
       "      <td>0.0</td>\n",
       "      <td>0.0</td>\n",
       "      <td>0.0</td>\n",
       "      <td>0.0</td>\n",
       "      <td>0.0</td>\n",
       "      <td>0.0</td>\n",
       "      <td>0.0</td>\n",
       "      <td>0.0</td>\n",
       "      <td>...</td>\n",
       "      <td>0.0</td>\n",
       "      <td>0.0</td>\n",
       "      <td>0.0</td>\n",
       "      <td>0.0</td>\n",
       "      <td>0.0</td>\n",
       "      <td>0.0</td>\n",
       "      <td>0.0</td>\n",
       "      <td>0.0</td>\n",
       "      <td>0.0</td>\n",
       "      <td>0.0</td>\n",
       "    </tr>\n",
       "  </tbody>\n",
       "</table>\n",
       "<p>15 rows × 7143 columns</p>\n",
       "</div>"
      ],
      "text/plain": [
       "    code-formatting  vbox  named-pipes  attributeerror  cheerio  vinyl  \\\n",
       "0               0.0   0.0          0.0             0.0      0.0    0.0   \n",
       "1               0.0   0.0          0.0             0.0      0.0    0.0   \n",
       "2               0.0   0.0          0.0             0.0      0.0    0.0   \n",
       "3               0.0   0.0          0.0             0.0      0.0    0.0   \n",
       "4               0.0   0.0          0.0             0.0      0.0    0.0   \n",
       "5               0.0   0.0          0.0             0.0      0.0    0.0   \n",
       "6               0.0   0.0          0.0             0.0      0.0    0.0   \n",
       "7               0.0   0.0          0.0             0.0      0.0    0.0   \n",
       "8               0.0   0.0          0.0             0.0      0.0    0.0   \n",
       "9               0.0   0.0          0.0             0.0      0.0    0.0   \n",
       "10              0.0   0.0          0.0             0.0      0.0    0.0   \n",
       "11              0.0   0.0          0.0             0.0      0.0    0.0   \n",
       "12              0.0   0.0          0.0             0.0      0.0    0.0   \n",
       "13              0.0   0.0          0.0             0.0      0.0    0.0   \n",
       "14              0.0   0.0          0.0             0.0      0.0    0.0   \n",
       "\n",
       "    git-fork  githooks  arabic-support  axapta  ...  cdc  \\\n",
       "0        0.0       0.0             0.0     0.0  ...  0.0   \n",
       "1        0.0       0.0             0.0     0.0  ...  0.0   \n",
       "2        0.0       0.0             0.0     0.0  ...  0.0   \n",
       "3        0.0       0.0             0.0     0.0  ...  0.0   \n",
       "4        0.0       0.0             0.0     0.0  ...  0.0   \n",
       "5        0.0       0.0             0.0     0.0  ...  0.0   \n",
       "6        0.0       0.0             0.0     0.0  ...  0.0   \n",
       "7        0.0       0.0             0.0     0.0  ...  0.0   \n",
       "8        0.0       0.0             0.0     0.0  ...  0.0   \n",
       "9        0.0       0.0             0.0     0.0  ...  0.0   \n",
       "10       0.0       0.0             0.0     0.0  ...  0.0   \n",
       "11       0.0       0.0             0.0     0.0  ...  0.0   \n",
       "12       0.0       0.0             0.0     0.0  ...  0.0   \n",
       "13       0.0       0.0             0.0     0.0  ...  0.0   \n",
       "14       0.0       0.0             0.0     0.0  ...  0.0   \n",
       "\n",
       "    google-compute-engine  zend-framework  graceful-degradation  llvm  \\\n",
       "0                     0.0             0.0                   0.0   0.0   \n",
       "1                     0.0             0.0                   0.0   0.0   \n",
       "2                     0.0             0.0                   0.0   0.0   \n",
       "3                     0.0             0.0                   0.0   0.0   \n",
       "4                     0.0             0.0                   0.0   0.0   \n",
       "5                     0.0             0.0                   0.0   0.0   \n",
       "6                     0.0             0.0                   0.0   0.0   \n",
       "7                     0.0             0.0                   0.0   0.0   \n",
       "8                     0.0             0.0                   0.0   0.0   \n",
       "9                     0.0             0.0                   0.0   0.0   \n",
       "10                    0.0             0.0                   0.0   0.0   \n",
       "11                    0.0             0.0                   0.0   0.0   \n",
       "12                    0.0             0.0                   0.0   0.0   \n",
       "13                    0.0             0.0                   0.0   0.0   \n",
       "14                    0.0             0.0                   0.0   0.0   \n",
       "\n",
       "    instantiation  marshalling  android-5.0-lollipop  geotiff  ping  \n",
       "0             0.0          0.0                   0.0      0.0   0.0  \n",
       "1             0.0          0.0                   0.0      0.0   0.0  \n",
       "2             0.0          0.0                   0.0      0.0   0.0  \n",
       "3             0.0          0.0                   0.0      0.0   0.0  \n",
       "4             0.0          0.0                   0.0      0.0   0.0  \n",
       "5             0.0          0.0                   0.0      0.0   0.0  \n",
       "6             0.0          0.0                   0.0      0.0   0.0  \n",
       "7             0.0          0.0                   0.0      0.0   0.0  \n",
       "8             0.0          0.0                   0.0      0.0   0.0  \n",
       "9             0.0          0.0                   0.0      0.0   0.0  \n",
       "10            0.0          0.0                   0.0      0.0   0.0  \n",
       "11            0.0          0.0                   0.0      0.0   0.0  \n",
       "12            0.0          0.0                   0.0      0.0   0.0  \n",
       "13            0.0          0.0                   0.0      0.0   0.0  \n",
       "14            0.0          0.0                   0.0      0.0   0.0  \n",
       "\n",
       "[15 rows x 7143 columns]"
      ]
     },
     "execution_count": 35,
     "metadata": {},
     "output_type": "execute_result"
    }
   ],
   "source": [
    "print(\"Affichage des 15 premiers textes vectorisés par TF-IDF\")\n",
    "tfidf_data.head(15)"
   ]
  },
  {
   "cell_type": "code",
   "execution_count": 36,
   "id": "0b9b2b9d",
   "metadata": {},
   "outputs": [],
   "source": [
    "# Split the data into training and test sets\n",
    "X_train, X_test, y_train, y_test = train_test_split(X, flat_tags, test_size=0.2)"
   ]
  },
  {
   "cell_type": "code",
   "execution_count": 37,
   "id": "27d4c408",
   "metadata": {},
   "outputs": [
    {
     "ename": "NameError",
     "evalue": "name 'MultinomialNB' is not defined",
     "output_type": "error",
     "traceback": [
      "\u001b[1;31m---------------------------------------------------------------------------\u001b[0m",
      "\u001b[1;31mNameError\u001b[0m                                 Traceback (most recent call last)",
      "Cell \u001b[1;32mIn[37], line 4\u001b[0m\n\u001b[0;32m      1\u001b[0m \u001b[38;5;66;03m# Train a naive bayes classifier on the training data, and make predictions on the test data\u001b[39;00m\n\u001b[0;32m      2\u001b[0m start_time \u001b[38;5;241m=\u001b[39m time\u001b[38;5;241m.\u001b[39mtime()\n\u001b[1;32m----> 4\u001b[0m clf \u001b[38;5;241m=\u001b[39m \u001b[43mMultinomialNB\u001b[49m()\n\u001b[0;32m      5\u001b[0m clf\u001b[38;5;241m.\u001b[39mfit(X_train, y_train)\n\u001b[0;32m      6\u001b[0m y_pred \u001b[38;5;241m=\u001b[39m clf\u001b[38;5;241m.\u001b[39mpredict(X_test)\n",
      "\u001b[1;31mNameError\u001b[0m: name 'MultinomialNB' is not defined"
     ]
    }
   ],
   "source": [
    "# Train a naive bayes classifier on the training data, and make predictions on the test data\n",
    "start_time = time.time()\n",
    "\n",
    "clf = MultinomialNB()\n",
    "clf.fit(X_train, y_train)\n",
    "y_pred = clf.predict(X_test)\n",
    "\n",
    "end_time = time.time()\n",
    "print(\"Time taken: \", end_time - start_time)"
   ]
  },
  {
   "cell_type": "code",
   "execution_count": null,
   "id": "633b2218",
   "metadata": {},
   "outputs": [],
   "source": []
  },
  {
   "cell_type": "code",
   "execution_count": null,
   "id": "58695ae3",
   "metadata": {},
   "outputs": [],
   "source": []
  },
  {
   "cell_type": "code",
   "execution_count": null,
   "id": "c6e61b5a",
   "metadata": {},
   "outputs": [],
   "source": [
    "# Evaluate the model's accuracy\n",
    "print(accuracy_score(y_test, y_pred))"
   ]
  },
  {
   "cell_type": "markdown",
   "id": "661eee3c",
   "metadata": {},
   "source": [
    "## <font color=\"#114b98\" id=\"section_4\">4. Approche supervisée avec bag-of-words</font>"
   ]
  },
  {
   "cell_type": "code",
   "execution_count": null,
   "id": "6905528e",
   "metadata": {},
   "outputs": [],
   "source": [
    "from sklearn.feature_extraction.text import CountVectorizer\n",
    "from sklearn.naive_bayes import MultinomialNB"
   ]
  },
  {
   "cell_type": "code",
   "execution_count": null,
   "id": "40d1ea80",
   "metadata": {},
   "outputs": [],
   "source": [
    "# Convert text data to numerical feature vectors using bag of words\n",
    "vectorizer = CountVectorizer()\n",
    "X = vectorizer.fit_transform(flat_texts)"
   ]
  },
  {
   "cell_type": "code",
   "execution_count": null,
   "id": "ad78107d",
   "metadata": {},
   "outputs": [],
   "source": [
    "# Split the data into training and test sets\n",
    "X_train, X_test, y_train, y_test = train_test_split(X, flat_tags, test_size=0.2)"
   ]
  },
  {
   "cell_type": "code",
   "execution_count": null,
   "id": "6d87229d",
   "metadata": {},
   "outputs": [],
   "source": [
    "# Train a naive bayes classifier on the training data, and make predictions on the test data\n",
    "start_time = time.time()\n",
    "\n",
    "clf = MultinomialNB()\n",
    "clf.fit(X_train, y_train)\n",
    "y_pred = clf.predict(X_test)\n",
    "\n",
    "end_time = time.time()\n",
    "print(\"Time taken: \", end_time - start_time)"
   ]
  },
  {
   "cell_type": "code",
   "execution_count": null,
   "id": "1fd496d9",
   "metadata": {},
   "outputs": [],
   "source": [
    "# Evaluate the model's accuracy\n",
    "print(accuracy_score(y_test, y_pred))"
   ]
  },
  {
   "cell_type": "code",
   "execution_count": null,
   "id": "e4cdc2a4",
   "metadata": {},
   "outputs": [],
   "source": []
  },
  {
   "cell_type": "markdown",
   "id": "e8bbff03",
   "metadata": {},
   "source": [
    "## <font color=\"#114b98\" id=\"section_5\">5. Approche supervisée avec Word Embedding : Word2Vec</font>"
   ]
  },
  {
   "cell_type": "code",
   "execution_count": null,
   "id": "aef3f595",
   "metadata": {},
   "outputs": [],
   "source": [
    "from gensim.models import Word2Vec\n",
    "from sklearn.svm import SVC"
   ]
  },
  {
   "cell_type": "code",
   "execution_count": null,
   "id": "6fdcd7b5",
   "metadata": {},
   "outputs": [],
   "source": [
    "from nltk.tokenize import sent_tokenize, word_tokenize"
   ]
  },
  {
   "cell_type": "code",
   "execution_count": null,
   "id": "6b10c25d",
   "metadata": {},
   "outputs": [],
   "source": [
    "texts_t = [word_tokenize(sent) for text in flat_texts for sent in sent_tokenize(text)]"
   ]
  },
  {
   "cell_type": "code",
   "execution_count": null,
   "id": "581bf494",
   "metadata": {},
   "outputs": [],
   "source": [
    "# Train a Word2Vec model on the text data\n",
    "model = Word2Vec(texts_t, vector_size=100, window=5, min_count=1, workers=4)"
   ]
  },
  {
   "cell_type": "code",
   "execution_count": null,
   "id": "db7d5322",
   "metadata": {},
   "outputs": [],
   "source": [
    "# Create feature vectors for the text data by averaging the word vectors\n",
    "X = []\n",
    "for text in texts_t:\n",
    "    feature_vec = np.zeros(100)\n",
    "    n_words = 0\n",
    "    for word in text:\n",
    "        if word in model.wv:\n",
    "            feature_vec = np.add(feature_vec, model.wv[word])\n",
    "            n_words += 1\n",
    "    if n_words > 0:\n",
    "        feature_vec = np.divide(feature_vec, n_words)\n",
    "    X.append(feature_vec)"
   ]
  },
  {
   "cell_type": "code",
   "execution_count": null,
   "id": "ca8bb080",
   "metadata": {},
   "outputs": [],
   "source": [
    "# Split the data into training and test sets\n",
    "X_train, X_test, y_train, y_test = train_test_split(X, flat_tags, test_size=0.2)"
   ]
  },
  {
   "cell_type": "code",
   "execution_count": null,
   "id": "9cfc17ed",
   "metadata": {},
   "outputs": [],
   "source": [
    "# Train a naive bayes classifier on the training data, and make predictions on the test data\n",
    "start_time = time.time()\n",
    "\n",
    "clf = SVC()\n",
    "clf.fit(X_train, y_train)\n",
    "y_pred = clf.predict(X_test)\n",
    "\n",
    "end_time = time.time()\n",
    "print(\"Time taken: \", end_time - start_time)"
   ]
  },
  {
   "cell_type": "code",
   "execution_count": null,
   "id": "8aeb954c",
   "metadata": {},
   "outputs": [],
   "source": [
    "# Evaluate the model's accuracy\n",
    "print(accuracy_score(y_test, y_pred))"
   ]
  },
  {
   "cell_type": "code",
   "execution_count": null,
   "id": "983e2729",
   "metadata": {},
   "outputs": [],
   "source": []
  },
  {
   "cell_type": "markdown",
   "id": "30ccdd5b",
   "metadata": {},
   "source": [
    "## <font color=\"#114b98\" id=\"section_6\">6. Approche supervisée avec Word Embedding : BERT</font>"
   ]
  },
  {
   "cell_type": "code",
   "execution_count": null,
   "id": "cc13e8a5",
   "metadata": {},
   "outputs": [],
   "source": [
    "# !pip install transformers"
   ]
  },
  {
   "cell_type": "code",
   "execution_count": null,
   "id": "14a27ff1",
   "metadata": {},
   "outputs": [],
   "source": [
    "# !pip install --user TensorFlow"
   ]
  },
  {
   "cell_type": "code",
   "execution_count": null,
   "id": "e9cc135e",
   "metadata": {},
   "outputs": [],
   "source": [
    "# !pip install torch"
   ]
  },
  {
   "cell_type": "code",
   "execution_count": null,
   "id": "26daaa3d",
   "metadata": {},
   "outputs": [],
   "source": [
    "# conda install pytorch torchvision torchaudio cpuonly -c pytorch"
   ]
  },
  {
   "cell_type": "code",
   "execution_count": null,
   "id": "b352f928",
   "metadata": {},
   "outputs": [],
   "source": [
    "from transformers import BertForSequenceClassification, AdamW, BertTokenizer\n",
    "import torch\n",
    "import torchvision"
   ]
  },
  {
   "cell_type": "code",
   "execution_count": null,
   "id": "1d511854",
   "metadata": {},
   "outputs": [],
   "source": [
    "# Load the BERT model and tokenizer\n",
    "model = BertForSequenceClassification.from_pretrained(\"bert-base-uncased\")\n",
    "tokenizer = BertTokenizer.from_pretrained(\"bert-base-uncased\")"
   ]
  },
  {
   "cell_type": "code",
   "execution_count": null,
   "id": "4e3db60e",
   "metadata": {},
   "outputs": [],
   "source": [
    "# Encode the text data as input for the BERT model\n",
    "input_ids = []\n",
    "attention_masks = []\n",
    "for text in flat_texts:\n",
    "    encoded_text = tokenizer.encode_plus(text, add_special_tokens=True, max_length=512, pad_to_max_length=True)\n",
    "    input_ids.append(encoded_text[\"input_ids\"])\n",
    "    attention_masks.append(encoded_text[\"attention_mask\"])"
   ]
  },
  {
   "cell_type": "code",
   "execution_count": null,
   "id": "65d3ce90",
   "metadata": {},
   "outputs": [],
   "source": [
    "# Convert the lists to PyTorch tensors\n",
    "input_ids = torch.tensor(input_ids)\n",
    "attention_masks = torch.tensor(attention_masks)\n",
    "labels = torch.tensor(flat_tags)"
   ]
  },
  {
   "cell_type": "code",
   "execution_count": null,
   "id": "0ece70d4",
   "metadata": {},
   "outputs": [],
   "source": [
    "# Split the data into training and test sets\n",
    "X_train, X_test, y_train, y_test = train_test_split(input_ids, labels, test_size=0.2)"
   ]
  },
  {
   "cell_type": "code",
   "execution_count": null,
   "id": "0cbdf78b",
   "metadata": {},
   "outputs": [],
   "source": [
    "# Create a DataLoader for the training set\n",
    "train_dataloader = torch.utils.data.DataLoader(\n",
    "    TensorDataset(X_train, y_train),\n",
    "    batch_size=32,\n",
    "    shuffle=True\n",
    ")"
   ]
  },
  {
   "cell_type": "code",
   "execution_count": null,
   "id": "816adf5b",
   "metadata": {},
   "outputs": [],
   "source": [
    "# Create an optimizer and scheduler for fine-tuning the BERT model\n",
    "optimizer = AdamW(model.parameters(), lr=2e-5)\n",
    "scheduler = get_linear_schedule_with_warmup(optimizer, num_warmup_steps=0, num_training_steps=len(train_dataloader) * 5)"
   ]
  },
  {
   "cell_type": "code",
   "execution_count": null,
   "id": "a88fd4e4",
   "metadata": {},
   "outputs": [],
   "source": [
    "# Fine-tune the BERT model on the training data\n",
    "for epoch in range(5):\n",
    "    model.train()\n",
    "    for step, batch in enumerate(train_dataloader):\n",
    "        input_ids, labels = batch\n",
    "        optimizer.zero_grad()\n",
    "        outputs = model(input_ids, attention_mask=attention_masks)\n",
    "        loss = criterion(outputs[0], labels)\n",
    "        loss.backward()\n",
    "        optimizer.step()\n",
    "        scheduler.step()"
   ]
  },
  {
   "cell_type": "code",
   "execution_count": null,
   "id": "815ec0cf",
   "metadata": {},
   "outputs": [],
   "source": [
    "# Make predictions on the test data\n",
    "model.eval()\n",
    "with torch.no_grad():\n",
    "    test_logits = model(X_test, attention_mask=attention_masks)"
   ]
  },
  {
   "cell_type": "code",
   "execution_count": null,
   "id": "db6ee2a1",
   "metadata": {},
   "outputs": [],
   "source": [
    "# Convert the logits to predictions\n",
    "test_preds = torch.argmax(test_logits, axis=1)"
   ]
  },
  {
   "cell_type": "code",
   "execution_count": null,
   "id": "76b0d2a8",
   "metadata": {},
   "outputs": [],
   "source": [
    "# Evaluate the model's accuracy on the test data\n",
    "print(accuracy_score(y_test, test_preds))"
   ]
  },
  {
   "cell_type": "code",
   "execution_count": null,
   "id": "8468cac4",
   "metadata": {},
   "outputs": [],
   "source": []
  },
  {
   "cell_type": "markdown",
   "id": "bddef9c4",
   "metadata": {},
   "source": [
    "## <font color=\"#114b98\" id=\"section_7\">7. Approche supervisée avec Sentence Embedding : USE</font>"
   ]
  },
  {
   "cell_type": "code",
   "execution_count": null,
   "id": "609096ea",
   "metadata": {},
   "outputs": [],
   "source": [
    "!pip install tensorflow"
   ]
  },
  {
   "cell_type": "code",
   "execution_count": null,
   "id": "56ae27b7",
   "metadata": {},
   "outputs": [],
   "source": [
    "!pip install tensorflow_hub"
   ]
  },
  {
   "cell_type": "code",
   "execution_count": null,
   "id": "28dff51d",
   "metadata": {},
   "outputs": [],
   "source": [
    "import tensorflow_hub as hub\n",
    "import tensorflow as tf"
   ]
  },
  {
   "cell_type": "code",
   "execution_count": null,
   "id": "3bfc9382",
   "metadata": {},
   "outputs": [],
   "source": [
    "# Load the USE model\n",
    "use_model = hub.load(\"https://tfhub.dev/google/universal-sentence-encoder/4\")"
   ]
  },
  {
   "cell_type": "code",
   "execution_count": null,
   "id": "693c54c9",
   "metadata": {},
   "outputs": [],
   "source": [
    "# Encode the text data as input for the USE model\n",
    "X = use_model(flat_texts).numpy()"
   ]
  },
  {
   "cell_type": "code",
   "execution_count": null,
   "id": "5b9c1511",
   "metadata": {},
   "outputs": [],
   "source": [
    "# Split the data into training and test sets\n",
    "X_train, X_test, y_train, y_test = train_test_split(X, flat_tags, test_size=0.2)"
   ]
  },
  {
   "cell_type": "code",
   "execution_count": null,
   "id": "087229b5",
   "metadata": {},
   "outputs": [],
   "source": [
    "y_train = np.array(y_train)\n",
    "y_test = np.array(y_test)"
   ]
  },
  {
   "cell_type": "code",
   "execution_count": null,
   "id": "522f11dd",
   "metadata": {},
   "outputs": [],
   "source": [
    "# Train a classifier on the encoded text data\n",
    "model = tf.keras.Sequential([\n",
    "    tf.keras.layers.Dense(512, activation='relu'),\n",
    "    tf.keras.layers.Dense(512, activation='relu'),\n",
    "    tf.keras.layers.Dense(len(np.unique(flat_tags)), activation='softmax')\n",
    "])"
   ]
  },
  {
   "cell_type": "code",
   "execution_count": null,
   "id": "5ac18a24",
   "metadata": {},
   "outputs": [],
   "source": [
    "model.compile(optimizer='adam', loss='sparse_categorical_crossentropy', metrics=['accuracy'])"
   ]
  },
  {
   "cell_type": "code",
   "execution_count": null,
   "id": "47764990",
   "metadata": {},
   "outputs": [],
   "source": [
    "history = model.fit(X_train, y_train, epochs=5, validation_data=(X_test, y_test))"
   ]
  },
  {
   "cell_type": "code",
   "execution_count": null,
   "id": "d9537692",
   "metadata": {},
   "outputs": [],
   "source": [
    "# Make predictions on the test data\n",
    "y_pred = model.predict(X_test)\n",
    "y_pred = np.argmax(y_pred, axis=1)"
   ]
  },
  {
   "cell_type": "code",
   "execution_count": null,
   "id": "e9014119",
   "metadata": {},
   "outputs": [],
   "source": [
    "# Evaluate the model's accuracy on the test data\n",
    "print(accuracy_score(y_test, y_pred))"
   ]
  },
  {
   "cell_type": "code",
   "execution_count": null,
   "id": "055932cf",
   "metadata": {},
   "outputs": [],
   "source": []
  }
 ],
 "metadata": {
  "kernelspec": {
   "display_name": "Python 3 (ipykernel)",
   "language": "python",
   "name": "python3"
  },
  "language_info": {
   "codemirror_mode": {
    "name": "ipython",
    "version": 3
   },
   "file_extension": ".py",
   "mimetype": "text/x-python",
   "name": "python",
   "nbconvert_exporter": "python",
   "pygments_lexer": "ipython3",
   "version": "3.9.13"
  }
 },
 "nbformat": 4,
 "nbformat_minor": 5
}
