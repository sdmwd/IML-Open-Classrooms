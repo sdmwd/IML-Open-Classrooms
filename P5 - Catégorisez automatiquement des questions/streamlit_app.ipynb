{
 "cells": [
  {
   "cell_type": "code",
   "execution_count": 2,
   "id": "58de78f3",
   "metadata": {},
   "outputs": [],
   "source": [
    "# pip install streamlit"
   ]
  },
  {
   "cell_type": "code",
   "execution_count": 8,
   "id": "e5eccbf7",
   "metadata": {},
   "outputs": [],
   "source": [
    "import os\n",
    "import dill\n",
    "import streamlit as st\n",
    "import re\n",
    "import spacy\n",
    "import joblib\n",
    "import html5lib\n",
    "from bs4 import BeautifulSoup\n",
    "from nltk.corpus import stopwords\n",
    "from nltk.tokenize import word_tokenize\n",
    "from nltk import pos_tag\n",
    "from nltk.stem import WordNetLemmatizer\n",
    "from gensim.parsing.preprocessing import STOPWORDS\n",
    "from sklearn.preprocessing import FunctionTransformer\n",
    "from sklearn.pipeline import Pipeline\n",
    "# nltk.download('omw-1.4')\n",
    "# nltk.download('stopwords')\n",
    "# nltk.download('punkt')\n",
    "# nltk.download('wordnet')\n",
    "# nltk.download('averaged_perceptron_tagger')\n",
    "spacy.load('en_core_web_sm')"
   ]
  },
  {
   "cell_type": "code",
   "execution_count": null,
   "id": "11ec65e7",
   "metadata": {},
   "outputs": [],
   "source": [
    "# load the saved CountVectorizer\n",
    "vectorizer_loaded = joblib.load('D:/Mega/Z_Simon/5 - WORK/1 - Projets/Projet 5/saved_ressources/countvectorizer.joblib')\n",
    "\n",
    "# load the saved classifier\n",
    "clf_loaded = joblib.load('D:/Mega/Z_Simon/5 - WORK/1 - Projets/Projet 5/saved_ressources/sgdc_classifier.pkl')\n",
    "\n",
    "# load the saved MultiLabelBinarizer\n",
    "mlb_loaded = joblib.load('D:/Mega/Z_Simon/5 - WORK/1 - Projets/Projet 5/saved_ressources/multilabelbinarizer.joblib')"
   ]
  },
  {
   "cell_type": "code",
   "execution_count": 4,
   "id": "17444a26",
   "metadata": {},
   "outputs": [
    {
     "name": "stderr",
     "output_type": "stream",
     "text": [
      "2023-02-16 11:14:25.792 \n",
      "  \u001b[33m\u001b[1mWarning:\u001b[0m to view this Streamlit app on a browser, run it with the following\n",
      "  command:\n",
      "\n",
      "    streamlit run C:\\Users\\simon\\anaconda3\\lib\\site-packages\\ipykernel_launcher.py [ARGUMENTS]\n"
     ]
    },
    {
     "data": {
      "text/plain": [
       "DeltaGenerator(_root_container=0, _provided_cursor=None, _parent=None, _block_type=None, _form_data=None)"
      ]
     },
     "execution_count": 4,
     "metadata": {},
     "output_type": "execute_result"
    }
   ],
   "source": [
    "st.title(\"Générateur de tags\")\n",
    "subtitle = '<p style=\"font-size: 30px;\">Projet 5 - OpenClassrooms Parcours IML</p>'\n",
    "st.markdown(subtitle, unsafe_allow_html=True)\n",
    "sentences = st.text_input('Collez ici un post de Stack Overflow')"
   ]
  },
  {
   "cell_type": "code",
   "execution_count": 7,
   "id": "d39b93c8",
   "metadata": {},
   "outputs": [],
   "source": [
    "with open('D:/Mega/Z_Simon/5 - WORK/1 - Projets/Projet 5/saved_ressources/mypipeline.pkl', 'rb') as file:\n",
    "    text_clf = dill.load(file)"
   ]
  },
  {
   "cell_type": "code",
   "execution_count": null,
   "id": "0e04184b",
   "metadata": {},
   "outputs": [],
   "source": [
    "output = text_clf.predict(sentences)"
   ]
  },
  {
   "cell_type": "code",
   "execution_count": null,
   "id": "1c62b075",
   "metadata": {},
   "outputs": [],
   "source": [
    "tags = mlb_loaded.inverse_transform(output)"
   ]
  },
  {
   "cell_type": "code",
   "execution_count": 5,
   "id": "597a9d21",
   "metadata": {},
   "outputs": [
    {
     "name": "stderr",
     "output_type": "stream",
     "text": [
      "2023-02-16 11:14:25.902 Session state does not function when running a script without `streamlit run`\n"
     ]
    }
   ],
   "source": [
    "# Display the value\n",
    "st.write('Tags suggérés :', tags)"
   ]
  },
  {
   "cell_type": "code",
   "execution_count": null,
   "id": "dd886173",
   "metadata": {},
   "outputs": [],
   "source": [
    "# streamlit run D:/Mega/Z_Simon/5 - WORK/1 - Projets/Projet 5/saved_ressources/streamlit_app.py"
   ]
  },
  {
   "cell_type": "code",
   "execution_count": null,
   "id": "9e9cb751",
   "metadata": {},
   "outputs": [],
   "source": [
    "# Bonjour python code python mahine learning java javascript"
   ]
  }
 ],
 "metadata": {
  "kernelspec": {
   "display_name": "Python 3 (ipykernel)",
   "language": "python",
   "name": "python3"
  },
  "language_info": {
   "codemirror_mode": {
    "name": "ipython",
    "version": 3
   },
   "file_extension": ".py",
   "mimetype": "text/x-python",
   "name": "python",
   "nbconvert_exporter": "python",
   "pygments_lexer": "ipython3",
   "version": "3.9.13"
  }
 },
 "nbformat": 4,
 "nbformat_minor": 5
}
