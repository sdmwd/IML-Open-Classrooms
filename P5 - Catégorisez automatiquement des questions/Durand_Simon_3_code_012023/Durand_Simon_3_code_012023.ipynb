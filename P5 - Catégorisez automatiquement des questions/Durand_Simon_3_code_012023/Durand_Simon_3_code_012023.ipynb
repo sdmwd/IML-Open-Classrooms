{
 "cells": [
  {
   "cell_type": "markdown",
   "id": "beb56a46",
   "metadata": {},
   "source": [
    "# <font color=\"#114b98\">Catégorisez automatiquement des questions</font>"
   ]
  },
  {
   "cell_type": "markdown",
   "id": "769773d9",
   "metadata": {},
   "source": [
    "## <font color=\"#114b98\">Code final à déployer</font>"
   ]
  },
  {
   "cell_type": "markdown",
   "id": "b3e1a7bc",
   "metadata": {},
   "source": [
    "**Stack Overflow** est un site célèbre de questions-réponses liées au développement informatique."
   ]
  },
  {
   "cell_type": "markdown",
   "id": "034ae5e4",
   "metadata": {},
   "source": [
    "L'objectif de ce projet est de développer un système de suggestion de tags pour ce site. Celui-ci prendra la forme d’un algorithme de machine learning qui assignera automatiquement plusieurs tags pertinents à une question."
   ]
  },
  {
   "cell_type": "markdown",
   "id": "e16b7f6f",
   "metadata": {},
   "source": [
    "**Livrable** : Le code final à déployer présenté dans un répertoire et développé progressivement à l’aide d’un logiciel de gestion de versions."
   ]
  },
  {
   "cell_type": "code",
   "execution_count": null,
   "id": "e5eccbf7",
   "metadata": {},
   "outputs": [],
   "source": [
    "import os\n",
    "import dill\n",
    "import streamlit as st\n",
    "import re\n",
    "import spacy\n",
    "import joblib\n",
    "import html5lib\n",
    "from bs4 import BeautifulSoup\n",
    "from nltk.corpus import stopwords\n",
    "from nltk.tokenize import word_tokenize\n",
    "from nltk import pos_tag\n",
    "from nltk.stem import WordNetLemmatizer\n",
    "from gensim.parsing.preprocessing import STOPWORDS\n",
    "from sklearn.preprocessing import FunctionTransformer\n",
    "from sklearn.pipeline import Pipeline\n",
    "# nltk.download('omw-1.4')\n",
    "# nltk.download('stopwords')\n",
    "# nltk.download('punkt')\n",
    "# nltk.download('wordnet')\n",
    "# nltk.download('averaged_perceptron_tagger')\n",
    "spacy.load('en_core_web_sm')\n",
    "# pip install streamlit"
   ]
  },
  {
   "cell_type": "code",
   "execution_count": null,
   "id": "11ec65e7",
   "metadata": {},
   "outputs": [],
   "source": [
    "# load the saved CountVectorizer\n",
    "vectorizer_loaded = joblib.load('D:/Mega/Z_Simon/5 - WORK/1 - Projets/Projet 5/saved_ressources/countvectorizer.joblib')\n",
    "\n",
    "# # load the saved classifier\n",
    "# clf_loaded = joblib.load('D:/Mega/Z_Simon/5 - WORK/1 - Projets/Projet 5/saved_ressources/sgdc_classifier.pkl')\n",
    "\n",
    "# load the saved MultiLabelBinarizer\n",
    "mlb_loaded = joblib.load('D:/Mega/Z_Simon/5 - WORK/1 - Projets/Projet 5/saved_ressources/multilabelbinarizer.joblib')"
   ]
  },
  {
   "cell_type": "code",
   "execution_count": null,
   "id": "3124f82d",
   "metadata": {},
   "outputs": [],
   "source": [
    "st.markdown(\n",
    "    \"<h1 style='margin-top: 0; padding-top: 0;'>Générateur de tags</h1>\",\n",
    "    unsafe_allow_html=True,\n",
    ")"
   ]
  },
  {
   "cell_type": "code",
   "execution_count": null,
   "id": "17444a26",
   "metadata": {},
   "outputs": [],
   "source": [
    "# st.title(\"Générateur de tags\")\n",
    "subtitle = '<p style=\"font-size: 30px;\">Projet 5 - OpenClassrooms Parcours IML</p>'\n",
    "st.markdown(subtitle, unsafe_allow_html=True)"
   ]
  },
  {
   "cell_type": "code",
   "execution_count": null,
   "id": "ee1c3563",
   "metadata": {},
   "outputs": [],
   "source": [
    "user_input = st.text_area(\"Collez ici un post de Stack Overflow:\", height=150)"
   ]
  },
  {
   "cell_type": "code",
   "execution_count": null,
   "id": "d39b93c8",
   "metadata": {},
   "outputs": [],
   "source": [
    "with open('D:/Mega/Z_Simon/5 - WORK/1 - Projets/Projet 5/saved_ressources/pipeline_tags.pkl', 'rb') as file:\n",
    "    pipeline_tags = dill.load(file)"
   ]
  },
  {
   "cell_type": "code",
   "execution_count": null,
   "id": "0e04184b",
   "metadata": {},
   "outputs": [],
   "source": [
    "output = pipeline_tags.predict(user_input)"
   ]
  },
  {
   "cell_type": "code",
   "execution_count": null,
   "id": "1c62b075",
   "metadata": {},
   "outputs": [],
   "source": [
    "tags = mlb_loaded.inverse_transform(output)"
   ]
  },
  {
   "cell_type": "code",
   "execution_count": null,
   "id": "597a9d21",
   "metadata": {},
   "outputs": [],
   "source": [
    "# Display the value\n",
    "st.write('Tags suggérés :')\n",
    "for tag in tags[0]:\n",
    "    st.write('- ' + tag)"
   ]
  },
  {
   "cell_type": "code",
   "execution_count": null,
   "id": "dd886173",
   "metadata": {},
   "outputs": [],
   "source": [
    "# streamlit run D:/Mega/Z_Simon/5 - WORK/1 - Projets/Projet 5/saved_ressources/Durand_Simon_3_code_012023.py"
   ]
  },
  {
   "cell_type": "code",
   "execution_count": null,
   "id": "4d9e3187",
   "metadata": {},
   "outputs": [],
   "source": [
    "# streamlit run C:\\Users\\simon\\Downloads\\Durand_Simon_3_code_012023.py   "
   ]
  }
 ],
 "metadata": {
  "kernelspec": {
   "display_name": "Python 3 (ipykernel)",
   "language": "python",
   "name": "python3"
  },
  "language_info": {
   "codemirror_mode": {
    "name": "ipython",
    "version": 3
   },
   "file_extension": ".py",
   "mimetype": "text/x-python",
   "name": "python",
   "nbconvert_exporter": "python",
   "pygments_lexer": "ipython3",
   "version": "3.9.13"
  }
 },
 "nbformat": 4,
 "nbformat_minor": 5
}
